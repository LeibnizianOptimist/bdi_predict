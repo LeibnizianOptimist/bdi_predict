{
 "cells": [
  {
   "cell_type": "markdown",
   "id": "8f5ae311",
   "metadata": {},
   "source": [
    "# China Steel Production Cleaning"
   ]
  },
  {
   "cell_type": "code",
   "execution_count": 1,
   "id": "b8ae096e",
   "metadata": {},
   "outputs": [],
   "source": [
    "import numpy as np\n",
    "import pandas as pd"
   ]
  },
  {
   "cell_type": "code",
   "execution_count": 2,
   "id": "b3ba8ef5",
   "metadata": {},
   "outputs": [],
   "source": [
    "df = pd.read_csv(\"../raw_data/TradingViewData/CSTEEL/ECONOMICS_CNSP, M.csv\")"
   ]
  },
  {
   "cell_type": "code",
   "execution_count": 3,
   "id": "f96f871e",
   "metadata": {},
   "outputs": [
    {
     "data": {
      "text/html": [
       "<div>\n",
       "<style scoped>\n",
       "    .dataframe tbody tr th:only-of-type {\n",
       "        vertical-align: middle;\n",
       "    }\n",
       "\n",
       "    .dataframe tbody tr th {\n",
       "        vertical-align: top;\n",
       "    }\n",
       "\n",
       "    .dataframe thead th {\n",
       "        text-align: right;\n",
       "    }\n",
       "</style>\n",
       "<table border=\"1\" class=\"dataframe\">\n",
       "  <thead>\n",
       "    <tr style=\"text-align: right;\">\n",
       "      <th></th>\n",
       "      <th>time</th>\n",
       "      <th>open</th>\n",
       "      <th>high</th>\n",
       "      <th>low</th>\n",
       "      <th>close</th>\n",
       "      <th>Volume</th>\n",
       "      <th>Volume MA</th>\n",
       "    </tr>\n",
       "  </thead>\n",
       "  <tbody>\n",
       "    <tr>\n",
       "      <th>0</th>\n",
       "      <td>631152000</td>\n",
       "      <td>5171000</td>\n",
       "      <td>5171000</td>\n",
       "      <td>5171000</td>\n",
       "      <td>5171000</td>\n",
       "      <td>NaN</td>\n",
       "      <td>NaN</td>\n",
       "    </tr>\n",
       "    <tr>\n",
       "      <th>1</th>\n",
       "      <td>633830400</td>\n",
       "      <td>4918000</td>\n",
       "      <td>4918000</td>\n",
       "      <td>4918000</td>\n",
       "      <td>4918000</td>\n",
       "      <td>NaN</td>\n",
       "      <td>NaN</td>\n",
       "    </tr>\n",
       "    <tr>\n",
       "      <th>2</th>\n",
       "      <td>636249600</td>\n",
       "      <td>5604000</td>\n",
       "      <td>5604000</td>\n",
       "      <td>5604000</td>\n",
       "      <td>5604000</td>\n",
       "      <td>NaN</td>\n",
       "      <td>NaN</td>\n",
       "    </tr>\n",
       "    <tr>\n",
       "      <th>3</th>\n",
       "      <td>638928000</td>\n",
       "      <td>5510000</td>\n",
       "      <td>5510000</td>\n",
       "      <td>5510000</td>\n",
       "      <td>5510000</td>\n",
       "      <td>NaN</td>\n",
       "      <td>NaN</td>\n",
       "    </tr>\n",
       "    <tr>\n",
       "      <th>4</th>\n",
       "      <td>641520000</td>\n",
       "      <td>5680000</td>\n",
       "      <td>5680000</td>\n",
       "      <td>5680000</td>\n",
       "      <td>5680000</td>\n",
       "      <td>NaN</td>\n",
       "      <td>NaN</td>\n",
       "    </tr>\n",
       "    <tr>\n",
       "      <th>...</th>\n",
       "      <td>...</td>\n",
       "      <td>...</td>\n",
       "      <td>...</td>\n",
       "      <td>...</td>\n",
       "      <td>...</td>\n",
       "      <td>...</td>\n",
       "      <td>...</td>\n",
       "    </tr>\n",
       "    <tr>\n",
       "      <th>388</th>\n",
       "      <td>1651363200</td>\n",
       "      <td>96600000</td>\n",
       "      <td>96600000</td>\n",
       "      <td>96600000</td>\n",
       "      <td>96600000</td>\n",
       "      <td>NaN</td>\n",
       "      <td>NaN</td>\n",
       "    </tr>\n",
       "    <tr>\n",
       "      <th>389</th>\n",
       "      <td>1654041600</td>\n",
       "      <td>90700000</td>\n",
       "      <td>90700000</td>\n",
       "      <td>90700000</td>\n",
       "      <td>90700000</td>\n",
       "      <td>NaN</td>\n",
       "      <td>NaN</td>\n",
       "    </tr>\n",
       "    <tr>\n",
       "      <th>390</th>\n",
       "      <td>1656633600</td>\n",
       "      <td>81400000</td>\n",
       "      <td>81400000</td>\n",
       "      <td>81400000</td>\n",
       "      <td>81400000</td>\n",
       "      <td>NaN</td>\n",
       "      <td>NaN</td>\n",
       "    </tr>\n",
       "    <tr>\n",
       "      <th>391</th>\n",
       "      <td>1659312000</td>\n",
       "      <td>83900000</td>\n",
       "      <td>83900000</td>\n",
       "      <td>83900000</td>\n",
       "      <td>83900000</td>\n",
       "      <td>NaN</td>\n",
       "      <td>NaN</td>\n",
       "    </tr>\n",
       "    <tr>\n",
       "      <th>392</th>\n",
       "      <td>1661990400</td>\n",
       "      <td>87000000</td>\n",
       "      <td>87000000</td>\n",
       "      <td>87000000</td>\n",
       "      <td>87000000</td>\n",
       "      <td>NaN</td>\n",
       "      <td>NaN</td>\n",
       "    </tr>\n",
       "  </tbody>\n",
       "</table>\n",
       "<p>393 rows × 7 columns</p>\n",
       "</div>"
      ],
      "text/plain": [
       "           time      open      high       low     close  Volume  Volume MA\n",
       "0     631152000   5171000   5171000   5171000   5171000     NaN        NaN\n",
       "1     633830400   4918000   4918000   4918000   4918000     NaN        NaN\n",
       "2     636249600   5604000   5604000   5604000   5604000     NaN        NaN\n",
       "3     638928000   5510000   5510000   5510000   5510000     NaN        NaN\n",
       "4     641520000   5680000   5680000   5680000   5680000     NaN        NaN\n",
       "..          ...       ...       ...       ...       ...     ...        ...\n",
       "388  1651363200  96600000  96600000  96600000  96600000     NaN        NaN\n",
       "389  1654041600  90700000  90700000  90700000  90700000     NaN        NaN\n",
       "390  1656633600  81400000  81400000  81400000  81400000     NaN        NaN\n",
       "391  1659312000  83900000  83900000  83900000  83900000     NaN        NaN\n",
       "392  1661990400  87000000  87000000  87000000  87000000     NaN        NaN\n",
       "\n",
       "[393 rows x 7 columns]"
      ]
     },
     "execution_count": 3,
     "metadata": {},
     "output_type": "execute_result"
    }
   ],
   "source": [
    "df"
   ]
  },
  {
   "cell_type": "code",
   "execution_count": 4,
   "id": "83ce75e7",
   "metadata": {},
   "outputs": [],
   "source": [
    "df.drop(columns=[\"Volume\", \"Volume MA\", \"high\", \"low\", \"open\"], inplace=True)"
   ]
  },
  {
   "cell_type": "code",
   "execution_count": 5,
   "id": "22793b6e",
   "metadata": {},
   "outputs": [
    {
     "data": {
      "text/html": [
       "<div>\n",
       "<style scoped>\n",
       "    .dataframe tbody tr th:only-of-type {\n",
       "        vertical-align: middle;\n",
       "    }\n",
       "\n",
       "    .dataframe tbody tr th {\n",
       "        vertical-align: top;\n",
       "    }\n",
       "\n",
       "    .dataframe thead th {\n",
       "        text-align: right;\n",
       "    }\n",
       "</style>\n",
       "<table border=\"1\" class=\"dataframe\">\n",
       "  <thead>\n",
       "    <tr style=\"text-align: right;\">\n",
       "      <th></th>\n",
       "      <th>time</th>\n",
       "      <th>close</th>\n",
       "    </tr>\n",
       "  </thead>\n",
       "  <tbody>\n",
       "    <tr>\n",
       "      <th>0</th>\n",
       "      <td>631152000</td>\n",
       "      <td>5171000</td>\n",
       "    </tr>\n",
       "    <tr>\n",
       "      <th>1</th>\n",
       "      <td>633830400</td>\n",
       "      <td>4918000</td>\n",
       "    </tr>\n",
       "    <tr>\n",
       "      <th>2</th>\n",
       "      <td>636249600</td>\n",
       "      <td>5604000</td>\n",
       "    </tr>\n",
       "    <tr>\n",
       "      <th>3</th>\n",
       "      <td>638928000</td>\n",
       "      <td>5510000</td>\n",
       "    </tr>\n",
       "    <tr>\n",
       "      <th>4</th>\n",
       "      <td>641520000</td>\n",
       "      <td>5680000</td>\n",
       "    </tr>\n",
       "    <tr>\n",
       "      <th>...</th>\n",
       "      <td>...</td>\n",
       "      <td>...</td>\n",
       "    </tr>\n",
       "    <tr>\n",
       "      <th>388</th>\n",
       "      <td>1651363200</td>\n",
       "      <td>96600000</td>\n",
       "    </tr>\n",
       "    <tr>\n",
       "      <th>389</th>\n",
       "      <td>1654041600</td>\n",
       "      <td>90700000</td>\n",
       "    </tr>\n",
       "    <tr>\n",
       "      <th>390</th>\n",
       "      <td>1656633600</td>\n",
       "      <td>81400000</td>\n",
       "    </tr>\n",
       "    <tr>\n",
       "      <th>391</th>\n",
       "      <td>1659312000</td>\n",
       "      <td>83900000</td>\n",
       "    </tr>\n",
       "    <tr>\n",
       "      <th>392</th>\n",
       "      <td>1661990400</td>\n",
       "      <td>87000000</td>\n",
       "    </tr>\n",
       "  </tbody>\n",
       "</table>\n",
       "<p>393 rows × 2 columns</p>\n",
       "</div>"
      ],
      "text/plain": [
       "           time     close\n",
       "0     631152000   5171000\n",
       "1     633830400   4918000\n",
       "2     636249600   5604000\n",
       "3     638928000   5510000\n",
       "4     641520000   5680000\n",
       "..          ...       ...\n",
       "388  1651363200  96600000\n",
       "389  1654041600  90700000\n",
       "390  1656633600  81400000\n",
       "391  1659312000  83900000\n",
       "392  1661990400  87000000\n",
       "\n",
       "[393 rows x 2 columns]"
      ]
     },
     "execution_count": 5,
     "metadata": {},
     "output_type": "execute_result"
    }
   ],
   "source": [
    "df"
   ]
  },
  {
   "cell_type": "code",
   "execution_count": 6,
   "id": "0833c603",
   "metadata": {},
   "outputs": [],
   "source": [
    "df[\"time\"] = pd.to_datetime(df[\"time\"], unit=\"s\", origin=\"unix\")"
   ]
  },
  {
   "cell_type": "code",
   "execution_count": 7,
   "id": "1c7c504b",
   "metadata": {},
   "outputs": [],
   "source": [
    "df = df.set_index([\"time\"])"
   ]
  },
  {
   "cell_type": "code",
   "execution_count": 8,
   "id": "fcadacf3",
   "metadata": {},
   "outputs": [
    {
     "data": {
      "text/html": [
       "<div>\n",
       "<style scoped>\n",
       "    .dataframe tbody tr th:only-of-type {\n",
       "        vertical-align: middle;\n",
       "    }\n",
       "\n",
       "    .dataframe tbody tr th {\n",
       "        vertical-align: top;\n",
       "    }\n",
       "\n",
       "    .dataframe thead th {\n",
       "        text-align: right;\n",
       "    }\n",
       "</style>\n",
       "<table border=\"1\" class=\"dataframe\">\n",
       "  <thead>\n",
       "    <tr style=\"text-align: right;\">\n",
       "      <th></th>\n",
       "      <th>close</th>\n",
       "    </tr>\n",
       "    <tr>\n",
       "      <th>time</th>\n",
       "      <th></th>\n",
       "    </tr>\n",
       "  </thead>\n",
       "  <tbody>\n",
       "    <tr>\n",
       "      <th>1990-01-01</th>\n",
       "      <td>5171000</td>\n",
       "    </tr>\n",
       "    <tr>\n",
       "      <th>1990-02-01</th>\n",
       "      <td>4918000</td>\n",
       "    </tr>\n",
       "    <tr>\n",
       "      <th>1990-03-01</th>\n",
       "      <td>5604000</td>\n",
       "    </tr>\n",
       "    <tr>\n",
       "      <th>1990-04-01</th>\n",
       "      <td>5510000</td>\n",
       "    </tr>\n",
       "    <tr>\n",
       "      <th>1990-05-01</th>\n",
       "      <td>5680000</td>\n",
       "    </tr>\n",
       "    <tr>\n",
       "      <th>...</th>\n",
       "      <td>...</td>\n",
       "    </tr>\n",
       "    <tr>\n",
       "      <th>2022-05-01</th>\n",
       "      <td>96600000</td>\n",
       "    </tr>\n",
       "    <tr>\n",
       "      <th>2022-06-01</th>\n",
       "      <td>90700000</td>\n",
       "    </tr>\n",
       "    <tr>\n",
       "      <th>2022-07-01</th>\n",
       "      <td>81400000</td>\n",
       "    </tr>\n",
       "    <tr>\n",
       "      <th>2022-08-01</th>\n",
       "      <td>83900000</td>\n",
       "    </tr>\n",
       "    <tr>\n",
       "      <th>2022-09-01</th>\n",
       "      <td>87000000</td>\n",
       "    </tr>\n",
       "  </tbody>\n",
       "</table>\n",
       "<p>393 rows × 1 columns</p>\n",
       "</div>"
      ],
      "text/plain": [
       "               close\n",
       "time                \n",
       "1990-01-01   5171000\n",
       "1990-02-01   4918000\n",
       "1990-03-01   5604000\n",
       "1990-04-01   5510000\n",
       "1990-05-01   5680000\n",
       "...              ...\n",
       "2022-05-01  96600000\n",
       "2022-06-01  90700000\n",
       "2022-07-01  81400000\n",
       "2022-08-01  83900000\n",
       "2022-09-01  87000000\n",
       "\n",
       "[393 rows x 1 columns]"
      ]
     },
     "execution_count": 8,
     "metadata": {},
     "output_type": "execute_result"
    }
   ],
   "source": [
    "df"
   ]
  },
  {
   "cell_type": "code",
   "execution_count": 9,
   "id": "072a709a",
   "metadata": {},
   "outputs": [
    {
     "data": {
      "text/plain": [
       "<AxesSubplot: xlabel='time'>"
      ]
     },
     "execution_count": 9,
     "metadata": {},
     "output_type": "execute_result"
    },
    {
     "data": {
      "image/png": "[encoded data removed]",
      "text/plain": [
       "<Figure size 640x480 with 1 Axes>"
      ]
     },
     "metadata": {},
     "output_type": "display_data"
    }
   ],
   "source": [
    "df.plot()"
   ]
  },
  {
   "cell_type": "code",
   "execution_count": 10,
   "id": "ea6c82f7",
   "metadata": {},
   "outputs": [
    {
     "data": {
      "text/plain": [
       "9863"
      ]
     },
     "execution_count": 10,
     "metadata": {},
     "output_type": "execute_result"
    }
   ],
   "source": [
    "datetime_index = pd.date_range(start=\"1994-12-01\", end=\"2021-12-01\", name=\"time\")\n",
    "len(datetime_index)"
   ]
  },
  {
   "cell_type": "code",
   "execution_count": 11,
   "id": "f3849841",
   "metadata": {},
   "outputs": [],
   "source": [
    "csteel_df = pd.DataFrame(index=datetime_index)"
   ]
  },
  {
   "cell_type": "code",
   "execution_count": 12,
   "id": "8e6970b2",
   "metadata": {},
   "outputs": [
    {
     "data": {
      "text/html": [
       "<div>\n",
       "<style scoped>\n",
       "    .dataframe tbody tr th:only-of-type {\n",
       "        vertical-align: middle;\n",
       "    }\n",
       "\n",
       "    .dataframe tbody tr th {\n",
       "        vertical-align: top;\n",
       "    }\n",
       "\n",
       "    .dataframe thead th {\n",
       "        text-align: right;\n",
       "    }\n",
       "</style>\n",
       "<table border=\"1\" class=\"dataframe\">\n",
       "  <thead>\n",
       "    <tr style=\"text-align: right;\">\n",
       "      <th></th>\n",
       "    </tr>\n",
       "    <tr>\n",
       "      <th>time</th>\n",
       "    </tr>\n",
       "  </thead>\n",
       "  <tbody>\n",
       "    <tr>\n",
       "      <th>1994-12-01</th>\n",
       "    </tr>\n",
       "    <tr>\n",
       "      <th>1994-12-02</th>\n",
       "    </tr>\n",
       "    <tr>\n",
       "      <th>1994-12-03</th>\n",
       "    </tr>\n",
       "    <tr>\n",
       "      <th>1994-12-04</th>\n",
       "    </tr>\n",
       "    <tr>\n",
       "      <th>1994-12-05</th>\n",
       "    </tr>\n",
       "    <tr>\n",
       "      <th>...</th>\n",
       "    </tr>\n",
       "    <tr>\n",
       "      <th>2021-11-27</th>\n",
       "    </tr>\n",
       "    <tr>\n",
       "      <th>2021-11-28</th>\n",
       "    </tr>\n",
       "    <tr>\n",
       "      <th>2021-11-29</th>\n",
       "    </tr>\n",
       "    <tr>\n",
       "      <th>2021-11-30</th>\n",
       "    </tr>\n",
       "    <tr>\n",
       "      <th>2021-12-01</th>\n",
       "    </tr>\n",
       "  </tbody>\n",
       "</table>\n",
       "<p>9863 rows × 0 columns</p>\n",
       "</div>"
      ],
      "text/plain": [
       "Empty DataFrame\n",
       "Columns: []\n",
       "Index: [1994-12-01 00:00:00, 1994-12-02 00:00:00, 1994-12-03 00:00:00, 1994-12-04 00:00:00, 1994-12-05 00:00:00, 1994-12-06 00:00:00, 1994-12-07 00:00:00, 1994-12-08 00:00:00, 1994-12-09 00:00:00, 1994-12-10 00:00:00, 1994-12-11 00:00:00, 1994-12-12 00:00:00, 1994-12-13 00:00:00, 1994-12-14 00:00:00, 1994-12-15 00:00:00, 1994-12-16 00:00:00, 1994-12-17 00:00:00, 1994-12-18 00:00:00, 1994-12-19 00:00:00, 1994-12-20 00:00:00, 1994-12-21 00:00:00, 1994-12-22 00:00:00, 1994-12-23 00:00:00, 1994-12-24 00:00:00, 1994-12-25 00:00:00, 1994-12-26 00:00:00, 1994-12-27 00:00:00, 1994-12-28 00:00:00, 1994-12-29 00:00:00, 1994-12-30 00:00:00, 1994-12-31 00:00:00, 1995-01-01 00:00:00, 1995-01-02 00:00:00, 1995-01-03 00:00:00, 1995-01-04 00:00:00, 1995-01-05 00:00:00, 1995-01-06 00:00:00, 1995-01-07 00:00:00, 1995-01-08 00:00:00, 1995-01-09 00:00:00, 1995-01-10 00:00:00, 1995-01-11 00:00:00, 1995-01-12 00:00:00, 1995-01-13 00:00:00, 1995-01-14 00:00:00, 1995-01-15 00:00:00, 1995-01-16 00:00:00, 1995-01-17 00:00:00, 1995-01-18 00:00:00, 1995-01-19 00:00:00, 1995-01-20 00:00:00, 1995-01-21 00:00:00, 1995-01-22 00:00:00, 1995-01-23 00:00:00, 1995-01-24 00:00:00, 1995-01-25 00:00:00, 1995-01-26 00:00:00, 1995-01-27 00:00:00, 1995-01-28 00:00:00, 1995-01-29 00:00:00, 1995-01-30 00:00:00, 1995-01-31 00:00:00, 1995-02-01 00:00:00, 1995-02-02 00:00:00, 1995-02-03 00:00:00, 1995-02-04 00:00:00, 1995-02-05 00:00:00, 1995-02-06 00:00:00, 1995-02-07 00:00:00, 1995-02-08 00:00:00, 1995-02-09 00:00:00, 1995-02-10 00:00:00, 1995-02-11 00:00:00, 1995-02-12 00:00:00, 1995-02-13 00:00:00, 1995-02-14 00:00:00, 1995-02-15 00:00:00, 1995-02-16 00:00:00, 1995-02-17 00:00:00, 1995-02-18 00:00:00, 1995-02-19 00:00:00, 1995-02-20 00:00:00, 1995-02-21 00:00:00, 1995-02-22 00:00:00, 1995-02-23 00:00:00, 1995-02-24 00:00:00, 1995-02-25 00:00:00, 1995-02-26 00:00:00, 1995-02-27 00:00:00, 1995-02-28 00:00:00, 1995-03-01 00:00:00, 1995-03-02 00:00:00, 1995-03-03 00:00:00, 1995-03-04 00:00:00, 1995-03-05 00:00:00, 1995-03-06 00:00:00, 1995-03-07 00:00:00, 1995-03-08 00:00:00, 1995-03-09 00:00:00, 1995-03-10 00:00:00, ...]\n",
       "\n",
       "[9863 rows x 0 columns]"
      ]
     },
     "execution_count": 12,
     "metadata": {},
     "output_type": "execute_result"
    }
   ],
   "source": [
    "csteel_df"
   ]
  },
  {
   "cell_type": "code",
   "execution_count": 13,
   "id": "a43bde69",
   "metadata": {},
   "outputs": [],
   "source": [
    "csteel_df[\"csteel\"] = df[\"close\"]"
   ]
  },
  {
   "cell_type": "code",
   "execution_count": 14,
   "id": "412eeb40",
   "metadata": {},
   "outputs": [
    {
     "data": {
      "text/html": [
       "<div>\n",
       "<style scoped>\n",
       "    .dataframe tbody tr th:only-of-type {\n",
       "        vertical-align: middle;\n",
       "    }\n",
       "\n",
       "    .dataframe tbody tr th {\n",
       "        vertical-align: top;\n",
       "    }\n",
       "\n",
       "    .dataframe thead th {\n",
       "        text-align: right;\n",
       "    }\n",
       "</style>\n",
       "<table border=\"1\" class=\"dataframe\">\n",
       "  <thead>\n",
       "    <tr style=\"text-align: right;\">\n",
       "      <th></th>\n",
       "      <th>csteel</th>\n",
       "    </tr>\n",
       "    <tr>\n",
       "      <th>time</th>\n",
       "      <th></th>\n",
       "    </tr>\n",
       "  </thead>\n",
       "  <tbody>\n",
       "    <tr>\n",
       "      <th>1994-12-01</th>\n",
       "      <td>7341000.0</td>\n",
       "    </tr>\n",
       "    <tr>\n",
       "      <th>1994-12-02</th>\n",
       "      <td>NaN</td>\n",
       "    </tr>\n",
       "    <tr>\n",
       "      <th>1994-12-03</th>\n",
       "      <td>NaN</td>\n",
       "    </tr>\n",
       "    <tr>\n",
       "      <th>1994-12-04</th>\n",
       "      <td>NaN</td>\n",
       "    </tr>\n",
       "    <tr>\n",
       "      <th>1994-12-05</th>\n",
       "      <td>NaN</td>\n",
       "    </tr>\n",
       "    <tr>\n",
       "      <th>...</th>\n",
       "      <td>...</td>\n",
       "    </tr>\n",
       "    <tr>\n",
       "      <th>2021-11-27</th>\n",
       "      <td>NaN</td>\n",
       "    </tr>\n",
       "    <tr>\n",
       "      <th>2021-11-28</th>\n",
       "      <td>NaN</td>\n",
       "    </tr>\n",
       "    <tr>\n",
       "      <th>2021-11-29</th>\n",
       "      <td>NaN</td>\n",
       "    </tr>\n",
       "    <tr>\n",
       "      <th>2021-11-30</th>\n",
       "      <td>NaN</td>\n",
       "    </tr>\n",
       "    <tr>\n",
       "      <th>2021-12-01</th>\n",
       "      <td>86200000.0</td>\n",
       "    </tr>\n",
       "  </tbody>\n",
       "</table>\n",
       "<p>9863 rows × 1 columns</p>\n",
       "</div>"
      ],
      "text/plain": [
       "                csteel\n",
       "time                  \n",
       "1994-12-01   7341000.0\n",
       "1994-12-02         NaN\n",
       "1994-12-03         NaN\n",
       "1994-12-04         NaN\n",
       "1994-12-05         NaN\n",
       "...                ...\n",
       "2021-11-27         NaN\n",
       "2021-11-28         NaN\n",
       "2021-11-29         NaN\n",
       "2021-11-30         NaN\n",
       "2021-12-01  86200000.0\n",
       "\n",
       "[9863 rows x 1 columns]"
      ]
     },
     "execution_count": 14,
     "metadata": {},
     "output_type": "execute_result"
    }
   ],
   "source": [
    "csteel_df"
   ]
  },
  {
   "cell_type": "code",
   "execution_count": 15,
   "id": "f25304cc",
   "metadata": {},
   "outputs": [],
   "source": [
    "csteel_df.interpolate(method=\"linear\", inplace=True)"
   ]
  },
  {
   "cell_type": "code",
   "execution_count": 17,
   "id": "41b18a3d",
   "metadata": {},
   "outputs": [
    {
     "data": {
      "text/html": [
       "<div>\n",
       "<style scoped>\n",
       "    .dataframe tbody tr th:only-of-type {\n",
       "        vertical-align: middle;\n",
       "    }\n",
       "\n",
       "    .dataframe tbody tr th {\n",
       "        vertical-align: top;\n",
       "    }\n",
       "\n",
       "    .dataframe thead th {\n",
       "        text-align: right;\n",
       "    }\n",
       "</style>\n",
       "<table border=\"1\" class=\"dataframe\">\n",
       "  <thead>\n",
       "    <tr style=\"text-align: right;\">\n",
       "      <th></th>\n",
       "      <th>csteel</th>\n",
       "    </tr>\n",
       "    <tr>\n",
       "      <th>time</th>\n",
       "      <th></th>\n",
       "    </tr>\n",
       "  </thead>\n",
       "  <tbody>\n",
       "    <tr>\n",
       "      <th>1994-12-01</th>\n",
       "      <td>7.341000e+06</td>\n",
       "    </tr>\n",
       "    <tr>\n",
       "      <th>1994-12-02</th>\n",
       "      <td>7.344452e+06</td>\n",
       "    </tr>\n",
       "    <tr>\n",
       "      <th>1994-12-03</th>\n",
       "      <td>7.347903e+06</td>\n",
       "    </tr>\n",
       "  </tbody>\n",
       "</table>\n",
       "</div>"
      ],
      "text/plain": [
       "                  csteel\n",
       "time                    \n",
       "1994-12-01  7.341000e+06\n",
       "1994-12-02  7.344452e+06\n",
       "1994-12-03  7.347903e+06"
      ]
     },
     "execution_count": 17,
     "metadata": {},
     "output_type": "execute_result"
    }
   ],
   "source": [
    "csteel_df.head(3)"
   ]
  },
  {
   "cell_type": "code",
   "execution_count": 18,
   "id": "66db13c3",
   "metadata": {},
   "outputs": [],
   "source": [
    "bdi_df = pd.read_csv(\"../raw_data/TradingViewData/BDI/cleaned_weekly_BDI.csv\")"
   ]
  },
  {
   "cell_type": "code",
   "execution_count": 20,
   "id": "1e6ddb62",
   "metadata": {},
   "outputs": [
    {
     "data": {
      "text/html": [
       "<div>\n",
       "<style scoped>\n",
       "    .dataframe tbody tr th:only-of-type {\n",
       "        vertical-align: middle;\n",
       "    }\n",
       "\n",
       "    .dataframe tbody tr th {\n",
       "        vertical-align: top;\n",
       "    }\n",
       "\n",
       "    .dataframe thead th {\n",
       "        text-align: right;\n",
       "    }\n",
       "</style>\n",
       "<table border=\"1\" class=\"dataframe\">\n",
       "  <thead>\n",
       "    <tr style=\"text-align: right;\">\n",
       "      <th></th>\n",
       "      <th>time</th>\n",
       "      <th>close</th>\n",
       "    </tr>\n",
       "  </thead>\n",
       "  <tbody>\n",
       "    <tr>\n",
       "      <th>0</th>\n",
       "      <td>1995-01-16</td>\n",
       "      <td>2059.0</td>\n",
       "    </tr>\n",
       "    <tr>\n",
       "      <th>1</th>\n",
       "      <td>1995-01-23</td>\n",
       "      <td>1983.0</td>\n",
       "    </tr>\n",
       "    <tr>\n",
       "      <th>2</th>\n",
       "      <td>1995-01-30</td>\n",
       "      <td>1959.0</td>\n",
       "    </tr>\n",
       "    <tr>\n",
       "      <th>3</th>\n",
       "      <td>1995-02-06</td>\n",
       "      <td>1980.0</td>\n",
       "    </tr>\n",
       "    <tr>\n",
       "      <th>4</th>\n",
       "      <td>1995-02-13</td>\n",
       "      <td>1992.0</td>\n",
       "    </tr>\n",
       "    <tr>\n",
       "      <th>...</th>\n",
       "      <td>...</td>\n",
       "      <td>...</td>\n",
       "    </tr>\n",
       "    <tr>\n",
       "      <th>1436</th>\n",
       "      <td>2022-10-17</td>\n",
       "      <td>1819.0</td>\n",
       "    </tr>\n",
       "    <tr>\n",
       "      <th>1437</th>\n",
       "      <td>2022-10-24</td>\n",
       "      <td>1534.0</td>\n",
       "    </tr>\n",
       "    <tr>\n",
       "      <th>1438</th>\n",
       "      <td>2022-10-31</td>\n",
       "      <td>1323.0</td>\n",
       "    </tr>\n",
       "    <tr>\n",
       "      <th>1439</th>\n",
       "      <td>2022-11-07</td>\n",
       "      <td>1355.0</td>\n",
       "    </tr>\n",
       "    <tr>\n",
       "      <th>1440</th>\n",
       "      <td>2022-11-14</td>\n",
       "      <td>1189.0</td>\n",
       "    </tr>\n",
       "  </tbody>\n",
       "</table>\n",
       "<p>1441 rows × 2 columns</p>\n",
       "</div>"
      ],
      "text/plain": [
       "            time   close\n",
       "0     1995-01-16  2059.0\n",
       "1     1995-01-23  1983.0\n",
       "2     1995-01-30  1959.0\n",
       "3     1995-02-06  1980.0\n",
       "4     1995-02-13  1992.0\n",
       "...          ...     ...\n",
       "1436  2022-10-17  1819.0\n",
       "1437  2022-10-24  1534.0\n",
       "1438  2022-10-31  1323.0\n",
       "1439  2022-11-07  1355.0\n",
       "1440  2022-11-14  1189.0\n",
       "\n",
       "[1441 rows x 2 columns]"
      ]
     },
     "execution_count": 20,
     "metadata": {},
     "output_type": "execute_result"
    }
   ],
   "source": [
    "bdi_df"
   ]
  },
  {
   "cell_type": "code",
   "execution_count": 21,
   "id": "0d8962e5",
   "metadata": {},
   "outputs": [],
   "source": [
    "bdi_df = bdi_df.set_index(\"time\")"
   ]
  },
  {
   "cell_type": "code",
   "execution_count": 25,
   "id": "f22d7905",
   "metadata": {},
   "outputs": [],
   "source": [
    "bdi_df.index = pd.to_datetime(bdi_df.index)"
   ]
  },
  {
   "cell_type": "code",
   "execution_count": 24,
   "id": "2c162b49",
   "metadata": {},
   "outputs": [
    {
     "data": {
      "text/html": [
       "<div>\n",
       "<style scoped>\n",
       "    .dataframe tbody tr th:only-of-type {\n",
       "        vertical-align: middle;\n",
       "    }\n",
       "\n",
       "    .dataframe tbody tr th {\n",
       "        vertical-align: top;\n",
       "    }\n",
       "\n",
       "    .dataframe thead th {\n",
       "        text-align: right;\n",
       "    }\n",
       "</style>\n",
       "<table border=\"1\" class=\"dataframe\">\n",
       "  <thead>\n",
       "    <tr style=\"text-align: right;\">\n",
       "      <th></th>\n",
       "      <th>csteel</th>\n",
       "    </tr>\n",
       "    <tr>\n",
       "      <th>time</th>\n",
       "      <th></th>\n",
       "    </tr>\n",
       "  </thead>\n",
       "  <tbody>\n",
       "    <tr>\n",
       "      <th>1995-01-16</th>\n",
       "      <td>7.380742e+06</td>\n",
       "    </tr>\n",
       "    <tr>\n",
       "      <th>1995-01-17</th>\n",
       "      <td>7.376258e+06</td>\n",
       "    </tr>\n",
       "    <tr>\n",
       "      <th>1995-01-18</th>\n",
       "      <td>7.371774e+06</td>\n",
       "    </tr>\n",
       "    <tr>\n",
       "      <th>1995-01-19</th>\n",
       "      <td>7.367290e+06</td>\n",
       "    </tr>\n",
       "    <tr>\n",
       "      <th>1995-01-20</th>\n",
       "      <td>7.362806e+06</td>\n",
       "    </tr>\n",
       "    <tr>\n",
       "      <th>...</th>\n",
       "      <td>...</td>\n",
       "    </tr>\n",
       "    <tr>\n",
       "      <th>2021-11-27</th>\n",
       "      <td>8.394667e+07</td>\n",
       "    </tr>\n",
       "    <tr>\n",
       "      <th>2021-11-28</th>\n",
       "      <td>8.451000e+07</td>\n",
       "    </tr>\n",
       "    <tr>\n",
       "      <th>2021-11-29</th>\n",
       "      <td>8.507333e+07</td>\n",
       "    </tr>\n",
       "    <tr>\n",
       "      <th>2021-11-30</th>\n",
       "      <td>8.563667e+07</td>\n",
       "    </tr>\n",
       "    <tr>\n",
       "      <th>2021-12-01</th>\n",
       "      <td>8.620000e+07</td>\n",
       "    </tr>\n",
       "  </tbody>\n",
       "</table>\n",
       "<p>9817 rows × 1 columns</p>\n",
       "</div>"
      ],
      "text/plain": [
       "                  csteel\n",
       "time                    \n",
       "1995-01-16  7.380742e+06\n",
       "1995-01-17  7.376258e+06\n",
       "1995-01-18  7.371774e+06\n",
       "1995-01-19  7.367290e+06\n",
       "1995-01-20  7.362806e+06\n",
       "...                  ...\n",
       "2021-11-27  8.394667e+07\n",
       "2021-11-28  8.451000e+07\n",
       "2021-11-29  8.507333e+07\n",
       "2021-11-30  8.563667e+07\n",
       "2021-12-01  8.620000e+07\n",
       "\n",
       "[9817 rows x 1 columns]"
      ]
     },
     "execution_count": 24,
     "metadata": {},
     "output_type": "execute_result"
    }
   ],
   "source": [
    "csteel_df[csteel_df[\"csteel\"].index > \"1995-01-15\"]"
   ]
  },
  {
   "cell_type": "code",
   "execution_count": 26,
   "id": "6747a739",
   "metadata": {},
   "outputs": [],
   "source": [
    "#combining bdi_df and csteel_df\n",
    "\n",
    "combined_df = pd.merge(bdi_df, csteel_df, on=\"time\", how=\"inner\")"
   ]
  },
  {
   "cell_type": "code",
   "execution_count": 27,
   "id": "d95d6abc",
   "metadata": {},
   "outputs": [
    {
     "data": {
      "text/html": [
       "<div>\n",
       "<style scoped>\n",
       "    .dataframe tbody tr th:only-of-type {\n",
       "        vertical-align: middle;\n",
       "    }\n",
       "\n",
       "    .dataframe tbody tr th {\n",
       "        vertical-align: top;\n",
       "    }\n",
       "\n",
       "    .dataframe thead th {\n",
       "        text-align: right;\n",
       "    }\n",
       "</style>\n",
       "<table border=\"1\" class=\"dataframe\">\n",
       "  <thead>\n",
       "    <tr style=\"text-align: right;\">\n",
       "      <th></th>\n",
       "      <th>close</th>\n",
       "      <th>csteel</th>\n",
       "    </tr>\n",
       "    <tr>\n",
       "      <th>time</th>\n",
       "      <th></th>\n",
       "      <th></th>\n",
       "    </tr>\n",
       "  </thead>\n",
       "  <tbody>\n",
       "    <tr>\n",
       "      <th>1995-01-16</th>\n",
       "      <td>2059.0</td>\n",
       "      <td>7.380742e+06</td>\n",
       "    </tr>\n",
       "    <tr>\n",
       "      <th>1995-01-23</th>\n",
       "      <td>1983.0</td>\n",
       "      <td>7.349355e+06</td>\n",
       "    </tr>\n",
       "    <tr>\n",
       "      <th>1995-01-30</th>\n",
       "      <td>1959.0</td>\n",
       "      <td>7.317968e+06</td>\n",
       "    </tr>\n",
       "  </tbody>\n",
       "</table>\n",
       "</div>"
      ],
      "text/plain": [
       "             close        csteel\n",
       "time                            \n",
       "1995-01-16  2059.0  7.380742e+06\n",
       "1995-01-23  1983.0  7.349355e+06\n",
       "1995-01-30  1959.0  7.317968e+06"
      ]
     },
     "execution_count": 27,
     "metadata": {},
     "output_type": "execute_result"
    }
   ],
   "source": [
    "combined_df.head(3)"
   ]
  },
  {
   "cell_type": "code",
   "execution_count": 28,
   "id": "75e0c2ea",
   "metadata": {},
   "outputs": [
    {
     "data": {
      "text/plain": [
       "<AxesSubplot: xlabel='time'>"
      ]
     },
     "execution_count": 28,
     "metadata": {},
     "output_type": "execute_result"
    },
    {
     "data": {
      "image/png": "[encoded data removed]",
      "text/plain": [
       "<Figure size 640x480 with 1 Axes>"
      ]
     },
     "metadata": {},
     "output_type": "display_data"
    }
   ],
   "source": [
    "combined_df.plot()"
   ]
  },
  {
   "cell_type": "code",
   "execution_count": 29,
   "id": "0195c8c1",
   "metadata": {},
   "outputs": [],
   "source": [
    "combined_df.to_csv(\"../raw_data/TradingViewData/CSTEEL/cleaned_weekly_CSTEEL.csv\")"
   ]
  }
 ],
 "metadata": {
  "kernelspec": {
   "display_name": "Python 3.8.12 64-bit ('lewagon')",
   "language": "python",
   "name": "python3"
  },
  "language_info": {
   "codemirror_mode": {
    "name": "ipython",
    "version": 3
   },
   "file_extension": ".py",
   "mimetype": "text/x-python",
   "name": "python",
   "nbconvert_exporter": "python",
   "pygments_lexer": "ipython3",
   "version": "3.8.12"
  },
  "toc": {
   "base_numbering": 1,
   "nav_menu": {},
   "number_sections": true,
   "sideBar": true,
   "skip_h1_title": false,
   "title_cell": "Table of Contents",
   "title_sidebar": "Contents",
   "toc_cell": false,
   "toc_position": {},
   "toc_section_display": true,
   "toc_window_display": false
  },
  "vscode": {
   "interpreter": {
    "hash": "39ac2dff602a1a33893e2fdf00cef751d01c0715ea04523f8948142cabfa73b2"
   }
  }
 },
 "nbformat": 4,
 "nbformat_minor": 5
}
