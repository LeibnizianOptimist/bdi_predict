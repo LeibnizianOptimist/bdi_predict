{
 "cells": [
  {
   "cell_type": "markdown",
   "id": "ad3fc53e",
   "metadata": {},
   "source": [
    "# CGDP Feature Cleaning"
   ]
  },
  {
   "cell_type": "markdown",
   "id": "5afd186c",
   "metadata": {},
   "source": [
    "## initial import and setup of Chinese GDP"
   ]
  },
  {
   "cell_type": "code",
   "execution_count": 272,
   "id": "df571f8f",
   "metadata": {},
   "outputs": [],
   "source": [
    "import pandas as pd\n",
    "import numpy as np\n",
    "import seaborn as sns\n",
    "import matplotlib.pyplot as plt\n",
    "import os\n"
   ]
  },
  {
   "cell_type": "code",
   "execution_count": 273,
   "id": "8b1bd851",
   "metadata": {},
   "outputs": [
    {
     "data": {
      "text/html": [
       "<div>\n",
       "<style scoped>\n",
       "    .dataframe tbody tr th:only-of-type {\n",
       "        vertical-align: middle;\n",
       "    }\n",
       "\n",
       "    .dataframe tbody tr th {\n",
       "        vertical-align: top;\n",
       "    }\n",
       "\n",
       "    .dataframe thead th {\n",
       "        text-align: right;\n",
       "    }\n",
       "</style>\n",
       "<table border=\"1\" class=\"dataframe\">\n",
       "  <thead>\n",
       "    <tr style=\"text-align: right;\">\n",
       "      <th></th>\n",
       "      <th>time</th>\n",
       "      <th>open</th>\n",
       "      <th>high</th>\n",
       "      <th>low</th>\n",
       "      <th>close</th>\n",
       "      <th>Volume</th>\n",
       "      <th>Volume MA</th>\n",
       "    </tr>\n",
       "  </thead>\n",
       "  <tbody>\n",
       "    <tr>\n",
       "      <th>0</th>\n",
       "      <td>-286675200</td>\n",
       "      <td>5.972000e+10</td>\n",
       "      <td>5.972000e+10</td>\n",
       "      <td>5.972000e+10</td>\n",
       "      <td>5.972000e+10</td>\n",
       "      <td>NaN</td>\n",
       "      <td>NaN</td>\n",
       "    </tr>\n",
       "    <tr>\n",
       "      <th>1</th>\n",
       "      <td>-255139200</td>\n",
       "      <td>5.006000e+10</td>\n",
       "      <td>5.006000e+10</td>\n",
       "      <td>5.006000e+10</td>\n",
       "      <td>5.006000e+10</td>\n",
       "      <td>NaN</td>\n",
       "      <td>NaN</td>\n",
       "    </tr>\n",
       "    <tr>\n",
       "      <th>2</th>\n",
       "      <td>-223603200</td>\n",
       "      <td>4.721000e+10</td>\n",
       "      <td>4.721000e+10</td>\n",
       "      <td>4.721000e+10</td>\n",
       "      <td>4.721000e+10</td>\n",
       "      <td>NaN</td>\n",
       "      <td>NaN</td>\n",
       "    </tr>\n",
       "    <tr>\n",
       "      <th>3</th>\n",
       "      <td>-192067200</td>\n",
       "      <td>5.071000e+10</td>\n",
       "      <td>5.071000e+10</td>\n",
       "      <td>5.071000e+10</td>\n",
       "      <td>5.071000e+10</td>\n",
       "      <td>NaN</td>\n",
       "      <td>NaN</td>\n",
       "    </tr>\n",
       "    <tr>\n",
       "      <th>4</th>\n",
       "      <td>-160444800</td>\n",
       "      <td>5.971000e+10</td>\n",
       "      <td>5.971000e+10</td>\n",
       "      <td>5.971000e+10</td>\n",
       "      <td>5.971000e+10</td>\n",
       "      <td>NaN</td>\n",
       "      <td>NaN</td>\n",
       "    </tr>\n",
       "  </tbody>\n",
       "</table>\n",
       "</div>"
      ],
      "text/plain": [
       "        time          open          high           low         close  Volume  \\\n",
       "0 -286675200  5.972000e+10  5.972000e+10  5.972000e+10  5.972000e+10     NaN   \n",
       "1 -255139200  5.006000e+10  5.006000e+10  5.006000e+10  5.006000e+10     NaN   \n",
       "2 -223603200  4.721000e+10  4.721000e+10  4.721000e+10  4.721000e+10     NaN   \n",
       "3 -192067200  5.071000e+10  5.071000e+10  5.071000e+10  5.071000e+10     NaN   \n",
       "4 -160444800  5.971000e+10  5.971000e+10  5.971000e+10  5.971000e+10     NaN   \n",
       "\n",
       "   Volume MA  \n",
       "0        NaN  \n",
       "1        NaN  \n",
       "2        NaN  \n",
       "3        NaN  \n",
       "4        NaN  "
      ]
     },
     "execution_count": 273,
     "metadata": {},
     "output_type": "execute_result"
    }
   ],
   "source": [
    "df = pd.read_csv(\"../raw_data/TradingViewData/CNGDP/ECONOMICS_CNGDP, M UNIX.csv\")\n",
    "df.head()"
   ]
  },
  {
   "cell_type": "code",
   "execution_count": 274,
   "id": "d46aa4e1",
   "metadata": {},
   "outputs": [
    {
     "name": "stdout",
     "output_type": "stream",
     "text": [
      "<class 'pandas.core.frame.DataFrame'>\n",
      "RangeIndex: 62 entries, 0 to 61\n",
      "Data columns (total 7 columns):\n",
      " #   Column     Non-Null Count  Dtype  \n",
      "---  ------     --------------  -----  \n",
      " 0   time       62 non-null     int64  \n",
      " 1   open       62 non-null     float64\n",
      " 2   high       62 non-null     float64\n",
      " 3   low        62 non-null     float64\n",
      " 4   close      62 non-null     float64\n",
      " 5   Volume     0 non-null      float64\n",
      " 6   Volume MA  0 non-null      float64\n",
      "dtypes: float64(6), int64(1)\n",
      "memory usage: 3.5 KB\n"
     ]
    }
   ],
   "source": [
    "df.info()"
   ]
  },
  {
   "cell_type": "code",
   "execution_count": 1,
   "id": "91ed8108",
   "metadata": {},
   "outputs": [
    {
     "ename": "NameError",
     "evalue": "name 'pd' is not defined",
     "output_type": "error",
     "traceback": [
      "\u001b[0;31m---------------------------------------------------------------------------\u001b[0m",
      "\u001b[0;31mNameError\u001b[0m                                 Traceback (most recent call last)",
      "Cell \u001b[0;32mIn [1], line 1\u001b[0m\n\u001b[0;32m----> 1\u001b[0m df[\u001b[38;5;124m'\u001b[39m\u001b[38;5;124mtime\u001b[39m\u001b[38;5;124m'\u001b[39m] \u001b[38;5;241m=\u001b[39m \u001b[43mpd\u001b[49m\u001b[38;5;241m.\u001b[39mto_datetime(df[\u001b[38;5;124m'\u001b[39m\u001b[38;5;124mtime\u001b[39m\u001b[38;5;124m'\u001b[39m], unit\u001b[38;5;241m=\u001b[39m\u001b[38;5;124m'\u001b[39m\u001b[38;5;124ms\u001b[39m\u001b[38;5;124m'\u001b[39m, origin\u001b[38;5;241m=\u001b[39m\u001b[38;5;124m\"\u001b[39m\u001b[38;5;124munix\u001b[39m\u001b[38;5;124m\"\u001b[39m)\n",
      "\u001b[0;31mNameError\u001b[0m: name 'pd' is not defined"
     ]
    }
   ],
   "source": [
    "df['time'] = pd.to_datetime(df['time'], unit='s', origin=\"unix\")"
   ]
  },
  {
   "cell_type": "code",
   "execution_count": 276,
   "id": "71bd103e",
   "metadata": {},
   "outputs": [],
   "source": [
    "df = df.set_index([\"time\"])"
   ]
  },
  {
   "cell_type": "code",
   "execution_count": 277,
   "id": "cfe6943a",
   "metadata": {},
   "outputs": [],
   "source": [
    "df = df[df.index>\"1993-12-01\"]"
   ]
  },
  {
   "cell_type": "code",
   "execution_count": 278,
   "id": "cb58e18b",
   "metadata": {},
   "outputs": [],
   "source": [
    "df = df[[\"close\"]]"
   ]
  },
  {
   "cell_type": "code",
   "execution_count": 279,
   "id": "48b8bb05",
   "metadata": {
    "collapsed": true
   },
   "outputs": [
    {
     "data": {
      "text/html": [
       "<div>\n",
       "<style scoped>\n",
       "    .dataframe tbody tr th:only-of-type {\n",
       "        vertical-align: middle;\n",
       "    }\n",
       "\n",
       "    .dataframe tbody tr th {\n",
       "        vertical-align: top;\n",
       "    }\n",
       "\n",
       "    .dataframe thead th {\n",
       "        text-align: right;\n",
       "    }\n",
       "</style>\n",
       "<table border=\"1\" class=\"dataframe\">\n",
       "  <thead>\n",
       "    <tr style=\"text-align: right;\">\n",
       "      <th></th>\n",
       "      <th>close</th>\n",
       "    </tr>\n",
       "    <tr>\n",
       "      <th>time</th>\n",
       "      <th></th>\n",
       "    </tr>\n",
       "  </thead>\n",
       "  <tbody>\n",
       "    <tr>\n",
       "      <th>1994-12-01</th>\n",
       "      <td>5.643200e+11</td>\n",
       "    </tr>\n",
       "    <tr>\n",
       "      <th>1995-12-01</th>\n",
       "      <td>7.345500e+11</td>\n",
       "    </tr>\n",
       "    <tr>\n",
       "      <th>1996-12-01</th>\n",
       "      <td>8.637500e+11</td>\n",
       "    </tr>\n",
       "    <tr>\n",
       "      <th>1997-12-01</th>\n",
       "      <td>9.616000e+11</td>\n",
       "    </tr>\n",
       "    <tr>\n",
       "      <th>1998-12-01</th>\n",
       "      <td>1.029040e+12</td>\n",
       "    </tr>\n",
       "    <tr>\n",
       "      <th>1999-12-01</th>\n",
       "      <td>1.094000e+12</td>\n",
       "    </tr>\n",
       "    <tr>\n",
       "      <th>2000-12-01</th>\n",
       "      <td>1.211350e+12</td>\n",
       "    </tr>\n",
       "    <tr>\n",
       "      <th>2001-12-01</th>\n",
       "      <td>1.339400e+12</td>\n",
       "    </tr>\n",
       "    <tr>\n",
       "      <th>2002-12-01</th>\n",
       "      <td>1.470550e+12</td>\n",
       "    </tr>\n",
       "    <tr>\n",
       "      <th>2003-12-01</th>\n",
       "      <td>1.660290e+12</td>\n",
       "    </tr>\n",
       "    <tr>\n",
       "      <th>2004-12-01</th>\n",
       "      <td>1.955350e+12</td>\n",
       "    </tr>\n",
       "    <tr>\n",
       "      <th>2005-12-01</th>\n",
       "      <td>2.285970e+12</td>\n",
       "    </tr>\n",
       "    <tr>\n",
       "      <th>2006-12-01</th>\n",
       "      <td>2.752130e+12</td>\n",
       "    </tr>\n",
       "    <tr>\n",
       "      <th>2007-12-01</th>\n",
       "      <td>3.550340e+12</td>\n",
       "    </tr>\n",
       "    <tr>\n",
       "      <th>2008-12-01</th>\n",
       "      <td>4.594310e+12</td>\n",
       "    </tr>\n",
       "    <tr>\n",
       "      <th>2009-12-01</th>\n",
       "      <td>5.101700e+12</td>\n",
       "    </tr>\n",
       "    <tr>\n",
       "      <th>2010-12-01</th>\n",
       "      <td>6.087160e+12</td>\n",
       "    </tr>\n",
       "    <tr>\n",
       "      <th>2011-12-01</th>\n",
       "      <td>7.551500e+12</td>\n",
       "    </tr>\n",
       "    <tr>\n",
       "      <th>2012-12-01</th>\n",
       "      <td>8.532230e+12</td>\n",
       "    </tr>\n",
       "    <tr>\n",
       "      <th>2013-12-01</th>\n",
       "      <td>9.570410e+12</td>\n",
       "    </tr>\n",
       "    <tr>\n",
       "      <th>2014-12-01</th>\n",
       "      <td>1.047568e+13</td>\n",
       "    </tr>\n",
       "    <tr>\n",
       "      <th>2015-12-01</th>\n",
       "      <td>1.106155e+13</td>\n",
       "    </tr>\n",
       "    <tr>\n",
       "      <th>2016-12-01</th>\n",
       "      <td>1.123328e+13</td>\n",
       "    </tr>\n",
       "    <tr>\n",
       "      <th>2017-12-01</th>\n",
       "      <td>1.231041e+13</td>\n",
       "    </tr>\n",
       "    <tr>\n",
       "      <th>2018-12-01</th>\n",
       "      <td>1.389482e+13</td>\n",
       "    </tr>\n",
       "    <tr>\n",
       "      <th>2019-12-01</th>\n",
       "      <td>1.427994e+13</td>\n",
       "    </tr>\n",
       "    <tr>\n",
       "      <th>2020-12-01</th>\n",
       "      <td>1.468767e+13</td>\n",
       "    </tr>\n",
       "    <tr>\n",
       "      <th>2021-12-01</th>\n",
       "      <td>1.773406e+13</td>\n",
       "    </tr>\n",
       "  </tbody>\n",
       "</table>\n",
       "</div>"
      ],
      "text/plain": [
       "                   close\n",
       "time                    \n",
       "1994-12-01  5.643200e+11\n",
       "1995-12-01  7.345500e+11\n",
       "1996-12-01  8.637500e+11\n",
       "1997-12-01  9.616000e+11\n",
       "1998-12-01  1.029040e+12\n",
       "1999-12-01  1.094000e+12\n",
       "2000-12-01  1.211350e+12\n",
       "2001-12-01  1.339400e+12\n",
       "2002-12-01  1.470550e+12\n",
       "2003-12-01  1.660290e+12\n",
       "2004-12-01  1.955350e+12\n",
       "2005-12-01  2.285970e+12\n",
       "2006-12-01  2.752130e+12\n",
       "2007-12-01  3.550340e+12\n",
       "2008-12-01  4.594310e+12\n",
       "2009-12-01  5.101700e+12\n",
       "2010-12-01  6.087160e+12\n",
       "2011-12-01  7.551500e+12\n",
       "2012-12-01  8.532230e+12\n",
       "2013-12-01  9.570410e+12\n",
       "2014-12-01  1.047568e+13\n",
       "2015-12-01  1.106155e+13\n",
       "2016-12-01  1.123328e+13\n",
       "2017-12-01  1.231041e+13\n",
       "2018-12-01  1.389482e+13\n",
       "2019-12-01  1.427994e+13\n",
       "2020-12-01  1.468767e+13\n",
       "2021-12-01  1.773406e+13"
      ]
     },
     "execution_count": 279,
     "metadata": {},
     "output_type": "execute_result"
    }
   ],
   "source": [
    "df"
   ]
  },
  {
   "cell_type": "code",
   "execution_count": 280,
   "id": "ecbe5954",
   "metadata": {},
   "outputs": [
    {
     "data": {
      "text/plain": [
       "<AxesSubplot: xlabel='time'>"
      ]
     },
     "execution_count": 280,
     "metadata": {},
     "output_type": "execute_result"
    },
    {
     "data": {
      "image/png": "[encoded data removed]",
      "text/plain": [
       "<Figure size 640x480 with 1 Axes>"
      ]
     },
     "metadata": {},
     "output_type": "display_data"
    }
   ],
   "source": [
    "df.plot()"
   ]
  },
  {
   "cell_type": "markdown",
   "id": "0f688a59",
   "metadata": {},
   "source": [
    "## Chinese GDP Daily Interpolation"
   ]
  },
  {
   "cell_type": "code",
   "execution_count": 281,
   "id": "138eea43",
   "metadata": {},
   "outputs": [
    {
     "data": {
      "text/plain": [
       "28"
      ]
     },
     "execution_count": 281,
     "metadata": {},
     "output_type": "execute_result"
    }
   ],
   "source": [
    "len(df)"
   ]
  },
  {
   "cell_type": "code",
   "execution_count": 282,
   "id": "5f90f1e3",
   "metadata": {},
   "outputs": [
    {
     "data": {
      "text/plain": [
       "9863"
      ]
     },
     "execution_count": 282,
     "metadata": {},
     "output_type": "execute_result"
    }
   ],
   "source": [
    "datetime_index = pd.date_range(start=\"1994-12-01\", end=\"2021-12-01\", name=\"time\")\n",
    "len(datetime_index)"
   ]
  },
  {
   "cell_type": "code",
   "execution_count": 283,
   "id": "5f5be71d",
   "metadata": {},
   "outputs": [],
   "source": [
    "cgdp_df = pd.DataFrame(index=datetime_index)"
   ]
  },
  {
   "cell_type": "code",
   "execution_count": 284,
   "id": "59e7acf8",
   "metadata": {},
   "outputs": [],
   "source": [
    "cgdp_df[\"cgdp\"] = df[\"close\"]"
   ]
  },
  {
   "cell_type": "code",
   "execution_count": 285,
   "id": "c126190e",
   "metadata": {},
   "outputs": [
    {
     "data": {
      "text/html": [
       "<div>\n",
       "<style scoped>\n",
       "    .dataframe tbody tr th:only-of-type {\n",
       "        vertical-align: middle;\n",
       "    }\n",
       "\n",
       "    .dataframe tbody tr th {\n",
       "        vertical-align: top;\n",
       "    }\n",
       "\n",
       "    .dataframe thead th {\n",
       "        text-align: right;\n",
       "    }\n",
       "</style>\n",
       "<table border=\"1\" class=\"dataframe\">\n",
       "  <thead>\n",
       "    <tr style=\"text-align: right;\">\n",
       "      <th></th>\n",
       "      <th>cgdp</th>\n",
       "    </tr>\n",
       "    <tr>\n",
       "      <th>time</th>\n",
       "      <th></th>\n",
       "    </tr>\n",
       "  </thead>\n",
       "  <tbody>\n",
       "    <tr>\n",
       "      <th>1994-12-01</th>\n",
       "      <td>5.643200e+11</td>\n",
       "    </tr>\n",
       "    <tr>\n",
       "      <th>1994-12-02</th>\n",
       "      <td>NaN</td>\n",
       "    </tr>\n",
       "    <tr>\n",
       "      <th>1994-12-03</th>\n",
       "      <td>NaN</td>\n",
       "    </tr>\n",
       "    <tr>\n",
       "      <th>1994-12-04</th>\n",
       "      <td>NaN</td>\n",
       "    </tr>\n",
       "    <tr>\n",
       "      <th>1994-12-05</th>\n",
       "      <td>NaN</td>\n",
       "    </tr>\n",
       "    <tr>\n",
       "      <th>...</th>\n",
       "      <td>...</td>\n",
       "    </tr>\n",
       "    <tr>\n",
       "      <th>2021-11-27</th>\n",
       "      <td>NaN</td>\n",
       "    </tr>\n",
       "    <tr>\n",
       "      <th>2021-11-28</th>\n",
       "      <td>NaN</td>\n",
       "    </tr>\n",
       "    <tr>\n",
       "      <th>2021-11-29</th>\n",
       "      <td>NaN</td>\n",
       "    </tr>\n",
       "    <tr>\n",
       "      <th>2021-11-30</th>\n",
       "      <td>NaN</td>\n",
       "    </tr>\n",
       "    <tr>\n",
       "      <th>2021-12-01</th>\n",
       "      <td>1.773406e+13</td>\n",
       "    </tr>\n",
       "  </tbody>\n",
       "</table>\n",
       "<p>9863 rows × 1 columns</p>\n",
       "</div>"
      ],
      "text/plain": [
       "                    cgdp\n",
       "time                    \n",
       "1994-12-01  5.643200e+11\n",
       "1994-12-02           NaN\n",
       "1994-12-03           NaN\n",
       "1994-12-04           NaN\n",
       "1994-12-05           NaN\n",
       "...                  ...\n",
       "2021-11-27           NaN\n",
       "2021-11-28           NaN\n",
       "2021-11-29           NaN\n",
       "2021-11-30           NaN\n",
       "2021-12-01  1.773406e+13\n",
       "\n",
       "[9863 rows x 1 columns]"
      ]
     },
     "execution_count": 285,
     "metadata": {},
     "output_type": "execute_result"
    }
   ],
   "source": [
    "cgdp_df"
   ]
  },
  {
   "cell_type": "code",
   "execution_count": 286,
   "id": "b9eb4cbc",
   "metadata": {},
   "outputs": [],
   "source": [
    "cgdp_df.interpolate(method=\"linear\", inplace=True)"
   ]
  },
  {
   "cell_type": "code",
   "execution_count": 287,
   "id": "5c74de60",
   "metadata": {},
   "outputs": [
    {
     "data": {
      "text/html": [
       "<div>\n",
       "<style scoped>\n",
       "    .dataframe tbody tr th:only-of-type {\n",
       "        vertical-align: middle;\n",
       "    }\n",
       "\n",
       "    .dataframe tbody tr th {\n",
       "        vertical-align: top;\n",
       "    }\n",
       "\n",
       "    .dataframe thead th {\n",
       "        text-align: right;\n",
       "    }\n",
       "</style>\n",
       "<table border=\"1\" class=\"dataframe\">\n",
       "  <thead>\n",
       "    <tr style=\"text-align: right;\">\n",
       "      <th></th>\n",
       "      <th>cgdp</th>\n",
       "    </tr>\n",
       "    <tr>\n",
       "      <th>time</th>\n",
       "      <th></th>\n",
       "    </tr>\n",
       "  </thead>\n",
       "  <tbody>\n",
       "    <tr>\n",
       "      <th>1994-12-01</th>\n",
       "      <td>5.643200e+11</td>\n",
       "    </tr>\n",
       "    <tr>\n",
       "      <th>1994-12-02</th>\n",
       "      <td>5.647864e+11</td>\n",
       "    </tr>\n",
       "    <tr>\n",
       "      <th>1994-12-03</th>\n",
       "      <td>5.652528e+11</td>\n",
       "    </tr>\n",
       "  </tbody>\n",
       "</table>\n",
       "</div>"
      ],
      "text/plain": [
       "                    cgdp\n",
       "time                    \n",
       "1994-12-01  5.643200e+11\n",
       "1994-12-02  5.647864e+11\n",
       "1994-12-03  5.652528e+11"
      ]
     },
     "execution_count": 287,
     "metadata": {},
     "output_type": "execute_result"
    }
   ],
   "source": [
    "cgdp_df.head(3)"
   ]
  },
  {
   "cell_type": "markdown",
   "id": "ad544dc9",
   "metadata": {},
   "source": [
    "# Merge Chinese GDP to BDI Dataframe"
   ]
  },
  {
   "cell_type": "code",
   "execution_count": 288,
   "id": "5d3c4101",
   "metadata": {},
   "outputs": [],
   "source": [
    "bdi_df = pd.read_csv(\"../raw_data/TradingViewData/BDI/cleaned_weekly_BDI.csv\")"
   ]
  },
  {
   "cell_type": "code",
   "execution_count": 289,
   "id": "60492bf3",
   "metadata": {},
   "outputs": [
    {
     "data": {
      "text/html": [
       "<div>\n",
       "<style scoped>\n",
       "    .dataframe tbody tr th:only-of-type {\n",
       "        vertical-align: middle;\n",
       "    }\n",
       "\n",
       "    .dataframe tbody tr th {\n",
       "        vertical-align: top;\n",
       "    }\n",
       "\n",
       "    .dataframe thead th {\n",
       "        text-align: right;\n",
       "    }\n",
       "</style>\n",
       "<table border=\"1\" class=\"dataframe\">\n",
       "  <thead>\n",
       "    <tr style=\"text-align: right;\">\n",
       "      <th></th>\n",
       "      <th>time</th>\n",
       "      <th>close</th>\n",
       "    </tr>\n",
       "  </thead>\n",
       "  <tbody>\n",
       "    <tr>\n",
       "      <th>0</th>\n",
       "      <td>1995-01-16</td>\n",
       "      <td>2059.0</td>\n",
       "    </tr>\n",
       "    <tr>\n",
       "      <th>1</th>\n",
       "      <td>1995-01-23</td>\n",
       "      <td>1983.0</td>\n",
       "    </tr>\n",
       "    <tr>\n",
       "      <th>2</th>\n",
       "      <td>1995-01-30</td>\n",
       "      <td>1959.0</td>\n",
       "    </tr>\n",
       "    <tr>\n",
       "      <th>3</th>\n",
       "      <td>1995-02-06</td>\n",
       "      <td>1980.0</td>\n",
       "    </tr>\n",
       "    <tr>\n",
       "      <th>4</th>\n",
       "      <td>1995-02-13</td>\n",
       "      <td>1992.0</td>\n",
       "    </tr>\n",
       "    <tr>\n",
       "      <th>...</th>\n",
       "      <td>...</td>\n",
       "      <td>...</td>\n",
       "    </tr>\n",
       "    <tr>\n",
       "      <th>1436</th>\n",
       "      <td>2022-10-17</td>\n",
       "      <td>1819.0</td>\n",
       "    </tr>\n",
       "    <tr>\n",
       "      <th>1437</th>\n",
       "      <td>2022-10-24</td>\n",
       "      <td>1534.0</td>\n",
       "    </tr>\n",
       "    <tr>\n",
       "      <th>1438</th>\n",
       "      <td>2022-10-31</td>\n",
       "      <td>1323.0</td>\n",
       "    </tr>\n",
       "    <tr>\n",
       "      <th>1439</th>\n",
       "      <td>2022-11-07</td>\n",
       "      <td>1355.0</td>\n",
       "    </tr>\n",
       "    <tr>\n",
       "      <th>1440</th>\n",
       "      <td>2022-11-14</td>\n",
       "      <td>1189.0</td>\n",
       "    </tr>\n",
       "  </tbody>\n",
       "</table>\n",
       "<p>1441 rows × 2 columns</p>\n",
       "</div>"
      ],
      "text/plain": [
       "            time   close\n",
       "0     1995-01-16  2059.0\n",
       "1     1995-01-23  1983.0\n",
       "2     1995-01-30  1959.0\n",
       "3     1995-02-06  1980.0\n",
       "4     1995-02-13  1992.0\n",
       "...          ...     ...\n",
       "1436  2022-10-17  1819.0\n",
       "1437  2022-10-24  1534.0\n",
       "1438  2022-10-31  1323.0\n",
       "1439  2022-11-07  1355.0\n",
       "1440  2022-11-14  1189.0\n",
       "\n",
       "[1441 rows x 2 columns]"
      ]
     },
     "execution_count": 289,
     "metadata": {},
     "output_type": "execute_result"
    }
   ],
   "source": [
    "bdi_df"
   ]
  },
  {
   "cell_type": "code",
   "execution_count": 290,
   "id": "f5467b99",
   "metadata": {},
   "outputs": [],
   "source": [
    "bdi_df = bdi_df.set_index(\"time\")"
   ]
  },
  {
   "cell_type": "code",
   "execution_count": 291,
   "id": "9e3c4a45",
   "metadata": {},
   "outputs": [
    {
     "data": {
      "text/html": [
       "<div>\n",
       "<style scoped>\n",
       "    .dataframe tbody tr th:only-of-type {\n",
       "        vertical-align: middle;\n",
       "    }\n",
       "\n",
       "    .dataframe tbody tr th {\n",
       "        vertical-align: top;\n",
       "    }\n",
       "\n",
       "    .dataframe thead th {\n",
       "        text-align: right;\n",
       "    }\n",
       "</style>\n",
       "<table border=\"1\" class=\"dataframe\">\n",
       "  <thead>\n",
       "    <tr style=\"text-align: right;\">\n",
       "      <th></th>\n",
       "      <th>close</th>\n",
       "    </tr>\n",
       "    <tr>\n",
       "      <th>time</th>\n",
       "      <th></th>\n",
       "    </tr>\n",
       "  </thead>\n",
       "  <tbody>\n",
       "    <tr>\n",
       "      <th>1995-01-16</th>\n",
       "      <td>2059.0</td>\n",
       "    </tr>\n",
       "    <tr>\n",
       "      <th>1995-01-23</th>\n",
       "      <td>1983.0</td>\n",
       "    </tr>\n",
       "    <tr>\n",
       "      <th>1995-01-30</th>\n",
       "      <td>1959.0</td>\n",
       "    </tr>\n",
       "    <tr>\n",
       "      <th>1995-02-06</th>\n",
       "      <td>1980.0</td>\n",
       "    </tr>\n",
       "    <tr>\n",
       "      <th>1995-02-13</th>\n",
       "      <td>1992.0</td>\n",
       "    </tr>\n",
       "    <tr>\n",
       "      <th>...</th>\n",
       "      <td>...</td>\n",
       "    </tr>\n",
       "    <tr>\n",
       "      <th>2022-10-17</th>\n",
       "      <td>1819.0</td>\n",
       "    </tr>\n",
       "    <tr>\n",
       "      <th>2022-10-24</th>\n",
       "      <td>1534.0</td>\n",
       "    </tr>\n",
       "    <tr>\n",
       "      <th>2022-10-31</th>\n",
       "      <td>1323.0</td>\n",
       "    </tr>\n",
       "    <tr>\n",
       "      <th>2022-11-07</th>\n",
       "      <td>1355.0</td>\n",
       "    </tr>\n",
       "    <tr>\n",
       "      <th>2022-11-14</th>\n",
       "      <td>1189.0</td>\n",
       "    </tr>\n",
       "  </tbody>\n",
       "</table>\n",
       "<p>1441 rows × 1 columns</p>\n",
       "</div>"
      ],
      "text/plain": [
       "             close\n",
       "time              \n",
       "1995-01-16  2059.0\n",
       "1995-01-23  1983.0\n",
       "1995-01-30  1959.0\n",
       "1995-02-06  1980.0\n",
       "1995-02-13  1992.0\n",
       "...            ...\n",
       "2022-10-17  1819.0\n",
       "2022-10-24  1534.0\n",
       "2022-10-31  1323.0\n",
       "2022-11-07  1355.0\n",
       "2022-11-14  1189.0\n",
       "\n",
       "[1441 rows x 1 columns]"
      ]
     },
     "execution_count": 291,
     "metadata": {},
     "output_type": "execute_result"
    }
   ],
   "source": [
    "bdi_df"
   ]
  },
  {
   "cell_type": "code",
   "execution_count": 292,
   "id": "d6293604",
   "metadata": {},
   "outputs": [
    {
     "data": {
      "text/html": [
       "<div>\n",
       "<style scoped>\n",
       "    .dataframe tbody tr th:only-of-type {\n",
       "        vertical-align: middle;\n",
       "    }\n",
       "\n",
       "    .dataframe tbody tr th {\n",
       "        vertical-align: top;\n",
       "    }\n",
       "\n",
       "    .dataframe thead th {\n",
       "        text-align: right;\n",
       "    }\n",
       "</style>\n",
       "<table border=\"1\" class=\"dataframe\">\n",
       "  <thead>\n",
       "    <tr style=\"text-align: right;\">\n",
       "      <th></th>\n",
       "      <th>cgdp</th>\n",
       "    </tr>\n",
       "    <tr>\n",
       "      <th>time</th>\n",
       "      <th></th>\n",
       "    </tr>\n",
       "  </thead>\n",
       "  <tbody>\n",
       "    <tr>\n",
       "      <th>1995-01-16</th>\n",
       "      <td>5.857736e+11</td>\n",
       "    </tr>\n",
       "    <tr>\n",
       "      <th>1995-01-17</th>\n",
       "      <td>5.862400e+11</td>\n",
       "    </tr>\n",
       "    <tr>\n",
       "      <th>1995-01-18</th>\n",
       "      <td>5.867064e+11</td>\n",
       "    </tr>\n",
       "    <tr>\n",
       "      <th>1995-01-19</th>\n",
       "      <td>5.871728e+11</td>\n",
       "    </tr>\n",
       "    <tr>\n",
       "      <th>1995-01-20</th>\n",
       "      <td>5.876392e+11</td>\n",
       "    </tr>\n",
       "    <tr>\n",
       "      <th>...</th>\n",
       "      <td>...</td>\n",
       "    </tr>\n",
       "    <tr>\n",
       "      <th>2021-11-27</th>\n",
       "      <td>1.770067e+13</td>\n",
       "    </tr>\n",
       "    <tr>\n",
       "      <th>2021-11-28</th>\n",
       "      <td>1.770902e+13</td>\n",
       "    </tr>\n",
       "    <tr>\n",
       "      <th>2021-11-29</th>\n",
       "      <td>1.771737e+13</td>\n",
       "    </tr>\n",
       "    <tr>\n",
       "      <th>2021-11-30</th>\n",
       "      <td>1.772571e+13</td>\n",
       "    </tr>\n",
       "    <tr>\n",
       "      <th>2021-12-01</th>\n",
       "      <td>1.773406e+13</td>\n",
       "    </tr>\n",
       "  </tbody>\n",
       "</table>\n",
       "<p>9817 rows × 1 columns</p>\n",
       "</div>"
      ],
      "text/plain": [
       "                    cgdp\n",
       "time                    \n",
       "1995-01-16  5.857736e+11\n",
       "1995-01-17  5.862400e+11\n",
       "1995-01-18  5.867064e+11\n",
       "1995-01-19  5.871728e+11\n",
       "1995-01-20  5.876392e+11\n",
       "...                  ...\n",
       "2021-11-27  1.770067e+13\n",
       "2021-11-28  1.770902e+13\n",
       "2021-11-29  1.771737e+13\n",
       "2021-11-30  1.772571e+13\n",
       "2021-12-01  1.773406e+13\n",
       "\n",
       "[9817 rows x 1 columns]"
      ]
     },
     "execution_count": 292,
     "metadata": {},
     "output_type": "execute_result"
    }
   ],
   "source": [
    "cgdp_df[cgdp_df[\"cgdp\"].index > \"1995-01-15\"]"
   ]
  },
  {
   "cell_type": "code",
   "execution_count": 293,
   "id": "ef79946f",
   "metadata": {},
   "outputs": [],
   "source": [
    "bdi_df.index = pd.to_datetime(bdi_df.index)"
   ]
  },
  {
   "cell_type": "code",
   "execution_count": 294,
   "id": "87a64982",
   "metadata": {},
   "outputs": [
    {
     "data": {
      "text/plain": [
       "DatetimeIndex(['1995-01-16', '1995-01-23', '1995-01-30', '1995-02-06',\n",
       "               '1995-02-13', '1995-02-20', '1995-02-27', '1995-03-06',\n",
       "               '1995-03-13', '1995-03-20',\n",
       "               ...\n",
       "               '2022-09-12', '2022-09-19', '2022-09-26', '2022-10-03',\n",
       "               '2022-10-10', '2022-10-17', '2022-10-24', '2022-10-31',\n",
       "               '2022-11-07', '2022-11-14'],\n",
       "              dtype='datetime64[ns]', name='time', length=1441, freq=None)"
      ]
     },
     "execution_count": 294,
     "metadata": {},
     "output_type": "execute_result"
    }
   ],
   "source": [
    "bdi_df.index"
   ]
  },
  {
   "cell_type": "code",
   "execution_count": 295,
   "id": "88cc98cb",
   "metadata": {},
   "outputs": [],
   "source": [
    "#Combine bdi_df to cngdp_df:\n",
    "\n",
    "combined_df = pd.merge(bdi_df, cgdp_df, on=\"time\", how=\"inner\")"
   ]
  },
  {
   "cell_type": "code",
   "execution_count": 296,
   "id": "4aa5051e",
   "metadata": {},
   "outputs": [
    {
     "data": {
      "text/html": [
       "<div>\n",
       "<style scoped>\n",
       "    .dataframe tbody tr th:only-of-type {\n",
       "        vertical-align: middle;\n",
       "    }\n",
       "\n",
       "    .dataframe tbody tr th {\n",
       "        vertical-align: top;\n",
       "    }\n",
       "\n",
       "    .dataframe thead th {\n",
       "        text-align: right;\n",
       "    }\n",
       "</style>\n",
       "<table border=\"1\" class=\"dataframe\">\n",
       "  <thead>\n",
       "    <tr style=\"text-align: right;\">\n",
       "      <th></th>\n",
       "      <th>close</th>\n",
       "      <th>cgdp</th>\n",
       "    </tr>\n",
       "    <tr>\n",
       "      <th>time</th>\n",
       "      <th></th>\n",
       "      <th></th>\n",
       "    </tr>\n",
       "  </thead>\n",
       "  <tbody>\n",
       "    <tr>\n",
       "      <th>1995-01-16</th>\n",
       "      <td>2059.0</td>\n",
       "      <td>5.857736e+11</td>\n",
       "    </tr>\n",
       "    <tr>\n",
       "      <th>1995-01-23</th>\n",
       "      <td>1983.0</td>\n",
       "      <td>5.890383e+11</td>\n",
       "    </tr>\n",
       "    <tr>\n",
       "      <th>1995-01-30</th>\n",
       "      <td>1959.0</td>\n",
       "      <td>5.923030e+11</td>\n",
       "    </tr>\n",
       "    <tr>\n",
       "      <th>1995-02-06</th>\n",
       "      <td>1980.0</td>\n",
       "      <td>5.955677e+11</td>\n",
       "    </tr>\n",
       "    <tr>\n",
       "      <th>1995-02-13</th>\n",
       "      <td>1992.0</td>\n",
       "      <td>5.988324e+11</td>\n",
       "    </tr>\n",
       "    <tr>\n",
       "      <th>...</th>\n",
       "      <td>...</td>\n",
       "      <td>...</td>\n",
       "    </tr>\n",
       "    <tr>\n",
       "      <th>2021-11-01</th>\n",
       "      <td>2715.0</td>\n",
       "      <td>1.748367e+13</td>\n",
       "    </tr>\n",
       "    <tr>\n",
       "      <th>2021-11-08</th>\n",
       "      <td>2807.0</td>\n",
       "      <td>1.754210e+13</td>\n",
       "    </tr>\n",
       "    <tr>\n",
       "      <th>2021-11-15</th>\n",
       "      <td>2552.0</td>\n",
       "      <td>1.760052e+13</td>\n",
       "    </tr>\n",
       "    <tr>\n",
       "      <th>2021-11-22</th>\n",
       "      <td>2767.0</td>\n",
       "      <td>1.765894e+13</td>\n",
       "    </tr>\n",
       "    <tr>\n",
       "      <th>2021-11-29</th>\n",
       "      <td>3171.0</td>\n",
       "      <td>1.771737e+13</td>\n",
       "    </tr>\n",
       "  </tbody>\n",
       "</table>\n",
       "<p>1392 rows × 2 columns</p>\n",
       "</div>"
      ],
      "text/plain": [
       "             close          cgdp\n",
       "time                            \n",
       "1995-01-16  2059.0  5.857736e+11\n",
       "1995-01-23  1983.0  5.890383e+11\n",
       "1995-01-30  1959.0  5.923030e+11\n",
       "1995-02-06  1980.0  5.955677e+11\n",
       "1995-02-13  1992.0  5.988324e+11\n",
       "...            ...           ...\n",
       "2021-11-01  2715.0  1.748367e+13\n",
       "2021-11-08  2807.0  1.754210e+13\n",
       "2021-11-15  2552.0  1.760052e+13\n",
       "2021-11-22  2767.0  1.765894e+13\n",
       "2021-11-29  3171.0  1.771737e+13\n",
       "\n",
       "[1392 rows x 2 columns]"
      ]
     },
     "execution_count": 296,
     "metadata": {},
     "output_type": "execute_result"
    }
   ],
   "source": [
    "combined_df"
   ]
  },
  {
   "cell_type": "code",
   "execution_count": 394,
   "id": "c12121e0",
   "metadata": {
    "collapsed": true
   },
   "outputs": [
    {
     "data": {
      "text/plain": [
       "<AxesSubplot: xlabel='time'>"
      ]
     },
     "execution_count": 394,
     "metadata": {},
     "output_type": "execute_result"
    },
    {
     "data": {
      "image/png": "[encoded data removed]",
      "text/plain": [
       "<Figure size 640x480 with 1 Axes>"
      ]
     },
     "metadata": {},
     "output_type": "display_data"
    }
   ],
   "source": [
    "combined_df.plot()"
   ]
  },
  {
   "cell_type": "code",
   "execution_count": 393,
   "id": "fa3440c5",
   "metadata": {
    "scrolled": true
   },
   "outputs": [
    {
     "data": {
      "text/plain": [
       "<AxesSubplot: xlabel='time'>"
      ]
     },
     "execution_count": 393,
     "metadata": {},
     "output_type": "execute_result"
    },
    {
     "data": {
      "image/png": "[encoded data removed]",
      "text/plain": [
       "<Figure size 640x480 with 1 Axes>"
      ]
     },
     "metadata": {},
     "output_type": "display_data"
    }
   ],
   "source": [
    "df.plot()"
   ]
  },
  {
   "cell_type": "code",
   "execution_count": 303,
   "id": "55a7df08",
   "metadata": {
    "collapsed": true
   },
   "outputs": [
    {
     "data": {
      "text/plain": [
       "589038328767.1233"
      ]
     },
     "execution_count": 303,
     "metadata": {},
     "output_type": "execute_result"
    }
   ],
   "source": [
    "combined_df[\"cgdp\"][1]"
   ]
  },
  {
   "cell_type": "code",
   "execution_count": 297,
   "id": "4ccc70dd",
   "metadata": {},
   "outputs": [
    {
     "data": {
      "text/plain": [
       "1392"
      ]
     },
     "execution_count": 297,
     "metadata": {},
     "output_type": "execute_result"
    }
   ],
   "source": [
    "len(combined_df)"
   ]
  },
  {
   "cell_type": "markdown",
   "id": "577445bb",
   "metadata": {},
   "source": [
    "## Adding Growth Rate of CNGDP per week"
   ]
  },
  {
   "cell_type": "markdown",
   "id": "b0008bdf",
   "metadata": {},
   "source": [
    "Lots of feature generation is possible as growth rate is of course dependent on start and end time-frame. For now, I will simply create the growth rate per week, then per month, and then potentially per year."
   ]
  },
  {
   "cell_type": "code",
   "execution_count": 379,
   "id": "1b6ff111",
   "metadata": {},
   "outputs": [],
   "source": [
    "combined_df[\"diff\"] = combined_df[\"cgdp\"].diff()"
   ]
  },
  {
   "cell_type": "code",
   "execution_count": 380,
   "id": "f2ed1633",
   "metadata": {},
   "outputs": [
    {
     "data": {
      "text/html": [
       "<div>\n",
       "<style scoped>\n",
       "    .dataframe tbody tr th:only-of-type {\n",
       "        vertical-align: middle;\n",
       "    }\n",
       "\n",
       "    .dataframe tbody tr th {\n",
       "        vertical-align: top;\n",
       "    }\n",
       "\n",
       "    .dataframe thead th {\n",
       "        text-align: right;\n",
       "    }\n",
       "</style>\n",
       "<table border=\"1\" class=\"dataframe\">\n",
       "  <thead>\n",
       "    <tr style=\"text-align: right;\">\n",
       "      <th></th>\n",
       "      <th>close</th>\n",
       "      <th>cgdp</th>\n",
       "      <th>diff</th>\n",
       "    </tr>\n",
       "    <tr>\n",
       "      <th>time</th>\n",
       "      <th></th>\n",
       "      <th></th>\n",
       "      <th></th>\n",
       "    </tr>\n",
       "  </thead>\n",
       "  <tbody>\n",
       "    <tr>\n",
       "      <th>1995-01-16</th>\n",
       "      <td>2059.0</td>\n",
       "      <td>5.857736e+11</td>\n",
       "      <td>NaN</td>\n",
       "    </tr>\n",
       "    <tr>\n",
       "      <th>1995-01-23</th>\n",
       "      <td>1983.0</td>\n",
       "      <td>5.890383e+11</td>\n",
       "      <td>3.264685e+09</td>\n",
       "    </tr>\n",
       "    <tr>\n",
       "      <th>1995-01-30</th>\n",
       "      <td>1959.0</td>\n",
       "      <td>5.923030e+11</td>\n",
       "      <td>3.264685e+09</td>\n",
       "    </tr>\n",
       "    <tr>\n",
       "      <th>1995-02-06</th>\n",
       "      <td>1980.0</td>\n",
       "      <td>5.955677e+11</td>\n",
       "      <td>3.264685e+09</td>\n",
       "    </tr>\n",
       "    <tr>\n",
       "      <th>1995-02-13</th>\n",
       "      <td>1992.0</td>\n",
       "      <td>5.988324e+11</td>\n",
       "      <td>3.264685e+09</td>\n",
       "    </tr>\n",
       "  </tbody>\n",
       "</table>\n",
       "</div>"
      ],
      "text/plain": [
       "             close          cgdp          diff\n",
       "time                                          \n",
       "1995-01-16  2059.0  5.857736e+11           NaN\n",
       "1995-01-23  1983.0  5.890383e+11  3.264685e+09\n",
       "1995-01-30  1959.0  5.923030e+11  3.264685e+09\n",
       "1995-02-06  1980.0  5.955677e+11  3.264685e+09\n",
       "1995-02-13  1992.0  5.988324e+11  3.264685e+09"
      ]
     },
     "execution_count": 380,
     "metadata": {},
     "output_type": "execute_result"
    }
   ],
   "source": [
    "combined_df.head()"
   ]
  },
  {
   "cell_type": "code",
   "execution_count": 398,
   "id": "e216540e",
   "metadata": {},
   "outputs": [
    {
     "data": {
      "text/plain": [
       "(1392, 4)"
      ]
     },
     "execution_count": 398,
     "metadata": {},
     "output_type": "execute_result"
    }
   ],
   "source": [
    "combined_df.shape"
   ]
  },
  {
   "cell_type": "code",
   "execution_count": 395,
   "id": "12255bda",
   "metadata": {},
   "outputs": [],
   "source": [
    "combined_df[\"cgdp_growth\"] = combined_df[\"diff\"]/combined_df[\"cgdp\"]"
   ]
  },
  {
   "cell_type": "code",
   "execution_count": 396,
   "id": "711705b9",
   "metadata": {},
   "outputs": [
    {
     "data": {
      "text/html": [
       "<div>\n",
       "<style scoped>\n",
       "    .dataframe tbody tr th:only-of-type {\n",
       "        vertical-align: middle;\n",
       "    }\n",
       "\n",
       "    .dataframe tbody tr th {\n",
       "        vertical-align: top;\n",
       "    }\n",
       "\n",
       "    .dataframe thead th {\n",
       "        text-align: right;\n",
       "    }\n",
       "</style>\n",
       "<table border=\"1\" class=\"dataframe\">\n",
       "  <thead>\n",
       "    <tr style=\"text-align: right;\">\n",
       "      <th></th>\n",
       "      <th>close</th>\n",
       "      <th>cgdp</th>\n",
       "      <th>diff</th>\n",
       "      <th>cgdp_growth</th>\n",
       "    </tr>\n",
       "    <tr>\n",
       "      <th>time</th>\n",
       "      <th></th>\n",
       "      <th></th>\n",
       "      <th></th>\n",
       "      <th></th>\n",
       "    </tr>\n",
       "  </thead>\n",
       "  <tbody>\n",
       "    <tr>\n",
       "      <th>1995-01-16</th>\n",
       "      <td>2059.0</td>\n",
       "      <td>5.857736e+11</td>\n",
       "      <td>NaN</td>\n",
       "      <td>NaN</td>\n",
       "    </tr>\n",
       "    <tr>\n",
       "      <th>1995-01-23</th>\n",
       "      <td>1983.0</td>\n",
       "      <td>5.890383e+11</td>\n",
       "      <td>3.264685e+09</td>\n",
       "      <td>0.005542</td>\n",
       "    </tr>\n",
       "    <tr>\n",
       "      <th>1995-01-30</th>\n",
       "      <td>1959.0</td>\n",
       "      <td>5.923030e+11</td>\n",
       "      <td>3.264685e+09</td>\n",
       "      <td>0.005512</td>\n",
       "    </tr>\n",
       "    <tr>\n",
       "      <th>1995-02-06</th>\n",
       "      <td>1980.0</td>\n",
       "      <td>5.955677e+11</td>\n",
       "      <td>3.264685e+09</td>\n",
       "      <td>0.005482</td>\n",
       "    </tr>\n",
       "    <tr>\n",
       "      <th>1995-02-13</th>\n",
       "      <td>1992.0</td>\n",
       "      <td>5.988324e+11</td>\n",
       "      <td>3.264685e+09</td>\n",
       "      <td>0.005452</td>\n",
       "    </tr>\n",
       "  </tbody>\n",
       "</table>\n",
       "</div>"
      ],
      "text/plain": [
       "             close          cgdp          diff  cgdp_growth\n",
       "time                                                       \n",
       "1995-01-16  2059.0  5.857736e+11           NaN          NaN\n",
       "1995-01-23  1983.0  5.890383e+11  3.264685e+09     0.005542\n",
       "1995-01-30  1959.0  5.923030e+11  3.264685e+09     0.005512\n",
       "1995-02-06  1980.0  5.955677e+11  3.264685e+09     0.005482\n",
       "1995-02-13  1992.0  5.988324e+11  3.264685e+09     0.005452"
      ]
     },
     "execution_count": 396,
     "metadata": {},
     "output_type": "execute_result"
    }
   ],
   "source": [
    "combined_df.head()"
   ]
  },
  {
   "cell_type": "code",
   "execution_count": 397,
   "id": "b9ea2b50",
   "metadata": {
    "collapsed": true
   },
   "outputs": [
    {
     "name": "stdout",
     "output_type": "stream",
     "text": [
      "<class 'pandas.core.frame.DataFrame'>\n",
      "DatetimeIndex: 1392 entries, 1995-01-16 to 2021-11-29\n",
      "Data columns (total 4 columns):\n",
      " #   Column       Non-Null Count  Dtype  \n",
      "---  ------       --------------  -----  \n",
      " 0   close        1392 non-null   float64\n",
      " 1   cgdp         1392 non-null   float64\n",
      " 2   diff         1391 non-null   float64\n",
      " 3   cgdp_growth  1391 non-null   float64\n",
      "dtypes: float64(4)\n",
      "memory usage: 54.4 KB\n"
     ]
    }
   ],
   "source": [
    "combined_df.info()"
   ]
  },
  {
   "cell_type": "code",
   "execution_count": 400,
   "id": "c23d0479",
   "metadata": {},
   "outputs": [],
   "source": [
    "combined_df.to_csv(\"../raw_data/TradingViewData/CGDP/cleaned_weekly_CGDP.csv\")"
   ]
  }
 ],
 "metadata": {
  "kernelspec": {
   "display_name": "Python 3 (ipykernel)",
   "language": "python",
   "name": "python3"
  },
  "language_info": {
   "codemirror_mode": {
    "name": "ipython",
    "version": 3
   },
   "file_extension": ".py",
   "mimetype": "text/x-python",
   "name": "python",
   "nbconvert_exporter": "python",
   "pygments_lexer": "ipython3",
   "version": "3.8.12"
  },
  "toc": {
   "base_numbering": 1,
   "nav_menu": {},
   "number_sections": true,
   "sideBar": true,
   "skip_h1_title": false,
   "title_cell": "Table of Contents",
   "title_sidebar": "Contents",
   "toc_cell": false,
   "toc_position": {},
   "toc_section_display": true,
   "toc_window_display": false
  }
 },
 "nbformat": 4,
 "nbformat_minor": 5
}
