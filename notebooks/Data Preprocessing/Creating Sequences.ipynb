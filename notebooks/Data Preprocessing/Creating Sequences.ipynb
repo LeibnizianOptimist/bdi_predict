{
 "cells": [
  {
   "cell_type": "markdown",
   "id": "addd42cc",
   "metadata": {},
   "source": [
    "# Creating our Sequences/Data Windows"
   ]
  },
  {
   "cell_type": "markdown",
   "id": "74aec123",
   "metadata": {},
   "source": [
    "## Preapring the dataset"
   ]
  },
  {
   "cell_type": "code",
   "execution_count": 5,
   "id": "2385c02b",
   "metadata": {},
   "outputs": [],
   "source": [
    "import numpy as np\n",
    "import pandas as pd\n",
    "from tensorflow.keras.preprocessing.sequence import TimeseriesGenerator\n",
    "from sklearn.preprocessing import StandardScaler"
   ]
  },
  {
   "cell_type": "code",
   "execution_count": 3,
   "id": "edf777fe",
   "metadata": {},
   "outputs": [],
   "source": [
    "df = pd.read_csv(\"../raw_data/data/merged_data_prescaling.csv\")"
   ]
  },
  {
   "cell_type": "code",
   "execution_count": 4,
   "id": "cb36b49e",
   "metadata": {},
   "outputs": [
    {
     "data": {
      "text/html": [
       "<div>\n",
       "<style scoped>\n",
       "    .dataframe tbody tr th:only-of-type {\n",
       "        vertical-align: middle;\n",
       "    }\n",
       "\n",
       "    .dataframe tbody tr th {\n",
       "        vertical-align: top;\n",
       "    }\n",
       "\n",
       "    .dataframe thead th {\n",
       "        text-align: right;\n",
       "    }\n",
       "</style>\n",
       "<table border=\"1\" class=\"dataframe\">\n",
       "  <thead>\n",
       "    <tr style=\"text-align: right;\">\n",
       "      <th></th>\n",
       "      <th>Unnamed: 0</th>\n",
       "      <th>time</th>\n",
       "      <th>bdi</th>\n",
       "      <th>cgdp</th>\n",
       "      <th>csteel</th>\n",
       "      <th>CIP</th>\n",
       "    </tr>\n",
       "  </thead>\n",
       "  <tbody>\n",
       "    <tr>\n",
       "      <th>0</th>\n",
       "      <td>1</td>\n",
       "      <td>1995-01-23</td>\n",
       "      <td>1983.0</td>\n",
       "      <td>5.890383e+11</td>\n",
       "      <td>7.349355e+06</td>\n",
       "      <td>14.721669</td>\n",
       "    </tr>\n",
       "    <tr>\n",
       "      <th>1</th>\n",
       "      <td>2</td>\n",
       "      <td>1995-01-30</td>\n",
       "      <td>1959.0</td>\n",
       "      <td>5.923030e+11</td>\n",
       "      <td>7.317968e+06</td>\n",
       "      <td>15.351956</td>\n",
       "    </tr>\n",
       "  </tbody>\n",
       "</table>\n",
       "</div>"
      ],
      "text/plain": [
       "   Unnamed: 0        time     bdi          cgdp        csteel        CIP\n",
       "0           1  1995-01-23  1983.0  5.890383e+11  7.349355e+06  14.721669\n",
       "1           2  1995-01-30  1959.0  5.923030e+11  7.317968e+06  15.351956"
      ]
     },
     "execution_count": 4,
     "metadata": {},
     "output_type": "execute_result"
    }
   ],
   "source": [
    "df.head(2)"
   ]
  },
  {
   "cell_type": "code",
   "execution_count": 6,
   "id": "4b4f14f0",
   "metadata": {},
   "outputs": [],
   "source": [
    "df.set_index(\"time\", inplace=True)"
   ]
  },
  {
   "cell_type": "code",
   "execution_count": 8,
   "id": "e1faf799",
   "metadata": {},
   "outputs": [],
   "source": [
    "df.drop(columns=\"Unnamed: 0\", inplace=True)"
   ]
  },
  {
   "cell_type": "code",
   "execution_count": 53,
   "id": "781f3ffe",
   "metadata": {},
   "outputs": [
    {
     "data": {
      "text/html": [
       "<div>\n",
       "<style scoped>\n",
       "    .dataframe tbody tr th:only-of-type {\n",
       "        vertical-align: middle;\n",
       "    }\n",
       "\n",
       "    .dataframe tbody tr th {\n",
       "        vertical-align: top;\n",
       "    }\n",
       "\n",
       "    .dataframe thead th {\n",
       "        text-align: right;\n",
       "    }\n",
       "</style>\n",
       "<table border=\"1\" class=\"dataframe\">\n",
       "  <thead>\n",
       "    <tr style=\"text-align: right;\">\n",
       "      <th></th>\n",
       "      <th>bdi</th>\n",
       "      <th>cgdp</th>\n",
       "      <th>csteel</th>\n",
       "      <th>CIP</th>\n",
       "    </tr>\n",
       "    <tr>\n",
       "      <th>time</th>\n",
       "      <th></th>\n",
       "      <th></th>\n",
       "      <th></th>\n",
       "      <th></th>\n",
       "    </tr>\n",
       "  </thead>\n",
       "  <tbody>\n",
       "    <tr>\n",
       "      <th>1995-01-23</th>\n",
       "      <td>1983.0</td>\n",
       "      <td>5.890383e+11</td>\n",
       "      <td>7.349355e+06</td>\n",
       "      <td>14.721669</td>\n",
       "    </tr>\n",
       "    <tr>\n",
       "      <th>1995-01-30</th>\n",
       "      <td>1959.0</td>\n",
       "      <td>5.923030e+11</td>\n",
       "      <td>7.317968e+06</td>\n",
       "      <td>15.351956</td>\n",
       "    </tr>\n",
       "    <tr>\n",
       "      <th>1995-02-06</th>\n",
       "      <td>1980.0</td>\n",
       "      <td>5.955677e+11</td>\n",
       "      <td>7.418464e+06</td>\n",
       "      <td>15.812899</td>\n",
       "    </tr>\n",
       "    <tr>\n",
       "      <th>1995-02-13</th>\n",
       "      <td>1992.0</td>\n",
       "      <td>5.988324e+11</td>\n",
       "      <td>7.571714e+06</td>\n",
       "      <td>16.125851</td>\n",
       "    </tr>\n",
       "    <tr>\n",
       "      <th>1995-02-20</th>\n",
       "      <td>2027.0</td>\n",
       "      <td>6.020971e+11</td>\n",
       "      <td>7.724964e+06</td>\n",
       "      <td>16.312167</td>\n",
       "    </tr>\n",
       "    <tr>\n",
       "      <th>1995-02-27</th>\n",
       "      <td>2066.0</td>\n",
       "      <td>6.053618e+11</td>\n",
       "      <td>7.878214e+06</td>\n",
       "      <td>16.393198</td>\n",
       "    </tr>\n",
       "    <tr>\n",
       "      <th>1995-03-06</th>\n",
       "      <td>2176.0</td>\n",
       "      <td>6.086264e+11</td>\n",
       "      <td>7.978774e+06</td>\n",
       "      <td>16.387777</td>\n",
       "    </tr>\n",
       "    <tr>\n",
       "      <th>1995-03-13</th>\n",
       "      <td>2266.0</td>\n",
       "      <td>6.118911e+11</td>\n",
       "      <td>8.058258e+06</td>\n",
       "      <td>16.289972</td>\n",
       "    </tr>\n",
       "    <tr>\n",
       "      <th>1995-03-20</th>\n",
       "      <td>2289.0</td>\n",
       "      <td>6.151558e+11</td>\n",
       "      <td>8.137742e+06</td>\n",
       "      <td>16.079792</td>\n",
       "    </tr>\n",
       "    <tr>\n",
       "      <th>1995-03-27</th>\n",
       "      <td>2209.0</td>\n",
       "      <td>6.184205e+11</td>\n",
       "      <td>8.217226e+06</td>\n",
       "      <td>15.737088</td>\n",
       "    </tr>\n",
       "    <tr>\n",
       "      <th>1995-04-03</th>\n",
       "      <td>2205.0</td>\n",
       "      <td>6.216852e+11</td>\n",
       "      <td>8.269333e+06</td>\n",
       "      <td>15.242233</td>\n",
       "    </tr>\n",
       "    <tr>\n",
       "      <th>1995-04-10</th>\n",
       "      <td>2247.0</td>\n",
       "      <td>6.249499e+11</td>\n",
       "      <td>8.253000e+06</td>\n",
       "      <td>14.621283</td>\n",
       "    </tr>\n",
       "    <tr>\n",
       "      <th>1995-04-17</th>\n",
       "      <td>2299.0</td>\n",
       "      <td>6.282145e+11</td>\n",
       "      <td>8.236667e+06</td>\n",
       "      <td>13.980773</td>\n",
       "    </tr>\n",
       "    <tr>\n",
       "      <th>1995-04-24</th>\n",
       "      <td>2347.0</td>\n",
       "      <td>6.314792e+11</td>\n",
       "      <td>8.220333e+06</td>\n",
       "      <td>13.435436</td>\n",
       "    </tr>\n",
       "    <tr>\n",
       "      <th>1995-05-01</th>\n",
       "      <td>2343.0</td>\n",
       "      <td>6.347439e+11</td>\n",
       "      <td>8.204000e+06</td>\n",
       "      <td>13.100000</td>\n",
       "    </tr>\n",
       "    <tr>\n",
       "      <th>1995-05-08</th>\n",
       "      <td>2299.0</td>\n",
       "      <td>6.380086e+11</td>\n",
       "      <td>8.113903e+06</td>\n",
       "      <td>13.052435</td>\n",
       "    </tr>\n",
       "    <tr>\n",
       "      <th>1995-05-15</th>\n",
       "      <td>2208.0</td>\n",
       "      <td>6.412733e+11</td>\n",
       "      <td>8.023806e+06</td>\n",
       "      <td>13.223668</td>\n",
       "    </tr>\n",
       "    <tr>\n",
       "      <th>1995-05-22</th>\n",
       "      <td>2129.0</td>\n",
       "      <td>6.445380e+11</td>\n",
       "      <td>7.933710e+06</td>\n",
       "      <td>13.507864</td>\n",
       "    </tr>\n",
       "    <tr>\n",
       "      <th>1995-05-29</th>\n",
       "      <td>2055.0</td>\n",
       "      <td>6.478027e+11</td>\n",
       "      <td>7.843613e+06</td>\n",
       "      <td>13.799190</td>\n",
       "    </tr>\n",
       "    <tr>\n",
       "      <th>1995-06-05</th>\n",
       "      <td>1995.0</td>\n",
       "      <td>6.510673e+11</td>\n",
       "      <td>7.783933e+06</td>\n",
       "      <td>13.995420</td>\n",
       "    </tr>\n",
       "  </tbody>\n",
       "</table>\n",
       "</div>"
      ],
      "text/plain": [
       "               bdi          cgdp        csteel        CIP\n",
       "time                                                     \n",
       "1995-01-23  1983.0  5.890383e+11  7.349355e+06  14.721669\n",
       "1995-01-30  1959.0  5.923030e+11  7.317968e+06  15.351956\n",
       "1995-02-06  1980.0  5.955677e+11  7.418464e+06  15.812899\n",
       "1995-02-13  1992.0  5.988324e+11  7.571714e+06  16.125851\n",
       "1995-02-20  2027.0  6.020971e+11  7.724964e+06  16.312167\n",
       "1995-02-27  2066.0  6.053618e+11  7.878214e+06  16.393198\n",
       "1995-03-06  2176.0  6.086264e+11  7.978774e+06  16.387777\n",
       "1995-03-13  2266.0  6.118911e+11  8.058258e+06  16.289972\n",
       "1995-03-20  2289.0  6.151558e+11  8.137742e+06  16.079792\n",
       "1995-03-27  2209.0  6.184205e+11  8.217226e+06  15.737088\n",
       "1995-04-03  2205.0  6.216852e+11  8.269333e+06  15.242233\n",
       "1995-04-10  2247.0  6.249499e+11  8.253000e+06  14.621283\n",
       "1995-04-17  2299.0  6.282145e+11  8.236667e+06  13.980773\n",
       "1995-04-24  2347.0  6.314792e+11  8.220333e+06  13.435436\n",
       "1995-05-01  2343.0  6.347439e+11  8.204000e+06  13.100000\n",
       "1995-05-08  2299.0  6.380086e+11  8.113903e+06  13.052435\n",
       "1995-05-15  2208.0  6.412733e+11  8.023806e+06  13.223668\n",
       "1995-05-22  2129.0  6.445380e+11  7.933710e+06  13.507864\n",
       "1995-05-29  2055.0  6.478027e+11  7.843613e+06  13.799190\n",
       "1995-06-05  1995.0  6.510673e+11  7.783933e+06  13.995420"
      ]
     },
     "execution_count": 53,
     "metadata": {},
     "output_type": "execute_result"
    }
   ],
   "source": [
    "df.head(20)"
   ]
  },
  {
   "cell_type": "markdown",
   "id": "a5f10a4b",
   "metadata": {},
   "source": [
    "## TimeseriesGenerator"
   ]
  },
  {
   "cell_type": "code",
   "execution_count": 25,
   "id": "fc007355",
   "metadata": {},
   "outputs": [],
   "source": [
    "X = df\n",
    "y = df[\"bdi\"]"
   ]
  },
  {
   "cell_type": "code",
   "execution_count": 46,
   "id": "18dc2d81",
   "metadata": {},
   "outputs": [
    {
     "data": {
      "text/plain": [
       "(1391, 4)"
      ]
     },
     "execution_count": 46,
     "metadata": {},
     "output_type": "execute_result"
    }
   ],
   "source": [
    "X.shape"
   ]
  },
  {
   "cell_type": "code",
   "execution_count": 47,
   "id": "c94beb53",
   "metadata": {},
   "outputs": [
    {
     "data": {
      "text/plain": [
       "(1391,)"
      ]
     },
     "execution_count": 47,
     "metadata": {},
     "output_type": "execute_result"
    }
   ],
   "source": [
    "y.shape"
   ]
  },
  {
   "cell_type": "code",
   "execution_count": 28,
   "id": "cb855e1d",
   "metadata": {},
   "outputs": [],
   "source": [
    "#Question: since past values of the BDI are also features that can be used to predict future values of the bdi,\n",
    "#should I preserve the bdi values? "
   ]
  },
  {
   "cell_type": "code",
   "execution_count": 48,
   "id": "508643a3",
   "metadata": {},
   "outputs": [],
   "source": [
    "data_gen = TimeseriesGenerator(data=X, targets=y, length=8, sampling_rate=1, stride=1)"
   ]
  },
  {
   "cell_type": "code",
   "execution_count": 52,
   "id": "556a4c93",
   "metadata": {},
   "outputs": [
    {
     "name": "stdout",
     "output_type": "stream",
     "text": [
      "(128, 8, 4) (128,)\n",
      "[[1.98300000e+03 5.89038329e+11 7.34935484e+06 1.47216694e+01]\n",
      " [1.95900000e+03 5.92303014e+11 7.31796774e+06 1.53519559e+01]\n",
      " [1.98000000e+03 5.95567699e+11 7.41846429e+06 1.58128989e+01]\n",
      " [1.99200000e+03 5.98832384e+11 7.57171429e+06 1.61258515e+01]\n",
      " [2.02700000e+03 6.02097068e+11 7.72496429e+06 1.63121668e+01]\n",
      " [2.06600000e+03 6.05361753e+11 7.87821429e+06 1.63931980e+01]\n",
      " [2.17600000e+03 6.08626438e+11 7.97877419e+06 1.63877772e+01]\n",
      " [2.26600000e+03 6.11891123e+11 8.05825806e+06 1.62899717e+01]] 2289.0\n"
     ]
    }
   ],
   "source": [
    "for X, y in data_gen:\n",
    "    print(X.shape, y.shape)\n",
    "    print(X[0], y[0])\n",
    "    break "
   ]
  }
 ],
 "metadata": {
  "kernelspec": {
   "display_name": "Python 3.8.12 64-bit ('lewagon')",
   "language": "python",
   "name": "python3"
  },
  "language_info": {
   "codemirror_mode": {
    "name": "ipython",
    "version": 3
   },
   "file_extension": ".py",
   "mimetype": "text/x-python",
   "name": "python",
   "nbconvert_exporter": "python",
   "pygments_lexer": "ipython3",
   "version": "3.8.12"
  },
  "toc": {
   "base_numbering": 1,
   "nav_menu": {},
   "number_sections": true,
   "sideBar": true,
   "skip_h1_title": false,
   "title_cell": "Table of Contents",
   "title_sidebar": "Contents",
   "toc_cell": false,
   "toc_position": {},
   "toc_section_display": true,
   "toc_window_display": false
  },
  "vscode": {
   "interpreter": {
    "hash": "39ac2dff602a1a33893e2fdf00cef751d01c0715ea04523f8948142cabfa73b2"
   }
  }
 },
 "nbformat": 4,
 "nbformat_minor": 5
}
