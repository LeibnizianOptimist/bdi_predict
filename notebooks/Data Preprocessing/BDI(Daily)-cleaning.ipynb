{
 "cells": [
  {
   "cell_type": "code",
   "execution_count": 35,
   "metadata": {},
   "outputs": [],
   "source": [
    "import pandas as pd\n",
    "from datetime import datetime as dt"
   ]
  },
  {
   "cell_type": "code",
   "execution_count": 36,
   "metadata": {},
   "outputs": [],
   "source": [
    "# load data from investing.com\n",
    "df = pd.read_csv(\"../raw_data/BDI/DAILY Baltic Dry Index Historical Data.csv\")"
   ]
  },
  {
   "cell_type": "code",
   "execution_count": 37,
   "metadata": {},
   "outputs": [],
   "source": [
    "# change data type of price string to float\n",
    "df[\"Price\"] = df[\"Price\"].str.replace(',', '')\n",
    "df[\"Price\"] = df[\"Price\"].astype(\"float\")\n",
    "\n",
    "df[\"Open\"] = df[\"Open\"].str.replace(',', '')\n",
    "df[\"Open\"] = df[\"Open\"].astype(\"float\")\n",
    "\n",
    "df[\"High\"] = df[\"High\"].str.replace(',', '')\n",
    "df[\"High\"] = df[\"High\"].astype(\"float\")\n",
    "\n",
    "df[\"Low\"] = df[\"Low\"].str.replace(',', '')\n",
    "df[\"Low\"] = df[\"Low\"].astype(\"float\")"
   ]
  },
  {
   "cell_type": "code",
   "execution_count": 38,
   "metadata": {},
   "outputs": [],
   "source": [
    "# change data type of Date string to float\n",
    "df[\"Date\"] = pd.to_datetime(df[\"Date\"])"
   ]
  },
  {
   "cell_type": "code",
   "execution_count": 39,
   "metadata": {},
   "outputs": [],
   "source": [
    "# Reorder by Date\n",
    "df = df.sort_values(by='Date',ascending=True)"
   ]
  },
  {
   "cell_type": "code",
   "execution_count": 40,
   "metadata": {},
   "outputs": [],
   "source": [
    "daily_BDI = df[[\"Date\", \"Price\"]]"
   ]
  },
  {
   "cell_type": "code",
   "execution_count": 41,
   "metadata": {},
   "outputs": [],
   "source": [
    "daily_BDI = daily_BDI.set_index(\"Date\")"
   ]
  },
  {
   "cell_type": "code",
   "execution_count": 49,
   "metadata": {},
   "outputs": [
    {
     "data": {
      "text/plain": [
       "Timestamp('1995-01-03 00:00:00')"
      ]
     },
     "execution_count": 49,
     "metadata": {},
     "output_type": "execute_result"
    }
   ],
   "source": [
    "daily_BDI.index[0]"
   ]
  },
  {
   "cell_type": "code",
   "execution_count": 42,
   "metadata": {},
   "outputs": [],
   "source": [
    "daily_BDI.to_csv(\"cleaned_daily_BDI.csv\")"
   ]
  },
  {
   "cell_type": "code",
   "execution_count": null,
   "metadata": {},
   "outputs": [],
   "source": []
  }
 ],
 "metadata": {
  "kernelspec": {
   "display_name": "Python 3.8.12 64-bit ('bdi_predict')",
   "language": "python",
   "name": "python3"
  },
  "language_info": {
   "codemirror_mode": {
    "name": "ipython",
    "version": 3
   },
   "file_extension": ".py",
   "mimetype": "text/x-python",
   "name": "python",
   "nbconvert_exporter": "python",
   "pygments_lexer": "ipython3",
   "version": "3.8.12"
  },
  "orig_nbformat": 4,
  "vscode": {
   "interpreter": {
    "hash": "2d0dd70c1aec795c9534139300905a421d51f4b5c4dc61f166cce60a805e67cf"
   }
  }
 },
 "nbformat": 4,
 "nbformat_minor": 2
}
