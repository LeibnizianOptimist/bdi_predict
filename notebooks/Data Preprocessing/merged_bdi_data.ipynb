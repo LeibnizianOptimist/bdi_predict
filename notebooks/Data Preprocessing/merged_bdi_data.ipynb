{
 "cells": [
  {
   "cell_type": "code",
   "execution_count": 1,
   "metadata": {},
   "outputs": [],
   "source": [
    "import pandas as pd"
   ]
  },
  {
   "cell_type": "code",
   "execution_count": 2,
   "metadata": {},
   "outputs": [],
   "source": [
    "cleaned_daily_BDI_df = pd.read_csv(\"../raw_data/clean_data/interpolated_daily_BDI.csv\")\n",
    "cleaned_weekly_CIP_df = pd.read_csv(\"../raw_data/clean_data/cleaned_weekly_CIP.csv\")\n",
    "Cleaned_El_Nino_df = pd.read_csv(\"../raw_data/clean_data/Cleaned_El_Nino.csv\")\n",
    "cleaned_ocean_land_temp_df = pd.read_csv(\"../raw_data/clean_data/cleaned_ocean_land_temp.csv\")\n",
    "cleaned_weekly_CSTEEL_df = pd.read_csv(\"../raw_data/clean_data/cleaned_weekly_CSTEEL.csv\")"
   ]
  },
  {
   "cell_type": "code",
   "execution_count": 3,
   "metadata": {},
   "outputs": [
    {
     "name": "stderr",
     "output_type": "stream",
     "text": [
      "/tmp/ipykernel_9127/3172855226.py:1: UserWarning: Parsing dates in DD/MM/YYYY format when dayfirst=False (the default) was specified. This may lead to inconsistently parsed dates! Specify a format to ensure consistent parsing.\n",
      "  days = pd.date_range(start='01/01/1995', end='14/11/2022', freq='D')\n"
     ]
    }
   ],
   "source": [
    "days = pd.date_range(start='01/01/1995', end='14/11/2022', freq='D')\n",
    "days = days.to_frame(index=False, name='Date')"
   ]
  },
  {
   "cell_type": "code",
   "execution_count": 4,
   "metadata": {},
   "outputs": [],
   "source": [
    "days[\"Date\"] = pd.to_datetime(days[\"Date\"], format=\"%Y-%m-%d\")\n",
    "days[\"week\"] = days[\"Date\"].dt.weekday"
   ]
  },
  {
   "cell_type": "code",
   "execution_count": 5,
   "metadata": {},
   "outputs": [],
   "source": [
    "# remove saturday and sunday\n",
    "days = days[days[\"week\"] != 5]\n",
    "days = days[days[\"week\"] != 6]"
   ]
  },
  {
   "cell_type": "markdown",
   "metadata": {},
   "source": []
  },
  {
   "cell_type": "code",
   "execution_count": 6,
   "metadata": {},
   "outputs": [],
   "source": [
    "cleaned_weekly_CSTEEL_df = cleaned_weekly_CSTEEL_df.drop(\"close\", axis=1)\n",
    "cleaned_weekly_CSTEEL_df = cleaned_weekly_CSTEEL_df.rename(columns={'time': 'Date', 'csteel': 'CSTEEL_price'})\n",
    "cleaned_weekly_CSTEEL_df[\"Date\"] = pd.to_datetime(cleaned_weekly_CSTEEL_df[\"Date\"], format=\"%Y-%m-%d\")"
   ]
  },
  {
   "cell_type": "code",
   "execution_count": 7,
   "metadata": {},
   "outputs": [],
   "source": [
    "data_df = pd.merge(days ,cleaned_weekly_CSTEEL_df, on='Date', how='outer', indicator=True)"
   ]
  },
  {
   "cell_type": "code",
   "execution_count": 8,
   "metadata": {},
   "outputs": [],
   "source": [
    "data_df[\"CSTEEL_price\"] = data_df[\"CSTEEL_price\"].interpolate(method=\"linear\", limit_direction='both', axis=0)"
   ]
  },
  {
   "cell_type": "code",
   "execution_count": 9,
   "metadata": {},
   "outputs": [],
   "source": [
    "Cleaned_El_Nino_df = Cleaned_El_Nino_df.rename(columns={'time': 'Date', 'Temperature': 'El_Nino_Temperature'})\n",
    "Cleaned_El_Nino_df[\"Date\"] = pd.to_datetime(Cleaned_El_Nino_df[\"Date\"], format=\"%Y-%m-%d\")\n",
    "data_df = pd.merge(data_df ,Cleaned_El_Nino_df, on='Date', how='left', indicator='True')"
   ]
  },
  {
   "cell_type": "code",
   "execution_count": 10,
   "metadata": {},
   "outputs": [],
   "source": [
    "cleaned_ocean_land_temp_df = cleaned_ocean_land_temp_df.rename(columns={'time': 'Date'})\n",
    "cleaned_ocean_land_temp_df[\"Date\"] = pd.to_datetime(cleaned_ocean_land_temp_df[\"Date\"], format=\"%Y-%m-%d\")\n",
    "data_df = pd.merge(data_df ,cleaned_ocean_land_temp_df, on='Date', how='left')"
   ]
  },
  {
   "cell_type": "code",
   "execution_count": 11,
   "metadata": {},
   "outputs": [],
   "source": [
    "cleaned_weekly_CIP_df = cleaned_weekly_CIP_df.rename(columns={'time': 'Date'})\n",
    "cleaned_weekly_CIP_df[\"Date\"] = pd.to_datetime(cleaned_weekly_CIP_df[\"Date\"], format=\"%Y-%m-%d\")\n",
    "data_df = pd.merge(data_df ,cleaned_weekly_CIP_df, on='Date', how='left')"
   ]
  },
  {
   "cell_type": "code",
   "execution_count": 12,
   "metadata": {},
   "outputs": [],
   "source": [
    "cleaned_daily_BDI_df = cleaned_daily_BDI_df.rename(columns={'Price': 'BDI_Price'})\n",
    "cleaned_daily_BDI_df[\"Date\"] = pd.to_datetime(cleaned_daily_BDI_df[\"Date\"], format=\"%Y-%m-%d\")\n",
    "\n",
    "data_df = pd.merge(data_df, cleaned_daily_BDI_df, on='Date', how='left')"
   ]
  },
  {
   "cell_type": "code",
   "execution_count": 13,
   "metadata": {},
   "outputs": [],
   "source": [
    "data_df = data_df.set_index(\"Date\")"
   ]
  },
  {
   "cell_type": "code",
   "execution_count": 14,
   "metadata": {},
   "outputs": [],
   "source": [
    "data_df = data_df[[\"BDI_Price\", \"CSTEEL_price\", \"El_Nino_Temperature\", \"Land Temperature\", \"Ocean Temperature\", \"CIP\"]]"
   ]
  },
  {
   "cell_type": "code",
   "execution_count": 15,
   "metadata": {},
   "outputs": [],
   "source": [
    "data_df[\"BDI_Price\"] = data_df[\"BDI_Price\"].interpolate(method=\"linear\", limit_direction='both', axis=0)\n",
    "data_df[\"El_Nino_Temperature\"] = data_df[\"El_Nino_Temperature\"].interpolate(method=\"linear\", limit_direction='both', axis=0)\n",
    "data_df[\"Land Temperature\"] = data_df[\"Land Temperature\"].interpolate(method=\"linear\", limit_direction='both', axis=0)\n",
    "data_df[\"Ocean Temperature\"] = data_df[\"Ocean Temperature\"].interpolate(method=\"linear\", limit_direction='both', axis=0)\n",
    "data_df[\"CIP\"] = data_df[\"CIP\"].interpolate(method=\"linear\", limit_direction='both', axis=0)"
   ]
  },
  {
   "cell_type": "code",
   "execution_count": 16,
   "metadata": {},
   "outputs": [
    {
     "data": {
      "text/html": [
       "<div>\n",
       "<style scoped>\n",
       "    .dataframe tbody tr th:only-of-type {\n",
       "        vertical-align: middle;\n",
       "    }\n",
       "\n",
       "    .dataframe tbody tr th {\n",
       "        vertical-align: top;\n",
       "    }\n",
       "\n",
       "    .dataframe thead th {\n",
       "        text-align: right;\n",
       "    }\n",
       "</style>\n",
       "<table border=\"1\" class=\"dataframe\">\n",
       "  <thead>\n",
       "    <tr style=\"text-align: right;\">\n",
       "      <th></th>\n",
       "      <th>BDI_Price</th>\n",
       "      <th>CSTEEL_price</th>\n",
       "      <th>El_Nino_Temperature</th>\n",
       "      <th>Land Temperature</th>\n",
       "      <th>Ocean Temperature</th>\n",
       "      <th>CIP</th>\n",
       "    </tr>\n",
       "    <tr>\n",
       "      <th>Date</th>\n",
       "      <th></th>\n",
       "      <th></th>\n",
       "      <th></th>\n",
       "      <th></th>\n",
       "      <th></th>\n",
       "      <th></th>\n",
       "    </tr>\n",
       "  </thead>\n",
       "  <tbody>\n",
       "    <tr>\n",
       "      <th>1995-01-02</th>\n",
       "      <td>1964.0</td>\n",
       "      <td>7.380742e+06</td>\n",
       "      <td>0.770663</td>\n",
       "      <td>1.111744</td>\n",
       "      <td>0.384063</td>\n",
       "      <td>11.601218</td>\n",
       "    </tr>\n",
       "    <tr>\n",
       "      <th>1995-01-03</th>\n",
       "      <td>1964.0</td>\n",
       "      <td>7.380742e+06</td>\n",
       "      <td>0.770372</td>\n",
       "      <td>1.178854</td>\n",
       "      <td>0.387851</td>\n",
       "      <td>11.797236</td>\n",
       "    </tr>\n",
       "    <tr>\n",
       "      <th>1995-01-04</th>\n",
       "      <td>1961.0</td>\n",
       "      <td>7.380742e+06</td>\n",
       "      <td>0.769156</td>\n",
       "      <td>1.241437</td>\n",
       "      <td>0.391371</td>\n",
       "      <td>11.988118</td>\n",
       "    </tr>\n",
       "    <tr>\n",
       "      <th>1995-01-05</th>\n",
       "      <td>1967.0</td>\n",
       "      <td>7.380742e+06</td>\n",
       "      <td>0.767044</td>\n",
       "      <td>1.299601</td>\n",
       "      <td>0.394630</td>\n",
       "      <td>12.173925</td>\n",
       "    </tr>\n",
       "    <tr>\n",
       "      <th>1995-01-06</th>\n",
       "      <td>1983.0</td>\n",
       "      <td>7.380742e+06</td>\n",
       "      <td>0.764067</td>\n",
       "      <td>1.353453</td>\n",
       "      <td>0.397635</td>\n",
       "      <td>12.354720</td>\n",
       "    </tr>\n",
       "    <tr>\n",
       "      <th>1995-01-09</th>\n",
       "      <td>1994.0</td>\n",
       "      <td>7.380742e+06</td>\n",
       "      <td>0.750239</td>\n",
       "      <td>1.490200</td>\n",
       "      <td>0.405201</td>\n",
       "      <td>12.867653</td>\n",
       "    </tr>\n",
       "    <tr>\n",
       "      <th>1995-01-10</th>\n",
       "      <td>2015.0</td>\n",
       "      <td>7.380742e+06</td>\n",
       "      <td>0.744096</td>\n",
       "      <td>1.527870</td>\n",
       "      <td>0.407263</td>\n",
       "      <td>13.029021</td>\n",
       "    </tr>\n",
       "    <tr>\n",
       "      <th>1995-01-11</th>\n",
       "      <td>2019.0</td>\n",
       "      <td>7.380742e+06</td>\n",
       "      <td>0.737236</td>\n",
       "      <td>1.561761</td>\n",
       "      <td>0.409107</td>\n",
       "      <td>13.185688</td>\n",
       "    </tr>\n",
       "    <tr>\n",
       "      <th>1995-01-12</th>\n",
       "      <td>2038.0</td>\n",
       "      <td>7.380742e+06</td>\n",
       "      <td>0.729689</td>\n",
       "      <td>1.591981</td>\n",
       "      <td>0.410740</td>\n",
       "      <td>13.337717</td>\n",
       "    </tr>\n",
       "    <tr>\n",
       "      <th>1995-01-13</th>\n",
       "      <td>2060.0</td>\n",
       "      <td>7.380742e+06</td>\n",
       "      <td>0.721483</td>\n",
       "      <td>1.618636</td>\n",
       "      <td>0.412169</td>\n",
       "      <td>13.485168</td>\n",
       "    </tr>\n",
       "    <tr>\n",
       "      <th>1995-01-16</th>\n",
       "      <td>2067.0</td>\n",
       "      <td>7.380742e+06</td>\n",
       "      <td>0.693214</td>\n",
       "      <td>1.678285</td>\n",
       "      <td>0.415302</td>\n",
       "      <td>13.900686</td>\n",
       "    </tr>\n",
       "    <tr>\n",
       "      <th>1995-01-17</th>\n",
       "      <td>2071.0</td>\n",
       "      <td>7.374465e+06</td>\n",
       "      <td>0.682673</td>\n",
       "      <td>1.691751</td>\n",
       "      <td>0.415986</td>\n",
       "      <td>14.030454</td>\n",
       "    </tr>\n",
       "    <tr>\n",
       "      <th>1995-01-18</th>\n",
       "      <td>2071.0</td>\n",
       "      <td>7.368187e+06</td>\n",
       "      <td>0.671622</td>\n",
       "      <td>1.702188</td>\n",
       "      <td>0.416501</td>\n",
       "      <td>14.155957</td>\n",
       "    </tr>\n",
       "    <tr>\n",
       "      <th>1995-01-19</th>\n",
       "      <td>2070.0</td>\n",
       "      <td>7.361910e+06</td>\n",
       "      <td>0.660091</td>\n",
       "      <td>1.709701</td>\n",
       "      <td>0.416855</td>\n",
       "      <td>14.277256</td>\n",
       "    </tr>\n",
       "    <tr>\n",
       "      <th>1995-01-20</th>\n",
       "      <td>2059.0</td>\n",
       "      <td>7.355632e+06</td>\n",
       "      <td>0.648110</td>\n",
       "      <td>1.714398</td>\n",
       "      <td>0.417055</td>\n",
       "      <td>14.394415</td>\n",
       "    </tr>\n",
       "    <tr>\n",
       "      <th>1995-01-23</th>\n",
       "      <td>2044.0</td>\n",
       "      <td>7.349355e+06</td>\n",
       "      <td>0.609761</td>\n",
       "      <td>1.712660</td>\n",
       "      <td>0.416799</td>\n",
       "      <td>14.721669</td>\n",
       "    </tr>\n",
       "    <tr>\n",
       "      <th>1995-01-24</th>\n",
       "      <td>2032.0</td>\n",
       "      <td>7.343077e+06</td>\n",
       "      <td>0.596275</td>\n",
       "      <td>1.707161</td>\n",
       "      <td>0.416453</td>\n",
       "      <td>14.822888</td>\n",
       "    </tr>\n",
       "    <tr>\n",
       "      <th>1995-01-25</th>\n",
       "      <td>2018.0</td>\n",
       "      <td>7.336800e+06</td>\n",
       "      <td>0.582486</td>\n",
       "      <td>1.699380</td>\n",
       "      <td>0.415987</td>\n",
       "      <td>14.920276</td>\n",
       "    </tr>\n",
       "    <tr>\n",
       "      <th>1995-01-26</th>\n",
       "      <td>1996.0</td>\n",
       "      <td>7.330523e+06</td>\n",
       "      <td>0.568425</td>\n",
       "      <td>1.689424</td>\n",
       "      <td>0.415410</td>\n",
       "      <td>15.013898</td>\n",
       "    </tr>\n",
       "    <tr>\n",
       "      <th>1995-01-27</th>\n",
       "      <td>1983.0</td>\n",
       "      <td>7.324245e+06</td>\n",
       "      <td>0.554122</td>\n",
       "      <td>1.677400</td>\n",
       "      <td>0.414729</td>\n",
       "      <td>15.103814</td>\n",
       "    </tr>\n",
       "  </tbody>\n",
       "</table>\n",
       "</div>"
      ],
      "text/plain": [
       "            BDI_Price  CSTEEL_price  El_Nino_Temperature  Land Temperature  \\\n",
       "Date                                                                         \n",
       "1995-01-02     1964.0  7.380742e+06             0.770663          1.111744   \n",
       "1995-01-03     1964.0  7.380742e+06             0.770372          1.178854   \n",
       "1995-01-04     1961.0  7.380742e+06             0.769156          1.241437   \n",
       "1995-01-05     1967.0  7.380742e+06             0.767044          1.299601   \n",
       "1995-01-06     1983.0  7.380742e+06             0.764067          1.353453   \n",
       "1995-01-09     1994.0  7.380742e+06             0.750239          1.490200   \n",
       "1995-01-10     2015.0  7.380742e+06             0.744096          1.527870   \n",
       "1995-01-11     2019.0  7.380742e+06             0.737236          1.561761   \n",
       "1995-01-12     2038.0  7.380742e+06             0.729689          1.591981   \n",
       "1995-01-13     2060.0  7.380742e+06             0.721483          1.618636   \n",
       "1995-01-16     2067.0  7.380742e+06             0.693214          1.678285   \n",
       "1995-01-17     2071.0  7.374465e+06             0.682673          1.691751   \n",
       "1995-01-18     2071.0  7.368187e+06             0.671622          1.702188   \n",
       "1995-01-19     2070.0  7.361910e+06             0.660091          1.709701   \n",
       "1995-01-20     2059.0  7.355632e+06             0.648110          1.714398   \n",
       "1995-01-23     2044.0  7.349355e+06             0.609761          1.712660   \n",
       "1995-01-24     2032.0  7.343077e+06             0.596275          1.707161   \n",
       "1995-01-25     2018.0  7.336800e+06             0.582486          1.699380   \n",
       "1995-01-26     1996.0  7.330523e+06             0.568425          1.689424   \n",
       "1995-01-27     1983.0  7.324245e+06             0.554122          1.677400   \n",
       "\n",
       "            Ocean Temperature        CIP  \n",
       "Date                                      \n",
       "1995-01-02           0.384063  11.601218  \n",
       "1995-01-03           0.387851  11.797236  \n",
       "1995-01-04           0.391371  11.988118  \n",
       "1995-01-05           0.394630  12.173925  \n",
       "1995-01-06           0.397635  12.354720  \n",
       "1995-01-09           0.405201  12.867653  \n",
       "1995-01-10           0.407263  13.029021  \n",
       "1995-01-11           0.409107  13.185688  \n",
       "1995-01-12           0.410740  13.337717  \n",
       "1995-01-13           0.412169  13.485168  \n",
       "1995-01-16           0.415302  13.900686  \n",
       "1995-01-17           0.415986  14.030454  \n",
       "1995-01-18           0.416501  14.155957  \n",
       "1995-01-19           0.416855  14.277256  \n",
       "1995-01-20           0.417055  14.394415  \n",
       "1995-01-23           0.416799  14.721669  \n",
       "1995-01-24           0.416453  14.822888  \n",
       "1995-01-25           0.415987  14.920276  \n",
       "1995-01-26           0.415410  15.013898  \n",
       "1995-01-27           0.414729  15.103814  "
      ]
     },
     "execution_count": 16,
     "metadata": {},
     "output_type": "execute_result"
    }
   ],
   "source": [
    "data_df.head(20)"
   ]
  },
  {
   "cell_type": "code",
   "execution_count": 17,
   "metadata": {},
   "outputs": [],
   "source": [
    "data_df.to_csv(\"merged_daily_data.csv\")"
   ]
  },
  {
   "cell_type": "code",
   "execution_count": null,
   "metadata": {},
   "outputs": [],
   "source": []
  }
 ],
 "metadata": {
  "kernelspec": {
   "display_name": "Python 3.8.12 64-bit ('taxifare')",
   "language": "python",
   "name": "python3"
  },
  "language_info": {
   "codemirror_mode": {
    "name": "ipython",
    "version": 3
   },
   "file_extension": ".py",
   "mimetype": "text/x-python",
   "name": "python",
   "nbconvert_exporter": "python",
   "pygments_lexer": "ipython3",
   "version": "3.8.12"
  },
  "orig_nbformat": 4,
  "vscode": {
   "interpreter": {
    "hash": "57351f257ac01e983dcedb7c2335315096b8fbf21e13757493a7dea35eb50564"
   }
  }
 },
 "nbformat": 4,
 "nbformat_minor": 2
}
