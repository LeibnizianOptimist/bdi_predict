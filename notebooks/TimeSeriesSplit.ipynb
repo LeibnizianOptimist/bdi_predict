{
 "cells": [
  {
   "cell_type": "code",
   "execution_count": 107,
   "metadata": {},
   "outputs": [],
   "source": [
    "import pandas as pd\n",
    "import pandas as pd\n",
    "from datetime import datetime as dt\n",
    "from sklearn.model_selection import TimeSeriesSplit"
   ]
  },
  {
   "cell_type": "code",
   "execution_count": 115,
   "metadata": {},
   "outputs": [],
   "source": [
    "df = pd.read_csv(\"../raw_data/data/merged_data_prescaling.csv\")\n",
    "folds = TimeSeriesSplit(n_splits=5)\n"
   ]
  },
  {
   "cell_type": "code",
   "execution_count": 116,
   "metadata": {},
   "outputs": [],
   "source": [
    "df = pd.read_csv(\"../raw_data/data/merged_data_prescaling.csv\")\n",
    "folds = TimeSeriesSplit(n_splits=5)\n",
    "train_data = list()\n",
    "test_data = list()"
   ]
  },
  {
   "cell_type": "code",
   "execution_count": 117,
   "metadata": {},
   "outputs": [],
   "source": [
    "for i, (train_index, test_index) in enumerate(folds.split(df)):\n",
    "    train_data.append(df.iloc[train_index])\n",
    "    test_data.append(df.iloc[test_index])"
   ]
  }
 ],
 "metadata": {
  "kernelspec": {
   "display_name": "Python 3.8.12 64-bit ('taxifare')",
   "language": "python",
   "name": "python3"
  },
  "language_info": {
   "codemirror_mode": {
    "name": "ipython",
    "version": 3
   },
   "file_extension": ".py",
   "mimetype": "text/x-python",
   "name": "python",
   "nbconvert_exporter": "python",
   "pygments_lexer": "ipython3",
   "version": "3.8.12"
  },
  "orig_nbformat": 4,
  "vscode": {
   "interpreter": {
    "hash": "57351f257ac01e983dcedb7c2335315096b8fbf21e13757493a7dea35eb50564"
   }
  }
 },
 "nbformat": 4,
 "nbformat_minor": 2
}
