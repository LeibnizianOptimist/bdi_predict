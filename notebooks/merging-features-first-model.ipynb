{
 "cells": [
  {
   "cell_type": "markdown",
   "id": "2842aaf3",
   "metadata": {},
   "source": [
    "# Merging features for the first model"
   ]
  },
  {
   "cell_type": "markdown",
   "id": "b64a4b92",
   "metadata": {},
   "source": [
    "Merging: BDI weekly data with CGDP weekly, CIP weekly, and CSTEEL weekly"
   ]
  },
  {
   "cell_type": "code",
   "execution_count": 40,
   "id": "6824b4d5",
   "metadata": {},
   "outputs": [],
   "source": [
    "import numpy as np\n",
    "import pandas as pd"
   ]
  },
  {
   "cell_type": "code",
   "execution_count": 41,
   "id": "2183f34b",
   "metadata": {},
   "outputs": [],
   "source": [
    "csteel_df = pd.read_csv(\"../raw_data/data/CSTEEL/cleaned_weekly_CSTEEL.csv\")\n",
    "cgdp_df = pd.read_csv(\"../raw_data/data/CGDP/cleaned_weekly_CGDP.csv\")\n",
    "cip_df = pd.read_csv(\"../raw_data/data/CIP/cleaned_weekly_CIP.csv\")"
   ]
  },
  {
   "cell_type": "markdown",
   "id": "2fc6ad58",
   "metadata": {
    "heading_collapsed": true
   },
   "source": [
    "## Initial setup"
   ]
  },
  {
   "cell_type": "code",
   "execution_count": 62,
   "id": "7dfd6018",
   "metadata": {
    "hidden": true
   },
   "outputs": [
    {
     "data": {
      "text/html": [
       "<div>\n",
       "<style scoped>\n",
       "    .dataframe tbody tr th:only-of-type {\n",
       "        vertical-align: middle;\n",
       "    }\n",
       "\n",
       "    .dataframe tbody tr th {\n",
       "        vertical-align: top;\n",
       "    }\n",
       "\n",
       "    .dataframe thead th {\n",
       "        text-align: right;\n",
       "    }\n",
       "</style>\n",
       "<table border=\"1\" class=\"dataframe\">\n",
       "  <thead>\n",
       "    <tr style=\"text-align: right;\">\n",
       "      <th></th>\n",
       "      <th>time</th>\n",
       "      <th>close</th>\n",
       "      <th>csteel</th>\n",
       "    </tr>\n",
       "  </thead>\n",
       "  <tbody>\n",
       "    <tr>\n",
       "      <th>1390</th>\n",
       "      <td>2021-11-22</td>\n",
       "      <td>2767.0</td>\n",
       "      <td>8.113000e+07</td>\n",
       "    </tr>\n",
       "    <tr>\n",
       "      <th>1391</th>\n",
       "      <td>2021-11-29</td>\n",
       "      <td>3171.0</td>\n",
       "      <td>8.507333e+07</td>\n",
       "    </tr>\n",
       "  </tbody>\n",
       "</table>\n",
       "</div>"
      ],
      "text/plain": [
       "            time   close        csteel\n",
       "1390  2021-11-22  2767.0  8.113000e+07\n",
       "1391  2021-11-29  3171.0  8.507333e+07"
      ]
     },
     "execution_count": 62,
     "metadata": {},
     "output_type": "execute_result"
    }
   ],
   "source": [
    "csteel_df.tail(2)"
   ]
  },
  {
   "cell_type": "code",
   "execution_count": 65,
   "id": "3aed00b3",
   "metadata": {
    "hidden": true
   },
   "outputs": [
    {
     "data": {
      "text/html": [
       "<div>\n",
       "<style scoped>\n",
       "    .dataframe tbody tr th:only-of-type {\n",
       "        vertical-align: middle;\n",
       "    }\n",
       "\n",
       "    .dataframe tbody tr th {\n",
       "        vertical-align: top;\n",
       "    }\n",
       "\n",
       "    .dataframe thead th {\n",
       "        text-align: right;\n",
       "    }\n",
       "</style>\n",
       "<table border=\"1\" class=\"dataframe\">\n",
       "  <thead>\n",
       "    <tr style=\"text-align: right;\">\n",
       "      <th></th>\n",
       "      <th>time</th>\n",
       "      <th>close</th>\n",
       "      <th>cgdp</th>\n",
       "      <th>diff</th>\n",
       "      <th>cgdp_growth</th>\n",
       "    </tr>\n",
       "  </thead>\n",
       "  <tbody>\n",
       "    <tr>\n",
       "      <th>1390</th>\n",
       "      <td>2021-11-22</td>\n",
       "      <td>2767.0</td>\n",
       "      <td>1.765894e+13</td>\n",
       "      <td>5.842392e+10</td>\n",
       "      <td>0.003308</td>\n",
       "    </tr>\n",
       "    <tr>\n",
       "      <th>1391</th>\n",
       "      <td>2021-11-29</td>\n",
       "      <td>3171.0</td>\n",
       "      <td>1.771737e+13</td>\n",
       "      <td>5.842392e+10</td>\n",
       "      <td>0.003298</td>\n",
       "    </tr>\n",
       "  </tbody>\n",
       "</table>\n",
       "</div>"
      ],
      "text/plain": [
       "            time   close          cgdp          diff  cgdp_growth\n",
       "1390  2021-11-22  2767.0  1.765894e+13  5.842392e+10     0.003308\n",
       "1391  2021-11-29  3171.0  1.771737e+13  5.842392e+10     0.003298"
      ]
     },
     "execution_count": 65,
     "metadata": {},
     "output_type": "execute_result"
    }
   ],
   "source": [
    "cgdp_df.tail(2)"
   ]
  },
  {
   "cell_type": "code",
   "execution_count": 66,
   "id": "b2eb8562",
   "metadata": {
    "hidden": true
   },
   "outputs": [],
   "source": [
    "cip_df = cip_df[cip_df.index < \"2021-11-30\"]"
   ]
  },
  {
   "cell_type": "code",
   "execution_count": 67,
   "id": "dd872bd6",
   "metadata": {
    "hidden": true
   },
   "outputs": [
    {
     "data": {
      "text/html": [
       "<div>\n",
       "<style scoped>\n",
       "    .dataframe tbody tr th:only-of-type {\n",
       "        vertical-align: middle;\n",
       "    }\n",
       "\n",
       "    .dataframe tbody tr th {\n",
       "        vertical-align: top;\n",
       "    }\n",
       "\n",
       "    .dataframe thead th {\n",
       "        text-align: right;\n",
       "    }\n",
       "</style>\n",
       "<table border=\"1\" class=\"dataframe\">\n",
       "  <thead>\n",
       "    <tr style=\"text-align: right;\">\n",
       "      <th></th>\n",
       "      <th>CIP</th>\n",
       "    </tr>\n",
       "    <tr>\n",
       "      <th>time</th>\n",
       "      <th></th>\n",
       "    </tr>\n",
       "  </thead>\n",
       "  <tbody>\n",
       "    <tr>\n",
       "      <th>2021-11-28</th>\n",
       "      <td>4.193864</td>\n",
       "    </tr>\n",
       "    <tr>\n",
       "      <th>2021-11-29</th>\n",
       "      <td>4.227298</td>\n",
       "    </tr>\n",
       "  </tbody>\n",
       "</table>\n",
       "</div>"
      ],
      "text/plain": [
       "                 CIP\n",
       "time                \n",
       "2021-11-28  4.193864\n",
       "2021-11-29  4.227298"
      ]
     },
     "execution_count": 67,
     "metadata": {},
     "output_type": "execute_result"
    }
   ],
   "source": [
    "cip_df.tail(2)"
   ]
  },
  {
   "cell_type": "markdown",
   "id": "025b0e44",
   "metadata": {},
   "source": [
    "## Creating a dataframe of CIP values that only has the CIP values when there is a weekly BDI value:"
   ]
  },
  {
   "cell_type": "code",
   "execution_count": 68,
   "id": "9ef3b782",
   "metadata": {},
   "outputs": [],
   "source": [
    "bdi_df = pd.read_csv(\"../raw_data/data/BDI/cleaned_weekly_BDI.csv\")"
   ]
  },
  {
   "cell_type": "code",
   "execution_count": 69,
   "id": "6ebd88a3",
   "metadata": {},
   "outputs": [
    {
     "data": {
      "text/html": [
       "<div>\n",
       "<style scoped>\n",
       "    .dataframe tbody tr th:only-of-type {\n",
       "        vertical-align: middle;\n",
       "    }\n",
       "\n",
       "    .dataframe tbody tr th {\n",
       "        vertical-align: top;\n",
       "    }\n",
       "\n",
       "    .dataframe thead th {\n",
       "        text-align: right;\n",
       "    }\n",
       "</style>\n",
       "<table border=\"1\" class=\"dataframe\">\n",
       "  <thead>\n",
       "    <tr style=\"text-align: right;\">\n",
       "      <th></th>\n",
       "      <th>time</th>\n",
       "      <th>close</th>\n",
       "    </tr>\n",
       "  </thead>\n",
       "  <tbody>\n",
       "    <tr>\n",
       "      <th>1439</th>\n",
       "      <td>2022-11-07</td>\n",
       "      <td>1355.0</td>\n",
       "    </tr>\n",
       "    <tr>\n",
       "      <th>1440</th>\n",
       "      <td>2022-11-14</td>\n",
       "      <td>1189.0</td>\n",
       "    </tr>\n",
       "  </tbody>\n",
       "</table>\n",
       "</div>"
      ],
      "text/plain": [
       "            time   close\n",
       "1439  2022-11-07  1355.0\n",
       "1440  2022-11-14  1189.0"
      ]
     },
     "execution_count": 69,
     "metadata": {},
     "output_type": "execute_result"
    }
   ],
   "source": [
    "bdi_df.tail(2)"
   ]
  },
  {
   "cell_type": "code",
   "execution_count": 71,
   "id": "e97d788f",
   "metadata": {},
   "outputs": [],
   "source": [
    "bdi_df = bdi_df[bdi_df[\"time\"] < \"2021-11-30\"]"
   ]
  },
  {
   "cell_type": "code",
   "execution_count": 73,
   "id": "466317d7",
   "metadata": {},
   "outputs": [
    {
     "data": {
      "text/html": [
       "<div>\n",
       "<style scoped>\n",
       "    .dataframe tbody tr th:only-of-type {\n",
       "        vertical-align: middle;\n",
       "    }\n",
       "\n",
       "    .dataframe tbody tr th {\n",
       "        vertical-align: top;\n",
       "    }\n",
       "\n",
       "    .dataframe thead th {\n",
       "        text-align: right;\n",
       "    }\n",
       "</style>\n",
       "<table border=\"1\" class=\"dataframe\">\n",
       "  <thead>\n",
       "    <tr style=\"text-align: right;\">\n",
       "      <th></th>\n",
       "      <th>time</th>\n",
       "      <th>close</th>\n",
       "    </tr>\n",
       "  </thead>\n",
       "  <tbody>\n",
       "    <tr>\n",
       "      <th>1390</th>\n",
       "      <td>2021-11-22</td>\n",
       "      <td>2767.0</td>\n",
       "    </tr>\n",
       "    <tr>\n",
       "      <th>1391</th>\n",
       "      <td>2021-11-29</td>\n",
       "      <td>3171.0</td>\n",
       "    </tr>\n",
       "  </tbody>\n",
       "</table>\n",
       "</div>"
      ],
      "text/plain": [
       "            time   close\n",
       "1390  2021-11-22  2767.0\n",
       "1391  2021-11-29  3171.0"
      ]
     },
     "execution_count": 73,
     "metadata": {},
     "output_type": "execute_result"
    }
   ],
   "source": [
    "bdi_df.tail(2)"
   ]
  },
  {
   "cell_type": "code",
   "execution_count": 74,
   "id": "2733d5c1",
   "metadata": {},
   "outputs": [],
   "source": [
    "bdi_df[\"time\"] = pd.to_datetime(bdi_df[\"time\"])"
   ]
  },
  {
   "cell_type": "code",
   "execution_count": 75,
   "id": "91c830a2",
   "metadata": {},
   "outputs": [
    {
     "name": "stdout",
     "output_type": "stream",
     "text": [
      "<class 'pandas.core.frame.DataFrame'>\n",
      "Int64Index: 1392 entries, 0 to 1391\n",
      "Data columns (total 2 columns):\n",
      " #   Column  Non-Null Count  Dtype         \n",
      "---  ------  --------------  -----         \n",
      " 0   time    1392 non-null   datetime64[ns]\n",
      " 1   close   1392 non-null   float64       \n",
      "dtypes: datetime64[ns](1), float64(1)\n",
      "memory usage: 32.6 KB\n"
     ]
    }
   ],
   "source": [
    "bdi_df.info()"
   ]
  },
  {
   "cell_type": "code",
   "execution_count": 76,
   "id": "5f44cb38",
   "metadata": {},
   "outputs": [],
   "source": [
    "bdi_df.set_index(\"time\", inplace=True)"
   ]
  },
  {
   "cell_type": "code",
   "execution_count": 78,
   "id": "55b5f24f",
   "metadata": {},
   "outputs": [
    {
     "data": {
      "text/html": [
       "<div>\n",
       "<style scoped>\n",
       "    .dataframe tbody tr th:only-of-type {\n",
       "        vertical-align: middle;\n",
       "    }\n",
       "\n",
       "    .dataframe tbody tr th {\n",
       "        vertical-align: top;\n",
       "    }\n",
       "\n",
       "    .dataframe thead th {\n",
       "        text-align: right;\n",
       "    }\n",
       "</style>\n",
       "<table border=\"1\" class=\"dataframe\">\n",
       "  <thead>\n",
       "    <tr style=\"text-align: right;\">\n",
       "      <th></th>\n",
       "      <th>close</th>\n",
       "    </tr>\n",
       "    <tr>\n",
       "      <th>time</th>\n",
       "      <th></th>\n",
       "    </tr>\n",
       "  </thead>\n",
       "  <tbody>\n",
       "    <tr>\n",
       "      <th>2021-11-22</th>\n",
       "      <td>2767.0</td>\n",
       "    </tr>\n",
       "    <tr>\n",
       "      <th>2021-11-29</th>\n",
       "      <td>3171.0</td>\n",
       "    </tr>\n",
       "  </tbody>\n",
       "</table>\n",
       "</div>"
      ],
      "text/plain": [
       "             close\n",
       "time              \n",
       "2021-11-22  2767.0\n",
       "2021-11-29  3171.0"
      ]
     },
     "execution_count": 78,
     "metadata": {},
     "output_type": "execute_result"
    }
   ],
   "source": [
    "bdi_df.tail(2)"
   ]
  },
  {
   "cell_type": "code",
   "execution_count": 79,
   "id": "5a7bb324",
   "metadata": {},
   "outputs": [
    {
     "data": {
      "text/html": [
       "<div>\n",
       "<style scoped>\n",
       "    .dataframe tbody tr th:only-of-type {\n",
       "        vertical-align: middle;\n",
       "    }\n",
       "\n",
       "    .dataframe tbody tr th {\n",
       "        vertical-align: top;\n",
       "    }\n",
       "\n",
       "    .dataframe thead th {\n",
       "        text-align: right;\n",
       "    }\n",
       "</style>\n",
       "<table border=\"1\" class=\"dataframe\">\n",
       "  <thead>\n",
       "    <tr style=\"text-align: right;\">\n",
       "      <th></th>\n",
       "      <th>CIP</th>\n",
       "    </tr>\n",
       "    <tr>\n",
       "      <th>time</th>\n",
       "      <th></th>\n",
       "    </tr>\n",
       "  </thead>\n",
       "  <tbody>\n",
       "    <tr>\n",
       "      <th>2021-11-28</th>\n",
       "      <td>4.193864</td>\n",
       "    </tr>\n",
       "    <tr>\n",
       "      <th>2021-11-29</th>\n",
       "      <td>4.227298</td>\n",
       "    </tr>\n",
       "  </tbody>\n",
       "</table>\n",
       "</div>"
      ],
      "text/plain": [
       "                 CIP\n",
       "time                \n",
       "2021-11-28  4.193864\n",
       "2021-11-29  4.227298"
      ]
     },
     "execution_count": 79,
     "metadata": {},
     "output_type": "execute_result"
    }
   ],
   "source": [
    "cip_df.tail(2)"
   ]
  },
  {
   "cell_type": "code",
   "execution_count": 80,
   "id": "77b6c5f4",
   "metadata": {
    "collapsed": true
   },
   "outputs": [
    {
     "ename": "KeyError",
     "evalue": "'time'",
     "output_type": "error",
     "traceback": [
      "\u001b[0;31m---------------------------------------------------------------------------\u001b[0m",
      "\u001b[0;31mKeyError\u001b[0m                                  Traceback (most recent call last)",
      "File \u001b[0;32m~/.pyenv/versions/3.8.12/envs/bdi_predict/lib/python3.8/site-packages/pandas/core/indexes/base.py:3803\u001b[0m, in \u001b[0;36mIndex.get_loc\u001b[0;34m(self, key, method, tolerance)\u001b[0m\n\u001b[1;32m   3802\u001b[0m \u001b[38;5;28;01mtry\u001b[39;00m:\n\u001b[0;32m-> 3803\u001b[0m     \u001b[38;5;28;01mreturn\u001b[39;00m \u001b[38;5;28;43mself\u001b[39;49m\u001b[38;5;241;43m.\u001b[39;49m\u001b[43m_engine\u001b[49m\u001b[38;5;241;43m.\u001b[39;49m\u001b[43mget_loc\u001b[49m\u001b[43m(\u001b[49m\u001b[43mcasted_key\u001b[49m\u001b[43m)\u001b[49m\n\u001b[1;32m   3804\u001b[0m \u001b[38;5;28;01mexcept\u001b[39;00m \u001b[38;5;167;01mKeyError\u001b[39;00m \u001b[38;5;28;01mas\u001b[39;00m err:\n",
      "File \u001b[0;32m~/.pyenv/versions/3.8.12/envs/bdi_predict/lib/python3.8/site-packages/pandas/_libs/index.pyx:138\u001b[0m, in \u001b[0;36mpandas._libs.index.IndexEngine.get_loc\u001b[0;34m()\u001b[0m\n",
      "File \u001b[0;32m~/.pyenv/versions/3.8.12/envs/bdi_predict/lib/python3.8/site-packages/pandas/_libs/index.pyx:165\u001b[0m, in \u001b[0;36mpandas._libs.index.IndexEngine.get_loc\u001b[0;34m()\u001b[0m\n",
      "File \u001b[0;32mpandas/_libs/hashtable_class_helper.pxi:5745\u001b[0m, in \u001b[0;36mpandas._libs.hashtable.PyObjectHashTable.get_item\u001b[0;34m()\u001b[0m\n",
      "File \u001b[0;32mpandas/_libs/hashtable_class_helper.pxi:5753\u001b[0m, in \u001b[0;36mpandas._libs.hashtable.PyObjectHashTable.get_item\u001b[0;34m()\u001b[0m\n",
      "\u001b[0;31mKeyError\u001b[0m: 'time'",
      "\nThe above exception was the direct cause of the following exception:\n",
      "\u001b[0;31mKeyError\u001b[0m                                  Traceback (most recent call last)",
      "Cell \u001b[0;32mIn [80], line 1\u001b[0m\n\u001b[0;32m----> 1\u001b[0m cip_df[\u001b[38;5;124m\"\u001b[39m\u001b[38;5;124mtime\u001b[39m\u001b[38;5;124m\"\u001b[39m] \u001b[38;5;241m=\u001b[39m pd\u001b[38;5;241m.\u001b[39mto_datetime(\u001b[43mcip_df\u001b[49m\u001b[43m[\u001b[49m\u001b[38;5;124;43m\"\u001b[39;49m\u001b[38;5;124;43mtime\u001b[39;49m\u001b[38;5;124;43m\"\u001b[39;49m\u001b[43m]\u001b[49m)\n",
      "File \u001b[0;32m~/.pyenv/versions/3.8.12/envs/bdi_predict/lib/python3.8/site-packages/pandas/core/frame.py:3804\u001b[0m, in \u001b[0;36mDataFrame.__getitem__\u001b[0;34m(self, key)\u001b[0m\n\u001b[1;32m   3802\u001b[0m \u001b[38;5;28;01mif\u001b[39;00m \u001b[38;5;28mself\u001b[39m\u001b[38;5;241m.\u001b[39mcolumns\u001b[38;5;241m.\u001b[39mnlevels \u001b[38;5;241m>\u001b[39m \u001b[38;5;241m1\u001b[39m:\n\u001b[1;32m   3803\u001b[0m     \u001b[38;5;28;01mreturn\u001b[39;00m \u001b[38;5;28mself\u001b[39m\u001b[38;5;241m.\u001b[39m_getitem_multilevel(key)\n\u001b[0;32m-> 3804\u001b[0m indexer \u001b[38;5;241m=\u001b[39m \u001b[38;5;28;43mself\u001b[39;49m\u001b[38;5;241;43m.\u001b[39;49m\u001b[43mcolumns\u001b[49m\u001b[38;5;241;43m.\u001b[39;49m\u001b[43mget_loc\u001b[49m\u001b[43m(\u001b[49m\u001b[43mkey\u001b[49m\u001b[43m)\u001b[49m\n\u001b[1;32m   3805\u001b[0m \u001b[38;5;28;01mif\u001b[39;00m is_integer(indexer):\n\u001b[1;32m   3806\u001b[0m     indexer \u001b[38;5;241m=\u001b[39m [indexer]\n",
      "File \u001b[0;32m~/.pyenv/versions/3.8.12/envs/bdi_predict/lib/python3.8/site-packages/pandas/core/indexes/base.py:3805\u001b[0m, in \u001b[0;36mIndex.get_loc\u001b[0;34m(self, key, method, tolerance)\u001b[0m\n\u001b[1;32m   3803\u001b[0m     \u001b[38;5;28;01mreturn\u001b[39;00m \u001b[38;5;28mself\u001b[39m\u001b[38;5;241m.\u001b[39m_engine\u001b[38;5;241m.\u001b[39mget_loc(casted_key)\n\u001b[1;32m   3804\u001b[0m \u001b[38;5;28;01mexcept\u001b[39;00m \u001b[38;5;167;01mKeyError\u001b[39;00m \u001b[38;5;28;01mas\u001b[39;00m err:\n\u001b[0;32m-> 3805\u001b[0m     \u001b[38;5;28;01mraise\u001b[39;00m \u001b[38;5;167;01mKeyError\u001b[39;00m(key) \u001b[38;5;28;01mfrom\u001b[39;00m \u001b[38;5;21;01merr\u001b[39;00m\n\u001b[1;32m   3806\u001b[0m \u001b[38;5;28;01mexcept\u001b[39;00m \u001b[38;5;167;01mTypeError\u001b[39;00m:\n\u001b[1;32m   3807\u001b[0m     \u001b[38;5;66;03m# If we have a listlike key, _check_indexing_error will raise\u001b[39;00m\n\u001b[1;32m   3808\u001b[0m     \u001b[38;5;66;03m#  InvalidIndexError. Otherwise we fall through and re-raise\u001b[39;00m\n\u001b[1;32m   3809\u001b[0m     \u001b[38;5;66;03m#  the TypeError.\u001b[39;00m\n\u001b[1;32m   3810\u001b[0m     \u001b[38;5;28mself\u001b[39m\u001b[38;5;241m.\u001b[39m_check_indexing_error(key)\n",
      "\u001b[0;31mKeyError\u001b[0m: 'time'"
     ]
    }
   ],
   "source": [
    "cip_df[\"time\"] = pd.to_datetime(cip_df[\"time\"])"
   ]
  },
  {
   "cell_type": "code",
   "execution_count": 54,
   "id": "d2b5e9a2",
   "metadata": {},
   "outputs": [
    {
     "name": "stdout",
     "output_type": "stream",
     "text": [
      "<class 'pandas.core.frame.DataFrame'>\n",
      "RangeIndex: 9832 entries, 0 to 9831\n",
      "Data columns (total 2 columns):\n",
      " #   Column  Non-Null Count  Dtype         \n",
      "---  ------  --------------  -----         \n",
      " 0   time    9832 non-null   datetime64[ns]\n",
      " 1   CIP     9832 non-null   float64       \n",
      "dtypes: datetime64[ns](1), float64(1)\n",
      "memory usage: 153.8 KB\n"
     ]
    }
   ],
   "source": [
    "cip_df.info()"
   ]
  },
  {
   "cell_type": "code",
   "execution_count": 55,
   "id": "b3ab7dba",
   "metadata": {},
   "outputs": [],
   "source": [
    "cip_df.set_index(\"time\", inplace=True)"
   ]
  },
  {
   "cell_type": "code",
   "execution_count": 56,
   "id": "95c4456f",
   "metadata": {},
   "outputs": [
    {
     "data": {
      "text/html": [
       "<div>\n",
       "<style scoped>\n",
       "    .dataframe tbody tr th:only-of-type {\n",
       "        vertical-align: middle;\n",
       "    }\n",
       "\n",
       "    .dataframe tbody tr th {\n",
       "        vertical-align: top;\n",
       "    }\n",
       "\n",
       "    .dataframe thead th {\n",
       "        text-align: right;\n",
       "    }\n",
       "</style>\n",
       "<table border=\"1\" class=\"dataframe\">\n",
       "  <thead>\n",
       "    <tr style=\"text-align: right;\">\n",
       "      <th></th>\n",
       "      <th>CIP</th>\n",
       "    </tr>\n",
       "    <tr>\n",
       "      <th>time</th>\n",
       "      <th></th>\n",
       "    </tr>\n",
       "  </thead>\n",
       "  <tbody>\n",
       "    <tr>\n",
       "      <th>1995-01-01</th>\n",
       "      <td>11.400000</td>\n",
       "    </tr>\n",
       "    <tr>\n",
       "      <th>1995-01-02</th>\n",
       "      <td>11.601218</td>\n",
       "    </tr>\n",
       "  </tbody>\n",
       "</table>\n",
       "</div>"
      ],
      "text/plain": [
       "                  CIP\n",
       "time                 \n",
       "1995-01-01  11.400000\n",
       "1995-01-02  11.601218"
      ]
     },
     "execution_count": 56,
     "metadata": {},
     "output_type": "execute_result"
    }
   ],
   "source": [
    "cip_df.head(2)"
   ]
  },
  {
   "cell_type": "code",
   "execution_count": 83,
   "id": "f02a0b8a",
   "metadata": {},
   "outputs": [],
   "source": [
    "cip_bdi_combined_df = pd.merge(bdi_df, cip_df, on=\"time\", how=\"inner\")"
   ]
  },
  {
   "cell_type": "code",
   "execution_count": 85,
   "id": "aa0aa858",
   "metadata": {},
   "outputs": [
    {
     "data": {
      "text/html": [
       "<div>\n",
       "<style scoped>\n",
       "    .dataframe tbody tr th:only-of-type {\n",
       "        vertical-align: middle;\n",
       "    }\n",
       "\n",
       "    .dataframe tbody tr th {\n",
       "        vertical-align: top;\n",
       "    }\n",
       "\n",
       "    .dataframe thead th {\n",
       "        text-align: right;\n",
       "    }\n",
       "</style>\n",
       "<table border=\"1\" class=\"dataframe\">\n",
       "  <thead>\n",
       "    <tr style=\"text-align: right;\">\n",
       "      <th></th>\n",
       "      <th>close</th>\n",
       "      <th>CIP</th>\n",
       "    </tr>\n",
       "    <tr>\n",
       "      <th>time</th>\n",
       "      <th></th>\n",
       "      <th></th>\n",
       "    </tr>\n",
       "  </thead>\n",
       "  <tbody>\n",
       "    <tr>\n",
       "      <th>2021-11-22</th>\n",
       "      <td>2767.0</td>\n",
       "      <td>4.030326</td>\n",
       "    </tr>\n",
       "    <tr>\n",
       "      <th>2021-11-29</th>\n",
       "      <td>3171.0</td>\n",
       "      <td>4.227298</td>\n",
       "    </tr>\n",
       "  </tbody>\n",
       "</table>\n",
       "</div>"
      ],
      "text/plain": [
       "             close       CIP\n",
       "time                        \n",
       "2021-11-22  2767.0  4.030326\n",
       "2021-11-29  3171.0  4.227298"
      ]
     },
     "execution_count": 85,
     "metadata": {},
     "output_type": "execute_result"
    }
   ],
   "source": [
    "cip_bdi_combined_df.tail(2)"
   ]
  },
  {
   "cell_type": "markdown",
   "id": "ef4a2806",
   "metadata": {},
   "source": [
    "# Combining all the cleaned features together into one dataframe"
   ]
  },
  {
   "cell_type": "markdown",
   "id": "4ccd691d",
   "metadata": {},
   "source": [
    "### combining cgdp_df and csteel_df"
   ]
  },
  {
   "cell_type": "code",
   "execution_count": 89,
   "id": "dd0f9bfa",
   "metadata": {},
   "outputs": [
    {
     "data": {
      "text/html": [
       "<div>\n",
       "<style scoped>\n",
       "    .dataframe tbody tr th:only-of-type {\n",
       "        vertical-align: middle;\n",
       "    }\n",
       "\n",
       "    .dataframe tbody tr th {\n",
       "        vertical-align: top;\n",
       "    }\n",
       "\n",
       "    .dataframe thead th {\n",
       "        text-align: right;\n",
       "    }\n",
       "</style>\n",
       "<table border=\"1\" class=\"dataframe\">\n",
       "  <thead>\n",
       "    <tr style=\"text-align: right;\">\n",
       "      <th></th>\n",
       "      <th>time</th>\n",
       "      <th>close</th>\n",
       "      <th>cgdp</th>\n",
       "      <th>diff</th>\n",
       "      <th>cgdp_growth</th>\n",
       "    </tr>\n",
       "  </thead>\n",
       "  <tbody>\n",
       "    <tr>\n",
       "      <th>0</th>\n",
       "      <td>1995-01-16</td>\n",
       "      <td>2059.0</td>\n",
       "      <td>5.857736e+11</td>\n",
       "      <td>NaN</td>\n",
       "      <td>NaN</td>\n",
       "    </tr>\n",
       "    <tr>\n",
       "      <th>1</th>\n",
       "      <td>1995-01-23</td>\n",
       "      <td>1983.0</td>\n",
       "      <td>5.890383e+11</td>\n",
       "      <td>3.264685e+09</td>\n",
       "      <td>0.005542</td>\n",
       "    </tr>\n",
       "  </tbody>\n",
       "</table>\n",
       "</div>"
      ],
      "text/plain": [
       "         time   close          cgdp          diff  cgdp_growth\n",
       "0  1995-01-16  2059.0  5.857736e+11           NaN          NaN\n",
       "1  1995-01-23  1983.0  5.890383e+11  3.264685e+09     0.005542"
      ]
     },
     "execution_count": 89,
     "metadata": {},
     "output_type": "execute_result"
    }
   ],
   "source": [
    "cgdp_df.head(2)"
   ]
  },
  {
   "cell_type": "code",
   "execution_count": 90,
   "id": "4327b073",
   "metadata": {},
   "outputs": [
    {
     "data": {
      "text/html": [
       "<div>\n",
       "<style scoped>\n",
       "    .dataframe tbody tr th:only-of-type {\n",
       "        vertical-align: middle;\n",
       "    }\n",
       "\n",
       "    .dataframe tbody tr th {\n",
       "        vertical-align: top;\n",
       "    }\n",
       "\n",
       "    .dataframe thead th {\n",
       "        text-align: right;\n",
       "    }\n",
       "</style>\n",
       "<table border=\"1\" class=\"dataframe\">\n",
       "  <thead>\n",
       "    <tr style=\"text-align: right;\">\n",
       "      <th></th>\n",
       "      <th>time</th>\n",
       "      <th>close</th>\n",
       "      <th>csteel</th>\n",
       "    </tr>\n",
       "  </thead>\n",
       "  <tbody>\n",
       "    <tr>\n",
       "      <th>0</th>\n",
       "      <td>1995-01-16</td>\n",
       "      <td>2059.0</td>\n",
       "      <td>7.380742e+06</td>\n",
       "    </tr>\n",
       "    <tr>\n",
       "      <th>1</th>\n",
       "      <td>1995-01-23</td>\n",
       "      <td>1983.0</td>\n",
       "      <td>7.349355e+06</td>\n",
       "    </tr>\n",
       "  </tbody>\n",
       "</table>\n",
       "</div>"
      ],
      "text/plain": [
       "         time   close        csteel\n",
       "0  1995-01-16  2059.0  7.380742e+06\n",
       "1  1995-01-23  1983.0  7.349355e+06"
      ]
     },
     "execution_count": 90,
     "metadata": {},
     "output_type": "execute_result"
    }
   ],
   "source": [
    "csteel_df.head(2)"
   ]
  },
  {
   "cell_type": "code",
   "execution_count": 92,
   "id": "0546e486",
   "metadata": {},
   "outputs": [],
   "source": [
    "csteel_cgdp_df = pd.merge(cgdp_df, csteel_df, how=\"inner\", on=\"time\")"
   ]
  },
  {
   "cell_type": "code",
   "execution_count": 99,
   "id": "03d5f80e",
   "metadata": {},
   "outputs": [],
   "source": [
    "csteel_cgdp_df.drop(columns=\"close_y\", inplace=True)"
   ]
  },
  {
   "cell_type": "code",
   "execution_count": 102,
   "id": "bd52fb46",
   "metadata": {},
   "outputs": [],
   "source": [
    "csteel_cgdp_df.rename(columns={\"close_x\":\"bdi\"}, inplace=True)"
   ]
  },
  {
   "cell_type": "code",
   "execution_count": 108,
   "id": "ade53cf7",
   "metadata": {},
   "outputs": [],
   "source": [
    "csteel_cgdp_df[\"time\"] = pd.to_datetime(csteel_cgdp_df[\"time\"])"
   ]
  },
  {
   "cell_type": "code",
   "execution_count": 110,
   "id": "64143f1c",
   "metadata": {},
   "outputs": [
    {
     "name": "stdout",
     "output_type": "stream",
     "text": [
      "<class 'pandas.core.frame.DataFrame'>\n",
      "Int64Index: 1392 entries, 0 to 1391\n",
      "Data columns (total 6 columns):\n",
      " #   Column       Non-Null Count  Dtype         \n",
      "---  ------       --------------  -----         \n",
      " 0   time         1392 non-null   datetime64[ns]\n",
      " 1   bdi          1392 non-null   float64       \n",
      " 2   cgdp         1392 non-null   float64       \n",
      " 3   diff         1391 non-null   float64       \n",
      " 4   cgdp_growth  1391 non-null   float64       \n",
      " 5   csteel       1392 non-null   float64       \n",
      "dtypes: datetime64[ns](1), float64(5)\n",
      "memory usage: 108.4 KB\n"
     ]
    }
   ],
   "source": [
    "csteel_cgdp_df.info()"
   ]
  },
  {
   "cell_type": "markdown",
   "id": "721edd0a",
   "metadata": {},
   "source": [
    "### Combining csteel_cgdp_df with cip"
   ]
  },
  {
   "cell_type": "code",
   "execution_count": 136,
   "id": "f435812d",
   "metadata": {},
   "outputs": [],
   "source": [
    "final_df = pd.merge(csteel_cgdp_df, cip_bdi_combined_df, on=\"time\", how=\"inner\")"
   ]
  },
  {
   "cell_type": "code",
   "execution_count": 137,
   "id": "265007d6",
   "metadata": {},
   "outputs": [
    {
     "data": {
      "text/html": [
       "<div>\n",
       "<style scoped>\n",
       "    .dataframe tbody tr th:only-of-type {\n",
       "        vertical-align: middle;\n",
       "    }\n",
       "\n",
       "    .dataframe tbody tr th {\n",
       "        vertical-align: top;\n",
       "    }\n",
       "\n",
       "    .dataframe thead th {\n",
       "        text-align: right;\n",
       "    }\n",
       "</style>\n",
       "<table border=\"1\" class=\"dataframe\">\n",
       "  <thead>\n",
       "    <tr style=\"text-align: right;\">\n",
       "      <th></th>\n",
       "      <th>time</th>\n",
       "      <th>bdi</th>\n",
       "      <th>cgdp</th>\n",
       "      <th>diff</th>\n",
       "      <th>cgdp_growth</th>\n",
       "      <th>csteel</th>\n",
       "      <th>CIP</th>\n",
       "    </tr>\n",
       "  </thead>\n",
       "  <tbody>\n",
       "    <tr>\n",
       "      <th>0</th>\n",
       "      <td>1995-01-16</td>\n",
       "      <td>2059.0</td>\n",
       "      <td>5.857736e+11</td>\n",
       "      <td>NaN</td>\n",
       "      <td>NaN</td>\n",
       "      <td>7.380742e+06</td>\n",
       "      <td>13.900686</td>\n",
       "    </tr>\n",
       "    <tr>\n",
       "      <th>1</th>\n",
       "      <td>1995-01-23</td>\n",
       "      <td>1983.0</td>\n",
       "      <td>5.890383e+11</td>\n",
       "      <td>3.264685e+09</td>\n",
       "      <td>0.005542</td>\n",
       "      <td>7.349355e+06</td>\n",
       "      <td>14.721669</td>\n",
       "    </tr>\n",
       "    <tr>\n",
       "      <th>2</th>\n",
       "      <td>1995-01-30</td>\n",
       "      <td>1959.0</td>\n",
       "      <td>5.923030e+11</td>\n",
       "      <td>3.264685e+09</td>\n",
       "      <td>0.005512</td>\n",
       "      <td>7.317968e+06</td>\n",
       "      <td>15.351956</td>\n",
       "    </tr>\n",
       "    <tr>\n",
       "      <th>3</th>\n",
       "      <td>1995-02-06</td>\n",
       "      <td>1980.0</td>\n",
       "      <td>5.955677e+11</td>\n",
       "      <td>3.264685e+09</td>\n",
       "      <td>0.005482</td>\n",
       "      <td>7.418464e+06</td>\n",
       "      <td>15.812899</td>\n",
       "    </tr>\n",
       "    <tr>\n",
       "      <th>4</th>\n",
       "      <td>1995-02-13</td>\n",
       "      <td>1992.0</td>\n",
       "      <td>5.988324e+11</td>\n",
       "      <td>3.264685e+09</td>\n",
       "      <td>0.005452</td>\n",
       "      <td>7.571714e+06</td>\n",
       "      <td>16.125851</td>\n",
       "    </tr>\n",
       "    <tr>\n",
       "      <th>...</th>\n",
       "      <td>...</td>\n",
       "      <td>...</td>\n",
       "      <td>...</td>\n",
       "      <td>...</td>\n",
       "      <td>...</td>\n",
       "      <td>...</td>\n",
       "      <td>...</td>\n",
       "    </tr>\n",
       "    <tr>\n",
       "      <th>1387</th>\n",
       "      <td>2021-11-01</td>\n",
       "      <td>2715.0</td>\n",
       "      <td>1.748367e+13</td>\n",
       "      <td>5.842392e+10</td>\n",
       "      <td>0.003342</td>\n",
       "      <td>6.930000e+07</td>\n",
       "      <td>3.800000</td>\n",
       "    </tr>\n",
       "    <tr>\n",
       "      <th>1388</th>\n",
       "      <td>2021-11-08</td>\n",
       "      <td>2807.0</td>\n",
       "      <td>1.754210e+13</td>\n",
       "      <td>5.842392e+10</td>\n",
       "      <td>0.003330</td>\n",
       "      <td>7.324333e+07</td>\n",
       "      <td>3.837203</td>\n",
       "    </tr>\n",
       "    <tr>\n",
       "      <th>1389</th>\n",
       "      <td>2021-11-15</td>\n",
       "      <td>2552.0</td>\n",
       "      <td>1.760052e+13</td>\n",
       "      <td>5.842392e+10</td>\n",
       "      <td>0.003319</td>\n",
       "      <td>7.718667e+07</td>\n",
       "      <td>3.907136</td>\n",
       "    </tr>\n",
       "    <tr>\n",
       "      <th>1390</th>\n",
       "      <td>2021-11-22</td>\n",
       "      <td>2767.0</td>\n",
       "      <td>1.765894e+13</td>\n",
       "      <td>5.842392e+10</td>\n",
       "      <td>0.003308</td>\n",
       "      <td>8.113000e+07</td>\n",
       "      <td>4.030326</td>\n",
       "    </tr>\n",
       "    <tr>\n",
       "      <th>1391</th>\n",
       "      <td>2021-11-29</td>\n",
       "      <td>3171.0</td>\n",
       "      <td>1.771737e+13</td>\n",
       "      <td>5.842392e+10</td>\n",
       "      <td>0.003298</td>\n",
       "      <td>8.507333e+07</td>\n",
       "      <td>4.227298</td>\n",
       "    </tr>\n",
       "  </tbody>\n",
       "</table>\n",
       "<p>1392 rows × 7 columns</p>\n",
       "</div>"
      ],
      "text/plain": [
       "           time     bdi          cgdp          diff  cgdp_growth  \\\n",
       "0    1995-01-16  2059.0  5.857736e+11           NaN          NaN   \n",
       "1    1995-01-23  1983.0  5.890383e+11  3.264685e+09     0.005542   \n",
       "2    1995-01-30  1959.0  5.923030e+11  3.264685e+09     0.005512   \n",
       "3    1995-02-06  1980.0  5.955677e+11  3.264685e+09     0.005482   \n",
       "4    1995-02-13  1992.0  5.988324e+11  3.264685e+09     0.005452   \n",
       "...         ...     ...           ...           ...          ...   \n",
       "1387 2021-11-01  2715.0  1.748367e+13  5.842392e+10     0.003342   \n",
       "1388 2021-11-08  2807.0  1.754210e+13  5.842392e+10     0.003330   \n",
       "1389 2021-11-15  2552.0  1.760052e+13  5.842392e+10     0.003319   \n",
       "1390 2021-11-22  2767.0  1.765894e+13  5.842392e+10     0.003308   \n",
       "1391 2021-11-29  3171.0  1.771737e+13  5.842392e+10     0.003298   \n",
       "\n",
       "            csteel        CIP  \n",
       "0     7.380742e+06  13.900686  \n",
       "1     7.349355e+06  14.721669  \n",
       "2     7.317968e+06  15.351956  \n",
       "3     7.418464e+06  15.812899  \n",
       "4     7.571714e+06  16.125851  \n",
       "...            ...        ...  \n",
       "1387  6.930000e+07   3.800000  \n",
       "1388  7.324333e+07   3.837203  \n",
       "1389  7.718667e+07   3.907136  \n",
       "1390  8.113000e+07   4.030326  \n",
       "1391  8.507333e+07   4.227298  \n",
       "\n",
       "[1392 rows x 7 columns]"
      ]
     },
     "execution_count": 137,
     "metadata": {},
     "output_type": "execute_result"
    }
   ],
   "source": [
    "final_df.drop(columns=\"close\")"
   ]
  },
  {
   "cell_type": "code",
   "execution_count": 138,
   "id": "1c61fb48",
   "metadata": {},
   "outputs": [],
   "source": [
    "final_df.set_index(\"time\", inplace=True)"
   ]
  },
  {
   "cell_type": "code",
   "execution_count": 150,
   "id": "b547f78e",
   "metadata": {},
   "outputs": [],
   "source": [
    "final_df.drop(columns=\"close\", inplace=True)"
   ]
  },
  {
   "cell_type": "code",
   "execution_count": 151,
   "id": "b5e031e4",
   "metadata": {},
   "outputs": [
    {
     "data": {
      "text/html": [
       "<div>\n",
       "<style scoped>\n",
       "    .dataframe tbody tr th:only-of-type {\n",
       "        vertical-align: middle;\n",
       "    }\n",
       "\n",
       "    .dataframe tbody tr th {\n",
       "        vertical-align: top;\n",
       "    }\n",
       "\n",
       "    .dataframe thead th {\n",
       "        text-align: right;\n",
       "    }\n",
       "</style>\n",
       "<table border=\"1\" class=\"dataframe\">\n",
       "  <thead>\n",
       "    <tr style=\"text-align: right;\">\n",
       "      <th></th>\n",
       "      <th>bdi</th>\n",
       "      <th>cgdp</th>\n",
       "      <th>diff</th>\n",
       "      <th>cgdp_growth</th>\n",
       "      <th>csteel</th>\n",
       "      <th>CIP</th>\n",
       "    </tr>\n",
       "    <tr>\n",
       "      <th>time</th>\n",
       "      <th></th>\n",
       "      <th></th>\n",
       "      <th></th>\n",
       "      <th></th>\n",
       "      <th></th>\n",
       "      <th></th>\n",
       "    </tr>\n",
       "  </thead>\n",
       "  <tbody>\n",
       "    <tr>\n",
       "      <th>1995-01-16</th>\n",
       "      <td>2059.0</td>\n",
       "      <td>5.857736e+11</td>\n",
       "      <td>NaN</td>\n",
       "      <td>NaN</td>\n",
       "      <td>7.380742e+06</td>\n",
       "      <td>13.900686</td>\n",
       "    </tr>\n",
       "    <tr>\n",
       "      <th>1995-01-23</th>\n",
       "      <td>1983.0</td>\n",
       "      <td>5.890383e+11</td>\n",
       "      <td>3.264685e+09</td>\n",
       "      <td>0.005542</td>\n",
       "      <td>7.349355e+06</td>\n",
       "      <td>14.721669</td>\n",
       "    </tr>\n",
       "    <tr>\n",
       "      <th>1995-01-30</th>\n",
       "      <td>1959.0</td>\n",
       "      <td>5.923030e+11</td>\n",
       "      <td>3.264685e+09</td>\n",
       "      <td>0.005512</td>\n",
       "      <td>7.317968e+06</td>\n",
       "      <td>15.351956</td>\n",
       "    </tr>\n",
       "    <tr>\n",
       "      <th>1995-02-06</th>\n",
       "      <td>1980.0</td>\n",
       "      <td>5.955677e+11</td>\n",
       "      <td>3.264685e+09</td>\n",
       "      <td>0.005482</td>\n",
       "      <td>7.418464e+06</td>\n",
       "      <td>15.812899</td>\n",
       "    </tr>\n",
       "    <tr>\n",
       "      <th>1995-02-13</th>\n",
       "      <td>1992.0</td>\n",
       "      <td>5.988324e+11</td>\n",
       "      <td>3.264685e+09</td>\n",
       "      <td>0.005452</td>\n",
       "      <td>7.571714e+06</td>\n",
       "      <td>16.125851</td>\n",
       "    </tr>\n",
       "    <tr>\n",
       "      <th>...</th>\n",
       "      <td>...</td>\n",
       "      <td>...</td>\n",
       "      <td>...</td>\n",
       "      <td>...</td>\n",
       "      <td>...</td>\n",
       "      <td>...</td>\n",
       "    </tr>\n",
       "    <tr>\n",
       "      <th>2021-11-01</th>\n",
       "      <td>2715.0</td>\n",
       "      <td>1.748367e+13</td>\n",
       "      <td>5.842392e+10</td>\n",
       "      <td>0.003342</td>\n",
       "      <td>6.930000e+07</td>\n",
       "      <td>3.800000</td>\n",
       "    </tr>\n",
       "    <tr>\n",
       "      <th>2021-11-08</th>\n",
       "      <td>2807.0</td>\n",
       "      <td>1.754210e+13</td>\n",
       "      <td>5.842392e+10</td>\n",
       "      <td>0.003330</td>\n",
       "      <td>7.324333e+07</td>\n",
       "      <td>3.837203</td>\n",
       "    </tr>\n",
       "    <tr>\n",
       "      <th>2021-11-15</th>\n",
       "      <td>2552.0</td>\n",
       "      <td>1.760052e+13</td>\n",
       "      <td>5.842392e+10</td>\n",
       "      <td>0.003319</td>\n",
       "      <td>7.718667e+07</td>\n",
       "      <td>3.907136</td>\n",
       "    </tr>\n",
       "    <tr>\n",
       "      <th>2021-11-22</th>\n",
       "      <td>2767.0</td>\n",
       "      <td>1.765894e+13</td>\n",
       "      <td>5.842392e+10</td>\n",
       "      <td>0.003308</td>\n",
       "      <td>8.113000e+07</td>\n",
       "      <td>4.030326</td>\n",
       "    </tr>\n",
       "    <tr>\n",
       "      <th>2021-11-29</th>\n",
       "      <td>3171.0</td>\n",
       "      <td>1.771737e+13</td>\n",
       "      <td>5.842392e+10</td>\n",
       "      <td>0.003298</td>\n",
       "      <td>8.507333e+07</td>\n",
       "      <td>4.227298</td>\n",
       "    </tr>\n",
       "  </tbody>\n",
       "</table>\n",
       "<p>1392 rows × 6 columns</p>\n",
       "</div>"
      ],
      "text/plain": [
       "               bdi          cgdp          diff  cgdp_growth        csteel  \\\n",
       "time                                                                        \n",
       "1995-01-16  2059.0  5.857736e+11           NaN          NaN  7.380742e+06   \n",
       "1995-01-23  1983.0  5.890383e+11  3.264685e+09     0.005542  7.349355e+06   \n",
       "1995-01-30  1959.0  5.923030e+11  3.264685e+09     0.005512  7.317968e+06   \n",
       "1995-02-06  1980.0  5.955677e+11  3.264685e+09     0.005482  7.418464e+06   \n",
       "1995-02-13  1992.0  5.988324e+11  3.264685e+09     0.005452  7.571714e+06   \n",
       "...            ...           ...           ...          ...           ...   \n",
       "2021-11-01  2715.0  1.748367e+13  5.842392e+10     0.003342  6.930000e+07   \n",
       "2021-11-08  2807.0  1.754210e+13  5.842392e+10     0.003330  7.324333e+07   \n",
       "2021-11-15  2552.0  1.760052e+13  5.842392e+10     0.003319  7.718667e+07   \n",
       "2021-11-22  2767.0  1.765894e+13  5.842392e+10     0.003308  8.113000e+07   \n",
       "2021-11-29  3171.0  1.771737e+13  5.842392e+10     0.003298  8.507333e+07   \n",
       "\n",
       "                  CIP  \n",
       "time                   \n",
       "1995-01-16  13.900686  \n",
       "1995-01-23  14.721669  \n",
       "1995-01-30  15.351956  \n",
       "1995-02-06  15.812899  \n",
       "1995-02-13  16.125851  \n",
       "...               ...  \n",
       "2021-11-01   3.800000  \n",
       "2021-11-08   3.837203  \n",
       "2021-11-15   3.907136  \n",
       "2021-11-22   4.030326  \n",
       "2021-11-29   4.227298  \n",
       "\n",
       "[1392 rows x 6 columns]"
      ]
     },
     "execution_count": 151,
     "metadata": {},
     "output_type": "execute_result"
    }
   ],
   "source": [
    "final_df"
   ]
  },
  {
   "cell_type": "markdown",
   "id": "59ae93f0",
   "metadata": {},
   "source": [
    "### Applying a standard scaler to the final_df"
   ]
  },
  {
   "cell_type": "code",
   "execution_count": 152,
   "id": "b0f6de95",
   "metadata": {},
   "outputs": [],
   "source": [
    "from sklearn.preprocessing import StandardScaler"
   ]
  },
  {
   "cell_type": "code",
   "execution_count": 153,
   "id": "b840dbba",
   "metadata": {},
   "outputs": [],
   "source": [
    "scaler = StandardScaler()"
   ]
  },
  {
   "cell_type": "code",
   "execution_count": 154,
   "id": "0b8ced43",
   "metadata": {},
   "outputs": [],
   "source": [
    "X = scaler.fit_transform(final_df)"
   ]
  },
  {
   "cell_type": "code",
   "execution_count": 155,
   "id": "255fd5f0",
   "metadata": {},
   "outputs": [],
   "source": [
    "X = pd.DataFrame(X)"
   ]
  },
  {
   "cell_type": "code",
   "execution_count": 156,
   "id": "3746c934",
   "metadata": {},
   "outputs": [],
   "source": [
    "X.set_index(final_df.index, inplace=True)"
   ]
  },
  {
   "cell_type": "code",
   "execution_count": 157,
   "id": "9d02ecae",
   "metadata": {},
   "outputs": [
    {
     "data": {
      "text/html": [
       "<div>\n",
       "<style scoped>\n",
       "    .dataframe tbody tr th:only-of-type {\n",
       "        vertical-align: middle;\n",
       "    }\n",
       "\n",
       "    .dataframe tbody tr th {\n",
       "        vertical-align: top;\n",
       "    }\n",
       "\n",
       "    .dataframe thead th {\n",
       "        text-align: right;\n",
       "    }\n",
       "</style>\n",
       "<table border=\"1\" class=\"dataframe\">\n",
       "  <thead>\n",
       "    <tr style=\"text-align: right;\">\n",
       "      <th></th>\n",
       "      <th>0</th>\n",
       "      <th>1</th>\n",
       "      <th>2</th>\n",
       "      <th>3</th>\n",
       "      <th>4</th>\n",
       "      <th>5</th>\n",
       "    </tr>\n",
       "    <tr>\n",
       "      <th>time</th>\n",
       "      <th></th>\n",
       "      <th></th>\n",
       "      <th></th>\n",
       "      <th></th>\n",
       "      <th></th>\n",
       "      <th></th>\n",
       "    </tr>\n",
       "  </thead>\n",
       "  <tbody>\n",
       "    <tr>\n",
       "      <th>1995-01-16</th>\n",
       "      <td>-0.030272</td>\n",
       "      <td>-1.060914</td>\n",
       "      <td>NaN</td>\n",
       "      <td>NaN</td>\n",
       "      <td>-1.296075</td>\n",
       "      <td>0.542656</td>\n",
       "    </tr>\n",
       "    <tr>\n",
       "      <th>1995-01-23</th>\n",
       "      <td>-0.071166</td>\n",
       "      <td>-1.060265</td>\n",
       "      <td>-0.710949</td>\n",
       "      <td>2.303236</td>\n",
       "      <td>-1.297217</td>\n",
       "      <td>0.700929</td>\n",
       "    </tr>\n",
       "    <tr>\n",
       "      <th>1995-01-30</th>\n",
       "      <td>-0.084080</td>\n",
       "      <td>-1.059616</td>\n",
       "      <td>-0.710949</td>\n",
       "      <td>2.280504</td>\n",
       "      <td>-1.298359</td>\n",
       "      <td>0.822439</td>\n",
       "    </tr>\n",
       "    <tr>\n",
       "      <th>1995-02-06</th>\n",
       "      <td>-0.072780</td>\n",
       "      <td>-1.058967</td>\n",
       "      <td>-0.710949</td>\n",
       "      <td>2.258022</td>\n",
       "      <td>-1.294703</td>\n",
       "      <td>0.911302</td>\n",
       "    </tr>\n",
       "    <tr>\n",
       "      <th>1995-02-13</th>\n",
       "      <td>-0.066323</td>\n",
       "      <td>-1.058318</td>\n",
       "      <td>-0.710949</td>\n",
       "      <td>2.235784</td>\n",
       "      <td>-1.289127</td>\n",
       "      <td>0.971635</td>\n",
       "    </tr>\n",
       "    <tr>\n",
       "      <th>...</th>\n",
       "      <td>...</td>\n",
       "      <td>...</td>\n",
       "      <td>...</td>\n",
       "      <td>...</td>\n",
       "      <td>...</td>\n",
       "      <td>...</td>\n",
       "    </tr>\n",
       "    <tr>\n",
       "      <th>2021-11-01</th>\n",
       "      <td>0.322703</td>\n",
       "      <td>2.298850</td>\n",
       "      <td>3.621600</td>\n",
       "      <td>0.665619</td>\n",
       "      <td>0.956718</td>\n",
       "      <td>-1.404607</td>\n",
       "    </tr>\n",
       "    <tr>\n",
       "      <th>2021-11-08</th>\n",
       "      <td>0.372205</td>\n",
       "      <td>2.310467</td>\n",
       "      <td>3.621600</td>\n",
       "      <td>0.657337</td>\n",
       "      <td>1.100188</td>\n",
       "      <td>-1.397435</td>\n",
       "    </tr>\n",
       "    <tr>\n",
       "      <th>2021-11-15</th>\n",
       "      <td>0.234997</td>\n",
       "      <td>2.322083</td>\n",
       "      <td>3.621600</td>\n",
       "      <td>0.649111</td>\n",
       "      <td>1.243657</td>\n",
       "      <td>-1.383953</td>\n",
       "    </tr>\n",
       "    <tr>\n",
       "      <th>2021-11-22</th>\n",
       "      <td>0.350683</td>\n",
       "      <td>2.333699</td>\n",
       "      <td>3.621600</td>\n",
       "      <td>0.640939</td>\n",
       "      <td>1.387126</td>\n",
       "      <td>-1.360204</td>\n",
       "    </tr>\n",
       "    <tr>\n",
       "      <th>2021-11-29</th>\n",
       "      <td>0.568064</td>\n",
       "      <td>2.345316</td>\n",
       "      <td>3.621600</td>\n",
       "      <td>0.632821</td>\n",
       "      <td>1.530596</td>\n",
       "      <td>-1.322231</td>\n",
       "    </tr>\n",
       "  </tbody>\n",
       "</table>\n",
       "<p>1392 rows × 6 columns</p>\n",
       "</div>"
      ],
      "text/plain": [
       "                   0         1         2         3         4         5\n",
       "time                                                                  \n",
       "1995-01-16 -0.030272 -1.060914       NaN       NaN -1.296075  0.542656\n",
       "1995-01-23 -0.071166 -1.060265 -0.710949  2.303236 -1.297217  0.700929\n",
       "1995-01-30 -0.084080 -1.059616 -0.710949  2.280504 -1.298359  0.822439\n",
       "1995-02-06 -0.072780 -1.058967 -0.710949  2.258022 -1.294703  0.911302\n",
       "1995-02-13 -0.066323 -1.058318 -0.710949  2.235784 -1.289127  0.971635\n",
       "...              ...       ...       ...       ...       ...       ...\n",
       "2021-11-01  0.322703  2.298850  3.621600  0.665619  0.956718 -1.404607\n",
       "2021-11-08  0.372205  2.310467  3.621600  0.657337  1.100188 -1.397435\n",
       "2021-11-15  0.234997  2.322083  3.621600  0.649111  1.243657 -1.383953\n",
       "2021-11-22  0.350683  2.333699  3.621600  0.640939  1.387126 -1.360204\n",
       "2021-11-29  0.568064  2.345316  3.621600  0.632821  1.530596 -1.322231\n",
       "\n",
       "[1392 rows x 6 columns]"
      ]
     },
     "execution_count": 157,
     "metadata": {},
     "output_type": "execute_result"
    }
   ],
   "source": [
    "X"
   ]
  },
  {
   "cell_type": "code",
   "execution_count": 158,
   "id": "209b8060",
   "metadata": {},
   "outputs": [],
   "source": [
    "final_df.to_csv(\"../raw_data/data/merged_data_prescaling.csv\")"
   ]
  },
  {
   "cell_type": "code",
   "execution_count": 159,
   "id": "625561f2",
   "metadata": {},
   "outputs": [],
   "source": [
    "X.to_csv(\"../raw_data/data/merged_data_postscaling.csv\")"
   ]
  }
 ],
 "metadata": {
  "kernelspec": {
   "display_name": "Python 3 (ipykernel)",
   "language": "python",
   "name": "python3"
  },
  "language_info": {
   "codemirror_mode": {
    "name": "ipython",
    "version": 3
   },
   "file_extension": ".py",
   "mimetype": "text/x-python",
   "name": "python",
   "nbconvert_exporter": "python",
   "pygments_lexer": "ipython3",
   "version": "3.8.12"
  },
  "toc": {
   "base_numbering": 1,
   "nav_menu": {},
   "number_sections": true,
   "sideBar": true,
   "skip_h1_title": false,
   "title_cell": "Table of Contents",
   "title_sidebar": "Contents",
   "toc_cell": false,
   "toc_position": {},
   "toc_section_display": true,
   "toc_window_display": false
  }
 },
 "nbformat": 4,
 "nbformat_minor": 5
}
