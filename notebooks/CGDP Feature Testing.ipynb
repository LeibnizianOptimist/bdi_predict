{
 "cells": [
  {
   "cell_type": "markdown",
   "id": "0706302e",
   "metadata": {},
   "source": [
    "# Feature Selection for log_diff_model (Multivariate Model)"
   ]
  },
  {
   "cell_type": "code",
   "execution_count": 42,
   "id": "5692b931",
   "metadata": {},
   "outputs": [],
   "source": [
    "import pandas as pd \n",
    "import numpy as np\n",
    "import matplotlib.pyplot as plt\n",
    "from tensorflow.keras import Sequential\n",
    "from bdi_predict.ml_logic.sequence_gen import WindowGenerator\n",
    "from tensorflow.keras import layers\n",
    "from sklearn.model_selection import TimeSeriesSplit\n",
    "from tensorflow.keras.preprocessing.sequence import TimeseriesGenerator\n",
    "from sklearn.preprocessing import MinMaxScaler\n",
    "from sklearn.preprocessing import StandardScaler\n",
    "from tensorflow.keras.optimizers import RMSprop\n",
    "from tensorflow.keras.optimizers import Adam\n",
    "from tensorflow.keras.optimizers.schedules import ExponentialDecay\n",
    "from tensorflow.keras.callbacks import EarlyStopping"
   ]
  },
  {
   "cell_type": "code",
   "execution_count": 61,
   "id": "8cc748b4",
   "metadata": {},
   "outputs": [
    {
     "data": {
      "text/html": [
       "<div>\n",
       "<style scoped>\n",
       "    .dataframe tbody tr th:only-of-type {\n",
       "        vertical-align: middle;\n",
       "    }\n",
       "\n",
       "    .dataframe tbody tr th {\n",
       "        vertical-align: top;\n",
       "    }\n",
       "\n",
       "    .dataframe thead th {\n",
       "        text-align: right;\n",
       "    }\n",
       "</style>\n",
       "<table border=\"1\" class=\"dataframe\">\n",
       "  <thead>\n",
       "    <tr style=\"text-align: right;\">\n",
       "      <th></th>\n",
       "      <th>Unnamed: 0</th>\n",
       "      <th>Date</th>\n",
       "      <th>Price</th>\n",
       "      <th>abs_price</th>\n",
       "      <th>log_price</th>\n",
       "      <th>log_diff</th>\n",
       "    </tr>\n",
       "  </thead>\n",
       "  <tbody>\n",
       "    <tr>\n",
       "      <th>0</th>\n",
       "      <td>0</td>\n",
       "      <td>1995-01-03</td>\n",
       "      <td>1964.0</td>\n",
       "      <td>NaN</td>\n",
       "      <td>3.293141</td>\n",
       "      <td>NaN</td>\n",
       "    </tr>\n",
       "    <tr>\n",
       "      <th>1</th>\n",
       "      <td>1</td>\n",
       "      <td>1995-01-04</td>\n",
       "      <td>1961.0</td>\n",
       "      <td>-3.0</td>\n",
       "      <td>3.292478</td>\n",
       "      <td>-0.000664</td>\n",
       "    </tr>\n",
       "  </tbody>\n",
       "</table>\n",
       "</div>"
      ],
      "text/plain": [
       "   Unnamed: 0        Date   Price  abs_price  log_price  log_diff\n",
       "0           0  1995-01-03  1964.0        NaN   3.293141       NaN\n",
       "1           1  1995-01-04  1961.0       -3.0   3.292478 -0.000664"
      ]
     },
     "execution_count": 61,
     "metadata": {},
     "output_type": "execute_result"
    }
   ],
   "source": [
    "bdi = pd.read_csv(\"../raw_data/data/BDI/log_diff_BDI_daily.csv\")\n",
    "bdi.head(2)"
   ]
  },
  {
   "cell_type": "code",
   "execution_count": 62,
   "id": "9e9894bc",
   "metadata": {
    "scrolled": true
   },
   "outputs": [
    {
     "data": {
      "text/html": [
       "<div>\n",
       "<style scoped>\n",
       "    .dataframe tbody tr th:only-of-type {\n",
       "        vertical-align: middle;\n",
       "    }\n",
       "\n",
       "    .dataframe tbody tr th {\n",
       "        vertical-align: top;\n",
       "    }\n",
       "\n",
       "    .dataframe thead th {\n",
       "        text-align: right;\n",
       "    }\n",
       "</style>\n",
       "<table border=\"1\" class=\"dataframe\">\n",
       "  <thead>\n",
       "    <tr style=\"text-align: right;\">\n",
       "      <th></th>\n",
       "      <th>Price</th>\n",
       "      <th>abs_price</th>\n",
       "      <th>log_price</th>\n",
       "      <th>log_diff</th>\n",
       "    </tr>\n",
       "    <tr>\n",
       "      <th>Date</th>\n",
       "      <th></th>\n",
       "      <th></th>\n",
       "      <th></th>\n",
       "      <th></th>\n",
       "    </tr>\n",
       "  </thead>\n",
       "  <tbody>\n",
       "    <tr>\n",
       "      <th>1995-01-04</th>\n",
       "      <td>1961.0</td>\n",
       "      <td>-3.0</td>\n",
       "      <td>3.292478</td>\n",
       "      <td>-0.000664</td>\n",
       "    </tr>\n",
       "    <tr>\n",
       "      <th>1995-01-05</th>\n",
       "      <td>1967.0</td>\n",
       "      <td>6.0</td>\n",
       "      <td>3.293804</td>\n",
       "      <td>0.001327</td>\n",
       "    </tr>\n",
       "  </tbody>\n",
       "</table>\n",
       "</div>"
      ],
      "text/plain": [
       "             Price  abs_price  log_price  log_diff\n",
       "Date                                              \n",
       "1995-01-04  1961.0       -3.0   3.292478 -0.000664\n",
       "1995-01-05  1967.0        6.0   3.293804  0.001327"
      ]
     },
     "execution_count": 62,
     "metadata": {},
     "output_type": "execute_result"
    }
   ],
   "source": [
    "bdi[\"Date\"] = pd.to_datetime(bdi[\"Date\"])\n",
    "bdi.set_index(\"Date\", inplace=True)\n",
    "bdi= bdi[bdi.index != \"1995-01-03\"]\n",
    "bdi.drop(columns=\"Unnamed: 0\", inplace=True)\n",
    "bdi.head(2)"
   ]
  },
  {
   "cell_type": "code",
   "execution_count": 63,
   "id": "541d0130",
   "metadata": {},
   "outputs": [
    {
     "data": {
      "text/html": [
       "<div>\n",
       "<style scoped>\n",
       "    .dataframe tbody tr th:only-of-type {\n",
       "        vertical-align: middle;\n",
       "    }\n",
       "\n",
       "    .dataframe tbody tr th {\n",
       "        vertical-align: top;\n",
       "    }\n",
       "\n",
       "    .dataframe thead th {\n",
       "        text-align: right;\n",
       "    }\n",
       "</style>\n",
       "<table border=\"1\" class=\"dataframe\">\n",
       "  <thead>\n",
       "    <tr style=\"text-align: right;\">\n",
       "      <th></th>\n",
       "      <th>Year</th>\n",
       "      <th>Natural_gas,_US</th>\n",
       "      <th>Shrimps,_Mexican</th>\n",
       "      <th>Barley</th>\n",
       "      <th>Soybean_oil</th>\n",
       "      <th>Platinum</th>\n",
       "      <th>Nickel</th>\n",
       "      <th>Aluminum</th>\n",
       "      <th>Tobacco,_US_import_u.v.</th>\n",
       "      <th>Orange</th>\n",
       "      <th>Sugar,_EU</th>\n",
       "    </tr>\n",
       "  </thead>\n",
       "  <tbody>\n",
       "    <tr>\n",
       "      <th>0</th>\n",
       "      <td>1995-02-01</td>\n",
       "      <td>1.58</td>\n",
       "      <td>13.70</td>\n",
       "      <td>85.77</td>\n",
       "      <td>663.0</td>\n",
       "      <td>413.97</td>\n",
       "      <td>8505.45</td>\n",
       "      <td>1916.15</td>\n",
       "      <td>2673.19</td>\n",
       "      <td>0.42</td>\n",
       "      <td>0.65</td>\n",
       "    </tr>\n",
       "    <tr>\n",
       "      <th>1</th>\n",
       "      <td>1995-03-01</td>\n",
       "      <td>1.54</td>\n",
       "      <td>14.04</td>\n",
       "      <td>90.83</td>\n",
       "      <td>652.0</td>\n",
       "      <td>416.89</td>\n",
       "      <td>7531.91</td>\n",
       "      <td>1805.07</td>\n",
       "      <td>2586.76</td>\n",
       "      <td>0.45</td>\n",
       "      <td>0.68</td>\n",
       "    </tr>\n",
       "  </tbody>\n",
       "</table>\n",
       "</div>"
      ],
      "text/plain": [
       "         Year  Natural_gas,_US  Shrimps,_Mexican  Barley  Soybean_oil  \\\n",
       "0  1995-02-01             1.58             13.70   85.77        663.0   \n",
       "1  1995-03-01             1.54             14.04   90.83        652.0   \n",
       "\n",
       "   Platinum   Nickel  Aluminum  Tobacco,_US_import_u.v.  Orange  Sugar,_EU  \n",
       "0    413.97  8505.45   1916.15                  2673.19    0.42       0.65  \n",
       "1    416.89  7531.91   1805.07                  2586.76    0.45       0.68  "
      ]
     },
     "execution_count": 63,
     "metadata": {},
     "output_type": "execute_result"
    }
   ],
   "source": [
    "df_imp = pd.read_csv(\"../raw_data/data/cleaned_important_features_data.csv\")\n",
    "df_imp.head(2)"
   ]
  },
  {
   "cell_type": "code",
   "execution_count": 64,
   "id": "8f434473",
   "metadata": {},
   "outputs": [
    {
     "data": {
      "text/html": [
       "<div>\n",
       "<style scoped>\n",
       "    .dataframe tbody tr th:only-of-type {\n",
       "        vertical-align: middle;\n",
       "    }\n",
       "\n",
       "    .dataframe tbody tr th {\n",
       "        vertical-align: top;\n",
       "    }\n",
       "\n",
       "    .dataframe thead th {\n",
       "        text-align: right;\n",
       "    }\n",
       "</style>\n",
       "<table border=\"1\" class=\"dataframe\">\n",
       "  <thead>\n",
       "    <tr style=\"text-align: right;\">\n",
       "      <th></th>\n",
       "      <th>Price</th>\n",
       "      <th>cgdp</th>\n",
       "      <th>diff</th>\n",
       "      <th>cgdp_growth</th>\n",
       "    </tr>\n",
       "    <tr>\n",
       "      <th>Date</th>\n",
       "      <th></th>\n",
       "      <th></th>\n",
       "      <th></th>\n",
       "      <th></th>\n",
       "    </tr>\n",
       "  </thead>\n",
       "  <tbody>\n",
       "    <tr>\n",
       "      <th>1995-01-04</th>\n",
       "      <td>1961.0</td>\n",
       "      <td>5.801770e+11</td>\n",
       "      <td>4.663836e+08</td>\n",
       "      <td>0.000804</td>\n",
       "    </tr>\n",
       "    <tr>\n",
       "      <th>1995-01-05</th>\n",
       "      <td>1967.0</td>\n",
       "      <td>5.806434e+11</td>\n",
       "      <td>4.663836e+08</td>\n",
       "      <td>0.000803</td>\n",
       "    </tr>\n",
       "  </tbody>\n",
       "</table>\n",
       "</div>"
      ],
      "text/plain": [
       "             Price          cgdp          diff  cgdp_growth\n",
       "Date                                                       \n",
       "1995-01-04  1961.0  5.801770e+11  4.663836e+08     0.000804\n",
       "1995-01-05  1967.0  5.806434e+11  4.663836e+08     0.000803"
      ]
     },
     "execution_count": 64,
     "metadata": {},
     "output_type": "execute_result"
    }
   ],
   "source": [
    "cgdp = pd.read_csv(\"../raw_data/data/CGDP/cleaned_daily_CGDP.csv\")\n",
    "cgdp[\"Date\"] = pd.to_datetime(cgdp[\"Date\"])\n",
    "cgdp.set_index(\"Date\", inplace=True)\n",
    "cggp = cgdp[cgdp.index != \"1995-01-03\"]\n",
    "#cgdp.drop(columns=\"Unnamed: 0\", inplace=True)\n",
    "cdgp.head(2)"
   ]
  },
  {
   "cell_type": "code",
   "execution_count": 65,
   "id": "d5ba1a73",
   "metadata": {},
   "outputs": [],
   "source": [
    "df = pd.merge(bdi, cgdp, on=\"Date\", how=\"inner\")\n",
    "df.drop(columns=\"Price_y\", inplace=True)\n"
   ]
  },
  {
   "cell_type": "code",
   "execution_count": 66,
   "id": "4166e471",
   "metadata": {},
   "outputs": [
    {
     "data": {
      "text/html": [
       "<div>\n",
       "<style scoped>\n",
       "    .dataframe tbody tr th:only-of-type {\n",
       "        vertical-align: middle;\n",
       "    }\n",
       "\n",
       "    .dataframe tbody tr th {\n",
       "        vertical-align: top;\n",
       "    }\n",
       "\n",
       "    .dataframe thead th {\n",
       "        text-align: right;\n",
       "    }\n",
       "</style>\n",
       "<table border=\"1\" class=\"dataframe\">\n",
       "  <thead>\n",
       "    <tr style=\"text-align: right;\">\n",
       "      <th></th>\n",
       "      <th>Price_x</th>\n",
       "      <th>abs_price</th>\n",
       "      <th>log_price</th>\n",
       "      <th>log_diff</th>\n",
       "      <th>cgdp</th>\n",
       "      <th>diff</th>\n",
       "      <th>cgdp_growth</th>\n",
       "    </tr>\n",
       "    <tr>\n",
       "      <th>Date</th>\n",
       "      <th></th>\n",
       "      <th></th>\n",
       "      <th></th>\n",
       "      <th></th>\n",
       "      <th></th>\n",
       "      <th></th>\n",
       "      <th></th>\n",
       "    </tr>\n",
       "  </thead>\n",
       "  <tbody>\n",
       "    <tr>\n",
       "      <th>1995-01-04</th>\n",
       "      <td>1961.0</td>\n",
       "      <td>-3.0</td>\n",
       "      <td>3.292478</td>\n",
       "      <td>-0.000664</td>\n",
       "      <td>5.801770e+11</td>\n",
       "      <td>4.663836e+08</td>\n",
       "      <td>0.000804</td>\n",
       "    </tr>\n",
       "    <tr>\n",
       "      <th>1995-01-05</th>\n",
       "      <td>1967.0</td>\n",
       "      <td>6.0</td>\n",
       "      <td>3.293804</td>\n",
       "      <td>0.001327</td>\n",
       "      <td>5.806434e+11</td>\n",
       "      <td>4.663836e+08</td>\n",
       "      <td>0.000803</td>\n",
       "    </tr>\n",
       "    <tr>\n",
       "      <th>1995-01-06</th>\n",
       "      <td>1983.0</td>\n",
       "      <td>16.0</td>\n",
       "      <td>3.297323</td>\n",
       "      <td>0.003518</td>\n",
       "      <td>5.811098e+11</td>\n",
       "      <td>4.663836e+08</td>\n",
       "      <td>0.000803</td>\n",
       "    </tr>\n",
       "  </tbody>\n",
       "</table>\n",
       "</div>"
      ],
      "text/plain": [
       "            Price_x  abs_price  log_price  log_diff          cgdp  \\\n",
       "Date                                                                \n",
       "1995-01-04   1961.0       -3.0   3.292478 -0.000664  5.801770e+11   \n",
       "1995-01-05   1967.0        6.0   3.293804  0.001327  5.806434e+11   \n",
       "1995-01-06   1983.0       16.0   3.297323  0.003518  5.811098e+11   \n",
       "\n",
       "                    diff  cgdp_growth  \n",
       "Date                                   \n",
       "1995-01-04  4.663836e+08     0.000804  \n",
       "1995-01-05  4.663836e+08     0.000803  \n",
       "1995-01-06  4.663836e+08     0.000803  "
      ]
     },
     "execution_count": 66,
     "metadata": {},
     "output_type": "execute_result"
    }
   ],
   "source": [
    "df.head(3)"
   ]
  },
  {
   "cell_type": "markdown",
   "id": "1bb69267",
   "metadata": {},
   "source": [
    "# Data Cleaning"
   ]
  },
  {
   "cell_type": "markdown",
   "id": "69548ae7",
   "metadata": {},
   "source": [
    "## Holdout Method (manual, chronological)"
   ]
  },
  {
   "cell_type": "code",
   "execution_count": 68,
   "id": "42a8650a",
   "metadata": {},
   "outputs": [],
   "source": [
    "input_length = len(df)"
   ]
  },
  {
   "cell_type": "code",
   "execution_count": 69,
   "id": "bec38813",
   "metadata": {},
   "outputs": [],
   "source": [
    "def train_test_split(df:pd.DataFrame,\n",
    "                     train_test_ratio: float,\n",
    "                     input_length: int) -> tuple:\n",
    "    '''\n",
    "    Returns a train dataframe and a test dataframe (df_train, df_test)\n",
    "    from which one can sample (X,y) sequences using TimeseriesGenerator.\n",
    "    df_train should contain all the timesteps until round(train_test_ratio * len(fold))   \n",
    "    '''\n",
    "    \n",
    "    # TRAIN SET\n",
    "\n",
    "    last_train_idx = round(train_test_ratio * len(df))\n",
    "    df_train = df.iloc[0:last_train_idx, :]\n",
    "\n",
    "    # TEST SET\n",
    " \n",
    "    first_test_idx = last_train_idx - input_length\n",
    "    df_test = df.iloc[first_test_idx:, :]\n",
    "\n",
    "    return (df_train, df_test)"
   ]
  },
  {
   "cell_type": "code",
   "execution_count": 70,
   "id": "282a957d",
   "metadata": {},
   "outputs": [],
   "source": [
    "df_train, df_test = train_test_split(df=df, train_test_ratio=0.8, input_length=input_length)"
   ]
  },
  {
   "cell_type": "code",
   "execution_count": 71,
   "id": "32fcad63",
   "metadata": {},
   "outputs": [],
   "source": [
    "X_train = df_train[[\"Price_x\",\"cgdp_growth\"]]\n",
    "y_train = df_train[\"log_diff\"]\n",
    "\n",
    "X_test  = df_test[[\"Price_x\",\"cgdp_growth\"]]\n",
    "y_test = df_test[\"log_diff\"]"
   ]
  },
  {
   "cell_type": "code",
   "execution_count": 95,
   "id": "4f19221e",
   "metadata": {},
   "outputs": [],
   "source": [
    "#Feature Scaling\n",
    "\n",
    "scaler_X = MinMaxScaler()\n",
    "\n",
    "X_train_scaled = scaler_X.fit_transform(X_train)\n",
    "X_test_scaled = scaler_X.fit_transform(X_test)\n",
    "\n"
   ]
  },
  {
   "cell_type": "code",
   "execution_count": 98,
   "id": "86c98f21",
   "metadata": {},
   "outputs": [],
   "source": [
    "generator = TimeseriesGenerator(X_train_scaled, y_train, length=20, batch_size=8, sampling_rate=1, stride=1)"
   ]
  },
  {
   "cell_type": "code",
   "execution_count": 99,
   "id": "803f8b78",
   "metadata": {},
   "outputs": [
    {
     "data": {
      "text/plain": [
       "680"
      ]
     },
     "execution_count": 99,
     "metadata": {},
     "output_type": "execute_result"
    }
   ],
   "source": [
    "len(generator)"
   ]
  },
  {
   "cell_type": "code",
   "execution_count": 100,
   "id": "f2239a1d",
   "metadata": {},
   "outputs": [],
   "source": [
    "generator_val = TimeseriesGenerator(X_test_scaled, y_test, length=20, batch_size=8, sampling_rate=1, stride=1)"
   ]
  },
  {
   "cell_type": "code",
   "execution_count": 101,
   "id": "d66c097d",
   "metadata": {},
   "outputs": [
    {
     "name": "stdout",
     "output_type": "stream",
     "text": [
      "(8, 20, 2) (8,)\n",
      "[[0.14519214 0.08983053]\n",
      " [0.14571379 0.0897544 ]\n",
      " [0.14710485 0.0896784 ]\n",
      " [0.14806121 0.27823653]\n",
      " [0.14988698 0.08937562]\n",
      " [0.15023474 0.08930022]\n",
      " [0.15188663 0.08922495]\n",
      " [0.15379934 0.0891498 ]\n",
      " [0.15440793 0.27665829]\n",
      " [0.15475569 0.08885038]\n",
      " [0.15475569 0.08877582]\n",
      " [0.15466875 0.08870138]\n",
      " [0.1537124  0.08862706]\n",
      " [0.15240828 0.27509756]\n",
      " [0.15136498 0.08833096]\n",
      " [0.1501478  0.08825722]\n",
      " [0.14823509 0.08818361]\n",
      " [0.14710485 0.08811011]\n",
      " [0.1465832  0.27355402]\n",
      " [0.14623544 0.08781726]] -0.0015435717560743\n"
     ]
    }
   ],
   "source": [
    "for X, y in generator:\n",
    "    print(X.shape, y.shape)\n",
    "    print(X[0], y[0])\n",
    "    #listy = [float(X[0][i]) for i in range(len(X[0]))]\n",
    "    #print(listy)\n",
    "    break"
   ]
  },
  {
   "cell_type": "markdown",
   "id": "b8b8683a",
   "metadata": {},
   "source": [
    "# The Model"
   ]
  },
  {
   "cell_type": "code",
   "execution_count": 102,
   "id": "e63be63b",
   "metadata": {},
   "outputs": [],
   "source": [
    "# Learning Rate Scheduler: \n",
    "\n",
    "lr_schedule = ExponentialDecay(\n",
    "    initial_learning_rate=1e-3,\n",
    "    decay_steps=10000,\n",
    "    decay_rate=0.9)"
   ]
  },
  {
   "cell_type": "code",
   "execution_count": 103,
   "id": "54cecc4e",
   "metadata": {},
   "outputs": [],
   "source": [
    "#Optimizers\n",
    "\n",
    "rmsprop = RMSprop(learning_rate=lr_schedule) #or 0.001 for inital test\n",
    "adam = Adam(learning_rate=lr_schedule)"
   ]
  },
  {
   "cell_type": "code",
   "execution_count": 115,
   "id": "1999d220",
   "metadata": {},
   "outputs": [],
   "source": [
    "#Early Stopping Criterion:\n",
    "\n",
    "es = EarlyStopping(monitor=\"val_mae\", patience=30, restore_best_weights=True)"
   ]
  },
  {
   "cell_type": "code",
   "execution_count": 116,
   "id": "b2da34e7",
   "metadata": {},
   "outputs": [],
   "source": [
    "#Initializing and compiling model:\n",
    "\n",
    "def init_model():\n",
    "    \n",
    "    model = Sequential()\n",
    "\n",
    "    #LSTM layers\n",
    "    model.add(layers.LSTM(60, activation=\"tanh\", input_shape=(10,2), return_sequences=False))\n",
    "\n",
    "    #Dense layers\n",
    "    model.add(layers.Dense(150, activation=\"relu\"))\n",
    "    model.add(layers.Dense(1, activation=\"linear\"))\n",
    "\n",
    "    #compiling model\n",
    "    model.compile(loss=\"mse\", optimizer=rmsprop, metrics=\"mae\")\n",
    "    \n",
    "    return model"
   ]
  },
  {
   "cell_type": "code",
   "execution_count": 117,
   "id": "f49df9a4",
   "metadata": {},
   "outputs": [
    {
     "name": "stdout",
     "output_type": "stream",
     "text": [
      "Model: \"sequential_5\"\n",
      "_________________________________________________________________\n",
      " Layer (type)                Output Shape              Param #   \n",
      "=================================================================\n",
      " lstm_5 (LSTM)               (None, 60)                15120     \n",
      "                                                                 \n",
      " dense_10 (Dense)            (None, 150)               9150      \n",
      "                                                                 \n",
      " dense_11 (Dense)            (None, 1)                 151       \n",
      "                                                                 \n",
      "=================================================================\n",
      "Total params: 24,421\n",
      "Trainable params: 24,421\n",
      "Non-trainable params: 0\n",
      "_________________________________________________________________\n"
     ]
    }
   ],
   "source": [
    "#Model layers & params overview:\n",
    "model.summary()"
   ]
  },
  {
   "cell_type": "markdown",
   "id": "e9358f44",
   "metadata": {},
   "source": [
    "# Training and Testing"
   ]
  },
  {
   "cell_type": "code",
   "execution_count": 127,
   "id": "8e34ebea",
   "metadata": {},
   "outputs": [
    {
     "name": "stdout",
     "output_type": "stream",
     "text": [
      "Epoch 1/80\n",
      "680/680 [==============================] - 5s 5ms/step - loss: 6.2142e-05 - mae: 0.0053 - val_loss: 1.1585e-04 - val_mae: 0.0083\n",
      "Epoch 2/80\n",
      "680/680 [==============================] - 3s 4ms/step - loss: 5.7508e-05 - mae: 0.0052 - val_loss: 9.4533e-05 - val_mae: 0.0074\n",
      "Epoch 3/80\n",
      "680/680 [==============================] - 3s 4ms/step - loss: 5.6423e-05 - mae: 0.0052 - val_loss: 8.2148e-05 - val_mae: 0.0068\n",
      "Epoch 4/80\n",
      "680/680 [==============================] - 3s 4ms/step - loss: 5.5357e-05 - mae: 0.0051 - val_loss: 8.1508e-05 - val_mae: 0.0068\n",
      "Epoch 5/80\n",
      "680/680 [==============================] - 3s 4ms/step - loss: 5.4841e-05 - mae: 0.0051 - val_loss: 7.8845e-05 - val_mae: 0.0066\n",
      "Epoch 6/80\n",
      "680/680 [==============================] - 3s 4ms/step - loss: 5.3938e-05 - mae: 0.0050 - val_loss: 8.1581e-05 - val_mae: 0.0068\n",
      "Epoch 7/80\n",
      "680/680 [==============================] - 3s 4ms/step - loss: 5.3653e-05 - mae: 0.0050 - val_loss: 8.0303e-05 - val_mae: 0.0067\n",
      "Epoch 8/80\n",
      "680/680 [==============================] - 3s 4ms/step - loss: 5.3370e-05 - mae: 0.0050 - val_loss: 7.4287e-05 - val_mae: 0.0064\n",
      "Epoch 9/80\n",
      "680/680 [==============================] - 3s 4ms/step - loss: 5.2634e-05 - mae: 0.0050 - val_loss: 8.3079e-05 - val_mae: 0.0069\n",
      "Epoch 10/80\n",
      "680/680 [==============================] - 3s 4ms/step - loss: 5.2636e-05 - mae: 0.0050 - val_loss: 7.3776e-05 - val_mae: 0.0064\n",
      "Epoch 11/80\n",
      "680/680 [==============================] - 3s 4ms/step - loss: 5.2531e-05 - mae: 0.0049 - val_loss: 8.7272e-05 - val_mae: 0.0071\n",
      "Epoch 12/80\n",
      "680/680 [==============================] - 3s 4ms/step - loss: 5.1611e-05 - mae: 0.0049 - val_loss: 7.6819e-05 - val_mae: 0.0066\n",
      "Epoch 13/80\n",
      "680/680 [==============================] - 3s 4ms/step - loss: 5.2058e-05 - mae: 0.0049 - val_loss: 9.3238e-05 - val_mae: 0.0074\n",
      "Epoch 14/80\n",
      "680/680 [==============================] - 3s 4ms/step - loss: 5.1626e-05 - mae: 0.0049 - val_loss: 1.0388e-04 - val_mae: 0.0079\n",
      "Epoch 15/80\n",
      "680/680 [==============================] - 3s 4ms/step - loss: 5.1211e-05 - mae: 0.0049 - val_loss: 7.8289e-05 - val_mae: 0.0067\n",
      "Epoch 16/80\n",
      "680/680 [==============================] - 3s 4ms/step - loss: 5.1042e-05 - mae: 0.0049 - val_loss: 7.4572e-05 - val_mae: 0.0064\n",
      "Epoch 17/80\n",
      "680/680 [==============================] - 3s 4ms/step - loss: 5.0047e-05 - mae: 0.0048 - val_loss: 9.1285e-05 - val_mae: 0.0073\n",
      "Epoch 18/80\n",
      "680/680 [==============================] - 3s 4ms/step - loss: 5.0486e-05 - mae: 0.0048 - val_loss: 7.8853e-05 - val_mae: 0.0067\n",
      "Epoch 19/80\n",
      "680/680 [==============================] - 3s 4ms/step - loss: 5.0044e-05 - mae: 0.0048 - val_loss: 7.4204e-05 - val_mae: 0.0064\n",
      "Epoch 20/80\n",
      "680/680 [==============================] - 3s 4ms/step - loss: 5.0374e-05 - mae: 0.0048 - val_loss: 8.4096e-05 - val_mae: 0.0071\n",
      "Epoch 21/80\n",
      "680/680 [==============================] - 3s 4ms/step - loss: 4.9822e-05 - mae: 0.0048 - val_loss: 7.9047e-05 - val_mae: 0.0068\n",
      "Epoch 22/80\n",
      "680/680 [==============================] - 3s 4ms/step - loss: 4.9118e-05 - mae: 0.0048 - val_loss: 9.0715e-05 - val_mae: 0.0073\n",
      "Epoch 23/80\n",
      "680/680 [==============================] - 3s 4ms/step - loss: 4.9106e-05 - mae: 0.0048 - val_loss: 7.0442e-05 - val_mae: 0.0063\n",
      "Epoch 24/80\n",
      "680/680 [==============================] - 3s 4ms/step - loss: 4.9293e-05 - mae: 0.0047 - val_loss: 8.5624e-05 - val_mae: 0.0070\n",
      "Epoch 25/80\n",
      "680/680 [==============================] - 3s 4ms/step - loss: 4.8977e-05 - mae: 0.0047 - val_loss: 7.6533e-05 - val_mae: 0.0066\n",
      "Epoch 26/80\n",
      "680/680 [==============================] - 3s 4ms/step - loss: 4.9247e-05 - mae: 0.0048 - val_loss: 1.0208e-04 - val_mae: 0.0080\n",
      "Epoch 27/80\n",
      "680/680 [==============================] - 3s 4ms/step - loss: 4.8854e-05 - mae: 0.0047 - val_loss: 7.0727e-05 - val_mae: 0.0063\n",
      "Epoch 28/80\n",
      "680/680 [==============================] - 3s 4ms/step - loss: 4.8114e-05 - mae: 0.0047 - val_loss: 7.2287e-05 - val_mae: 0.0064\n",
      "Epoch 29/80\n",
      "680/680 [==============================] - 3s 4ms/step - loss: 4.8081e-05 - mae: 0.0047 - val_loss: 7.0283e-05 - val_mae: 0.0063\n",
      "Epoch 30/80\n",
      "680/680 [==============================] - 3s 4ms/step - loss: 4.8360e-05 - mae: 0.0047 - val_loss: 8.8489e-05 - val_mae: 0.0074\n",
      "Epoch 31/80\n",
      "680/680 [==============================] - 3s 4ms/step - loss: 4.7946e-05 - mae: 0.0047 - val_loss: 7.3293e-05 - val_mae: 0.0064\n",
      "Epoch 32/80\n",
      "680/680 [==============================] - 3s 4ms/step - loss: 4.8156e-05 - mae: 0.0047 - val_loss: 6.8960e-05 - val_mae: 0.0062\n",
      "Epoch 33/80\n",
      "680/680 [==============================] - 3s 4ms/step - loss: 4.7840e-05 - mae: 0.0047 - val_loss: 6.9537e-05 - val_mae: 0.0063\n",
      "Epoch 34/80\n",
      "680/680 [==============================] - 3s 4ms/step - loss: 4.7484e-05 - mae: 0.0046 - val_loss: 6.9917e-05 - val_mae: 0.0063\n",
      "Epoch 35/80\n",
      "680/680 [==============================] - 3s 4ms/step - loss: 4.7861e-05 - mae: 0.0047 - val_loss: 7.1402e-05 - val_mae: 0.0063\n",
      "Epoch 36/80\n",
      "680/680 [==============================] - 3s 4ms/step - loss: 4.7634e-05 - mae: 0.0047 - val_loss: 8.4823e-05 - val_mae: 0.0069\n",
      "Epoch 37/80\n",
      "680/680 [==============================] - 3s 4ms/step - loss: 4.7095e-05 - mae: 0.0046 - val_loss: 7.4955e-05 - val_mae: 0.0065\n",
      "Epoch 38/80\n",
      "680/680 [==============================] - 3s 4ms/step - loss: 4.7237e-05 - mae: 0.0047 - val_loss: 7.0318e-05 - val_mae: 0.0064\n",
      "Epoch 39/80\n",
      "680/680 [==============================] - 3s 4ms/step - loss: 4.7037e-05 - mae: 0.0046 - val_loss: 7.0648e-05 - val_mae: 0.0063\n",
      "Epoch 40/80\n",
      "680/680 [==============================] - 3s 4ms/step - loss: 4.6931e-05 - mae: 0.0046 - val_loss: 7.2543e-05 - val_mae: 0.0066\n",
      "Epoch 41/80\n",
      "680/680 [==============================] - 3s 4ms/step - loss: 4.6608e-05 - mae: 0.0046 - val_loss: 7.4509e-05 - val_mae: 0.0065\n",
      "Epoch 42/80\n",
      "680/680 [==============================] - 3s 4ms/step - loss: 4.6129e-05 - mae: 0.0046 - val_loss: 7.8562e-05 - val_mae: 0.0070\n",
      "Epoch 43/80\n",
      "680/680 [==============================] - 3s 4ms/step - loss: 4.5953e-05 - mae: 0.0046 - val_loss: 6.8142e-05 - val_mae: 0.0062\n",
      "Epoch 44/80\n",
      "680/680 [==============================] - 3s 4ms/step - loss: 4.6578e-05 - mae: 0.0046 - val_loss: 8.0564e-05 - val_mae: 0.0068\n",
      "Epoch 45/80\n",
      "680/680 [==============================] - 3s 4ms/step - loss: 4.6106e-05 - mae: 0.0046 - val_loss: 7.1425e-05 - val_mae: 0.0065\n",
      "Epoch 46/80\n",
      "680/680 [==============================] - 3s 4ms/step - loss: 4.6059e-05 - mae: 0.0046 - val_loss: 7.7080e-05 - val_mae: 0.0066\n",
      "Epoch 47/80\n",
      "680/680 [==============================] - 3s 4ms/step - loss: 4.5626e-05 - mae: 0.0045 - val_loss: 7.0401e-05 - val_mae: 0.0064\n",
      "Epoch 48/80\n",
      "680/680 [==============================] - 3s 4ms/step - loss: 4.6439e-05 - mae: 0.0046 - val_loss: 6.6773e-05 - val_mae: 0.0062\n",
      "Epoch 49/80\n",
      "680/680 [==============================] - 3s 4ms/step - loss: 4.5471e-05 - mae: 0.0046 - val_loss: 7.2043e-05 - val_mae: 0.0065\n",
      "Epoch 50/80\n",
      "680/680 [==============================] - 3s 4ms/step - loss: 4.5535e-05 - mae: 0.0045 - val_loss: 7.2908e-05 - val_mae: 0.0064\n",
      "Epoch 51/80\n",
      "680/680 [==============================] - 3s 4ms/step - loss: 4.5120e-05 - mae: 0.0045 - val_loss: 6.6440e-05 - val_mae: 0.0061\n",
      "Epoch 52/80\n",
      "680/680 [==============================] - 3s 4ms/step - loss: 4.5197e-05 - mae: 0.0045 - val_loss: 8.6961e-05 - val_mae: 0.0070\n",
      "Epoch 53/80\n",
      "680/680 [==============================] - 3s 4ms/step - loss: 4.5265e-05 - mae: 0.0045 - val_loss: 1.0164e-04 - val_mae: 0.0078\n",
      "Epoch 54/80\n",
      "680/680 [==============================] - 3s 4ms/step - loss: 4.5247e-05 - mae: 0.0045 - val_loss: 8.4540e-05 - val_mae: 0.0073\n",
      "Epoch 55/80\n",
      "680/680 [==============================] - 3s 4ms/step - loss: 4.4864e-05 - mae: 0.0045 - val_loss: 6.6376e-05 - val_mae: 0.0063\n",
      "Epoch 56/80\n",
      "680/680 [==============================] - 3s 4ms/step - loss: 4.4712e-05 - mae: 0.0045 - val_loss: 6.7755e-05 - val_mae: 0.0061\n",
      "Epoch 57/80\n",
      "680/680 [==============================] - 3s 4ms/step - loss: 4.4758e-05 - mae: 0.0045 - val_loss: 6.5504e-05 - val_mae: 0.0062\n",
      "Epoch 58/80\n",
      "680/680 [==============================] - 3s 4ms/step - loss: 4.4401e-05 - mae: 0.0045 - val_loss: 6.6061e-05 - val_mae: 0.0062\n",
      "Epoch 59/80\n"
     ]
    },
    {
     "name": "stdout",
     "output_type": "stream",
     "text": [
      "680/680 [==============================] - 3s 4ms/step - loss: 4.4503e-05 - mae: 0.0045 - val_loss: 7.1715e-05 - val_mae: 0.0063\n",
      "Epoch 60/80\n",
      "680/680 [==============================] - 3s 4ms/step - loss: 4.4542e-05 - mae: 0.0044 - val_loss: 7.8813e-05 - val_mae: 0.0067\n",
      "Epoch 61/80\n",
      "680/680 [==============================] - 3s 4ms/step - loss: 4.4093e-05 - mae: 0.0045 - val_loss: 6.4438e-05 - val_mae: 0.0061\n",
      "Epoch 62/80\n",
      "680/680 [==============================] - 3s 4ms/step - loss: 4.4074e-05 - mae: 0.0044 - val_loss: 6.4159e-05 - val_mae: 0.0061\n",
      "Epoch 63/80\n",
      "680/680 [==============================] - 3s 4ms/step - loss: 4.3699e-05 - mae: 0.0045 - val_loss: 6.3734e-05 - val_mae: 0.0060\n",
      "Epoch 64/80\n",
      "680/680 [==============================] - 3s 4ms/step - loss: 4.4113e-05 - mae: 0.0045 - val_loss: 6.8489e-05 - val_mae: 0.0062\n",
      "Epoch 65/80\n",
      "680/680 [==============================] - 3s 4ms/step - loss: 4.3987e-05 - mae: 0.0044 - val_loss: 9.4134e-05 - val_mae: 0.0073\n",
      "Epoch 66/80\n",
      "680/680 [==============================] - 3s 4ms/step - loss: 4.3405e-05 - mae: 0.0044 - val_loss: 9.4337e-05 - val_mae: 0.0073\n",
      "Epoch 67/80\n",
      "680/680 [==============================] - 3s 4ms/step - loss: 4.3505e-05 - mae: 0.0044 - val_loss: 7.4800e-05 - val_mae: 0.0064\n",
      "Epoch 68/80\n",
      "680/680 [==============================] - 3s 4ms/step - loss: 4.3441e-05 - mae: 0.0044 - val_loss: 6.8225e-05 - val_mae: 0.0064\n",
      "Epoch 69/80\n",
      "680/680 [==============================] - 3s 4ms/step - loss: 4.3305e-05 - mae: 0.0044 - val_loss: 6.4215e-05 - val_mae: 0.0060\n",
      "Epoch 70/80\n",
      "680/680 [==============================] - 3s 4ms/step - loss: 4.3397e-05 - mae: 0.0044 - val_loss: 6.3135e-05 - val_mae: 0.0060\n",
      "Epoch 71/80\n",
      "680/680 [==============================] - 3s 4ms/step - loss: 4.3161e-05 - mae: 0.0044 - val_loss: 6.9550e-05 - val_mae: 0.0062\n",
      "Epoch 72/80\n",
      "680/680 [==============================] - 3s 4ms/step - loss: 4.3323e-05 - mae: 0.0044 - val_loss: 9.5778e-05 - val_mae: 0.0074\n",
      "Epoch 73/80\n",
      "680/680 [==============================] - 3s 4ms/step - loss: 4.2935e-05 - mae: 0.0044 - val_loss: 6.4966e-05 - val_mae: 0.0061\n",
      "Epoch 74/80\n",
      "680/680 [==============================] - 3s 4ms/step - loss: 4.2720e-05 - mae: 0.0044 - val_loss: 6.4242e-05 - val_mae: 0.0060\n",
      "Epoch 75/80\n",
      "680/680 [==============================] - 3s 4ms/step - loss: 4.2470e-05 - mae: 0.0044 - val_loss: 7.3361e-05 - val_mae: 0.0064\n",
      "Epoch 76/80\n",
      "680/680 [==============================] - 3s 4ms/step - loss: 4.2545e-05 - mae: 0.0043 - val_loss: 6.3299e-05 - val_mae: 0.0059\n",
      "Epoch 77/80\n",
      "680/680 [==============================] - 3s 4ms/step - loss: 4.2156e-05 - mae: 0.0043 - val_loss: 6.6393e-05 - val_mae: 0.0061\n",
      "Epoch 78/80\n",
      "680/680 [==============================] - 3s 4ms/step - loss: 4.2238e-05 - mae: 0.0043 - val_loss: 6.6170e-05 - val_mae: 0.0061\n",
      "Epoch 79/80\n",
      "680/680 [==============================] - 3s 4ms/step - loss: 4.1929e-05 - mae: 0.0043 - val_loss: 6.3327e-05 - val_mae: 0.0059\n",
      "Epoch 80/80\n",
      "680/680 [==============================] - 3s 4ms/step - loss: 4.2123e-05 - mae: 0.0043 - val_loss: 6.4481e-05 - val_mae: 0.0060\n"
     ]
    }
   ],
   "source": [
    "#Instantiating model\n",
    "\n",
    "model = init_model()\n",
    "\n",
    "#TRAINING THE MODEL:\n",
    "\n",
    "history = model.fit(\n",
    "    generator, epochs=80, validation_data=generator_val, shuffle=True, callbacks=es\n",
    ")"
   ]
  },
  {
   "cell_type": "code",
   "execution_count": 128,
   "id": "ab06fd0e",
   "metadata": {},
   "outputs": [
    {
     "data": {
      "text/plain": [
       "array([<AxesSubplot: title={'center': 'MSE'}, xlabel='Epoch', ylabel='Loss'>,\n",
       "       <AxesSubplot: title={'center': 'MAE'}, xlabel='Epoch', ylabel='MAE'>],\n",
       "      dtype=object)"
      ]
     },
     "execution_count": 128,
     "metadata": {},
     "output_type": "execute_result"
    },
    {
     "data": {
      "image/png": "[encoded data removed]",
      "text/plain": [
       "<Figure size 2000x700 with 2 Axes>"
      ]
     },
     "metadata": {},
     "output_type": "display_data"
    }
   ],
   "source": [
    "# Learning Curves:\n",
    "plot_history(history)"
   ]
  },
  {
   "cell_type": "code",
   "execution_count": 129,
   "id": "fb0370b6",
   "metadata": {},
   "outputs": [
    {
     "data": {
      "text/plain": [
       "0.0048812746058099115"
      ]
     },
     "execution_count": 129,
     "metadata": {},
     "output_type": "execute_result"
    }
   ],
   "source": [
    "#Baseline MAE\n",
    "0.0048812746058099115"
   ]
  },
  {
   "cell_type": "code",
   "execution_count": 130,
   "id": "fb52ae97",
   "metadata": {},
   "outputs": [
    {
     "name": "stdout",
     "output_type": "stream",
     "text": [
      "168/168 [==============================] - 0s 978us/step - loss: 6.4481e-05 - mae: 0.0060\n"
     ]
    },
    {
     "data": {
      "text/plain": [
       "[6.448109343182296e-05, 0.006032424047589302]"
      ]
     },
     "execution_count": 130,
     "metadata": {},
     "output_type": "execute_result"
    }
   ],
   "source": [
    "model.evaluate(generator_val)"
   ]
  },
  {
   "cell_type": "markdown",
   "id": "fff23432",
   "metadata": {},
   "source": [
    "# Learning Curves viz code:"
   ]
  },
  {
   "cell_type": "code",
   "execution_count": 82,
   "id": "5a6381bb",
   "metadata": {},
   "outputs": [],
   "source": [
    "def plot_history(history):\n",
    "    \n",
    "    fig, ax = plt.subplots(1,2, figsize=(20,7))\n",
    "    # Loss:MSE\n",
    "    ax[0].plot(history.history['loss'])\n",
    "    ax[0].plot(history.history['val_loss'])\n",
    "    ax[0].set_title('MSE')\n",
    "    ax[0].set_ylabel('Loss')\n",
    "    ax[0].set_xlabel('Epoch')\n",
    "    ax[0].legend(['Train', 'Validation'], loc='best')\n",
    "    ax[0].grid(axis=\"x\",linewidth=0.5)\n",
    "    ax[0].grid(axis=\"y\",linewidth=0.5)\n",
    "    \n",
    "    # Metrics:MAE\n",
    "    \n",
    "    ax[1].plot(history.history['mae'])\n",
    "    ax[1].plot(history.history['val_mae'])\n",
    "    ax[1].set_title('MAE')\n",
    "    ax[1].set_ylabel('MAE')\n",
    "    ax[1].set_xlabel('Epoch')\n",
    "    ax[1].legend(['Train', 'Validation'], loc='best')\n",
    "    ax[1].grid(axis=\"x\",linewidth=0.5)\n",
    "    ax[1].grid(axis=\"y\",linewidth=0.5)\n",
    "                        \n",
    "    return ax"
   ]
  },
  {
   "cell_type": "code",
   "execution_count": null,
   "id": "abc95763",
   "metadata": {},
   "outputs": [],
   "source": []
  }
 ],
 "metadata": {
  "kernelspec": {
   "display_name": "Python 3 (ipykernel)",
   "language": "python",
   "name": "python3"
  },
  "language_info": {
   "codemirror_mode": {
    "name": "ipython",
    "version": 3
   },
   "file_extension": ".py",
   "mimetype": "text/x-python",
   "name": "python",
   "nbconvert_exporter": "python",
   "pygments_lexer": "ipython3",
   "version": "3.8.12"
  },
  "toc": {
   "base_numbering": 1,
   "nav_menu": {},
   "number_sections": true,
   "sideBar": true,
   "skip_h1_title": false,
   "title_cell": "Table of Contents",
   "title_sidebar": "Contents",
   "toc_cell": false,
   "toc_position": {},
   "toc_section_display": true,
   "toc_window_display": false
  }
 },
 "nbformat": 4,
 "nbformat_minor": 5
}
