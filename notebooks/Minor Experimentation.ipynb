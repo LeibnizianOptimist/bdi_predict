{
 "cells": [
  {
   "cell_type": "markdown",
   "id": "2aee284f",
   "metadata": {},
   "source": [
    "# Testing out dev ops code for glob in load_model() function"
   ]
  },
  {
   "cell_type": "code",
   "execution_count": 4,
   "id": "a70fb94d",
   "metadata": {},
   "outputs": [
    {
     "name": "stdout",
     "output_type": "stream",
     "text": [
      "The autoreload extension is already loaded. To reload it, use:\n",
      "  %reload_ext autoreload\n"
     ]
    }
   ],
   "source": [
    "%load_ext autoreload \n",
    "%autoreload 2\n"
   ]
  },
  {
   "cell_type": "code",
   "execution_count": 5,
   "id": "96c7ba1a",
   "metadata": {},
   "outputs": [],
   "source": [
    "import glob"
   ]
  },
  {
   "cell_type": "code",
   "execution_count": 6,
   "id": "21e06acf",
   "metadata": {},
   "outputs": [],
   "source": [
    "from bdi_predict.ml_logic.params import BASE_PROJECT_PATH, LOCAL_REGISTRY_PATH"
   ]
  },
  {
   "cell_type": "code",
   "execution_count": 7,
   "id": "78405383",
   "metadata": {},
   "outputs": [
    {
     "name": "stdout",
     "output_type": "stream",
     "text": [
      "/Users/justinrlawes/code/LeibnizianOptimist/bdi_predict\n"
     ]
    }
   ],
   "source": [
    "print(BASE_PROJECT_PATH)"
   ]
  },
  {
   "cell_type": "code",
   "execution_count": 8,
   "id": "b3511fe7",
   "metadata": {},
   "outputs": [
    {
     "name": "stdout",
     "output_type": "stream",
     "text": [
      "/Users/justinrlawes/code/LeibnizianOptimist/bdi_predict/training_outputs\n"
     ]
    }
   ],
   "source": [
    "print(LOCAL_REGISTRY_PATH)"
   ]
  },
  {
   "cell_type": "code",
   "execution_count": 9,
   "id": "de42c8d4",
   "metadata": {},
   "outputs": [],
   "source": [
    "model_directory = os.path.join(LOCAL_REGISTRY_PATH, \"models\")"
   ]
  },
  {
   "cell_type": "code",
   "execution_count": 10,
   "id": "b33edac3",
   "metadata": {},
   "outputs": [
    {
     "name": "stdout",
     "output_type": "stream",
     "text": [
      "/Users/justinrlawes/code/LeibnizianOptimist/bdi_predict/training_outputs/models\n"
     ]
    }
   ],
   "source": [
    "print(model_directory)"
   ]
  },
  {
   "cell_type": "code",
   "execution_count": 11,
   "id": "866d24b3",
   "metadata": {},
   "outputs": [],
   "source": [
    "results = glob.glob(f\"{model_directory}/*\")"
   ]
  },
  {
   "cell_type": "code",
   "execution_count": 12,
   "id": "d403b916",
   "metadata": {},
   "outputs": [
    {
     "name": "stdout",
     "output_type": "stream",
     "text": [
      "['/Users/justinrlawes/code/LeibnizianOptimist/bdi_predict/training_outputs/models/univariate model']\n"
     ]
    }
   ],
   "source": [
    "print(results)"
   ]
  },
  {
   "cell_type": "code",
   "execution_count": null,
   "id": "7b888b79",
   "metadata": {},
   "outputs": [],
   "source": []
  }
 ],
 "metadata": {
  "kernelspec": {
   "display_name": "Python 3.8.12 64-bit ('bdi_predict')",
   "language": "python",
   "name": "python3"
  },
  "language_info": {
   "codemirror_mode": {
    "name": "ipython",
    "version": 3
   },
   "file_extension": ".py",
   "mimetype": "text/x-python",
   "name": "python",
   "nbconvert_exporter": "python",
   "pygments_lexer": "ipython3",
   "version": "3.8.12"
  },
  "toc": {
   "base_numbering": 1,
   "nav_menu": {},
   "number_sections": true,
   "sideBar": true,
   "skip_h1_title": false,
   "title_cell": "Table of Contents",
   "title_sidebar": "Contents",
   "toc_cell": false,
   "toc_position": {},
   "toc_section_display": true,
   "toc_window_display": false
  },
  "vscode": {
   "interpreter": {
    "hash": "6a18038725f0919ef246ab923463deae5e7b10d74019b887690825d8101c5f6c"
   }
  }
 },
 "nbformat": 4,
 "nbformat_minor": 5
}
