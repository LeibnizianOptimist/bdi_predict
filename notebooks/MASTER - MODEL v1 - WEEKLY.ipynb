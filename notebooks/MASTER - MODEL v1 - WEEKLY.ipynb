{
 "cells": [
  {
   "cell_type": "markdown",
   "id": "6b310b5d",
   "metadata": {},
   "source": [
    "# Our first model"
   ]
  },
  {
   "cell_type": "code",
   "execution_count": 1,
   "id": "d0a0e13a",
   "metadata": {},
   "outputs": [],
   "source": [
    "import pandas as pd \n",
    "import numpy as np"
   ]
  },
  {
   "cell_type": "code",
   "execution_count": 201,
   "id": "087ddbc7",
   "metadata": {},
   "outputs": [],
   "source": [
    "from tensorflow.keras import Sequential\n",
    "from tensorflow.keras import layers\n",
    "from sklearn.model_selection import TimeSeriesSplit\n",
    "from tensorflow.keras.preprocessing.sequence import TimeseriesGenerator\n",
    "from sklearn.preprocessing import MinMaxScaler\n",
    "from sklearn.preprocessing import StandardScaler"
   ]
  },
  {
   "cell_type": "markdown",
   "id": "4fdb58e0",
   "metadata": {},
   "source": [
    "## Train-test-split for time series"
   ]
  },
  {
   "cell_type": "code",
   "execution_count": 4,
   "id": "42e2ac03",
   "metadata": {},
   "outputs": [],
   "source": [
    "df = pd.read_csv(\"../raw_data/data/merged_data_prescaling.csv\")"
   ]
  },
  {
   "cell_type": "code",
   "execution_count": 11,
   "id": "a6a6d780",
   "metadata": {},
   "outputs": [
    {
     "data": {
      "text/html": [
       "<div>\n",
       "<style scoped>\n",
       "    .dataframe tbody tr th:only-of-type {\n",
       "        vertical-align: middle;\n",
       "    }\n",
       "\n",
       "    .dataframe tbody tr th {\n",
       "        vertical-align: top;\n",
       "    }\n",
       "\n",
       "    .dataframe thead th {\n",
       "        text-align: right;\n",
       "    }\n",
       "</style>\n",
       "<table border=\"1\" class=\"dataframe\">\n",
       "  <thead>\n",
       "    <tr style=\"text-align: right;\">\n",
       "      <th></th>\n",
       "      <th>bdi</th>\n",
       "      <th>cgdp</th>\n",
       "      <th>csteel</th>\n",
       "      <th>CIP</th>\n",
       "    </tr>\n",
       "    <tr>\n",
       "      <th>time</th>\n",
       "      <th></th>\n",
       "      <th></th>\n",
       "      <th></th>\n",
       "      <th></th>\n",
       "    </tr>\n",
       "  </thead>\n",
       "  <tbody>\n",
       "    <tr>\n",
       "      <th>1995-01-23</th>\n",
       "      <td>1983.0</td>\n",
       "      <td>5.890383e+11</td>\n",
       "      <td>7.349355e+06</td>\n",
       "      <td>14.721669</td>\n",
       "    </tr>\n",
       "    <tr>\n",
       "      <th>1995-01-30</th>\n",
       "      <td>1959.0</td>\n",
       "      <td>5.923030e+11</td>\n",
       "      <td>7.317968e+06</td>\n",
       "      <td>15.351956</td>\n",
       "    </tr>\n",
       "  </tbody>\n",
       "</table>\n",
       "</div>"
      ],
      "text/plain": [
       "               bdi          cgdp        csteel        CIP\n",
       "time                                                     \n",
       "1995-01-23  1983.0  5.890383e+11  7.349355e+06  14.721669\n",
       "1995-01-30  1959.0  5.923030e+11  7.317968e+06  15.351956"
      ]
     },
     "execution_count": 11,
     "metadata": {},
     "output_type": "execute_result"
    }
   ],
   "source": [
    "df.head(2)"
   ]
  },
  {
   "cell_type": "code",
   "execution_count": null,
   "id": "c4380a41",
   "metadata": {},
   "outputs": [],
   "source": [
    "df.set_index(\"time\", inplace=True)"
   ]
  },
  {
   "cell_type": "code",
   "execution_count": 9,
   "id": "0df73c21",
   "metadata": {},
   "outputs": [],
   "source": [
    "df.drop(columns=\"Unnamed: 0\", inplace=True)"
   ]
  },
  {
   "cell_type": "code",
   "execution_count": 10,
   "id": "236a061f",
   "metadata": {},
   "outputs": [
    {
     "data": {
      "text/html": [
       "<div>\n",
       "<style scoped>\n",
       "    .dataframe tbody tr th:only-of-type {\n",
       "        vertical-align: middle;\n",
       "    }\n",
       "\n",
       "    .dataframe tbody tr th {\n",
       "        vertical-align: top;\n",
       "    }\n",
       "\n",
       "    .dataframe thead th {\n",
       "        text-align: right;\n",
       "    }\n",
       "</style>\n",
       "<table border=\"1\" class=\"dataframe\">\n",
       "  <thead>\n",
       "    <tr style=\"text-align: right;\">\n",
       "      <th></th>\n",
       "      <th>bdi</th>\n",
       "      <th>cgdp</th>\n",
       "      <th>csteel</th>\n",
       "      <th>CIP</th>\n",
       "    </tr>\n",
       "    <tr>\n",
       "      <th>time</th>\n",
       "      <th></th>\n",
       "      <th></th>\n",
       "      <th></th>\n",
       "      <th></th>\n",
       "    </tr>\n",
       "  </thead>\n",
       "  <tbody>\n",
       "    <tr>\n",
       "      <th>1995-01-23</th>\n",
       "      <td>1983.0</td>\n",
       "      <td>5.890383e+11</td>\n",
       "      <td>7.349355e+06</td>\n",
       "      <td>14.721669</td>\n",
       "    </tr>\n",
       "    <tr>\n",
       "      <th>1995-01-30</th>\n",
       "      <td>1959.0</td>\n",
       "      <td>5.923030e+11</td>\n",
       "      <td>7.317968e+06</td>\n",
       "      <td>15.351956</td>\n",
       "    </tr>\n",
       "  </tbody>\n",
       "</table>\n",
       "</div>"
      ],
      "text/plain": [
       "               bdi          cgdp        csteel        CIP\n",
       "time                                                     \n",
       "1995-01-23  1983.0  5.890383e+11  7.349355e+06  14.721669\n",
       "1995-01-30  1959.0  5.923030e+11  7.317968e+06  15.351956"
      ]
     },
     "execution_count": 10,
     "metadata": {},
     "output_type": "execute_result"
    }
   ],
   "source": [
    "df.head(2)"
   ]
  },
  {
   "cell_type": "markdown",
   "id": "9643454d",
   "metadata": {},
   "source": [
    "## TimeseriesGenerator"
   ]
  },
  {
   "cell_type": "code",
   "execution_count": 15,
   "id": "7bab5f2c",
   "metadata": {},
   "outputs": [],
   "source": [
    "folds = TimeSeriesSplit(n_splits=5)\n",
    "\n",
    "train_data = []\n",
    "test_data = list()\n",
    "\n",
    "for i, (train_index, test_index) in enumerate(folds.split(df)):\n",
    "    train_data.append(df.iloc[train_index])\n",
    "    test_data.append(df.iloc[test_index])\n"
   ]
  },
  {
   "cell_type": "code",
   "execution_count": 19,
   "id": "ac08310e",
   "metadata": {},
   "outputs": [
    {
     "data": {
      "text/html": [
       "<div>\n",
       "<style scoped>\n",
       "    .dataframe tbody tr th:only-of-type {\n",
       "        vertical-align: middle;\n",
       "    }\n",
       "\n",
       "    .dataframe tbody tr th {\n",
       "        vertical-align: top;\n",
       "    }\n",
       "\n",
       "    .dataframe thead th {\n",
       "        text-align: right;\n",
       "    }\n",
       "</style>\n",
       "<table border=\"1\" class=\"dataframe\">\n",
       "  <thead>\n",
       "    <tr style=\"text-align: right;\">\n",
       "      <th></th>\n",
       "      <th>bdi</th>\n",
       "      <th>cgdp</th>\n",
       "      <th>csteel</th>\n",
       "      <th>CIP</th>\n",
       "    </tr>\n",
       "    <tr>\n",
       "      <th>time</th>\n",
       "      <th></th>\n",
       "      <th></th>\n",
       "      <th></th>\n",
       "      <th></th>\n",
       "    </tr>\n",
       "  </thead>\n",
       "  <tbody>\n",
       "    <tr>\n",
       "      <th>1995-01-23</th>\n",
       "      <td>1983.0</td>\n",
       "      <td>5.890383e+11</td>\n",
       "      <td>7.349355e+06</td>\n",
       "      <td>14.721669</td>\n",
       "    </tr>\n",
       "    <tr>\n",
       "      <th>1995-01-30</th>\n",
       "      <td>1959.0</td>\n",
       "      <td>5.923030e+11</td>\n",
       "      <td>7.317968e+06</td>\n",
       "      <td>15.351956</td>\n",
       "    </tr>\n",
       "  </tbody>\n",
       "</table>\n",
       "</div>"
      ],
      "text/plain": [
       "               bdi          cgdp        csteel        CIP\n",
       "time                                                     \n",
       "1995-01-23  1983.0  5.890383e+11  7.349355e+06  14.721669\n",
       "1995-01-30  1959.0  5.923030e+11  7.317968e+06  15.351956"
      ]
     },
     "execution_count": 19,
     "metadata": {},
     "output_type": "execute_result"
    }
   ],
   "source": [
    "train_data[2].head(2)"
   ]
  },
  {
   "cell_type": "code",
   "execution_count": 21,
   "id": "2dff2681",
   "metadata": {},
   "outputs": [
    {
     "data": {
      "text/plain": [
       "231"
      ]
     },
     "execution_count": 21,
     "metadata": {},
     "output_type": "execute_result"
    }
   ],
   "source": [
    "len(test_data[2])"
   ]
  },
  {
   "cell_type": "code",
   "execution_count": 20,
   "id": "57099bbf",
   "metadata": {},
   "outputs": [
    {
     "data": {
      "text/html": [
       "<div>\n",
       "<style scoped>\n",
       "    .dataframe tbody tr th:only-of-type {\n",
       "        vertical-align: middle;\n",
       "    }\n",
       "\n",
       "    .dataframe tbody tr th {\n",
       "        vertical-align: top;\n",
       "    }\n",
       "\n",
       "    .dataframe thead th {\n",
       "        text-align: right;\n",
       "    }\n",
       "</style>\n",
       "<table border=\"1\" class=\"dataframe\">\n",
       "  <thead>\n",
       "    <tr style=\"text-align: right;\">\n",
       "      <th></th>\n",
       "      <th>bdi</th>\n",
       "      <th>cgdp</th>\n",
       "      <th>csteel</th>\n",
       "      <th>CIP</th>\n",
       "    </tr>\n",
       "    <tr>\n",
       "      <th>time</th>\n",
       "      <th></th>\n",
       "      <th></th>\n",
       "      <th></th>\n",
       "      <th></th>\n",
       "    </tr>\n",
       "  </thead>\n",
       "  <tbody>\n",
       "    <tr>\n",
       "      <th>2008-07-07</th>\n",
       "      <td>9230.0</td>\n",
       "      <td>4.175011e+12</td>\n",
       "      <td>4.461429e+07</td>\n",
       "      <td>14.319898</td>\n",
       "    </tr>\n",
       "    <tr>\n",
       "      <th>2008-07-14</th>\n",
       "      <td>9012.0</td>\n",
       "      <td>4.194977e+12</td>\n",
       "      <td>4.413513e+07</td>\n",
       "      <td>13.857131</td>\n",
       "    </tr>\n",
       "  </tbody>\n",
       "</table>\n",
       "</div>"
      ],
      "text/plain": [
       "               bdi          cgdp        csteel        CIP\n",
       "time                                                     \n",
       "2008-07-07  9230.0  4.175011e+12  4.461429e+07  14.319898\n",
       "2008-07-14  9012.0  4.194977e+12  4.413513e+07  13.857131"
      ]
     },
     "execution_count": 20,
     "metadata": {},
     "output_type": "execute_result"
    }
   ],
   "source": [
    "test_data[2].head(2)"
   ]
  },
  {
   "cell_type": "code",
   "execution_count": 204,
   "id": "427178ab",
   "metadata": {},
   "outputs": [],
   "source": [
    "# X_train_list = []\n",
    "# y_train_list = []\n",
    "data_gen_list = []\n",
    "scaler = MinMaxScaler()\n",
    "for i in range(5):\n",
    "    X = train_data[i]\n",
    "\n",
    "    X_scaled = scaler.fit_transform(train_data[i])\n",
    "    y = train_data[i][\"bdi\"]\n",
    "    data_gen = TimeseriesGenerator(data=X_scaled, targets=y, length=12, batch_size=4)\n",
    "#     X_train_list.append(X)\n",
    "#     y_train_list.append(y_train_list)\n",
    "    data_gen_list.append(data_gen)\n"
   ]
  },
  {
   "cell_type": "code",
   "execution_count": 205,
   "id": "ecfd0bce",
   "metadata": {},
   "outputs": [],
   "source": [
    "#Creating validation_data:\n",
    "data_gen_val_list = []\n",
    "\n",
    "for i in range(5):\n",
    "    X = test_data[i]\n",
    "    X_test_scaled = scaler.fit_transform(train_data[i])\n",
    "    y = test_data[i][\"bdi\"]\n",
    "    data_gen_val = TimeseriesGenerator(data=X, targets=y, length=12, batch_size=4)\n",
    "#     X_train_list.append(X)\n",
    "#     y_train_list.append(y_train_list)\n",
    "    data_gen_val_list.append(data_gen_val)\n"
   ]
  },
  {
   "cell_type": "code",
   "execution_count": 206,
   "id": "84ce3442",
   "metadata": {},
   "outputs": [
    {
     "data": {
      "text/plain": [
       "55"
      ]
     },
     "execution_count": 206,
     "metadata": {},
     "output_type": "execute_result"
    }
   ],
   "source": [
    "len(data_gen_val_list[4])"
   ]
  },
  {
   "cell_type": "code",
   "execution_count": 207,
   "id": "a0d3dd47",
   "metadata": {},
   "outputs": [
    {
     "data": {
      "text/plain": [
       "287"
      ]
     },
     "execution_count": 207,
     "metadata": {},
     "output_type": "execute_result"
    }
   ],
   "source": [
    "len(data_gen_list[4])"
   ]
  },
  {
   "cell_type": "markdown",
   "id": "afd80823",
   "metadata": {},
   "source": [
    "## Defining our model"
   ]
  },
  {
   "cell_type": "code",
   "execution_count": 209,
   "id": "40e541a6",
   "metadata": {},
   "outputs": [],
   "source": [
    "from tensorflow.keras.optimizers import Adam"
   ]
  },
  {
   "cell_type": "code",
   "execution_count": 210,
   "id": "086a7dcc",
   "metadata": {},
   "outputs": [],
   "source": [
    "adam = Adam(learning_rate=0.01)"
   ]
  },
  {
   "cell_type": "code",
   "execution_count": 211,
   "id": "5a3ed18c",
   "metadata": {},
   "outputs": [],
   "source": [
    "def init_model():\n",
    "    \n",
    "    model = Sequential()\n",
    "\n",
    "\n",
    "    #LSTM layers\n",
    "    model.add(layers.LSTM(128, activation=\"tanh\", input_shape=(8,4), dropout=0.2, return_sequences=True, kernel_regularizer=\"l2\"))\n",
    "#     model.add(layers.LSTM(30, activation=\"tanh\", return_sequences=False, kernel_regularizer=\"l2\"))\n",
    "\n",
    "    #Dense layers\n",
    "    model.add(layers.Dense(30, activation=\"relu\"))\n",
    "    \n",
    "    model.add(layers.Dense(1, activation=\"linear\"))\n",
    "    \n",
    "\n",
    "    model.compile(loss=\"mse\", optimizer=adam, metrics=\"mae\")\n",
    "    \n",
    "    return model"
   ]
  },
  {
   "cell_type": "code",
   "execution_count": 212,
   "id": "aeaaf203",
   "metadata": {},
   "outputs": [],
   "source": [
    "model = init_model()"
   ]
  },
  {
   "cell_type": "markdown",
   "id": "8ae51ec5",
   "metadata": {},
   "source": [
    "##  Training the model"
   ]
  },
  {
   "cell_type": "code",
   "execution_count": 213,
   "id": "72a2b789",
   "metadata": {},
   "outputs": [],
   "source": [
    "from tensorflow.keras.callbacks import EarlyStopping\n",
    "es = EarlyStopping(monitor=\"val_loss\", patience=20, restore_best_weights=True)"
   ]
  },
  {
   "cell_type": "code",
   "execution_count": 214,
   "id": "c4ac3763",
   "metadata": {},
   "outputs": [],
   "source": [
    "from tensorflow.keras.callbacks import LearningRateScheduler"
   ]
  },
  {
   "cell_type": "code",
   "execution_count": null,
   "id": "9f3581e7",
   "metadata": {},
   "outputs": [],
   "source": [
    "# def scheduler():\n",
    "#     if "
   ]
  },
  {
   "cell_type": "code",
   "execution_count": 115,
   "id": "b94cecca",
   "metadata": {},
   "outputs": [
    {
     "ename": "TypeError",
     "evalue": "__init__() missing 1 required positional argument: 'schedule'",
     "output_type": "error",
     "traceback": [
      "\u001b[0;31m---------------------------------------------------------------------------\u001b[0m",
      "\u001b[0;31mTypeError\u001b[0m                                 Traceback (most recent call last)",
      "Cell \u001b[0;32mIn [115], line 1\u001b[0m\n\u001b[0;32m----> 1\u001b[0m lrs \u001b[38;5;241m=\u001b[39m \u001b[43mLearningRateScheduler\u001b[49m\u001b[43m(\u001b[49m\u001b[43m)\u001b[49m\n",
      "\u001b[0;31mTypeError\u001b[0m: __init__() missing 1 required positional argument: 'schedule'"
     ]
    }
   ],
   "source": [
    "#lrs = LearningRateScheduler(schedule)"
   ]
  },
  {
   "cell_type": "code",
   "execution_count": 216,
   "id": "a995b4cc",
   "metadata": {},
   "outputs": [
    {
     "name": "stdout",
     "output_type": "stream",
     "text": [
      "Epoch 1/100\n",
      "287/287 [==============================] - 1s 4ms/step - loss: 4020894.7500 - mae: 1392.2697 - val_loss: 873557.3125 - val_mae: 671.4463\n",
      "Epoch 2/100\n",
      "287/287 [==============================] - 1s 4ms/step - loss: 4023556.0000 - mae: 1395.8466 - val_loss: 872497.1875 - val_mae: 665.8309\n",
      "Epoch 3/100\n",
      "287/287 [==============================] - 1s 4ms/step - loss: 4033698.2500 - mae: 1381.2866 - val_loss: 973235.8125 - val_mae: 805.8555\n",
      "Epoch 4/100\n",
      "287/287 [==============================] - 1s 4ms/step - loss: 3983145.5000 - mae: 1389.6549 - val_loss: 983046.0625 - val_mae: 814.4333\n",
      "Epoch 5/100\n",
      "287/287 [==============================] - 1s 4ms/step - loss: 4016761.2500 - mae: 1369.3799 - val_loss: 1231266.3750 - val_mae: 975.1678\n",
      "Epoch 6/100\n",
      "287/287 [==============================] - 1s 4ms/step - loss: 3877590.5000 - mae: 1341.0375 - val_loss: 928835.0625 - val_mae: 624.8113\n",
      "Epoch 7/100\n",
      "287/287 [==============================] - 1s 4ms/step - loss: 3776589.2500 - mae: 1233.7471 - val_loss: 944478.7500 - val_mae: 625.4435\n",
      "Epoch 8/100\n",
      "287/287 [==============================] - 1s 4ms/step - loss: 2765749.2500 - mae: 1007.4573 - val_loss: 1754991.2500 - val_mae: 974.1932\n",
      "Epoch 9/100\n",
      "287/287 [==============================] - 1s 4ms/step - loss: 1942898.0000 - mae: 842.8689 - val_loss: 2180008.5000 - val_mae: 1149.9130\n",
      "Epoch 10/100\n",
      "287/287 [==============================] - 1s 4ms/step - loss: 1791220.1250 - mae: 801.9565 - val_loss: 2436790.2500 - val_mae: 1254.5381\n",
      "Epoch 11/100\n",
      "287/287 [==============================] - 1s 4ms/step - loss: 1379915.6250 - mae: 713.2637 - val_loss: 3632657.0000 - val_mae: 1664.2725\n",
      "Epoch 12/100\n",
      "287/287 [==============================] - 1s 4ms/step - loss: 1531694.6250 - mae: 737.3636 - val_loss: 2622351.7500 - val_mae: 1326.4716\n",
      "Epoch 13/100\n",
      "287/287 [==============================] - 1s 4ms/step - loss: 1319903.2500 - mae: 689.4646 - val_loss: 3442924.5000 - val_mae: 1606.1853\n",
      "Epoch 14/100\n",
      "287/287 [==============================] - 1s 4ms/step - loss: 1289675.6250 - mae: 677.8605 - val_loss: 3417205.7500 - val_mae: 1598.1628\n",
      "Epoch 15/100\n",
      "287/287 [==============================] - 1s 4ms/step - loss: 1260207.2500 - mae: 672.0387 - val_loss: 3526081.5000 - val_mae: 1631.9421\n",
      "Epoch 16/100\n",
      "287/287 [==============================] - 1s 4ms/step - loss: 1159859.8750 - mae: 657.1459 - val_loss: 3617614.0000 - val_mae: 1659.7407\n",
      "Epoch 17/100\n",
      "287/287 [==============================] - 1s 4ms/step - loss: 1183389.6250 - mae: 642.2439 - val_loss: 3954318.0000 - val_mae: 1758.2532\n",
      "Epoch 18/100\n",
      "287/287 [==============================] - 1s 4ms/step - loss: 1165348.2500 - mae: 619.8543 - val_loss: 4015889.5000 - val_mae: 1775.6730\n",
      "Epoch 19/100\n",
      "287/287 [==============================] - 1s 4ms/step - loss: 1042148.5625 - mae: 619.7055 - val_loss: 3553753.2500 - val_mae: 1640.1884\n",
      "Epoch 20/100\n",
      "287/287 [==============================] - 1s 5ms/step - loss: 1029551.0625 - mae: 613.2810 - val_loss: 3664943.2500 - val_mae: 1673.8402\n",
      "Epoch 21/100\n",
      "287/287 [==============================] - 1s 4ms/step - loss: 914693.5000 - mae: 588.2339 - val_loss: 4131558.0000 - val_mae: 1807.9347\n",
      "Epoch 22/100\n",
      "287/287 [==============================] - 1s 4ms/step - loss: 964390.2500 - mae: 578.8826 - val_loss: 3999059.0000 - val_mae: 1770.8713\n"
     ]
    }
   ],
   "source": [
    "history = model.fit(data_gen_list[4], epochs=100, validation_data=data_gen_val_list[4], shuffle=True, callbacks=es)"
   ]
  },
  {
   "cell_type": "code",
   "execution_count": 171,
   "id": "aa015f42",
   "metadata": {},
   "outputs": [
    {
     "name": "stdout",
     "output_type": "stream",
     "text": [
      "Model: \"sequential_18\"\n",
      "_________________________________________________________________\n",
      " Layer (type)                Output Shape              Param #   \n",
      "=================================================================\n",
      " lstm_31 (LSTM)              (None, 8, 128)            68096     \n",
      "                                                                 \n",
      " dense_30 (Dense)            (None, 8, 30)             3870      \n",
      "                                                                 \n",
      " dense_31 (Dense)            (None, 8, 1)              31        \n",
      "                                                                 \n",
      "=================================================================\n",
      "Total params: 71,997\n",
      "Trainable params: 71,997\n",
      "Non-trainable params: 0\n",
      "_________________________________________________________________\n"
     ]
    }
   ],
   "source": [
    "model.summary()"
   ]
  },
  {
   "cell_type": "code",
   "execution_count": 109,
   "id": "eec85fce",
   "metadata": {},
   "outputs": [
    {
     "data": {
      "text/plain": [
       "{'verbose': 1, 'epochs': 50, 'steps': 36}"
      ]
     },
     "execution_count": 109,
     "metadata": {},
     "output_type": "execute_result"
    }
   ],
   "source": [
    "history.params"
   ]
  },
  {
   "cell_type": "code",
   "execution_count": 110,
   "id": "978c463d",
   "metadata": {},
   "outputs": [],
   "source": [
    "import matplotlib.pyplot as plt"
   ]
  },
  {
   "cell_type": "code",
   "execution_count": 111,
   "id": "d3364fc0",
   "metadata": {},
   "outputs": [],
   "source": [
    "def plot_history(history):\n",
    "    \n",
    "    fig, ax = plt.subplots(1,2, figsize=(20,7))\n",
    "    # --- LOSS: MSE --- \n",
    "    ax[0].plot(history.history['loss'])\n",
    "    ax[0].plot(history.history['val_loss'])\n",
    "    ax[0].set_title('MSE')\n",
    "    ax[0].set_ylabel('Loss')\n",
    "    ax[0].set_xlabel('Epoch')\n",
    "    ax[0].legend(['Train', 'Validation'], loc='best')\n",
    "    ax[0].grid(axis=\"x\",linewidth=0.5)\n",
    "    ax[0].grid(axis=\"y\",linewidth=0.5)\n",
    "    \n",
    "    # --- METRICS:MAE ---\n",
    "    \n",
    "    ax[1].plot(history.history['mae'])\n",
    "    ax[1].plot(history.history['val_mae'])\n",
    "    ax[1].set_title('MAE')\n",
    "    ax[1].set_ylabel('MAE')\n",
    "    ax[1].set_xlabel('Epoch')\n",
    "    ax[1].legend(['Train', 'Validation'], loc='best')\n",
    "    ax[1].grid(axis=\"x\",linewidth=0.5)\n",
    "    ax[1].grid(axis=\"y\",linewidth=0.5)\n",
    "                        \n",
    "    return ax"
   ]
  },
  {
   "cell_type": "code",
   "execution_count": 184,
   "id": "ccd8a0bb",
   "metadata": {},
   "outputs": [
    {
     "data": {
      "text/plain": [
       "array([<AxesSubplot: title={'center': 'MSE'}, xlabel='Epoch', ylabel='Loss'>,\n",
       "       <AxesSubplot: title={'center': 'MAE'}, xlabel='Epoch', ylabel='MAE'>],\n",
       "      dtype=object)"
      ]
     },
     "execution_count": 184,
     "metadata": {},
     "output_type": "execute_result"
    },
    {
     "data": {
      "image/png": "[encoded data removed]",
      "text/plain": [
       "<Figure size 2000x700 with 2 Axes>"
      ]
     },
     "metadata": {},
     "output_type": "display_data"
    }
   ],
   "source": [
    "plot_history(history)"
   ]
  }
 ],
 "metadata": {
  "kernelspec": {
   "display_name": "Python 3 (ipykernel)",
   "language": "python",
   "name": "python3"
  },
  "language_info": {
   "codemirror_mode": {
    "name": "ipython",
    "version": 3
   },
   "file_extension": ".py",
   "mimetype": "text/x-python",
   "name": "python",
   "nbconvert_exporter": "python",
   "pygments_lexer": "ipython3",
   "version": "3.8.12"
  },
  "toc": {
   "base_numbering": 1,
   "nav_menu": {},
   "number_sections": true,
   "sideBar": true,
   "skip_h1_title": false,
   "title_cell": "Table of Contents",
   "title_sidebar": "Contents",
   "toc_cell": false,
   "toc_position": {},
   "toc_section_display": true,
   "toc_window_display": false
  }
 },
 "nbformat": 4,
 "nbformat_minor": 5
}
