{
 "cells": [
  {
   "cell_type": "markdown",
   "id": "6375bb53",
   "metadata": {},
   "source": [
    "# Initial Setup "
   ]
  },
  {
   "cell_type": "code",
   "execution_count": 8,
   "id": "3b1d5220",
   "metadata": {},
   "outputs": [],
   "source": [
    "import pandas as pd \n",
    "import numpy as np\n",
    "from tensorflow.keras import Sequential\n",
    "from tensorflow.keras import layers\n",
    "from sklearn.model_selection import TimeSeriesSplit\n",
    "from tensorflow.keras.preprocessing.sequence import TimeseriesGenerator\n",
    "from sklearn.preprocessing import MinMaxScaler\n",
    "from sklearn.preprocessing import StandardScaler\n",
    "from tensorflow.keras.optimizers import RMSprop\n",
    "from tensorflow.keras.optimizers import Adam\n",
    "from tensorflow.keras.optimizers.schedules import ExponentialDecay\n",
    "from tensorflow.keras.callbacks import EarlyStopping"
   ]
  },
  {
   "cell_type": "code",
   "execution_count": 3,
   "id": "a2f282aa",
   "metadata": {},
   "outputs": [
    {
     "data": {
      "text/html": [
       "<div>\n",
       "<style scoped>\n",
       "    .dataframe tbody tr th:only-of-type {\n",
       "        vertical-align: middle;\n",
       "    }\n",
       "\n",
       "    .dataframe tbody tr th {\n",
       "        vertical-align: top;\n",
       "    }\n",
       "\n",
       "    .dataframe thead th {\n",
       "        text-align: right;\n",
       "    }\n",
       "</style>\n",
       "<table border=\"1\" class=\"dataframe\">\n",
       "  <thead>\n",
       "    <tr style=\"text-align: right;\">\n",
       "      <th></th>\n",
       "      <th>Unnamed: 0</th>\n",
       "      <th>Price</th>\n",
       "      <th>log_price</th>\n",
       "      <th>log_diff</th>\n",
       "      <th>log_diff_weekly</th>\n",
       "    </tr>\n",
       "    <tr>\n",
       "      <th>Date</th>\n",
       "      <th></th>\n",
       "      <th></th>\n",
       "      <th></th>\n",
       "      <th></th>\n",
       "      <th></th>\n",
       "    </tr>\n",
       "  </thead>\n",
       "  <tbody>\n",
       "    <tr>\n",
       "      <th>1995-01-03</th>\n",
       "      <td>0</td>\n",
       "      <td>1964.0</td>\n",
       "      <td>3.293141</td>\n",
       "      <td>0.000664</td>\n",
       "      <td>3.304275</td>\n",
       "    </tr>\n",
       "    <tr>\n",
       "      <th>1995-01-04</th>\n",
       "      <td>1</td>\n",
       "      <td>1961.0</td>\n",
       "      <td>3.292478</td>\n",
       "      <td>-0.001327</td>\n",
       "      <td>NaN</td>\n",
       "    </tr>\n",
       "  </tbody>\n",
       "</table>\n",
       "</div>"
      ],
      "text/plain": [
       "            Unnamed: 0   Price  log_price  log_diff  log_diff_weekly\n",
       "Date                                                                \n",
       "1995-01-03           0  1964.0   3.293141  0.000664         3.304275\n",
       "1995-01-04           1  1961.0   3.292478 -0.001327              NaN"
      ]
     },
     "execution_count": 3,
     "metadata": {},
     "output_type": "execute_result"
    }
   ],
   "source": [
    "df = pd.read_csv(\"../raw_data/data/BDI/log_diff_BDI.csv\")\n",
    "\n",
    "df[\"Date\"] = pd.to_datetime(df[\"Date\"])\n",
    "df.set_index(\"Date\", inplace=True)\n",
    "\n",
    "df.head(2)"
   ]
  },
  {
   "cell_type": "markdown",
   "id": "3dbe7d76",
   "metadata": {},
   "source": [
    "# Using our bespoke window/sequence generator to generate sequences:"
   ]
  },
  {
   "cell_type": "markdown",
   "id": "ce57bf6b",
   "metadata": {},
   "source": [
    "1. Generate sequences that predict the log difference a day ahead with input length of 10 days (two weeks) \n",
    "2. generate sequences that predict the log differences a day ahead with input length of 20 days (a month)"
   ]
  },
  {
   "cell_type": "markdown",
   "id": "0e37bd6b",
   "metadata": {},
   "source": [
    "# The Model"
   ]
  },
  {
   "cell_type": "code",
   "execution_count": 5,
   "id": "9ef2124e",
   "metadata": {},
   "outputs": [],
   "source": [
    "# Learning Rate Scheduler: \n",
    "\n",
    "lr_schedule = ExponentialDecay(\n",
    "    initial_learning_rate=1e-3,\n",
    "    decay_steps=10000,\n",
    "    decay_rate=0.9)"
   ]
  },
  {
   "cell_type": "code",
   "execution_count": 19,
   "id": "8b463207",
   "metadata": {},
   "outputs": [],
   "source": [
    "#Optimizers\n",
    "\n",
    "rmsprop = RMSprop(learning_rate=lr_schedule) #or 0.001 for inital test\n",
    "adam = Adam(learning_rate=lr_schedule)"
   ]
  },
  {
   "cell_type": "code",
   "execution_count": 14,
   "id": "cae42bc0",
   "metadata": {},
   "outputs": [],
   "source": [
    "#Early Stopping Criterion:\n",
    "\n",
    "es = EarlyStopping(monitor=\"val_mae\", patience=30, restore_best_weights=True)"
   ]
  },
  {
   "cell_type": "code",
   "execution_count": 20,
   "id": "f5e00b87",
   "metadata": {},
   "outputs": [],
   "source": [
    "#Initializing and compiling model:\n",
    "\n",
    "def init_model():\n",
    "    \n",
    "    model = Sequential()\n",
    "\n",
    "    #LSTM layers\n",
    "    model.add(layers.LSTM(400, activation=\"tanh\", input_shape=(7,1), return_sequences=False))\n",
    "\n",
    "    #Dense layers\n",
    "    model.add(layers.Dense(150, activation=\"relu\"))\n",
    "    model.add(layers.Dense(1, activation=\"linear\"))\n",
    "\n",
    "    #compiling model\n",
    "    model.compile(loss=\"mse\", optimizer=rmsprop, metrics=\"mae\")\n",
    "    \n",
    "    return model"
   ]
  },
  {
   "cell_type": "markdown",
   "id": "1a085fb9",
   "metadata": {},
   "source": [
    "# Training and Testing"
   ]
  },
  {
   "cell_type": "code",
   "execution_count": 21,
   "id": "4a2ca20a",
   "metadata": {},
   "outputs": [],
   "source": [
    "#Instantiating model\n",
    "\n",
    "model = init_model()"
   ]
  },
  {
   "cell_type": "code",
   "execution_count": 15,
   "id": "b3e94c7d",
   "metadata": {},
   "outputs": [
    {
     "ename": "NameError",
     "evalue": "name 'generator' is not defined",
     "output_type": "error",
     "traceback": [
      "\u001b[0;31m---------------------------------------------------------------------------\u001b[0m",
      "\u001b[0;31mNameError\u001b[0m                                 Traceback (most recent call last)",
      "Cell \u001b[0;32mIn [15], line 2\u001b[0m\n\u001b[1;32m      1\u001b[0m history \u001b[38;5;241m=\u001b[39m model\u001b[38;5;241m.\u001b[39mfit(\n\u001b[0;32m----> 2\u001b[0m     \u001b[43mgenerator\u001b[49m, epochs\u001b[38;5;241m=\u001b[39m\u001b[38;5;241m100\u001b[39m, validation_data\u001b[38;5;241m=\u001b[39mgenerator_val, shuffle\u001b[38;5;241m=\u001b[39m\u001b[38;5;28;01mTrue\u001b[39;00m, callbacks\u001b[38;5;241m=\u001b[39mes\n\u001b[1;32m      3\u001b[0m )\n",
      "\u001b[0;31mNameError\u001b[0m: name 'generator' is not defined"
     ]
    }
   ],
   "source": [
    "#TRAINING THE MODEL:\n",
    "\n",
    "history = model.fit(\n",
    "    generator, epochs=100, validation_data=generator_val, shuffle=True, callbacks=es\n",
    ")"
   ]
  },
  {
   "cell_type": "code",
   "execution_count": 22,
   "id": "27a3758a",
   "metadata": {},
   "outputs": [
    {
     "name": "stdout",
     "output_type": "stream",
     "text": [
      "Model: \"sequential_1\"\n",
      "_________________________________________________________________\n",
      " Layer (type)                Output Shape              Param #   \n",
      "=================================================================\n",
      " lstm_1 (LSTM)               (None, 400)               643200    \n",
      "                                                                 \n",
      " dense_2 (Dense)             (None, 150)               60150     \n",
      "                                                                 \n",
      " dense_3 (Dense)             (None, 1)                 151       \n",
      "                                                                 \n",
      "=================================================================\n",
      "Total params: 703,501\n",
      "Trainable params: 703,501\n",
      "Non-trainable params: 0\n",
      "_________________________________________________________________\n"
     ]
    }
   ],
   "source": [
    "#Model layers & params overview:\n",
    "model.summary()"
   ]
  },
  {
   "cell_type": "code",
   "execution_count": null,
   "id": "88cf7972",
   "metadata": {},
   "outputs": [],
   "source": [
    "# Learning Curves:\n",
    "plot_history(history)"
   ]
  },
  {
   "cell_type": "markdown",
   "id": "a4fc4a06",
   "metadata": {},
   "source": [
    "# Learning Curves viz code:"
   ]
  },
  {
   "cell_type": "code",
   "execution_count": 17,
   "id": "30fdcdc0",
   "metadata": {},
   "outputs": [],
   "source": [
    "def plot_history(history):\n",
    "    \n",
    "    fig, ax = plt.subplots(1,2, figsize=(20,7))\n",
    "    # Loss:MSE\n",
    "    ax[0].plot(history.history['loss'])\n",
    "    ax[0].plot(history.history['val_loss'])\n",
    "    ax[0].set_title('MSE')\n",
    "    ax[0].set_ylabel('Loss')\n",
    "    ax[0].set_xlabel('Epoch')\n",
    "    ax[0].legend(['Train', 'Validation'], loc='best')\n",
    "    ax[0].grid(axis=\"x\",linewidth=0.5)\n",
    "    ax[0].grid(axis=\"y\",linewidth=0.5)\n",
    "    \n",
    "    # Metrics:MAE\n",
    "    \n",
    "    ax[1].plot(history.history['mae'])\n",
    "    ax[1].plot(history.history['val_mae'])\n",
    "    ax[1].set_title('MAE')\n",
    "    ax[1].set_ylabel('MAE')\n",
    "    ax[1].set_xlabel('Epoch')\n",
    "    ax[1].legend(['Train', 'Validation'], loc='best')\n",
    "    ax[1].grid(axis=\"x\",linewidth=0.5)\n",
    "    ax[1].grid(axis=\"y\",linewidth=0.5)\n",
    "                        \n",
    "    return ax"
   ]
  }
 ],
 "metadata": {
  "kernelspec": {
   "display_name": "Python 3 (ipykernel)",
   "language": "python",
   "name": "python3"
  },
  "language_info": {
   "codemirror_mode": {
    "name": "ipython",
    "version": 3
   },
   "file_extension": ".py",
   "mimetype": "text/x-python",
   "name": "python",
   "nbconvert_exporter": "python",
   "pygments_lexer": "ipython3",
   "version": "3.8.12"
  },
  "toc": {
   "base_numbering": 1,
   "nav_menu": {},
   "number_sections": true,
   "sideBar": true,
   "skip_h1_title": false,
   "title_cell": "Table of Contents",
   "title_sidebar": "Contents",
   "toc_cell": false,
   "toc_position": {},
   "toc_section_display": true,
   "toc_window_display": false
  }
 },
 "nbformat": 4,
 "nbformat_minor": 5
}
