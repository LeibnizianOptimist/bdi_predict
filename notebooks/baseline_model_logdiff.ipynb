{
 "cells": [
  {
   "cell_type": "markdown",
   "id": "a913bf91",
   "metadata": {},
   "source": [
    "# Creating a Baseline Model"
   ]
  },
  {
   "cell_type": "markdown",
   "id": "e77f1cac",
   "metadata": {},
   "source": [
    "## Calculating the baseline model (that predicts the average of the bdi from its origin to  2021-11-29)'s MAE and MSE and RMSE"
   ]
  },
  {
   "cell_type": "code",
   "execution_count": 2,
   "id": "b8eb1add",
   "metadata": {},
   "outputs": [],
   "source": [
    "import numpy as np\n",
    "import pandas as pd\n",
    "import seaborn as sns\n",
    "import matplotlib.pyplot as plt"
   ]
  },
  {
   "cell_type": "code",
   "execution_count": 3,
   "id": "d91efd6a",
   "metadata": {},
   "outputs": [],
   "source": [
    "from sklearn.metrics import mean_absolute_error\n",
    "from sklearn.metrics import mean_squared_error"
   ]
  },
  {
   "cell_type": "markdown",
   "id": "25d59d93",
   "metadata": {},
   "source": [
    "# BASELINE THAT PREDICT PREV VALUE\n"
   ]
  },
  {
   "cell_type": "code",
   "execution_count": 4,
   "id": "77e74a2a",
   "metadata": {},
   "outputs": [],
   "source": [
    "bdi = pd.read_csv(\"../raw_data/data/BDI/cleaned_daily_BDI.csv\")"
   ]
  },
  {
   "cell_type": "code",
   "execution_count": 23,
   "id": "7e707e95",
   "metadata": {},
   "outputs": [
    {
     "data": {
      "text/plain": [
       "0.055076277474138076"
      ]
     },
     "execution_count": 23,
     "metadata": {},
     "output_type": "execute_result"
    }
   ],
   "source": [
    "bdi_weekly = pd.read_csv(\"../raw_data/data/WEEKLY_merged_data_prescaling.csv\")\n",
    "bdi_weekly\n",
    "\n",
    "bdi_weekly = bdi_weekly.drop(\"Unnamed: 0\", axis=1)\n",
    "bdi_weekly = bdi_weekly.rename(columns={'time': 'Date'})\n",
    "bdi_weekly = bdi_weekly.rename(columns={'bdi': 'BDI_Price'})\n",
    "bdi_weekly_pred = bdi_weekly.shift(1)\n",
    "bdi_weekly_pred\n",
    "\n",
    "# np.sum(np.abs(bdi_weekly_pred[\"BDI_Price\"] - bdi_weekly[\"BDI_Price\"])) / len(bdi_weekly)\n",
    "\n",
    "\n",
    "np.sum(np.abs(np.log(bdi_weekly_pred[\"BDI_Price\"]) - np.log(bdi_weekly[\"BDI_Price\"]))) / len(bdi_weekly)\n"
   ]
  },
  {
   "cell_type": "code",
   "execution_count": 5,
   "id": "73b80cda",
   "metadata": {},
   "outputs": [
    {
     "data": {
      "text/html": [
       "<div>\n",
       "<style scoped>\n",
       "    .dataframe tbody tr th:only-of-type {\n",
       "        vertical-align: middle;\n",
       "    }\n",
       "\n",
       "    .dataframe tbody tr th {\n",
       "        vertical-align: top;\n",
       "    }\n",
       "\n",
       "    .dataframe thead th {\n",
       "        text-align: right;\n",
       "    }\n",
       "</style>\n",
       "<table border=\"1\" class=\"dataframe\">\n",
       "  <thead>\n",
       "    <tr style=\"text-align: right;\">\n",
       "      <th></th>\n",
       "      <th>Date</th>\n",
       "      <th>Price</th>\n",
       "    </tr>\n",
       "  </thead>\n",
       "  <tbody>\n",
       "    <tr>\n",
       "      <th>0</th>\n",
       "      <td>1995-01-03</td>\n",
       "      <td>1964.0</td>\n",
       "    </tr>\n",
       "    <tr>\n",
       "      <th>1</th>\n",
       "      <td>1995-01-04</td>\n",
       "      <td>1961.0</td>\n",
       "    </tr>\n",
       "    <tr>\n",
       "      <th>2</th>\n",
       "      <td>1995-01-05</td>\n",
       "      <td>1967.0</td>\n",
       "    </tr>\n",
       "    <tr>\n",
       "      <th>3</th>\n",
       "      <td>1995-01-06</td>\n",
       "      <td>1983.0</td>\n",
       "    </tr>\n",
       "    <tr>\n",
       "      <th>4</th>\n",
       "      <td>1995-01-09</td>\n",
       "      <td>1994.0</td>\n",
       "    </tr>\n",
       "    <tr>\n",
       "      <th>...</th>\n",
       "      <td>...</td>\n",
       "      <td>...</td>\n",
       "    </tr>\n",
       "    <tr>\n",
       "      <th>4995</th>\n",
       "      <td>2014-12-08</td>\n",
       "      <td>952.0</td>\n",
       "    </tr>\n",
       "    <tr>\n",
       "      <th>4996</th>\n",
       "      <td>2014-12-09</td>\n",
       "      <td>933.0</td>\n",
       "    </tr>\n",
       "    <tr>\n",
       "      <th>4997</th>\n",
       "      <td>2014-12-10</td>\n",
       "      <td>911.0</td>\n",
       "    </tr>\n",
       "    <tr>\n",
       "      <th>4998</th>\n",
       "      <td>2014-12-11</td>\n",
       "      <td>887.0</td>\n",
       "    </tr>\n",
       "    <tr>\n",
       "      <th>4999</th>\n",
       "      <td>2014-12-12</td>\n",
       "      <td>863.0</td>\n",
       "    </tr>\n",
       "  </tbody>\n",
       "</table>\n",
       "<p>5000 rows × 2 columns</p>\n",
       "</div>"
      ],
      "text/plain": [
       "            Date   Price\n",
       "0     1995-01-03  1964.0\n",
       "1     1995-01-04  1961.0\n",
       "2     1995-01-05  1967.0\n",
       "3     1995-01-06  1983.0\n",
       "4     1995-01-09  1994.0\n",
       "...          ...     ...\n",
       "4995  2014-12-08   952.0\n",
       "4996  2014-12-09   933.0\n",
       "4997  2014-12-10   911.0\n",
       "4998  2014-12-11   887.0\n",
       "4999  2014-12-12   863.0\n",
       "\n",
       "[5000 rows x 2 columns]"
      ]
     },
     "execution_count": 5,
     "metadata": {},
     "output_type": "execute_result"
    }
   ],
   "source": [
    "bdi"
   ]
  },
  {
   "cell_type": "code",
   "execution_count": 7,
   "id": "62864e1f",
   "metadata": {},
   "outputs": [],
   "source": [
    "baseline_pred = bdi[\"Price\"].shift(-1)"
   ]
  },
  {
   "cell_type": "code",
   "execution_count": 13,
   "id": "03ebc89e",
   "metadata": {},
   "outputs": [
    {
     "data": {
      "text/plain": [
       "0.004880298350888749"
      ]
     },
     "execution_count": 13,
     "metadata": {},
     "output_type": "execute_result"
    }
   ],
   "source": [
    "log_baseline = np.log10(bdi[\"Price\"])\n",
    "log_baseline_pred = np.log10(baseline_pred)\n",
    "MAE = (np.abs(log_baseline_pred - log_baseline).sum() )/ len(bdi)\n",
    "MAE"
   ]
  },
  {
   "cell_type": "code",
   "execution_count": 14,
   "id": "e1d84c39",
   "metadata": {},
   "outputs": [
    {
     "data": {
      "text/plain": [
       "0.0048812746058099115"
      ]
     },
     "execution_count": 14,
     "metadata": {},
     "output_type": "execute_result"
    }
   ],
   "source": [
    "mean_absolute_error(np.log10(bdi[\"Price\"][:-1]), np.log10(baseline_pred[:-1]))"
   ]
  },
  {
   "cell_type": "code",
   "execution_count": 9,
   "id": "07b97c7a",
   "metadata": {},
   "outputs": [],
   "source": [
    "from sklearn.metrics import mean_squared_error, mean_absolute_error"
   ]
  },
  {
   "cell_type": "code",
   "execution_count": 29,
   "id": "b9252917",
   "metadata": {},
   "outputs": [
    {
     "data": {
      "text/plain": [
       "3081.9357871574316"
      ]
     },
     "execution_count": 29,
     "metadata": {},
     "output_type": "execute_result"
    }
   ],
   "source": [
    "mean_squared_error(bdi[\"Price\"][:-1], baseline_pred[:-1])"
   ]
  },
  {
   "cell_type": "code",
   "execution_count": 31,
   "id": "37d1d881",
   "metadata": {},
   "outputs": [
    {
     "data": {
      "text/plain": [
       "55.51518519430005"
      ]
     },
     "execution_count": 31,
     "metadata": {},
     "output_type": "execute_result"
    }
   ],
   "source": [
    "RMSE = np.sqrt(mean_squared_error(bdi[\"Price\"][:-1], baseline_pred[:-1]))\n",
    "RMSE"
   ]
  },
  {
   "cell_type": "code",
   "execution_count": 11,
   "id": "febd4905",
   "metadata": {},
   "outputs": [
    {
     "data": {
      "text/plain": [
       "0.0048812746058099115"
      ]
     },
     "execution_count": 11,
     "metadata": {},
     "output_type": "execute_result"
    }
   ],
   "source": []
  },
  {
   "cell_type": "code",
   "execution_count": 28,
   "id": "28b1b3a1",
   "metadata": {},
   "outputs": [],
   "source": [
    "errors = [(bdi[\"Price\"][i]-bdi[\"Price\"][i-1]) for i in range(1, len(bdi))]"
   ]
  },
  {
   "cell_type": "code",
   "execution_count": 29,
   "id": "21ee9bca",
   "metadata": {},
   "outputs": [],
   "source": [
    "squared_errors = np.square(errors)"
   ]
  },
  {
   "cell_type": "code",
   "execution_count": 30,
   "id": "b9f518f2",
   "metadata": {},
   "outputs": [],
   "source": [
    "absolute_errors = np.absolute(errors)"
   ]
  },
  {
   "cell_type": "code",
   "execution_count": 31,
   "id": "9f2d8653",
   "metadata": {},
   "outputs": [
    {
     "data": {
      "text/plain": [
       "3081.9357871574316"
      ]
     },
     "execution_count": 31,
     "metadata": {},
     "output_type": "execute_result"
    }
   ],
   "source": [
    "np.mean(squared_errors)"
   ]
  },
  {
   "cell_type": "code",
   "execution_count": 32,
   "id": "10213402",
   "metadata": {},
   "outputs": [
    {
     "data": {
      "text/plain": [
       "28.805161032206442"
      ]
     },
     "execution_count": 32,
     "metadata": {},
     "output_type": "execute_result"
    }
   ],
   "source": [
    "np.mean(absolute_errors)"
   ]
  },
  {
   "cell_type": "code",
   "execution_count": 34,
   "id": "3f51d819",
   "metadata": {},
   "outputs": [],
   "source": [
    "bdi_weekly = pd.read_csv(\"../raw_data/data/BDI/cleaned_weekly_BDI.csv\")"
   ]
  },
  {
   "cell_type": "code",
   "execution_count": 36,
   "id": "dc9b5948",
   "metadata": {},
   "outputs": [
    {
     "data": {
      "text/html": [
       "<div>\n",
       "<style scoped>\n",
       "    .dataframe tbody tr th:only-of-type {\n",
       "        vertical-align: middle;\n",
       "    }\n",
       "\n",
       "    .dataframe tbody tr th {\n",
       "        vertical-align: top;\n",
       "    }\n",
       "\n",
       "    .dataframe thead th {\n",
       "        text-align: right;\n",
       "    }\n",
       "</style>\n",
       "<table border=\"1\" class=\"dataframe\">\n",
       "  <thead>\n",
       "    <tr style=\"text-align: right;\">\n",
       "      <th></th>\n",
       "      <th>time</th>\n",
       "      <th>close</th>\n",
       "    </tr>\n",
       "  </thead>\n",
       "  <tbody>\n",
       "    <tr>\n",
       "      <th>0</th>\n",
       "      <td>1995-01-16</td>\n",
       "      <td>2059.0</td>\n",
       "    </tr>\n",
       "    <tr>\n",
       "      <th>1</th>\n",
       "      <td>1995-01-23</td>\n",
       "      <td>1983.0</td>\n",
       "    </tr>\n",
       "  </tbody>\n",
       "</table>\n",
       "</div>"
      ],
      "text/plain": [
       "         time   close\n",
       "0  1995-01-16  2059.0\n",
       "1  1995-01-23  1983.0"
      ]
     },
     "execution_count": 36,
     "metadata": {},
     "output_type": "execute_result"
    }
   ],
   "source": [
    "bdi_weekly.head(2)"
   ]
  },
  {
   "cell_type": "code",
   "execution_count": 37,
   "id": "a5eaac15",
   "metadata": {},
   "outputs": [],
   "source": [
    "errors = [(bdi_weekly[\"close\"][i]-bdi_weekly[\"close\"][i-1]) for i in range(1, len(bdi_weekly))]"
   ]
  },
  {
   "cell_type": "code",
   "execution_count": 38,
   "id": "76392894",
   "metadata": {},
   "outputs": [],
   "source": [
    "squared_errors = np.square(errors)"
   ]
  },
  {
   "cell_type": "code",
   "execution_count": 39,
   "id": "3cf428de",
   "metadata": {},
   "outputs": [],
   "source": [
    "absolute_errors = np.absolute(errors)"
   ]
  },
  {
   "cell_type": "code",
   "execution_count": 42,
   "id": "511da008",
   "metadata": {},
   "outputs": [
    {
     "data": {
      "text/plain": [
       "(5000, 2)"
      ]
     },
     "execution_count": 42,
     "metadata": {},
     "output_type": "execute_result"
    }
   ],
   "source": [
    "bdi.shape"
   ]
  },
  {
   "cell_type": "code",
   "execution_count": 40,
   "id": "9f25d25b",
   "metadata": {},
   "outputs": [
    {
     "data": {
      "text/plain": [
       "42441.868055555555"
      ]
     },
     "execution_count": 40,
     "metadata": {},
     "output_type": "execute_result"
    }
   ],
   "source": [
    "np.mean(squared_errors)"
   ]
  },
  {
   "cell_type": "code",
   "execution_count": 41,
   "id": "ab7f32fd",
   "metadata": {},
   "outputs": [
    {
     "data": {
      "text/plain": [
       "117.80416666666666"
      ]
     },
     "execution_count": 41,
     "metadata": {},
     "output_type": "execute_result"
    }
   ],
   "source": [
    "np.mean(absolute_errors)"
   ]
  }
 ],
 "metadata": {
  "kernelspec": {
   "display_name": "Python 3 (ipykernel)",
   "language": "python",
   "name": "python3"
  },
  "language_info": {
   "codemirror_mode": {
    "name": "ipython",
    "version": 3
   },
   "file_extension": ".py",
   "mimetype": "text/x-python",
   "name": "python",
   "nbconvert_exporter": "python",
   "pygments_lexer": "ipython3",
   "version": "3.8.12"
  },
  "toc": {
   "base_numbering": 1,
   "nav_menu": {},
   "number_sections": true,
   "sideBar": true,
   "skip_h1_title": false,
   "title_cell": "Table of Contents",
   "title_sidebar": "Contents",
   "toc_cell": false,
   "toc_position": {},
   "toc_section_display": true,
   "toc_window_display": false
  },
  "vscode": {
   "interpreter": {
    "hash": "57351f257ac01e983dcedb7c2335315096b8fbf21e13757493a7dea35eb50564"
   }
  }
 },
 "nbformat": 4,
 "nbformat_minor": 5
}
