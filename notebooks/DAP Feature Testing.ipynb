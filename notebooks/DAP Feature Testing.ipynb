{
 "cells": [
  {
   "cell_type": "markdown",
   "id": "d62e231e",
   "metadata": {},
   "source": [
    "# Feature Selection for log_diff_model (Multivariate Model)"
   ]
  },
  {
   "cell_type": "code",
   "execution_count": 73,
   "id": "c1b801c5",
   "metadata": {},
   "outputs": [],
   "source": [
    "import pandas as pd \n",
    "import numpy as np\n",
    "import matplotlib.pyplot as plt\n",
    "from tensorflow.keras import Sequential\n",
    "from bdi_predict.ml_logic.sequence_gen import WindowGenerator\n",
    "from tensorflow.keras import layers\n",
    "from sklearn.model_selection import TimeSeriesSplit\n",
    "from tensorflow.keras.preprocessing.sequence import TimeseriesGenerator\n",
    "from sklearn.preprocessing import MinMaxScaler\n",
    "from sklearn.preprocessing import StandardScaler\n",
    "from tensorflow.keras.optimizers import RMSprop\n",
    "from tensorflow.keras.optimizers import Adam\n",
    "from tensorflow.keras.optimizers.schedules import ExponentialDecay\n",
    "from tensorflow.keras.callbacks import EarlyStopping"
   ]
  },
  {
   "cell_type": "code",
   "execution_count": 74,
   "id": "6d6abab0",
   "metadata": {},
   "outputs": [
    {
     "data": {
      "text/html": [
       "<div>\n",
       "<style scoped>\n",
       "    .dataframe tbody tr th:only-of-type {\n",
       "        vertical-align: middle;\n",
       "    }\n",
       "\n",
       "    .dataframe tbody tr th {\n",
       "        vertical-align: top;\n",
       "    }\n",
       "\n",
       "    .dataframe thead th {\n",
       "        text-align: right;\n",
       "    }\n",
       "</style>\n",
       "<table border=\"1\" class=\"dataframe\">\n",
       "  <thead>\n",
       "    <tr style=\"text-align: right;\">\n",
       "      <th></th>\n",
       "      <th>Unnamed: 0</th>\n",
       "      <th>Date</th>\n",
       "      <th>Price</th>\n",
       "      <th>abs_price</th>\n",
       "      <th>log_price</th>\n",
       "      <th>log_diff</th>\n",
       "    </tr>\n",
       "  </thead>\n",
       "  <tbody>\n",
       "    <tr>\n",
       "      <th>0</th>\n",
       "      <td>0</td>\n",
       "      <td>1995-01-03</td>\n",
       "      <td>1964.0</td>\n",
       "      <td>NaN</td>\n",
       "      <td>3.293141</td>\n",
       "      <td>NaN</td>\n",
       "    </tr>\n",
       "    <tr>\n",
       "      <th>1</th>\n",
       "      <td>1</td>\n",
       "      <td>1995-01-04</td>\n",
       "      <td>1961.0</td>\n",
       "      <td>-3.0</td>\n",
       "      <td>3.292478</td>\n",
       "      <td>-0.000664</td>\n",
       "    </tr>\n",
       "  </tbody>\n",
       "</table>\n",
       "</div>"
      ],
      "text/plain": [
       "   Unnamed: 0        Date   Price  abs_price  log_price  log_diff\n",
       "0           0  1995-01-03  1964.0        NaN   3.293141       NaN\n",
       "1           1  1995-01-04  1961.0       -3.0   3.292478 -0.000664"
      ]
     },
     "execution_count": 74,
     "metadata": {},
     "output_type": "execute_result"
    }
   ],
   "source": [
    "bdi = pd.read_csv(\"../raw_data/data/BDI/log_diff_BDI_daily.csv\")\n",
    "bdi.head(2)"
   ]
  },
  {
   "cell_type": "code",
   "execution_count": 75,
   "id": "a9160b67",
   "metadata": {
    "scrolled": true
   },
   "outputs": [
    {
     "data": {
      "text/html": [
       "<div>\n",
       "<style scoped>\n",
       "    .dataframe tbody tr th:only-of-type {\n",
       "        vertical-align: middle;\n",
       "    }\n",
       "\n",
       "    .dataframe tbody tr th {\n",
       "        vertical-align: top;\n",
       "    }\n",
       "\n",
       "    .dataframe thead th {\n",
       "        text-align: right;\n",
       "    }\n",
       "</style>\n",
       "<table border=\"1\" class=\"dataframe\">\n",
       "  <thead>\n",
       "    <tr style=\"text-align: right;\">\n",
       "      <th></th>\n",
       "      <th>Price</th>\n",
       "      <th>abs_price</th>\n",
       "      <th>log_price</th>\n",
       "      <th>log_diff</th>\n",
       "    </tr>\n",
       "    <tr>\n",
       "      <th>Date</th>\n",
       "      <th></th>\n",
       "      <th></th>\n",
       "      <th></th>\n",
       "      <th></th>\n",
       "    </tr>\n",
       "  </thead>\n",
       "  <tbody>\n",
       "    <tr>\n",
       "      <th>1995-01-04</th>\n",
       "      <td>1961.0</td>\n",
       "      <td>-3.0</td>\n",
       "      <td>3.292478</td>\n",
       "      <td>-0.000664</td>\n",
       "    </tr>\n",
       "    <tr>\n",
       "      <th>1995-01-05</th>\n",
       "      <td>1967.0</td>\n",
       "      <td>6.0</td>\n",
       "      <td>3.293804</td>\n",
       "      <td>0.001327</td>\n",
       "    </tr>\n",
       "  </tbody>\n",
       "</table>\n",
       "</div>"
      ],
      "text/plain": [
       "             Price  abs_price  log_price  log_diff\n",
       "Date                                              \n",
       "1995-01-04  1961.0       -3.0   3.292478 -0.000664\n",
       "1995-01-05  1967.0        6.0   3.293804  0.001327"
      ]
     },
     "execution_count": 75,
     "metadata": {},
     "output_type": "execute_result"
    }
   ],
   "source": [
    "bdi[\"Date\"] = pd.to_datetime(bdi[\"Date\"])\n",
    "bdi.set_index(\"Date\", inplace=True)\n",
    "bdi= bdi[bdi.index != \"1995-01-03\"]\n",
    "bdi.drop(columns=\"Unnamed: 0\", inplace=True)\n",
    "bdi.head(2)"
   ]
  },
  {
   "cell_type": "code",
   "execution_count": 76,
   "id": "bca70981",
   "metadata": {},
   "outputs": [
    {
     "data": {
      "text/html": [
       "<div>\n",
       "<style scoped>\n",
       "    .dataframe tbody tr th:only-of-type {\n",
       "        vertical-align: middle;\n",
       "    }\n",
       "\n",
       "    .dataframe tbody tr th {\n",
       "        vertical-align: top;\n",
       "    }\n",
       "\n",
       "    .dataframe thead th {\n",
       "        text-align: right;\n",
       "    }\n",
       "</style>\n",
       "<table border=\"1\" class=\"dataframe\">\n",
       "  <thead>\n",
       "    <tr style=\"text-align: right;\">\n",
       "      <th></th>\n",
       "      <th>DAP</th>\n",
       "    </tr>\n",
       "    <tr>\n",
       "      <th>Date</th>\n",
       "      <th></th>\n",
       "    </tr>\n",
       "  </thead>\n",
       "  <tbody>\n",
       "    <tr>\n",
       "      <th>1995-01-03</th>\n",
       "      <td>198.630000</td>\n",
       "    </tr>\n",
       "    <tr>\n",
       "      <th>1995-01-04</th>\n",
       "      <td>198.630000</td>\n",
       "    </tr>\n",
       "    <tr>\n",
       "      <th>1995-01-05</th>\n",
       "      <td>198.630000</td>\n",
       "    </tr>\n",
       "    <tr>\n",
       "      <th>1995-01-06</th>\n",
       "      <td>198.630000</td>\n",
       "    </tr>\n",
       "    <tr>\n",
       "      <th>1995-01-09</th>\n",
       "      <td>198.630000</td>\n",
       "    </tr>\n",
       "    <tr>\n",
       "      <th>...</th>\n",
       "      <td>...</td>\n",
       "    </tr>\n",
       "    <tr>\n",
       "      <th>2022-11-08</th>\n",
       "      <td>306.576271</td>\n",
       "    </tr>\n",
       "    <tr>\n",
       "      <th>2022-11-09</th>\n",
       "      <td>297.296610</td>\n",
       "    </tr>\n",
       "    <tr>\n",
       "      <th>2022-11-10</th>\n",
       "      <td>288.016949</td>\n",
       "    </tr>\n",
       "    <tr>\n",
       "      <th>2022-11-11</th>\n",
       "      <td>278.737288</td>\n",
       "    </tr>\n",
       "    <tr>\n",
       "      <th>2022-11-14</th>\n",
       "      <td>269.457627</td>\n",
       "    </tr>\n",
       "  </tbody>\n",
       "</table>\n",
       "<p>7365 rows × 1 columns</p>\n",
       "</div>"
      ],
      "text/plain": [
       "                   DAP\n",
       "Date                  \n",
       "1995-01-03  198.630000\n",
       "1995-01-04  198.630000\n",
       "1995-01-05  198.630000\n",
       "1995-01-06  198.630000\n",
       "1995-01-09  198.630000\n",
       "...                ...\n",
       "2022-11-08  306.576271\n",
       "2022-11-09  297.296610\n",
       "2022-11-10  288.016949\n",
       "2022-11-11  278.737288\n",
       "2022-11-14  269.457627\n",
       "\n",
       "[7365 rows x 1 columns]"
      ]
     },
     "execution_count": 76,
     "metadata": {},
     "output_type": "execute_result"
    }
   ],
   "source": [
    "feat = pd.read_csv(\"../raw_data/data/merged_features.csv\")\n",
    "feat[\"Date\"] = pd.to_datetime(feat[\"Date\"])\n",
    "feat.set_index(\"Date\", inplace=True)\n",
    "feat.drop(columns=\"Unnamed: 0\", inplace=True)\n",
    "feat = feat[[\"DAP\"]]\n",
    "feat.rename(columns={\"DAP\":\"DAP\"}, inplace=True)\n",
    "dap=feat\n",
    "dap"
   ]
  },
  {
   "cell_type": "code",
   "execution_count": 77,
   "id": "3a6818f1",
   "metadata": {},
   "outputs": [],
   "source": [
    "df = pd.merge(bdi, dap, on=\"Date\", how=\"inner\")\n",
    "#df.drop(columns=\"Price_y\", inplace=True)\n"
   ]
  },
  {
   "cell_type": "code",
   "execution_count": 78,
   "id": "e6c35d1e",
   "metadata": {},
   "outputs": [
    {
     "data": {
      "text/html": [
       "<div>\n",
       "<style scoped>\n",
       "    .dataframe tbody tr th:only-of-type {\n",
       "        vertical-align: middle;\n",
       "    }\n",
       "\n",
       "    .dataframe tbody tr th {\n",
       "        vertical-align: top;\n",
       "    }\n",
       "\n",
       "    .dataframe thead th {\n",
       "        text-align: right;\n",
       "    }\n",
       "</style>\n",
       "<table border=\"1\" class=\"dataframe\">\n",
       "  <thead>\n",
       "    <tr style=\"text-align: right;\">\n",
       "      <th></th>\n",
       "      <th>Price</th>\n",
       "      <th>abs_price</th>\n",
       "      <th>log_price</th>\n",
       "      <th>log_diff</th>\n",
       "      <th>DAP</th>\n",
       "    </tr>\n",
       "    <tr>\n",
       "      <th>Date</th>\n",
       "      <th></th>\n",
       "      <th></th>\n",
       "      <th></th>\n",
       "      <th></th>\n",
       "      <th></th>\n",
       "    </tr>\n",
       "  </thead>\n",
       "  <tbody>\n",
       "    <tr>\n",
       "      <th>1995-01-04</th>\n",
       "      <td>1961.0</td>\n",
       "      <td>-3.0</td>\n",
       "      <td>3.292478</td>\n",
       "      <td>-0.000664</td>\n",
       "      <td>198.63</td>\n",
       "    </tr>\n",
       "    <tr>\n",
       "      <th>1995-01-05</th>\n",
       "      <td>1967.0</td>\n",
       "      <td>6.0</td>\n",
       "      <td>3.293804</td>\n",
       "      <td>0.001327</td>\n",
       "      <td>198.63</td>\n",
       "    </tr>\n",
       "    <tr>\n",
       "      <th>1995-01-06</th>\n",
       "      <td>1983.0</td>\n",
       "      <td>16.0</td>\n",
       "      <td>3.297323</td>\n",
       "      <td>0.003518</td>\n",
       "      <td>198.63</td>\n",
       "    </tr>\n",
       "  </tbody>\n",
       "</table>\n",
       "</div>"
      ],
      "text/plain": [
       "             Price  abs_price  log_price  log_diff     DAP\n",
       "Date                                                      \n",
       "1995-01-04  1961.0       -3.0   3.292478 -0.000664  198.63\n",
       "1995-01-05  1967.0        6.0   3.293804  0.001327  198.63\n",
       "1995-01-06  1983.0       16.0   3.297323  0.003518  198.63"
      ]
     },
     "execution_count": 78,
     "metadata": {},
     "output_type": "execute_result"
    }
   ],
   "source": [
    "df.head(3)"
   ]
  },
  {
   "cell_type": "markdown",
   "id": "56980bce",
   "metadata": {},
   "source": [
    "# Data Cleaning"
   ]
  },
  {
   "cell_type": "markdown",
   "id": "e669c6b0",
   "metadata": {},
   "source": [
    "## Holdout Method (manual, chronological)"
   ]
  },
  {
   "cell_type": "code",
   "execution_count": 79,
   "id": "d21fb98a",
   "metadata": {},
   "outputs": [],
   "source": [
    "input_length = len(df)"
   ]
  },
  {
   "cell_type": "code",
   "execution_count": 80,
   "id": "2299b650",
   "metadata": {},
   "outputs": [],
   "source": [
    "def train_test_split(df:pd.DataFrame,\n",
    "                     train_test_ratio: float,\n",
    "                     input_length: int) -> tuple:\n",
    "    '''\n",
    "    Returns a train dataframe and a test dataframe (df_train, df_test)\n",
    "    from which one can sample (X,y) sequences using TimeseriesGenerator.\n",
    "    df_train should contain all the timesteps until round(train_test_ratio * len(fold))   \n",
    "    '''\n",
    "    \n",
    "    # TRAIN SET\n",
    "\n",
    "    last_train_idx = round(train_test_ratio * len(df))\n",
    "    df_train = df.iloc[0:last_train_idx, :]\n",
    "\n",
    "    # TEST SET\n",
    " \n",
    "    first_test_idx = last_train_idx - input_length\n",
    "    df_test = df.iloc[first_test_idx:, :]\n",
    "\n",
    "    return (df_train, df_test)"
   ]
  },
  {
   "cell_type": "code",
   "execution_count": 81,
   "id": "27aaf25c",
   "metadata": {},
   "outputs": [],
   "source": [
    "df_train, df_test = train_test_split(df=df, train_test_ratio=0.8, input_length=input_length)"
   ]
  },
  {
   "cell_type": "code",
   "execution_count": 82,
   "id": "7ea39e89",
   "metadata": {},
   "outputs": [],
   "source": [
    "X_train = df_train[[\"Price\",\"DAP\"]]\n",
    "y_train = df_train[\"log_diff\"]\n",
    "\n",
    "X_test  = df_test[[\"Price\",\"DAP\"]]\n",
    "y_test = df_test[\"log_diff\"]"
   ]
  },
  {
   "cell_type": "code",
   "execution_count": 83,
   "id": "668d5c6b",
   "metadata": {},
   "outputs": [],
   "source": [
    "#Feature Scaling\n",
    "\n",
    "scaler_X = MinMaxScaler()\n",
    "\n",
    "X_train_scaled = scaler_X.fit_transform(X_train)\n",
    "X_test_scaled = scaler_X.fit_transform(X_test)\n",
    "\n"
   ]
  },
  {
   "cell_type": "code",
   "execution_count": 84,
   "id": "7c51cffb",
   "metadata": {},
   "outputs": [],
   "source": [
    "generator = TimeseriesGenerator(X_train_scaled, y_train, length=20, batch_size=8, sampling_rate=1, stride=1)"
   ]
  },
  {
   "cell_type": "code",
   "execution_count": 85,
   "id": "7fbfa567",
   "metadata": {},
   "outputs": [
    {
     "data": {
      "text/plain": [
       "704"
      ]
     },
     "execution_count": 85,
     "metadata": {},
     "output_type": "execute_result"
    }
   ],
   "source": [
    "len(generator)"
   ]
  },
  {
   "cell_type": "code",
   "execution_count": 86,
   "id": "fe155517",
   "metadata": {},
   "outputs": [],
   "source": [
    "generator_val = TimeseriesGenerator(X_test_scaled, y_test, length=20, batch_size=8, sampling_rate=1, stride=1)"
   ]
  },
  {
   "cell_type": "code",
   "execution_count": 87,
   "id": "be597232",
   "metadata": {},
   "outputs": [
    {
     "name": "stdout",
     "output_type": "stream",
     "text": [
      "(8, 20, 2) (8,)\n",
      "[[0.14519214 0.06948717]\n",
      " [0.14571379 0.06948717]\n",
      " [0.14710485 0.06948717]\n",
      " [0.14806121 0.06948717]\n",
      " [0.14988698 0.06948717]\n",
      " [0.15023474 0.06948717]\n",
      " [0.15188663 0.06948717]\n",
      " [0.15379934 0.06948717]\n",
      " [0.15440793 0.06948717]\n",
      " [0.15475569 0.06948717]\n",
      " [0.15475569 0.06948717]\n",
      " [0.15466875 0.06948717]\n",
      " [0.1537124  0.06948717]\n",
      " [0.15240828 0.06948717]\n",
      " [0.15136498 0.06948717]\n",
      " [0.1501478  0.06948717]\n",
      " [0.14823509 0.06948717]\n",
      " [0.14710485 0.06948717]\n",
      " [0.1465832  0.06948717]\n",
      " [0.14623544 0.06948717]] -0.0015435717560743\n"
     ]
    }
   ],
   "source": [
    "for X, y in generator:\n",
    "    print(X.shape, y.shape)\n",
    "    print(X[0], y[0])\n",
    "    #listy = [float(X[0][i]) for i in range(len(X[0]))]\n",
    "    #print(listy)\n",
    "    break"
   ]
  },
  {
   "cell_type": "markdown",
   "id": "c73dff21",
   "metadata": {},
   "source": [
    "# The Model"
   ]
  },
  {
   "cell_type": "code",
   "execution_count": 88,
   "id": "f26bb2c6",
   "metadata": {},
   "outputs": [],
   "source": [
    "# Learning Rate Scheduler: \n",
    "\n",
    "lr_schedule = ExponentialDecay(\n",
    "    initial_learning_rate=1e-3,\n",
    "    decay_steps=10000,\n",
    "    decay_rate=0.9)"
   ]
  },
  {
   "cell_type": "code",
   "execution_count": 89,
   "id": "82b7c020",
   "metadata": {},
   "outputs": [],
   "source": [
    "#Optimizers\n",
    "\n",
    "rmsprop = RMSprop(learning_rate=lr_schedule) #or 0.001 for inital test\n",
    "adam = Adam(learning_rate=lr_schedule)"
   ]
  },
  {
   "cell_type": "code",
   "execution_count": 90,
   "id": "363270b9",
   "metadata": {},
   "outputs": [],
   "source": [
    "#Early Stopping Criterion:\n",
    "\n",
    "es = EarlyStopping(monitor=\"val_mae\", patience=100, restore_best_weights=True)"
   ]
  },
  {
   "cell_type": "code",
   "execution_count": 92,
   "id": "e5609f98",
   "metadata": {},
   "outputs": [],
   "source": [
    "#Initializing and compiling model:\n",
    "\n",
    "def init_model():\n",
    "    \n",
    "    model = Sequential()\n",
    "\n",
    "    #LSTM layers\n",
    "    model.add(layers.LSTM(60, activation=\"tanh\", input_shape=(20,2), return_sequences=False))\n",
    "\n",
    "    #Dense layers\n",
    "    model.add(layers.Dense(100, activation=\"relu\"))\n",
    "    model.add(layers.Dense(1, activation=\"linear\"))\n",
    "\n",
    "    #compiling model\n",
    "    model.compile(loss=\"mse\", optimizer=rmsprop, metrics=\"mae\")\n",
    "    \n",
    "    return model"
   ]
  },
  {
   "cell_type": "markdown",
   "id": "583bfbe0",
   "metadata": {},
   "source": [
    "# Training and Testing"
   ]
  },
  {
   "cell_type": "code",
   "execution_count": 93,
   "id": "36345df6",
   "metadata": {},
   "outputs": [],
   "source": [
    "#Instantiating model\n",
    "\n",
    "model = init_model()"
   ]
  },
  {
   "cell_type": "code",
   "execution_count": 94,
   "id": "742f9e59",
   "metadata": {},
   "outputs": [
    {
     "name": "stdout",
     "output_type": "stream",
     "text": [
      "Model: \"sequential_4\"\n",
      "_________________________________________________________________\n",
      " Layer (type)                Output Shape              Param #   \n",
      "=================================================================\n",
      " lstm_4 (LSTM)               (None, 60)                15120     \n",
      "                                                                 \n",
      " dense_8 (Dense)             (None, 100)               6100      \n",
      "                                                                 \n",
      " dense_9 (Dense)             (None, 1)                 101       \n",
      "                                                                 \n",
      "=================================================================\n",
      "Total params: 21,321\n",
      "Trainable params: 21,321\n",
      "Non-trainable params: 0\n",
      "_________________________________________________________________\n"
     ]
    }
   ],
   "source": [
    "#Model layers & params overview:\n",
    "model.summary()"
   ]
  },
  {
   "cell_type": "code",
   "execution_count": 95,
   "id": "051b420a",
   "metadata": {},
   "outputs": [
    {
     "name": "stdout",
     "output_type": "stream",
     "text": [
      "Epoch 1/1000\n",
      "704/704 [==============================] - 3s 3ms/step - loss: 1.1586e-04 - mae: 0.0076 - val_loss: 1.4540e-04 - val_mae: 0.0093\n",
      "Epoch 2/1000\n",
      "704/704 [==============================] - 2s 2ms/step - loss: 6.9184e-05 - mae: 0.0059 - val_loss: 1.1127e-04 - val_mae: 0.0080\n",
      "Epoch 3/1000\n",
      "704/704 [==============================] - 2s 2ms/step - loss: 6.0377e-05 - mae: 0.0054 - val_loss: 1.0669e-04 - val_mae: 0.0080\n",
      "Epoch 4/1000\n",
      "704/704 [==============================] - 2s 2ms/step - loss: 5.9803e-05 - mae: 0.0053 - val_loss: 1.1218e-04 - val_mae: 0.0079\n",
      "Epoch 5/1000\n",
      "704/704 [==============================] - 2s 2ms/step - loss: 5.8380e-05 - mae: 0.0053 - val_loss: 1.0623e-04 - val_mae: 0.0079\n",
      "Epoch 6/1000\n",
      "704/704 [==============================] - 2s 2ms/step - loss: 5.9684e-05 - mae: 0.0053 - val_loss: 1.0645e-04 - val_mae: 0.0079\n",
      "Epoch 7/1000\n",
      "704/704 [==============================] - 2s 2ms/step - loss: 5.8817e-05 - mae: 0.0052 - val_loss: 1.0961e-04 - val_mae: 0.0081\n",
      "Epoch 8/1000\n",
      "704/704 [==============================] - 2s 2ms/step - loss: 5.8203e-05 - mae: 0.0053 - val_loss: 1.0517e-04 - val_mae: 0.0077\n",
      "Epoch 9/1000\n",
      "704/704 [==============================] - 2s 2ms/step - loss: 5.9277e-05 - mae: 0.0053 - val_loss: 1.0157e-04 - val_mae: 0.0076\n",
      "Epoch 10/1000\n",
      "704/704 [==============================] - 2s 2ms/step - loss: 5.8476e-05 - mae: 0.0052 - val_loss: 1.1060e-04 - val_mae: 0.0079\n",
      "Epoch 11/1000\n",
      "704/704 [==============================] - 2s 2ms/step - loss: 5.8660e-05 - mae: 0.0053 - val_loss: 1.0797e-04 - val_mae: 0.0080\n",
      "Epoch 12/1000\n",
      "704/704 [==============================] - 2s 2ms/step - loss: 5.7669e-05 - mae: 0.0052 - val_loss: 1.0840e-04 - val_mae: 0.0078\n",
      "Epoch 13/1000\n",
      "704/704 [==============================] - 2s 3ms/step - loss: 5.9239e-05 - mae: 0.0053 - val_loss: 1.2454e-04 - val_mae: 0.0085\n",
      "Epoch 14/1000\n",
      "704/704 [==============================] - 2s 2ms/step - loss: 5.8567e-05 - mae: 0.0053 - val_loss: 1.0121e-04 - val_mae: 0.0076\n",
      "Epoch 15/1000\n",
      "704/704 [==============================] - 2s 2ms/step - loss: 5.7768e-05 - mae: 0.0052 - val_loss: 1.0199e-04 - val_mae: 0.0077\n",
      "Epoch 16/1000\n",
      "704/704 [==============================] - 2s 2ms/step - loss: 5.7919e-05 - mae: 0.0052 - val_loss: 1.0110e-04 - val_mae: 0.0076\n",
      "Epoch 17/1000\n",
      "704/704 [==============================] - 2s 2ms/step - loss: 5.7272e-05 - mae: 0.0052 - val_loss: 1.0124e-04 - val_mae: 0.0077\n",
      "Epoch 18/1000\n",
      "704/704 [==============================] - 2s 2ms/step - loss: 5.8133e-05 - mae: 0.0052 - val_loss: 1.0496e-04 - val_mae: 0.0077\n",
      "Epoch 19/1000\n",
      "704/704 [==============================] - 2s 2ms/step - loss: 5.7612e-05 - mae: 0.0052 - val_loss: 1.0132e-04 - val_mae: 0.0076\n",
      "Epoch 20/1000\n",
      "704/704 [==============================] - 2s 2ms/step - loss: 5.8102e-05 - mae: 0.0052 - val_loss: 1.0126e-04 - val_mae: 0.0077\n",
      "Epoch 21/1000\n",
      "704/704 [==============================] - 2s 2ms/step - loss: 5.6798e-05 - mae: 0.0052 - val_loss: 1.0364e-04 - val_mae: 0.0076\n",
      "Epoch 22/1000\n",
      "704/704 [==============================] - 2s 2ms/step - loss: 5.7243e-05 - mae: 0.0052 - val_loss: 1.0176e-04 - val_mae: 0.0077\n",
      "Epoch 23/1000\n",
      "704/704 [==============================] - 2s 2ms/step - loss: 5.6257e-05 - mae: 0.0052 - val_loss: 9.7833e-05 - val_mae: 0.0075\n",
      "Epoch 24/1000\n",
      "704/704 [==============================] - 2s 2ms/step - loss: 5.6213e-05 - mae: 0.0052 - val_loss: 9.6936e-05 - val_mae: 0.0074\n",
      "Epoch 25/1000\n",
      "704/704 [==============================] - 2s 3ms/step - loss: 5.4581e-05 - mae: 0.0052 - val_loss: 9.7425e-05 - val_mae: 0.0074\n",
      "Epoch 26/1000\n",
      "704/704 [==============================] - 2s 2ms/step - loss: 5.4669e-05 - mae: 0.0051 - val_loss: 9.6568e-05 - val_mae: 0.0074\n",
      "Epoch 27/1000\n",
      "704/704 [==============================] - 2s 2ms/step - loss: 5.3479e-05 - mae: 0.0050 - val_loss: 9.2497e-05 - val_mae: 0.0073\n",
      "Epoch 28/1000\n",
      "704/704 [==============================] - 2s 2ms/step - loss: 5.3216e-05 - mae: 0.0051 - val_loss: 9.1214e-05 - val_mae: 0.0072\n",
      "Epoch 29/1000\n",
      "704/704 [==============================] - 2s 2ms/step - loss: 5.2140e-05 - mae: 0.0050 - val_loss: 1.2762e-04 - val_mae: 0.0084\n",
      "Epoch 30/1000\n",
      "704/704 [==============================] - 2s 2ms/step - loss: 5.2267e-05 - mae: 0.0050 - val_loss: 1.0082e-04 - val_mae: 0.0078\n",
      "Epoch 31/1000\n",
      "704/704 [==============================] - 2s 2ms/step - loss: 5.1832e-05 - mae: 0.0049 - val_loss: 8.5237e-05 - val_mae: 0.0070\n",
      "Epoch 32/1000\n",
      "704/704 [==============================] - 2s 2ms/step - loss: 5.0710e-05 - mae: 0.0049 - val_loss: 1.1189e-04 - val_mae: 0.0081\n",
      "Epoch 33/1000\n",
      "704/704 [==============================] - 2s 2ms/step - loss: 5.2155e-05 - mae: 0.0050 - val_loss: 8.1543e-05 - val_mae: 0.0070\n",
      "Epoch 34/1000\n",
      "704/704 [==============================] - 2s 2ms/step - loss: 5.1863e-05 - mae: 0.0050 - val_loss: 7.7323e-05 - val_mae: 0.0068\n",
      "Epoch 35/1000\n",
      "704/704 [==============================] - 2s 2ms/step - loss: 5.0184e-05 - mae: 0.0048 - val_loss: 8.5188e-05 - val_mae: 0.0070\n",
      "Epoch 36/1000\n",
      "704/704 [==============================] - 2s 2ms/step - loss: 5.0148e-05 - mae: 0.0049 - val_loss: 7.5594e-05 - val_mae: 0.0066\n",
      "Epoch 37/1000\n",
      "704/704 [==============================] - 2s 3ms/step - loss: 4.9260e-05 - mae: 0.0048 - val_loss: 7.7695e-05 - val_mae: 0.0067\n",
      "Epoch 38/1000\n",
      "704/704 [==============================] - 2s 2ms/step - loss: 4.9290e-05 - mae: 0.0049 - val_loss: 8.8882e-05 - val_mae: 0.0073\n",
      "Epoch 39/1000\n",
      "704/704 [==============================] - 2s 2ms/step - loss: 4.7184e-05 - mae: 0.0047 - val_loss: 9.0771e-05 - val_mae: 0.0069\n",
      "Epoch 40/1000\n",
      "704/704 [==============================] - 2s 2ms/step - loss: 4.4703e-05 - mae: 0.0046 - val_loss: 9.0289e-05 - val_mae: 0.0070\n",
      "Epoch 41/1000\n",
      "704/704 [==============================] - 2s 2ms/step - loss: 4.3581e-05 - mae: 0.0045 - val_loss: 5.5436e-05 - val_mae: 0.0055\n",
      "Epoch 42/1000\n",
      "704/704 [==============================] - 2s 2ms/step - loss: 4.0923e-05 - mae: 0.0044 - val_loss: 6.2372e-05 - val_mae: 0.0058\n",
      "Epoch 43/1000\n",
      "704/704 [==============================] - 2s 2ms/step - loss: 3.9394e-05 - mae: 0.0043 - val_loss: 4.1929e-05 - val_mae: 0.0045\n",
      "Epoch 44/1000\n",
      "704/704 [==============================] - 2s 2ms/step - loss: 3.7075e-05 - mae: 0.0042 - val_loss: 4.6530e-05 - val_mae: 0.0046\n",
      "Epoch 45/1000\n",
      "704/704 [==============================] - 2s 2ms/step - loss: 3.6079e-05 - mae: 0.0041 - val_loss: 3.9772e-05 - val_mae: 0.0042\n",
      "Epoch 46/1000\n",
      "704/704 [==============================] - 2s 2ms/step - loss: 3.4828e-05 - mae: 0.0040 - val_loss: 4.2540e-05 - val_mae: 0.0045\n",
      "Epoch 47/1000\n",
      "704/704 [==============================] - 2s 2ms/step - loss: 3.3786e-05 - mae: 0.0040 - val_loss: 4.0795e-05 - val_mae: 0.0042\n",
      "Epoch 48/1000\n",
      "704/704 [==============================] - 2s 2ms/step - loss: 3.2685e-05 - mae: 0.0039 - val_loss: 3.5418e-05 - val_mae: 0.0037\n",
      "Epoch 49/1000\n",
      "704/704 [==============================] - 2s 2ms/step - loss: 3.1108e-05 - mae: 0.0038 - val_loss: 3.8177e-05 - val_mae: 0.0044\n",
      "Epoch 50/1000\n",
      "704/704 [==============================] - 2s 2ms/step - loss: 3.0344e-05 - mae: 0.0037 - val_loss: 5.2449e-05 - val_mae: 0.0055\n",
      "Epoch 51/1000\n",
      "704/704 [==============================] - 2s 2ms/step - loss: 2.8960e-05 - mae: 0.0037 - val_loss: 3.9018e-05 - val_mae: 0.0041\n",
      "Epoch 52/1000\n",
      "704/704 [==============================] - 2s 2ms/step - loss: 2.8369e-05 - mae: 0.0036 - val_loss: 4.7029e-05 - val_mae: 0.0050\n",
      "Epoch 53/1000\n",
      "704/704 [==============================] - 2s 2ms/step - loss: 2.8339e-05 - mae: 0.0036 - val_loss: 3.4761e-05 - val_mae: 0.0037\n",
      "Epoch 54/1000\n",
      "704/704 [==============================] - 2s 2ms/step - loss: 2.7552e-05 - mae: 0.0036 - val_loss: 3.6498e-05 - val_mae: 0.0038\n",
      "Epoch 55/1000\n",
      "704/704 [==============================] - 2s 2ms/step - loss: 2.6742e-05 - mae: 0.0035 - val_loss: 3.5701e-05 - val_mae: 0.0042\n",
      "Epoch 56/1000\n",
      "704/704 [==============================] - 2s 2ms/step - loss: 2.6700e-05 - mae: 0.0034 - val_loss: 3.6256e-05 - val_mae: 0.0038\n",
      "Epoch 57/1000\n",
      "704/704 [==============================] - 2s 2ms/step - loss: 2.5388e-05 - mae: 0.0034 - val_loss: 3.3893e-05 - val_mae: 0.0040\n",
      "Epoch 58/1000\n"
     ]
    },
    {
     "name": "stdout",
     "output_type": "stream",
     "text": [
      "704/704 [==============================] - 2s 2ms/step - loss: 2.5458e-05 - mae: 0.0033 - val_loss: 3.6036e-05 - val_mae: 0.0036\n",
      "Epoch 59/1000\n",
      "704/704 [==============================] - 2s 2ms/step - loss: 2.4978e-05 - mae: 0.0033 - val_loss: 3.3715e-05 - val_mae: 0.0038\n",
      "Epoch 60/1000\n",
      "704/704 [==============================] - 2s 2ms/step - loss: 2.5260e-05 - mae: 0.0033 - val_loss: 3.3949e-05 - val_mae: 0.0035\n",
      "Epoch 61/1000\n",
      "704/704 [==============================] - 2s 2ms/step - loss: 2.4539e-05 - mae: 0.0032 - val_loss: 3.6989e-05 - val_mae: 0.0039\n",
      "Epoch 62/1000\n",
      "704/704 [==============================] - 2s 2ms/step - loss: 2.4531e-05 - mae: 0.0032 - val_loss: 3.6085e-05 - val_mae: 0.0040\n",
      "Epoch 63/1000\n",
      "704/704 [==============================] - 2s 2ms/step - loss: 2.4243e-05 - mae: 0.0033 - val_loss: 3.2226e-05 - val_mae: 0.0036\n",
      "Epoch 64/1000\n",
      "704/704 [==============================] - 2s 2ms/step - loss: 2.5016e-05 - mae: 0.0033 - val_loss: 4.1359e-05 - val_mae: 0.0044\n",
      "Epoch 65/1000\n",
      "704/704 [==============================] - 2s 2ms/step - loss: 2.4309e-05 - mae: 0.0033 - val_loss: 3.3422e-05 - val_mae: 0.0034\n",
      "Epoch 66/1000\n",
      "704/704 [==============================] - 2s 2ms/step - loss: 2.3442e-05 - mae: 0.0032 - val_loss: 3.2313e-05 - val_mae: 0.0033\n",
      "Epoch 67/1000\n",
      "704/704 [==============================] - 2s 2ms/step - loss: 2.3333e-05 - mae: 0.0032 - val_loss: 3.6683e-05 - val_mae: 0.0038\n",
      "Epoch 68/1000\n",
      "704/704 [==============================] - 2s 2ms/step - loss: 2.3018e-05 - mae: 0.0031 - val_loss: 3.2787e-05 - val_mae: 0.0035\n",
      "Epoch 69/1000\n",
      "704/704 [==============================] - 2s 2ms/step - loss: 2.2985e-05 - mae: 0.0031 - val_loss: 3.4647e-05 - val_mae: 0.0035\n",
      "Epoch 70/1000\n",
      "704/704 [==============================] - 2s 2ms/step - loss: 2.2869e-05 - mae: 0.0031 - val_loss: 3.9032e-05 - val_mae: 0.0041\n",
      "Epoch 71/1000\n",
      "704/704 [==============================] - 2s 2ms/step - loss: 2.2976e-05 - mae: 0.0031 - val_loss: 3.3843e-05 - val_mae: 0.0035\n",
      "Epoch 72/1000\n",
      "704/704 [==============================] - 2s 2ms/step - loss: 2.3308e-05 - mae: 0.0031 - val_loss: 3.9287e-05 - val_mae: 0.0041\n",
      "Epoch 73/1000\n",
      "704/704 [==============================] - 2s 2ms/step - loss: 2.3247e-05 - mae: 0.0032 - val_loss: 3.2842e-05 - val_mae: 0.0036\n",
      "Epoch 74/1000\n",
      "704/704 [==============================] - 2s 2ms/step - loss: 2.2726e-05 - mae: 0.0031 - val_loss: 3.4587e-05 - val_mae: 0.0034\n",
      "Epoch 75/1000\n",
      "704/704 [==============================] - 2s 2ms/step - loss: 2.2554e-05 - mae: 0.0031 - val_loss: 3.2980e-05 - val_mae: 0.0036\n",
      "Epoch 76/1000\n",
      "704/704 [==============================] - 2s 2ms/step - loss: 2.2856e-05 - mae: 0.0031 - val_loss: 3.7520e-05 - val_mae: 0.0040\n",
      "Epoch 77/1000\n",
      "704/704 [==============================] - 2s 2ms/step - loss: 2.2560e-05 - mae: 0.0031 - val_loss: 3.3271e-05 - val_mae: 0.0034\n",
      "Epoch 78/1000\n",
      "704/704 [==============================] - 2s 2ms/step - loss: 2.2799e-05 - mae: 0.0031 - val_loss: 3.6697e-05 - val_mae: 0.0037\n",
      "Epoch 79/1000\n",
      "704/704 [==============================] - 2s 2ms/step - loss: 2.2229e-05 - mae: 0.0031 - val_loss: 4.3210e-05 - val_mae: 0.0045\n",
      "Epoch 80/1000\n",
      "704/704 [==============================] - 2s 2ms/step - loss: 2.2474e-05 - mae: 0.0030 - val_loss: 4.9923e-05 - val_mae: 0.0051\n",
      "Epoch 81/1000\n",
      "704/704 [==============================] - 2s 2ms/step - loss: 2.2326e-05 - mae: 0.0031 - val_loss: 3.2554e-05 - val_mae: 0.0035\n",
      "Epoch 82/1000\n",
      "704/704 [==============================] - 2s 2ms/step - loss: 2.1877e-05 - mae: 0.0030 - val_loss: 5.5350e-05 - val_mae: 0.0051\n",
      "Epoch 83/1000\n",
      "704/704 [==============================] - 2s 2ms/step - loss: 2.2039e-05 - mae: 0.0030 - val_loss: 3.2583e-05 - val_mae: 0.0034\n",
      "Epoch 84/1000\n",
      "704/704 [==============================] - 2s 2ms/step - loss: 2.2106e-05 - mae: 0.0030 - val_loss: 3.8753e-05 - val_mae: 0.0039\n",
      "Epoch 85/1000\n",
      "704/704 [==============================] - 2s 2ms/step - loss: 2.2217e-05 - mae: 0.0031 - val_loss: 3.4793e-05 - val_mae: 0.0036\n",
      "Epoch 86/1000\n",
      "704/704 [==============================] - 2s 2ms/step - loss: 2.1497e-05 - mae: 0.0030 - val_loss: 4.0381e-05 - val_mae: 0.0040\n",
      "Epoch 87/1000\n",
      "704/704 [==============================] - 2s 2ms/step - loss: 2.1443e-05 - mae: 0.0030 - val_loss: 3.5498e-05 - val_mae: 0.0037\n",
      "Epoch 88/1000\n",
      "704/704 [==============================] - 2s 2ms/step - loss: 2.1805e-05 - mae: 0.0030 - val_loss: 3.3669e-05 - val_mae: 0.0036\n",
      "Epoch 89/1000\n",
      "704/704 [==============================] - 2s 2ms/step - loss: 2.1626e-05 - mae: 0.0030 - val_loss: 3.7847e-05 - val_mae: 0.0038\n",
      "Epoch 90/1000\n",
      "704/704 [==============================] - 2s 2ms/step - loss: 2.1588e-05 - mae: 0.0030 - val_loss: 3.2983e-05 - val_mae: 0.0034\n",
      "Epoch 91/1000\n",
      "704/704 [==============================] - 2s 2ms/step - loss: 2.1473e-05 - mae: 0.0030 - val_loss: 3.4297e-05 - val_mae: 0.0036\n",
      "Epoch 92/1000\n",
      "704/704 [==============================] - 2s 2ms/step - loss: 2.1331e-05 - mae: 0.0030 - val_loss: 3.4178e-05 - val_mae: 0.0037\n",
      "Epoch 93/1000\n",
      "704/704 [==============================] - 2s 2ms/step - loss: 2.1122e-05 - mae: 0.0030 - val_loss: 3.3534e-05 - val_mae: 0.0037\n",
      "Epoch 94/1000\n",
      "704/704 [==============================] - 2s 2ms/step - loss: 2.1142e-05 - mae: 0.0030 - val_loss: 3.2756e-05 - val_mae: 0.0035\n",
      "Epoch 95/1000\n",
      "704/704 [==============================] - 2s 2ms/step - loss: 2.1201e-05 - mae: 0.0030 - val_loss: 3.6973e-05 - val_mae: 0.0041\n",
      "Epoch 96/1000\n",
      "704/704 [==============================] - 2s 2ms/step - loss: 2.1059e-05 - mae: 0.0030 - val_loss: 3.4375e-05 - val_mae: 0.0036\n",
      "Epoch 97/1000\n",
      "704/704 [==============================] - 2s 2ms/step - loss: 2.0839e-05 - mae: 0.0030 - val_loss: 3.4423e-05 - val_mae: 0.0036\n",
      "Epoch 98/1000\n",
      "704/704 [==============================] - 2s 2ms/step - loss: 2.1188e-05 - mae: 0.0030 - val_loss: 3.4467e-05 - val_mae: 0.0035\n",
      "Epoch 99/1000\n",
      "704/704 [==============================] - 2s 2ms/step - loss: 2.1128e-05 - mae: 0.0030 - val_loss: 3.4514e-05 - val_mae: 0.0036\n",
      "Epoch 100/1000\n",
      "704/704 [==============================] - 2s 2ms/step - loss: 2.0950e-05 - mae: 0.0029 - val_loss: 3.1911e-05 - val_mae: 0.0034\n",
      "Epoch 101/1000\n",
      "704/704 [==============================] - 2s 2ms/step - loss: 2.0964e-05 - mae: 0.0029 - val_loss: 3.9804e-05 - val_mae: 0.0044\n",
      "Epoch 102/1000\n",
      "704/704 [==============================] - 2s 2ms/step - loss: 2.1180e-05 - mae: 0.0029 - val_loss: 3.3931e-05 - val_mae: 0.0035\n",
      "Epoch 103/1000\n",
      "704/704 [==============================] - 2s 2ms/step - loss: 2.0690e-05 - mae: 0.0029 - val_loss: 3.4644e-05 - val_mae: 0.0038\n",
      "Epoch 104/1000\n",
      "704/704 [==============================] - 2s 2ms/step - loss: 2.0928e-05 - mae: 0.0029 - val_loss: 3.4258e-05 - val_mae: 0.0037\n",
      "Epoch 105/1000\n",
      "704/704 [==============================] - 2s 2ms/step - loss: 2.1142e-05 - mae: 0.0029 - val_loss: 3.2695e-05 - val_mae: 0.0036\n",
      "Epoch 106/1000\n",
      "704/704 [==============================] - 2s 2ms/step - loss: 2.0558e-05 - mae: 0.0029 - val_loss: 4.5221e-05 - val_mae: 0.0048\n",
      "Epoch 107/1000\n",
      "704/704 [==============================] - 2s 2ms/step - loss: 2.0348e-05 - mae: 0.0029 - val_loss: 3.4292e-05 - val_mae: 0.0036\n",
      "Epoch 108/1000\n",
      "704/704 [==============================] - 2s 2ms/step - loss: 2.0611e-05 - mae: 0.0029 - val_loss: 3.4093e-05 - val_mae: 0.0035\n",
      "Epoch 109/1000\n",
      "704/704 [==============================] - 2s 2ms/step - loss: 2.0520e-05 - mae: 0.0029 - val_loss: 3.3772e-05 - val_mae: 0.0036\n",
      "Epoch 110/1000\n",
      "704/704 [==============================] - 2s 2ms/step - loss: 2.0201e-05 - mae: 0.0029 - val_loss: 3.4520e-05 - val_mae: 0.0036\n",
      "Epoch 111/1000\n",
      "704/704 [==============================] - 2s 2ms/step - loss: 2.0105e-05 - mae: 0.0029 - val_loss: 3.3938e-05 - val_mae: 0.0038\n",
      "Epoch 112/1000\n",
      "704/704 [==============================] - 2s 2ms/step - loss: 2.0460e-05 - mae: 0.0029 - val_loss: 3.6387e-05 - val_mae: 0.0039\n",
      "Epoch 113/1000\n",
      "704/704 [==============================] - 2s 2ms/step - loss: 2.0649e-05 - mae: 0.0029 - val_loss: 3.9827e-05 - val_mae: 0.0040\n",
      "Epoch 114/1000\n",
      "704/704 [==============================] - 2s 2ms/step - loss: 2.0585e-05 - mae: 0.0029 - val_loss: 3.5884e-05 - val_mae: 0.0037\n",
      "Epoch 115/1000\n"
     ]
    },
    {
     "name": "stdout",
     "output_type": "stream",
     "text": [
      "704/704 [==============================] - 2s 2ms/step - loss: 2.0028e-05 - mae: 0.0028 - val_loss: 3.6722e-05 - val_mae: 0.0037\n",
      "Epoch 116/1000\n",
      "704/704 [==============================] - 2s 2ms/step - loss: 2.0426e-05 - mae: 0.0029 - val_loss: 3.5439e-05 - val_mae: 0.0037\n",
      "Epoch 117/1000\n",
      "704/704 [==============================] - 2s 2ms/step - loss: 2.0298e-05 - mae: 0.0029 - val_loss: 3.7454e-05 - val_mae: 0.0038\n",
      "Epoch 118/1000\n",
      "704/704 [==============================] - 2s 2ms/step - loss: 2.0331e-05 - mae: 0.0029 - val_loss: 3.3715e-05 - val_mae: 0.0039\n",
      "Epoch 119/1000\n",
      "704/704 [==============================] - 2s 2ms/step - loss: 2.0039e-05 - mae: 0.0029 - val_loss: 3.3761e-05 - val_mae: 0.0036\n",
      "Epoch 120/1000\n",
      "704/704 [==============================] - 2s 2ms/step - loss: 2.0083e-05 - mae: 0.0029 - val_loss: 6.0022e-05 - val_mae: 0.0052\n",
      "Epoch 121/1000\n",
      "704/704 [==============================] - 2s 2ms/step - loss: 2.0372e-05 - mae: 0.0029 - val_loss: 3.4897e-05 - val_mae: 0.0037\n",
      "Epoch 122/1000\n",
      "704/704 [==============================] - 2s 2ms/step - loss: 2.0203e-05 - mae: 0.0029 - val_loss: 4.2573e-05 - val_mae: 0.0048\n",
      "Epoch 123/1000\n",
      "704/704 [==============================] - 2s 3ms/step - loss: 2.0319e-05 - mae: 0.0029 - val_loss: 3.5215e-05 - val_mae: 0.0038\n",
      "Epoch 124/1000\n",
      "704/704 [==============================] - 2s 2ms/step - loss: 2.0288e-05 - mae: 0.0029 - val_loss: 3.8895e-05 - val_mae: 0.0041\n",
      "Epoch 125/1000\n",
      "704/704 [==============================] - 2s 2ms/step - loss: 2.0454e-05 - mae: 0.0029 - val_loss: 3.6303e-05 - val_mae: 0.0037\n",
      "Epoch 126/1000\n",
      "704/704 [==============================] - 2s 2ms/step - loss: 2.0105e-05 - mae: 0.0029 - val_loss: 3.6307e-05 - val_mae: 0.0038\n",
      "Epoch 127/1000\n",
      "704/704 [==============================] - 2s 2ms/step - loss: 1.9942e-05 - mae: 0.0028 - val_loss: 3.3028e-05 - val_mae: 0.0034\n",
      "Epoch 128/1000\n",
      "704/704 [==============================] - 2s 2ms/step - loss: 2.0409e-05 - mae: 0.0029 - val_loss: 3.4639e-05 - val_mae: 0.0036\n",
      "Epoch 129/1000\n",
      "704/704 [==============================] - 2s 2ms/step - loss: 2.0255e-05 - mae: 0.0029 - val_loss: 3.7780e-05 - val_mae: 0.0039\n",
      "Epoch 130/1000\n",
      "704/704 [==============================] - 2s 2ms/step - loss: 2.0052e-05 - mae: 0.0028 - val_loss: 3.7258e-05 - val_mae: 0.0039\n",
      "Epoch 131/1000\n",
      "704/704 [==============================] - 2s 2ms/step - loss: 2.0040e-05 - mae: 0.0028 - val_loss: 3.6820e-05 - val_mae: 0.0039\n",
      "Epoch 132/1000\n",
      "704/704 [==============================] - 2s 2ms/step - loss: 1.9978e-05 - mae: 0.0029 - val_loss: 3.9807e-05 - val_mae: 0.0044\n",
      "Epoch 133/1000\n",
      "704/704 [==============================] - 2s 3ms/step - loss: 2.0059e-05 - mae: 0.0028 - val_loss: 3.9408e-05 - val_mae: 0.0043\n",
      "Epoch 134/1000\n",
      "704/704 [==============================] - 2s 2ms/step - loss: 2.0050e-05 - mae: 0.0028 - val_loss: 4.3044e-05 - val_mae: 0.0043\n",
      "Epoch 135/1000\n",
      "704/704 [==============================] - 2s 2ms/step - loss: 2.0012e-05 - mae: 0.0029 - val_loss: 3.6038e-05 - val_mae: 0.0037\n",
      "Epoch 136/1000\n",
      "704/704 [==============================] - 2s 2ms/step - loss: 1.9687e-05 - mae: 0.0029 - val_loss: 4.6389e-05 - val_mae: 0.0044\n",
      "Epoch 137/1000\n",
      "704/704 [==============================] - 2s 2ms/step - loss: 2.0122e-05 - mae: 0.0028 - val_loss: 3.5890e-05 - val_mae: 0.0037\n",
      "Epoch 138/1000\n",
      "704/704 [==============================] - 2s 2ms/step - loss: 1.9666e-05 - mae: 0.0028 - val_loss: 3.6343e-05 - val_mae: 0.0039\n",
      "Epoch 139/1000\n",
      "704/704 [==============================] - 2s 3ms/step - loss: 1.9855e-05 - mae: 0.0028 - val_loss: 4.0417e-05 - val_mae: 0.0043\n",
      "Epoch 140/1000\n",
      "704/704 [==============================] - 2s 3ms/step - loss: 2.0153e-05 - mae: 0.0028 - val_loss: 3.4717e-05 - val_mae: 0.0037\n",
      "Epoch 141/1000\n",
      "704/704 [==============================] - 2s 2ms/step - loss: 1.9872e-05 - mae: 0.0028 - val_loss: 4.0516e-05 - val_mae: 0.0040\n",
      "Epoch 142/1000\n",
      "704/704 [==============================] - 2s 2ms/step - loss: 1.9824e-05 - mae: 0.0028 - val_loss: 5.2008e-05 - val_mae: 0.0048\n",
      "Epoch 143/1000\n",
      "704/704 [==============================] - 2s 3ms/step - loss: 1.9860e-05 - mae: 0.0029 - val_loss: 4.0671e-05 - val_mae: 0.0043\n",
      "Epoch 144/1000\n",
      "704/704 [==============================] - 2s 2ms/step - loss: 1.9799e-05 - mae: 0.0028 - val_loss: 3.6201e-05 - val_mae: 0.0039\n",
      "Epoch 145/1000\n",
      "704/704 [==============================] - 2s 3ms/step - loss: 2.0031e-05 - mae: 0.0028 - val_loss: 3.4642e-05 - val_mae: 0.0037\n",
      "Epoch 146/1000\n",
      "704/704 [==============================] - 2s 2ms/step - loss: 1.9557e-05 - mae: 0.0028 - val_loss: 3.5721e-05 - val_mae: 0.0037\n",
      "Epoch 147/1000\n",
      "704/704 [==============================] - 2s 2ms/step - loss: 1.9293e-05 - mae: 0.0028 - val_loss: 3.9222e-05 - val_mae: 0.0039\n",
      "Epoch 148/1000\n",
      "704/704 [==============================] - 2s 2ms/step - loss: 1.9924e-05 - mae: 0.0028 - val_loss: 3.9079e-05 - val_mae: 0.0041\n",
      "Epoch 149/1000\n",
      "704/704 [==============================] - 2s 2ms/step - loss: 1.9832e-05 - mae: 0.0028 - val_loss: 3.6982e-05 - val_mae: 0.0038\n",
      "Epoch 150/1000\n",
      "704/704 [==============================] - 2s 2ms/step - loss: 1.9518e-05 - mae: 0.0028 - val_loss: 4.2365e-05 - val_mae: 0.0046\n",
      "Epoch 151/1000\n",
      "704/704 [==============================] - 2s 2ms/step - loss: 1.9537e-05 - mae: 0.0028 - val_loss: 3.4849e-05 - val_mae: 0.0036\n",
      "Epoch 152/1000\n",
      "704/704 [==============================] - 2s 2ms/step - loss: 1.9403e-05 - mae: 0.0028 - val_loss: 4.0014e-05 - val_mae: 0.0044\n",
      "Epoch 153/1000\n",
      "704/704 [==============================] - 2s 2ms/step - loss: 1.9609e-05 - mae: 0.0028 - val_loss: 3.7804e-05 - val_mae: 0.0040\n",
      "Epoch 154/1000\n",
      "704/704 [==============================] - 2s 2ms/step - loss: 1.9841e-05 - mae: 0.0028 - val_loss: 3.7303e-05 - val_mae: 0.0038\n",
      "Epoch 155/1000\n",
      "704/704 [==============================] - 2s 2ms/step - loss: 1.9460e-05 - mae: 0.0028 - val_loss: 3.8354e-05 - val_mae: 0.0039\n",
      "Epoch 156/1000\n",
      "704/704 [==============================] - 2s 2ms/step - loss: 1.9572e-05 - mae: 0.0028 - val_loss: 5.5864e-05 - val_mae: 0.0049\n",
      "Epoch 157/1000\n",
      "704/704 [==============================] - 2s 2ms/step - loss: 1.9651e-05 - mae: 0.0028 - val_loss: 3.6865e-05 - val_mae: 0.0040\n",
      "Epoch 158/1000\n",
      "704/704 [==============================] - 2s 2ms/step - loss: 1.9636e-05 - mae: 0.0028 - val_loss: 4.8863e-05 - val_mae: 0.0053\n",
      "Epoch 159/1000\n",
      "704/704 [==============================] - 2s 2ms/step - loss: 1.9620e-05 - mae: 0.0028 - val_loss: 3.7224e-05 - val_mae: 0.0040\n",
      "Epoch 160/1000\n",
      "704/704 [==============================] - 2s 2ms/step - loss: 1.9403e-05 - mae: 0.0028 - val_loss: 4.1226e-05 - val_mae: 0.0043\n",
      "Epoch 161/1000\n",
      "704/704 [==============================] - 2s 2ms/step - loss: 1.9562e-05 - mae: 0.0028 - val_loss: 3.6842e-05 - val_mae: 0.0039\n",
      "Epoch 162/1000\n",
      "704/704 [==============================] - 2s 2ms/step - loss: 1.9354e-05 - mae: 0.0028 - val_loss: 4.2335e-05 - val_mae: 0.0047\n",
      "Epoch 163/1000\n",
      "704/704 [==============================] - 2s 2ms/step - loss: 1.9161e-05 - mae: 0.0028 - val_loss: 3.5744e-05 - val_mae: 0.0037\n",
      "Epoch 164/1000\n",
      "704/704 [==============================] - 2s 2ms/step - loss: 1.9139e-05 - mae: 0.0028 - val_loss: 3.5453e-05 - val_mae: 0.0037\n",
      "Epoch 165/1000\n",
      "704/704 [==============================] - 2s 2ms/step - loss: 1.9472e-05 - mae: 0.0028 - val_loss: 3.7792e-05 - val_mae: 0.0038\n",
      "Epoch 166/1000\n",
      "704/704 [==============================] - 2s 2ms/step - loss: 1.9161e-05 - mae: 0.0028 - val_loss: 4.6770e-05 - val_mae: 0.0043\n"
     ]
    }
   ],
   "source": [
    "#TRAINING THE MODEL:\n",
    "\n",
    "history = model.fit(\n",
    "    generator, epochs=1000, validation_data=generator_val, shuffle=True, callbacks=es\n",
    ")"
   ]
  },
  {
   "cell_type": "code",
   "execution_count": 96,
   "id": "723e87c7",
   "metadata": {},
   "outputs": [
    {
     "name": "stdout",
     "output_type": "stream",
     "text": [
      "175/175 [==============================] - 0s 619us/step - loss: 3.2313e-05 - mae: 0.0033\n"
     ]
    },
    {
     "data": {
      "text/plain": [
       "[3.231257142033428e-05, 0.003259592456743121]"
      ]
     },
     "execution_count": 96,
     "metadata": {},
     "output_type": "execute_result"
    }
   ],
   "source": [
    "model.evaluate(generator_val)"
   ]
  },
  {
   "cell_type": "code",
   "execution_count": 97,
   "id": "7e81dc80",
   "metadata": {},
   "outputs": [
    {
     "data": {
      "text/plain": [
       "array([<AxesSubplot: title={'center': 'MSE'}, xlabel='Epoch', ylabel='Loss'>,\n",
       "       <AxesSubplot: title={'center': 'MAE'}, xlabel='Epoch', ylabel='MAE'>],\n",
       "      dtype=object)"
      ]
     },
     "execution_count": 97,
     "metadata": {},
     "output_type": "execute_result"
    },
    {
     "data": {
      "image/png": "[encoded data removed]",
      "text/plain": [
       "<Figure size 2000x700 with 2 Axes>"
      ]
     },
     "metadata": {},
     "output_type": "display_data"
    }
   ],
   "source": [
    "# Learning Curves:\n",
    "plot_history(history)"
   ]
  },
  {
   "cell_type": "code",
   "execution_count": 98,
   "id": "1165d165",
   "metadata": {},
   "outputs": [
    {
     "data": {
      "text/plain": [
       "0.0048812746058099115"
      ]
     },
     "execution_count": 98,
     "metadata": {},
     "output_type": "execute_result"
    }
   ],
   "source": [
    "#Baseline MAE\n",
    "0.0048812746058099115"
   ]
  },
  {
   "cell_type": "markdown",
   "id": "7874cf9d",
   "metadata": {},
   "source": [
    "# Learning Curves viz code:"
   ]
  },
  {
   "cell_type": "code",
   "execution_count": 32,
   "id": "e5cc0401",
   "metadata": {},
   "outputs": [],
   "source": [
    "def plot_history(history):\n",
    "    \n",
    "    fig, ax = plt.subplots(1,2, figsize=(20,7))\n",
    "    # Loss:MSE\n",
    "    ax[0].plot(history.history['loss'])\n",
    "    ax[0].plot(history.history['val_loss'])\n",
    "    ax[0].set_title('MSE')\n",
    "    ax[0].set_ylabel('Loss')\n",
    "    ax[0].set_xlabel('Epoch')\n",
    "    ax[0].legend(['Train', 'Validation'], loc='best')\n",
    "    ax[0].grid(axis=\"x\",linewidth=0.5)\n",
    "    ax[0].grid(axis=\"y\",linewidth=0.5)\n",
    "    \n",
    "    # Metrics:MAE\n",
    "    \n",
    "    ax[1].plot(history.history['mae'])\n",
    "    ax[1].plot(history.history['val_mae'])\n",
    "    ax[1].set_title('MAE')\n",
    "    ax[1].set_ylabel('MAE')\n",
    "    ax[1].set_xlabel('Epoch')\n",
    "    ax[1].legend(['Train', 'Validation'], loc='best')\n",
    "    ax[1].grid(axis=\"x\",linewidth=0.5)\n",
    "    ax[1].grid(axis=\"y\",linewidth=0.5)\n",
    "                        \n",
    "    return ax"
   ]
  },
  {
   "cell_type": "code",
   "execution_count": null,
   "id": "82ffbd34",
   "metadata": {},
   "outputs": [],
   "source": []
  }
 ],
 "metadata": {
  "kernelspec": {
   "display_name": "Python 3 (ipykernel)",
   "language": "python",
   "name": "python3"
  },
  "language_info": {
   "codemirror_mode": {
    "name": "ipython",
    "version": 3
   },
   "file_extension": ".py",
   "mimetype": "text/x-python",
   "name": "python",
   "nbconvert_exporter": "python",
   "pygments_lexer": "ipython3",
   "version": "3.8.12"
  },
  "toc": {
   "base_numbering": 1,
   "nav_menu": {},
   "number_sections": true,
   "sideBar": true,
   "skip_h1_title": false,
   "title_cell": "Table of Contents",
   "title_sidebar": "Contents",
   "toc_cell": false,
   "toc_position": {},
   "toc_section_display": true,
   "toc_window_display": false
  }
 },
 "nbformat": 4,
 "nbformat_minor": 5
}
