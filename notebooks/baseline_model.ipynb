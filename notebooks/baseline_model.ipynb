{
 "cells": [
  {
   "cell_type": "markdown",
   "id": "c8c01af3",
   "metadata": {},
   "source": [
    "# Creating a Baseline Model"
   ]
  },
  {
   "cell_type": "markdown",
   "id": "b3c81afa",
   "metadata": {},
   "source": [
    "## Calculating the baseline model (that predicts the average of the bdi from its origin to  2021-11-29)'s MAE and MSE and RMSE"
   ]
  },
  {
   "cell_type": "code",
   "execution_count": 19,
   "id": "41a230a2",
   "metadata": {},
   "outputs": [],
   "source": [
    "import numpy as np\n",
    "import pandas as pd\n",
    "import seaborn as sns\n",
    "import matplotlib.pyplot as plt"
   ]
  },
  {
   "cell_type": "code",
   "execution_count": 75,
   "id": "2aaaa7cf",
   "metadata": {},
   "outputs": [],
   "source": [
    "prescaled_df = pd.read_csv(\"../raw_data/data/merged_data_prescaling.csv\")\n",
    "postscaled_df = pd.read_csv(\"../raw_data/data/merged_data_postscaling.csv\")"
   ]
  },
  {
   "cell_type": "code",
   "execution_count": 76,
   "id": "5822e14f",
   "metadata": {},
   "outputs": [
    {
     "data": {
      "text/html": [
       "<div>\n",
       "<style scoped>\n",
       "    .dataframe tbody tr th:only-of-type {\n",
       "        vertical-align: middle;\n",
       "    }\n",
       "\n",
       "    .dataframe tbody tr th {\n",
       "        vertical-align: top;\n",
       "    }\n",
       "\n",
       "    .dataframe thead th {\n",
       "        text-align: right;\n",
       "    }\n",
       "</style>\n",
       "<table border=\"1\" class=\"dataframe\">\n",
       "  <thead>\n",
       "    <tr style=\"text-align: right;\">\n",
       "      <th></th>\n",
       "      <th>time</th>\n",
       "      <th>bdi</th>\n",
       "      <th>cgdp</th>\n",
       "      <th>diff</th>\n",
       "      <th>cgdp_growth</th>\n",
       "      <th>csteel</th>\n",
       "      <th>CIP</th>\n",
       "    </tr>\n",
       "  </thead>\n",
       "  <tbody>\n",
       "    <tr>\n",
       "      <th>0</th>\n",
       "      <td>1995-01-16</td>\n",
       "      <td>2059.0</td>\n",
       "      <td>5.857736e+11</td>\n",
       "      <td>NaN</td>\n",
       "      <td>NaN</td>\n",
       "      <td>7.380742e+06</td>\n",
       "      <td>13.900686</td>\n",
       "    </tr>\n",
       "    <tr>\n",
       "      <th>1</th>\n",
       "      <td>1995-01-23</td>\n",
       "      <td>1983.0</td>\n",
       "      <td>5.890383e+11</td>\n",
       "      <td>3.264685e+09</td>\n",
       "      <td>0.005542</td>\n",
       "      <td>7.349355e+06</td>\n",
       "      <td>14.721669</td>\n",
       "    </tr>\n",
       "  </tbody>\n",
       "</table>\n",
       "</div>"
      ],
      "text/plain": [
       "         time     bdi          cgdp          diff  cgdp_growth        csteel  \\\n",
       "0  1995-01-16  2059.0  5.857736e+11           NaN          NaN  7.380742e+06   \n",
       "1  1995-01-23  1983.0  5.890383e+11  3.264685e+09     0.005542  7.349355e+06   \n",
       "\n",
       "         CIP  \n",
       "0  13.900686  \n",
       "1  14.721669  "
      ]
     },
     "execution_count": 76,
     "metadata": {},
     "output_type": "execute_result"
    }
   ],
   "source": [
    "prescaled_df.head(2)"
   ]
  },
  {
   "cell_type": "code",
   "execution_count": 98,
   "id": "bcc7a4f5",
   "metadata": {},
   "outputs": [],
   "source": [
    "# to delete first row with NaN values\n",
    "prescaled_df = prescaled_df[prescaled_df[\"time\"] > \"1995-01-16\"]"
   ]
  },
  {
   "cell_type": "code",
   "execution_count": 78,
   "id": "1a782d7b",
   "metadata": {},
   "outputs": [
    {
     "data": {
      "text/html": [
       "<div>\n",
       "<style scoped>\n",
       "    .dataframe tbody tr th:only-of-type {\n",
       "        vertical-align: middle;\n",
       "    }\n",
       "\n",
       "    .dataframe tbody tr th {\n",
       "        vertical-align: top;\n",
       "    }\n",
       "\n",
       "    .dataframe thead th {\n",
       "        text-align: right;\n",
       "    }\n",
       "</style>\n",
       "<table border=\"1\" class=\"dataframe\">\n",
       "  <thead>\n",
       "    <tr style=\"text-align: right;\">\n",
       "      <th></th>\n",
       "      <th>time</th>\n",
       "      <th>bdi</th>\n",
       "      <th>cgdp</th>\n",
       "      <th>diff</th>\n",
       "      <th>cgdp_growth</th>\n",
       "      <th>csteel</th>\n",
       "      <th>CIP</th>\n",
       "    </tr>\n",
       "  </thead>\n",
       "  <tbody>\n",
       "    <tr>\n",
       "      <th>1</th>\n",
       "      <td>1995-01-23</td>\n",
       "      <td>1983.0</td>\n",
       "      <td>5.890383e+11</td>\n",
       "      <td>3.264685e+09</td>\n",
       "      <td>0.005542</td>\n",
       "      <td>7.349355e+06</td>\n",
       "      <td>14.721669</td>\n",
       "    </tr>\n",
       "    <tr>\n",
       "      <th>2</th>\n",
       "      <td>1995-01-30</td>\n",
       "      <td>1959.0</td>\n",
       "      <td>5.923030e+11</td>\n",
       "      <td>3.264685e+09</td>\n",
       "      <td>0.005512</td>\n",
       "      <td>7.317968e+06</td>\n",
       "      <td>15.351956</td>\n",
       "    </tr>\n",
       "  </tbody>\n",
       "</table>\n",
       "</div>"
      ],
      "text/plain": [
       "         time     bdi          cgdp          diff  cgdp_growth        csteel  \\\n",
       "1  1995-01-23  1983.0  5.890383e+11  3.264685e+09     0.005542  7.349355e+06   \n",
       "2  1995-01-30  1959.0  5.923030e+11  3.264685e+09     0.005512  7.317968e+06   \n",
       "\n",
       "         CIP  \n",
       "1  14.721669  \n",
       "2  15.351956  "
      ]
     },
     "execution_count": 78,
     "metadata": {},
     "output_type": "execute_result"
    }
   ],
   "source": [
    "prescaled_df.head(2)"
   ]
  },
  {
   "cell_type": "code",
   "execution_count": 79,
   "id": "c5801b08",
   "metadata": {},
   "outputs": [
    {
     "data": {
      "text/html": [
       "<div>\n",
       "<style scoped>\n",
       "    .dataframe tbody tr th:only-of-type {\n",
       "        vertical-align: middle;\n",
       "    }\n",
       "\n",
       "    .dataframe tbody tr th {\n",
       "        vertical-align: top;\n",
       "    }\n",
       "\n",
       "    .dataframe thead th {\n",
       "        text-align: right;\n",
       "    }\n",
       "</style>\n",
       "<table border=\"1\" class=\"dataframe\">\n",
       "  <thead>\n",
       "    <tr style=\"text-align: right;\">\n",
       "      <th></th>\n",
       "      <th>time</th>\n",
       "      <th>bdi</th>\n",
       "      <th>cgdp</th>\n",
       "      <th>diff</th>\n",
       "      <th>cgdp_growth</th>\n",
       "      <th>csteel</th>\n",
       "      <th>CIP</th>\n",
       "    </tr>\n",
       "  </thead>\n",
       "  <tbody>\n",
       "    <tr>\n",
       "      <th>1390</th>\n",
       "      <td>2021-11-22</td>\n",
       "      <td>2767.0</td>\n",
       "      <td>1.765894e+13</td>\n",
       "      <td>5.842392e+10</td>\n",
       "      <td>0.003308</td>\n",
       "      <td>8.113000e+07</td>\n",
       "      <td>4.030326</td>\n",
       "    </tr>\n",
       "    <tr>\n",
       "      <th>1391</th>\n",
       "      <td>2021-11-29</td>\n",
       "      <td>3171.0</td>\n",
       "      <td>1.771737e+13</td>\n",
       "      <td>5.842392e+10</td>\n",
       "      <td>0.003298</td>\n",
       "      <td>8.507333e+07</td>\n",
       "      <td>4.227298</td>\n",
       "    </tr>\n",
       "  </tbody>\n",
       "</table>\n",
       "</div>"
      ],
      "text/plain": [
       "            time     bdi          cgdp          diff  cgdp_growth  \\\n",
       "1390  2021-11-22  2767.0  1.765894e+13  5.842392e+10     0.003308   \n",
       "1391  2021-11-29  3171.0  1.771737e+13  5.842392e+10     0.003298   \n",
       "\n",
       "            csteel       CIP  \n",
       "1390  8.113000e+07  4.030326  \n",
       "1391  8.507333e+07  4.227298  "
      ]
     },
     "execution_count": 79,
     "metadata": {},
     "output_type": "execute_result"
    }
   ],
   "source": [
    "prescaled_df.tail(2)"
   ]
  },
  {
   "cell_type": "code",
   "execution_count": 80,
   "id": "99104f39",
   "metadata": {},
   "outputs": [],
   "source": [
    "bdi_mean = prescaled_df[\"bdi\"].mean()"
   ]
  },
  {
   "cell_type": "code",
   "execution_count": 81,
   "id": "08ea0b90",
   "metadata": {},
   "outputs": [],
   "source": [
    "bdi_mean_list = [bdi_mean for i in range(len(prescaled_df))] "
   ]
  },
  {
   "cell_type": "code",
   "execution_count": 82,
   "id": "75a153d9",
   "metadata": {},
   "outputs": [
    {
     "data": {
      "text/plain": [
       "1391"
      ]
     },
     "execution_count": 82,
     "metadata": {},
     "output_type": "execute_result"
    }
   ],
   "source": [
    "len(bdi_mean_list)"
   ]
  },
  {
   "cell_type": "code",
   "execution_count": 83,
   "id": "2e5b2abf",
   "metadata": {},
   "outputs": [
    {
     "data": {
      "text/plain": [
       "1391"
      ]
     },
     "execution_count": 83,
     "metadata": {},
     "output_type": "execute_result"
    }
   ],
   "source": [
    "len(prescaled_df)"
   ]
  },
  {
   "cell_type": "code",
   "execution_count": 84,
   "id": "c76dd7df",
   "metadata": {},
   "outputs": [
    {
     "data": {
      "text/plain": [
       "[<matplotlib.lines.Line2D at 0x285190fa0>]"
      ]
     },
     "execution_count": 84,
     "metadata": {},
     "output_type": "execute_result"
    },
    {
     "data": {
      "image/png": "[encoded data removed]",
      "text/plain": [
       "<Figure size 640x480 with 1 Axes>"
      ]
     },
     "metadata": {},
     "output_type": "display_data"
    }
   ],
   "source": [
    "fig, ax = plt.subplots()\n",
    "ax.plot(prescaled_df.index , prescaled_df[\"bdi\"], color='green')\n",
    "ax.plot(bdi_mean_list, color=\"red\")"
   ]
  },
  {
   "cell_type": "code",
   "execution_count": 85,
   "id": "bc3ec3e7",
   "metadata": {},
   "outputs": [],
   "source": [
    "from sklearn.metrics import mean_absolute_error\n",
    "from sklearn.metrics import mean_squared_error"
   ]
  },
  {
   "cell_type": "code",
   "execution_count": 86,
   "id": "61beaa87",
   "metadata": {},
   "outputs": [],
   "source": [
    "y_pred_baseline = pd.DataFrame(bdi_mean_list)"
   ]
  },
  {
   "cell_type": "code",
   "execution_count": 87,
   "id": "b008143b",
   "metadata": {},
   "outputs": [
    {
     "data": {
      "text/html": [
       "<div>\n",
       "<style scoped>\n",
       "    .dataframe tbody tr th:only-of-type {\n",
       "        vertical-align: middle;\n",
       "    }\n",
       "\n",
       "    .dataframe tbody tr th {\n",
       "        vertical-align: top;\n",
       "    }\n",
       "\n",
       "    .dataframe thead th {\n",
       "        text-align: right;\n",
       "    }\n",
       "</style>\n",
       "<table border=\"1\" class=\"dataframe\">\n",
       "  <thead>\n",
       "    <tr style=\"text-align: right;\">\n",
       "      <th></th>\n",
       "      <th>0</th>\n",
       "    </tr>\n",
       "  </thead>\n",
       "  <tbody>\n",
       "    <tr>\n",
       "      <th>0</th>\n",
       "      <td>2115.301222</td>\n",
       "    </tr>\n",
       "    <tr>\n",
       "      <th>1</th>\n",
       "      <td>2115.301222</td>\n",
       "    </tr>\n",
       "  </tbody>\n",
       "</table>\n",
       "</div>"
      ],
      "text/plain": [
       "             0\n",
       "0  2115.301222\n",
       "1  2115.301222"
      ]
     },
     "execution_count": 87,
     "metadata": {},
     "output_type": "execute_result"
    }
   ],
   "source": [
    "y_pred_baseline.head(2)"
   ]
  },
  {
   "cell_type": "code",
   "execution_count": 88,
   "id": "933b7633",
   "metadata": {},
   "outputs": [
    {
     "data": {
      "text/plain": [
       "(1391, 1)"
      ]
     },
     "execution_count": 88,
     "metadata": {},
     "output_type": "execute_result"
    }
   ],
   "source": [
    "y_pred_baseline.shape"
   ]
  },
  {
   "cell_type": "code",
   "execution_count": 89,
   "id": "1f59c662",
   "metadata": {},
   "outputs": [],
   "source": [
    "y_pred_baseline.set_index(prescaled_df[\"time\"], inplace=True) "
   ]
  },
  {
   "cell_type": "code",
   "execution_count": 90,
   "id": "1c827692",
   "metadata": {},
   "outputs": [
    {
     "data": {
      "text/html": [
       "<div>\n",
       "<style scoped>\n",
       "    .dataframe tbody tr th:only-of-type {\n",
       "        vertical-align: middle;\n",
       "    }\n",
       "\n",
       "    .dataframe tbody tr th {\n",
       "        vertical-align: top;\n",
       "    }\n",
       "\n",
       "    .dataframe thead th {\n",
       "        text-align: right;\n",
       "    }\n",
       "</style>\n",
       "<table border=\"1\" class=\"dataframe\">\n",
       "  <thead>\n",
       "    <tr style=\"text-align: right;\">\n",
       "      <th></th>\n",
       "      <th>0</th>\n",
       "    </tr>\n",
       "    <tr>\n",
       "      <th>time</th>\n",
       "      <th></th>\n",
       "    </tr>\n",
       "  </thead>\n",
       "  <tbody>\n",
       "    <tr>\n",
       "      <th>1995-01-23</th>\n",
       "      <td>2115.301222</td>\n",
       "    </tr>\n",
       "    <tr>\n",
       "      <th>1995-01-30</th>\n",
       "      <td>2115.301222</td>\n",
       "    </tr>\n",
       "    <tr>\n",
       "      <th>1995-02-06</th>\n",
       "      <td>2115.301222</td>\n",
       "    </tr>\n",
       "    <tr>\n",
       "      <th>1995-02-13</th>\n",
       "      <td>2115.301222</td>\n",
       "    </tr>\n",
       "    <tr>\n",
       "      <th>1995-02-20</th>\n",
       "      <td>2115.301222</td>\n",
       "    </tr>\n",
       "  </tbody>\n",
       "</table>\n",
       "</div>"
      ],
      "text/plain": [
       "                      0\n",
       "time                   \n",
       "1995-01-23  2115.301222\n",
       "1995-01-30  2115.301222\n",
       "1995-02-06  2115.301222\n",
       "1995-02-13  2115.301222\n",
       "1995-02-20  2115.301222"
      ]
     },
     "execution_count": 90,
     "metadata": {},
     "output_type": "execute_result"
    }
   ],
   "source": [
    "y_pred_baseline.head(5)"
   ]
  },
  {
   "cell_type": "code",
   "execution_count": 91,
   "id": "07d6ee7f",
   "metadata": {},
   "outputs": [],
   "source": [
    "y_true_baseline = pd.DataFrame(prescaled_df[\"bdi\"])"
   ]
  },
  {
   "cell_type": "code",
   "execution_count": 92,
   "id": "83794b76",
   "metadata": {},
   "outputs": [
    {
     "data": {
      "text/plain": [
       "(1391, 1)"
      ]
     },
     "execution_count": 92,
     "metadata": {},
     "output_type": "execute_result"
    }
   ],
   "source": [
    "y_true_baseline.shape"
   ]
  },
  {
   "cell_type": "code",
   "execution_count": 93,
   "id": "9ef50f5c",
   "metadata": {},
   "outputs": [],
   "source": [
    "y_true_baseline.set_index(prescaled_df[\"time\"], inplace=True)"
   ]
  },
  {
   "cell_type": "code",
   "execution_count": 94,
   "id": "0532417c",
   "metadata": {},
   "outputs": [
    {
     "data": {
      "text/html": [
       "<div>\n",
       "<style scoped>\n",
       "    .dataframe tbody tr th:only-of-type {\n",
       "        vertical-align: middle;\n",
       "    }\n",
       "\n",
       "    .dataframe tbody tr th {\n",
       "        vertical-align: top;\n",
       "    }\n",
       "\n",
       "    .dataframe thead th {\n",
       "        text-align: right;\n",
       "    }\n",
       "</style>\n",
       "<table border=\"1\" class=\"dataframe\">\n",
       "  <thead>\n",
       "    <tr style=\"text-align: right;\">\n",
       "      <th></th>\n",
       "      <th>bdi</th>\n",
       "    </tr>\n",
       "    <tr>\n",
       "      <th>time</th>\n",
       "      <th></th>\n",
       "    </tr>\n",
       "  </thead>\n",
       "  <tbody>\n",
       "    <tr>\n",
       "      <th>1995-01-23</th>\n",
       "      <td>1983.0</td>\n",
       "    </tr>\n",
       "    <tr>\n",
       "      <th>1995-01-30</th>\n",
       "      <td>1959.0</td>\n",
       "    </tr>\n",
       "    <tr>\n",
       "      <th>1995-02-06</th>\n",
       "      <td>1980.0</td>\n",
       "    </tr>\n",
       "    <tr>\n",
       "      <th>1995-02-13</th>\n",
       "      <td>1992.0</td>\n",
       "    </tr>\n",
       "    <tr>\n",
       "      <th>1995-02-20</th>\n",
       "      <td>2027.0</td>\n",
       "    </tr>\n",
       "  </tbody>\n",
       "</table>\n",
       "</div>"
      ],
      "text/plain": [
       "               bdi\n",
       "time              \n",
       "1995-01-23  1983.0\n",
       "1995-01-30  1959.0\n",
       "1995-02-06  1980.0\n",
       "1995-02-13  1992.0\n",
       "1995-02-20  2027.0"
      ]
     },
     "execution_count": 94,
     "metadata": {},
     "output_type": "execute_result"
    }
   ],
   "source": [
    "y_true_baseline.head(5)"
   ]
  },
  {
   "cell_type": "code",
   "execution_count": 95,
   "id": "116d6922",
   "metadata": {},
   "outputs": [
    {
     "data": {
      "text/plain": [
       "1276.126222749616"
      ]
     },
     "execution_count": 95,
     "metadata": {},
     "output_type": "execute_result"
    }
   ],
   "source": [
    "mean_absolute_error(y_true_baseline, y_pred_baseline)"
   ]
  },
  {
   "cell_type": "code",
   "execution_count": 96,
   "id": "300d1103",
   "metadata": {},
   "outputs": [
    {
     "data": {
      "text/plain": [
       "3456457.320480174"
      ]
     },
     "execution_count": 96,
     "metadata": {},
     "output_type": "execute_result"
    }
   ],
   "source": [
    "MSE = mean_squared_error(y_true_baseline, y_pred_baseline)\n",
    "MSE"
   ]
  },
  {
   "cell_type": "code",
   "execution_count": 97,
   "id": "3c0f3789",
   "metadata": {},
   "outputs": [
    {
     "data": {
      "text/plain": [
       "1859.1550017360505"
      ]
     },
     "execution_count": 97,
     "metadata": {},
     "output_type": "execute_result"
    }
   ],
   "source": [
    "RMSE = np.sqrt(mean_squared_error(y_true_baseline, y_pred_baseline))\n",
    "RMSE"
   ]
  }
 ],
 "metadata": {
  "kernelspec": {
   "display_name": "Python 3 (ipykernel)",
   "language": "python",
   "name": "python3"
  },
  "language_info": {
   "codemirror_mode": {
    "name": "ipython",
    "version": 3
   },
   "file_extension": ".py",
   "mimetype": "text/x-python",
   "name": "python",
   "nbconvert_exporter": "python",
   "pygments_lexer": "ipython3",
   "version": "3.8.12"
  },
  "toc": {
   "base_numbering": 1,
   "nav_menu": {},
   "number_sections": true,
   "sideBar": true,
   "skip_h1_title": false,
   "title_cell": "Table of Contents",
   "title_sidebar": "Contents",
   "toc_cell": false,
   "toc_position": {},
   "toc_section_display": true,
   "toc_window_display": false
  }
 },
 "nbformat": 4,
 "nbformat_minor": 5
}
