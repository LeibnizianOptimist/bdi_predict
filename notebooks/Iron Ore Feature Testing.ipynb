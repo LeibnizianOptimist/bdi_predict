{
 "cells": [
  {
   "cell_type": "markdown",
   "id": "d62e231e",
   "metadata": {},
   "source": [
    "# Feature Selection for log_diff_model (Multivariate Model)"
   ]
  },
  {
   "cell_type": "code",
   "execution_count": 4,
   "id": "c1b801c5",
   "metadata": {},
   "outputs": [],
   "source": [
    "import pandas as pd \n",
    "import numpy as np\n",
    "import matplotlib.pyplot as plt\n",
    "from tensorflow.keras import Sequential\n",
    "from bdi_predict.ml_logic.sequence_gen import WindowGenerator\n",
    "from tensorflow.keras import layers\n",
    "from sklearn.model_selection import TimeSeriesSplit\n",
    "from tensorflow.keras.preprocessing.sequence import TimeseriesGenerator\n",
    "from sklearn.preprocessing import MinMaxScaler\n",
    "from sklearn.preprocessing import StandardScaler\n",
    "from tensorflow.keras.optimizers import RMSprop\n",
    "from tensorflow.keras.optimizers import Adam\n",
    "from tensorflow.keras.optimizers.schedules import ExponentialDecay\n",
    "from tensorflow.keras.callbacks import EarlyStopping"
   ]
  },
  {
   "cell_type": "code",
   "execution_count": 5,
   "id": "6d6abab0",
   "metadata": {},
   "outputs": [
    {
     "data": {
      "text/html": [
       "<div>\n",
       "<style scoped>\n",
       "    .dataframe tbody tr th:only-of-type {\n",
       "        vertical-align: middle;\n",
       "    }\n",
       "\n",
       "    .dataframe tbody tr th {\n",
       "        vertical-align: top;\n",
       "    }\n",
       "\n",
       "    .dataframe thead th {\n",
       "        text-align: right;\n",
       "    }\n",
       "</style>\n",
       "<table border=\"1\" class=\"dataframe\">\n",
       "  <thead>\n",
       "    <tr style=\"text-align: right;\">\n",
       "      <th></th>\n",
       "      <th>Unnamed: 0</th>\n",
       "      <th>Date</th>\n",
       "      <th>Price</th>\n",
       "      <th>abs_price</th>\n",
       "      <th>log_price</th>\n",
       "      <th>log_diff</th>\n",
       "    </tr>\n",
       "  </thead>\n",
       "  <tbody>\n",
       "    <tr>\n",
       "      <th>0</th>\n",
       "      <td>0</td>\n",
       "      <td>1995-01-03</td>\n",
       "      <td>1964.0</td>\n",
       "      <td>NaN</td>\n",
       "      <td>3.293141</td>\n",
       "      <td>NaN</td>\n",
       "    </tr>\n",
       "    <tr>\n",
       "      <th>1</th>\n",
       "      <td>1</td>\n",
       "      <td>1995-01-04</td>\n",
       "      <td>1961.0</td>\n",
       "      <td>-3.0</td>\n",
       "      <td>3.292478</td>\n",
       "      <td>-0.000664</td>\n",
       "    </tr>\n",
       "  </tbody>\n",
       "</table>\n",
       "</div>"
      ],
      "text/plain": [
       "   Unnamed: 0        Date   Price  abs_price  log_price  log_diff\n",
       "0           0  1995-01-03  1964.0        NaN   3.293141       NaN\n",
       "1           1  1995-01-04  1961.0       -3.0   3.292478 -0.000664"
      ]
     },
     "execution_count": 5,
     "metadata": {},
     "output_type": "execute_result"
    }
   ],
   "source": [
    "bdi = pd.read_csv(\"../raw_data/data/BDI/log_diff_BDI_daily.csv\")\n",
    "bdi.head(2)"
   ]
  },
  {
   "cell_type": "code",
   "execution_count": 6,
   "id": "a9160b67",
   "metadata": {
    "scrolled": true
   },
   "outputs": [
    {
     "data": {
      "text/html": [
       "<div>\n",
       "<style scoped>\n",
       "    .dataframe tbody tr th:only-of-type {\n",
       "        vertical-align: middle;\n",
       "    }\n",
       "\n",
       "    .dataframe tbody tr th {\n",
       "        vertical-align: top;\n",
       "    }\n",
       "\n",
       "    .dataframe thead th {\n",
       "        text-align: right;\n",
       "    }\n",
       "</style>\n",
       "<table border=\"1\" class=\"dataframe\">\n",
       "  <thead>\n",
       "    <tr style=\"text-align: right;\">\n",
       "      <th></th>\n",
       "      <th>Price</th>\n",
       "      <th>abs_price</th>\n",
       "      <th>log_price</th>\n",
       "      <th>log_diff</th>\n",
       "    </tr>\n",
       "    <tr>\n",
       "      <th>Date</th>\n",
       "      <th></th>\n",
       "      <th></th>\n",
       "      <th></th>\n",
       "      <th></th>\n",
       "    </tr>\n",
       "  </thead>\n",
       "  <tbody>\n",
       "    <tr>\n",
       "      <th>1995-01-04</th>\n",
       "      <td>1961.0</td>\n",
       "      <td>-3.0</td>\n",
       "      <td>3.292478</td>\n",
       "      <td>-0.000664</td>\n",
       "    </tr>\n",
       "    <tr>\n",
       "      <th>1995-01-05</th>\n",
       "      <td>1967.0</td>\n",
       "      <td>6.0</td>\n",
       "      <td>3.293804</td>\n",
       "      <td>0.001327</td>\n",
       "    </tr>\n",
       "  </tbody>\n",
       "</table>\n",
       "</div>"
      ],
      "text/plain": [
       "             Price  abs_price  log_price  log_diff\n",
       "Date                                              \n",
       "1995-01-04  1961.0       -3.0   3.292478 -0.000664\n",
       "1995-01-05  1967.0        6.0   3.293804  0.001327"
      ]
     },
     "execution_count": 6,
     "metadata": {},
     "output_type": "execute_result"
    }
   ],
   "source": [
    "bdi[\"Date\"] = pd.to_datetime(bdi[\"Date\"])\n",
    "bdi.set_index(\"Date\", inplace=True)\n",
    "bdi= bdi[bdi.index != \"1995-01-03\"]\n",
    "bdi.drop(columns=\"Unnamed: 0\", inplace=True)\n",
    "bdi.head(2)"
   ]
  },
  {
   "cell_type": "code",
   "execution_count": 22,
   "id": "bca70981",
   "metadata": {},
   "outputs": [
    {
     "data": {
      "text/html": [
       "<div>\n",
       "<style scoped>\n",
       "    .dataframe tbody tr th:only-of-type {\n",
       "        vertical-align: middle;\n",
       "    }\n",
       "\n",
       "    .dataframe tbody tr th {\n",
       "        vertical-align: top;\n",
       "    }\n",
       "\n",
       "    .dataframe thead th {\n",
       "        text-align: right;\n",
       "    }\n",
       "</style>\n",
       "<table border=\"1\" class=\"dataframe\">\n",
       "  <thead>\n",
       "    <tr style=\"text-align: right;\">\n",
       "      <th></th>\n",
       "      <th>iron</th>\n",
       "    </tr>\n",
       "    <tr>\n",
       "      <th>Date</th>\n",
       "      <th></th>\n",
       "    </tr>\n",
       "  </thead>\n",
       "  <tbody>\n",
       "    <tr>\n",
       "      <th>1995-01-03</th>\n",
       "      <td>12.270000</td>\n",
       "    </tr>\n",
       "    <tr>\n",
       "      <th>1995-01-04</th>\n",
       "      <td>12.270000</td>\n",
       "    </tr>\n",
       "    <tr>\n",
       "      <th>1995-01-05</th>\n",
       "      <td>12.270000</td>\n",
       "    </tr>\n",
       "    <tr>\n",
       "      <th>1995-01-06</th>\n",
       "      <td>12.270000</td>\n",
       "    </tr>\n",
       "    <tr>\n",
       "      <th>1995-01-09</th>\n",
       "      <td>12.270000</td>\n",
       "    </tr>\n",
       "    <tr>\n",
       "      <th>...</th>\n",
       "      <td>...</td>\n",
       "    </tr>\n",
       "    <tr>\n",
       "      <th>2022-11-08</th>\n",
       "      <td>27.540690</td>\n",
       "    </tr>\n",
       "    <tr>\n",
       "      <th>2022-11-09</th>\n",
       "      <td>26.013621</td>\n",
       "    </tr>\n",
       "    <tr>\n",
       "      <th>2022-11-10</th>\n",
       "      <td>24.486552</td>\n",
       "    </tr>\n",
       "    <tr>\n",
       "      <th>2022-11-11</th>\n",
       "      <td>22.959483</td>\n",
       "    </tr>\n",
       "    <tr>\n",
       "      <th>2022-11-14</th>\n",
       "      <td>21.432414</td>\n",
       "    </tr>\n",
       "  </tbody>\n",
       "</table>\n",
       "<p>7365 rows × 1 columns</p>\n",
       "</div>"
      ],
      "text/plain": [
       "                 iron\n",
       "Date                 \n",
       "1995-01-03  12.270000\n",
       "1995-01-04  12.270000\n",
       "1995-01-05  12.270000\n",
       "1995-01-06  12.270000\n",
       "1995-01-09  12.270000\n",
       "...               ...\n",
       "2022-11-08  27.540690\n",
       "2022-11-09  26.013621\n",
       "2022-11-10  24.486552\n",
       "2022-11-11  22.959483\n",
       "2022-11-14  21.432414\n",
       "\n",
       "[7365 rows x 1 columns]"
      ]
     },
     "execution_count": 22,
     "metadata": {},
     "output_type": "execute_result"
    }
   ],
   "source": [
    "feat = pd.read_csv(\"../raw_data/data/merged_features.csv\")\n",
    "feat[\"Date\"] = pd.to_datetime(feat[\"Date\"])\n",
    "feat.set_index(\"Date\", inplace=True)\n",
    "feat.drop(columns=\"Unnamed: 0\", inplace=True)\n",
    "feat = feat[[\"close_y\"]]\n",
    "feat.rename(columns={\"close_y\":\"iron\"}, inplace=True)\n",
    "iron=feat\n",
    "iron"
   ]
  },
  {
   "cell_type": "code",
   "execution_count": 23,
   "id": "3a6818f1",
   "metadata": {},
   "outputs": [],
   "source": [
    "df = pd.merge(bdi, iron, on=\"Date\", how=\"inner\")\n",
    "#df.drop(columns=\"Price_y\", inplace=True)\n"
   ]
  },
  {
   "cell_type": "code",
   "execution_count": 24,
   "id": "e6c35d1e",
   "metadata": {},
   "outputs": [
    {
     "data": {
      "text/html": [
       "<div>\n",
       "<style scoped>\n",
       "    .dataframe tbody tr th:only-of-type {\n",
       "        vertical-align: middle;\n",
       "    }\n",
       "\n",
       "    .dataframe tbody tr th {\n",
       "        vertical-align: top;\n",
       "    }\n",
       "\n",
       "    .dataframe thead th {\n",
       "        text-align: right;\n",
       "    }\n",
       "</style>\n",
       "<table border=\"1\" class=\"dataframe\">\n",
       "  <thead>\n",
       "    <tr style=\"text-align: right;\">\n",
       "      <th></th>\n",
       "      <th>Price</th>\n",
       "      <th>abs_price</th>\n",
       "      <th>log_price</th>\n",
       "      <th>log_diff</th>\n",
       "      <th>iron</th>\n",
       "    </tr>\n",
       "    <tr>\n",
       "      <th>Date</th>\n",
       "      <th></th>\n",
       "      <th></th>\n",
       "      <th></th>\n",
       "      <th></th>\n",
       "      <th></th>\n",
       "    </tr>\n",
       "  </thead>\n",
       "  <tbody>\n",
       "    <tr>\n",
       "      <th>1995-01-04</th>\n",
       "      <td>1961.0</td>\n",
       "      <td>-3.0</td>\n",
       "      <td>3.292478</td>\n",
       "      <td>-0.000664</td>\n",
       "      <td>12.27</td>\n",
       "    </tr>\n",
       "    <tr>\n",
       "      <th>1995-01-05</th>\n",
       "      <td>1967.0</td>\n",
       "      <td>6.0</td>\n",
       "      <td>3.293804</td>\n",
       "      <td>0.001327</td>\n",
       "      <td>12.27</td>\n",
       "    </tr>\n",
       "    <tr>\n",
       "      <th>1995-01-06</th>\n",
       "      <td>1983.0</td>\n",
       "      <td>16.0</td>\n",
       "      <td>3.297323</td>\n",
       "      <td>0.003518</td>\n",
       "      <td>12.27</td>\n",
       "    </tr>\n",
       "  </tbody>\n",
       "</table>\n",
       "</div>"
      ],
      "text/plain": [
       "             Price  abs_price  log_price  log_diff   iron\n",
       "Date                                                     \n",
       "1995-01-04  1961.0       -3.0   3.292478 -0.000664  12.27\n",
       "1995-01-05  1967.0        6.0   3.293804  0.001327  12.27\n",
       "1995-01-06  1983.0       16.0   3.297323  0.003518  12.27"
      ]
     },
     "execution_count": 24,
     "metadata": {},
     "output_type": "execute_result"
    }
   ],
   "source": [
    "df.head(3)"
   ]
  },
  {
   "cell_type": "markdown",
   "id": "56980bce",
   "metadata": {},
   "source": [
    "# Data Cleaning"
   ]
  },
  {
   "cell_type": "markdown",
   "id": "e669c6b0",
   "metadata": {},
   "source": [
    "## Holdout Method (manual, chronological)"
   ]
  },
  {
   "cell_type": "code",
   "execution_count": 25,
   "id": "d21fb98a",
   "metadata": {},
   "outputs": [],
   "source": [
    "input_length = len(df)"
   ]
  },
  {
   "cell_type": "code",
   "execution_count": 26,
   "id": "2299b650",
   "metadata": {},
   "outputs": [],
   "source": [
    "def train_test_split(df:pd.DataFrame,\n",
    "                     train_test_ratio: float,\n",
    "                     input_length: int) -> tuple:\n",
    "    '''\n",
    "    Returns a train dataframe and a test dataframe (df_train, df_test)\n",
    "    from which one can sample (X,y) sequences using TimeseriesGenerator.\n",
    "    df_train should contain all the timesteps until round(train_test_ratio * len(fold))   \n",
    "    '''\n",
    "    \n",
    "    # TRAIN SET\n",
    "\n",
    "    last_train_idx = round(train_test_ratio * len(df))\n",
    "    df_train = df.iloc[0:last_train_idx, :]\n",
    "\n",
    "    # TEST SET\n",
    " \n",
    "    first_test_idx = last_train_idx - input_length\n",
    "    df_test = df.iloc[first_test_idx:, :]\n",
    "\n",
    "    return (df_train, df_test)"
   ]
  },
  {
   "cell_type": "code",
   "execution_count": 27,
   "id": "27aaf25c",
   "metadata": {},
   "outputs": [],
   "source": [
    "df_train, df_test = train_test_split(df=df, train_test_ratio=0.8, input_length=input_length)"
   ]
  },
  {
   "cell_type": "code",
   "execution_count": 29,
   "id": "7ea39e89",
   "metadata": {},
   "outputs": [],
   "source": [
    "X_train = df_train[[\"Price\",\"iron\"]]\n",
    "y_train = df_train[\"log_diff\"]\n",
    "\n",
    "X_test  = df_test[[\"Price\",\"iron\"]]\n",
    "y_test = df_test[\"log_diff\"]"
   ]
  },
  {
   "cell_type": "code",
   "execution_count": 30,
   "id": "668d5c6b",
   "metadata": {},
   "outputs": [],
   "source": [
    "#Feature Scaling\n",
    "\n",
    "scaler_X = MinMaxScaler()\n",
    "\n",
    "X_train_scaled = scaler_X.fit_transform(X_train)\n",
    "X_test_scaled = scaler_X.fit_transform(X_test)\n",
    "\n"
   ]
  },
  {
   "cell_type": "code",
   "execution_count": 31,
   "id": "7c51cffb",
   "metadata": {},
   "outputs": [],
   "source": [
    "generator = TimeseriesGenerator(X_train_scaled, y_train, length=20, batch_size=8, sampling_rate=1, stride=1)"
   ]
  },
  {
   "cell_type": "code",
   "execution_count": 32,
   "id": "7fbfa567",
   "metadata": {},
   "outputs": [
    {
     "data": {
      "text/plain": [
       "704"
      ]
     },
     "execution_count": 32,
     "metadata": {},
     "output_type": "execute_result"
    }
   ],
   "source": [
    "len(generator)"
   ]
  },
  {
   "cell_type": "code",
   "execution_count": 33,
   "id": "fe155517",
   "metadata": {},
   "outputs": [],
   "source": [
    "generator_val = TimeseriesGenerator(X_test_scaled, y_test, length=20, batch_size=8, sampling_rate=1, stride=1)"
   ]
  },
  {
   "cell_type": "code",
   "execution_count": 34,
   "id": "be597232",
   "metadata": {},
   "outputs": [
    {
     "name": "stdout",
     "output_type": "stream",
     "text": [
      "(8, 20, 2) (8,)\n",
      "[[0.14519214 0.00194009]\n",
      " [0.14571379 0.00194009]\n",
      " [0.14710485 0.00194009]\n",
      " [0.14806121 0.00194009]\n",
      " [0.14988698 0.00194009]\n",
      " [0.15023474 0.00194009]\n",
      " [0.15188663 0.00194009]\n",
      " [0.15379934 0.00194009]\n",
      " [0.15440793 0.00194009]\n",
      " [0.15475569 0.00194009]\n",
      " [0.15475569 0.00194009]\n",
      " [0.15466875 0.00194009]\n",
      " [0.1537124  0.00194009]\n",
      " [0.15240828 0.00194009]\n",
      " [0.15136498 0.00194009]\n",
      " [0.1501478  0.00194009]\n",
      " [0.14823509 0.00194009]\n",
      " [0.14710485 0.00194009]\n",
      " [0.1465832  0.00194009]\n",
      " [0.14623544 0.00194009]] -0.0015435717560743\n"
     ]
    }
   ],
   "source": [
    "for X, y in generator:\n",
    "    print(X.shape, y.shape)\n",
    "    print(X[0], y[0])\n",
    "    #listy = [float(X[0][i]) for i in range(len(X[0]))]\n",
    "    #print(listy)\n",
    "    break"
   ]
  },
  {
   "cell_type": "markdown",
   "id": "c73dff21",
   "metadata": {},
   "source": [
    "# The Model"
   ]
  },
  {
   "cell_type": "code",
   "execution_count": 41,
   "id": "f26bb2c6",
   "metadata": {},
   "outputs": [],
   "source": [
    "# Learning Rate Scheduler: \n",
    "\n",
    "lr_schedule = ExponentialDecay(\n",
    "    initial_learning_rate=1e-3,\n",
    "    decay_steps=10000,\n",
    "    decay_rate=0.9)"
   ]
  },
  {
   "cell_type": "code",
   "execution_count": 42,
   "id": "82b7c020",
   "metadata": {},
   "outputs": [],
   "source": [
    "#Optimizers\n",
    "\n",
    "rmsprop = RMSprop(learning_rate=lr_schedule) #or 0.001 for inital test\n",
    "adam = Adam(learning_rate=lr_schedule)"
   ]
  },
  {
   "cell_type": "code",
   "execution_count": 43,
   "id": "363270b9",
   "metadata": {},
   "outputs": [],
   "source": [
    "#Early Stopping Criterion:\n",
    "\n",
    "es = EarlyStopping(monitor=\"val_mae\", patience=30, restore_best_weights=True)"
   ]
  },
  {
   "cell_type": "code",
   "execution_count": 55,
   "id": "e5609f98",
   "metadata": {},
   "outputs": [],
   "source": [
    "#Initializing and compiling model:\n",
    "\n",
    "def init_model():\n",
    "    \n",
    "    model = Sequential()\n",
    "\n",
    "    #LSTM layers\n",
    "    model.add(layers.LSTM(60, activation=\"tanh\", input_shape=(20,2), return_sequences=False))\n",
    "\n",
    "    #Dense layers\n",
    "    model.add(layers.Dense(100, activation=\"relu\"))\n",
    "    model.add(layers.Dense(1, activation=\"linear\"))\n",
    "\n",
    "    #compiling model\n",
    "    model.compile(loss=\"mse\", optimizer=rmsprop, metrics=\"mae\")\n",
    "    \n",
    "    return model"
   ]
  },
  {
   "cell_type": "code",
   "execution_count": 58,
   "id": "93dad9ed",
   "metadata": {},
   "outputs": [
    {
     "name": "stdout",
     "output_type": "stream",
     "text": [
      "Model: \"sequential_4\"\n",
      "_________________________________________________________________\n",
      " Layer (type)                Output Shape              Param #   \n",
      "=================================================================\n",
      " lstm_4 (LSTM)               (None, 60)                15120     \n",
      "                                                                 \n",
      " dense_8 (Dense)             (None, 100)               6100      \n",
      "                                                                 \n",
      " dense_9 (Dense)             (None, 1)                 101       \n",
      "                                                                 \n",
      "=================================================================\n",
      "Total params: 21,321\n",
      "Trainable params: 21,321\n",
      "Non-trainable params: 0\n",
      "_________________________________________________________________\n"
     ]
    }
   ],
   "source": [
    "#Model layers & params overview:\n",
    "model.summary()"
   ]
  },
  {
   "cell_type": "markdown",
   "id": "583bfbe0",
   "metadata": {},
   "source": [
    "# Training and Testing"
   ]
  },
  {
   "cell_type": "code",
   "execution_count": 59,
   "id": "36345df6",
   "metadata": {},
   "outputs": [],
   "source": [
    "#Instantiating model\n",
    "\n",
    "model = init_model()"
   ]
  },
  {
   "cell_type": "code",
   "execution_count": 60,
   "id": "051b420a",
   "metadata": {},
   "outputs": [
    {
     "name": "stdout",
     "output_type": "stream",
     "text": [
      "Epoch 1/1000\n",
      "704/704 [==============================] - 4s 4ms/step - loss: 1.3195e-04 - mae: 0.0080 - val_loss: 1.8583e-04 - val_mae: 0.0107\n",
      "Epoch 2/1000\n",
      "704/704 [==============================] - 3s 4ms/step - loss: 8.7333e-05 - mae: 0.0065 - val_loss: 1.1566e-04 - val_mae: 0.0083\n",
      "Epoch 3/1000\n",
      "704/704 [==============================] - 3s 4ms/step - loss: 7.3659e-05 - mae: 0.0060 - val_loss: 1.1270e-04 - val_mae: 0.0082\n",
      "Epoch 4/1000\n",
      "704/704 [==============================] - 3s 4ms/step - loss: 6.6171e-05 - mae: 0.0057 - val_loss: 1.0223e-04 - val_mae: 0.0077\n",
      "Epoch 5/1000\n",
      "704/704 [==============================] - 3s 4ms/step - loss: 6.4913e-05 - mae: 0.0055 - val_loss: 1.0892e-04 - val_mae: 0.0080\n",
      "Epoch 6/1000\n",
      "704/704 [==============================] - 3s 4ms/step - loss: 6.5234e-05 - mae: 0.0055 - val_loss: 1.0181e-04 - val_mae: 0.0076\n",
      "Epoch 7/1000\n",
      "704/704 [==============================] - 3s 4ms/step - loss: 6.2405e-05 - mae: 0.0054 - val_loss: 1.0031e-04 - val_mae: 0.0076\n",
      "Epoch 8/1000\n",
      "704/704 [==============================] - 3s 4ms/step - loss: 6.0121e-05 - mae: 0.0053 - val_loss: 1.1334e-04 - val_mae: 0.0082\n",
      "Epoch 9/1000\n",
      "704/704 [==============================] - 3s 4ms/step - loss: 5.8943e-05 - mae: 0.0052 - val_loss: 1.0551e-04 - val_mae: 0.0077\n",
      "Epoch 10/1000\n",
      "704/704 [==============================] - 3s 5ms/step - loss: 5.8433e-05 - mae: 0.0052 - val_loss: 1.0318e-04 - val_mae: 0.0077\n",
      "Epoch 11/1000\n",
      "704/704 [==============================] - 3s 4ms/step - loss: 5.8149e-05 - mae: 0.0052 - val_loss: 1.1465e-04 - val_mae: 0.0082\n",
      "Epoch 12/1000\n",
      "704/704 [==============================] - 3s 5ms/step - loss: 5.9882e-05 - mae: 0.0053 - val_loss: 1.0307e-04 - val_mae: 0.0077\n",
      "Epoch 13/1000\n",
      "704/704 [==============================] - 3s 4ms/step - loss: 6.0177e-05 - mae: 0.0053 - val_loss: 9.9126e-05 - val_mae: 0.0075\n",
      "Epoch 14/1000\n",
      "704/704 [==============================] - 3s 4ms/step - loss: 5.9812e-05 - mae: 0.0053 - val_loss: 1.0289e-04 - val_mae: 0.0077\n",
      "Epoch 15/1000\n",
      "704/704 [==============================] - 3s 4ms/step - loss: 5.8446e-05 - mae: 0.0052 - val_loss: 1.0304e-04 - val_mae: 0.0077\n",
      "Epoch 16/1000\n",
      "704/704 [==============================] - 3s 4ms/step - loss: 5.8383e-05 - mae: 0.0052 - val_loss: 1.0595e-04 - val_mae: 0.0077\n",
      "Epoch 17/1000\n",
      "704/704 [==============================] - 3s 4ms/step - loss: 5.8443e-05 - mae: 0.0052 - val_loss: 1.0055e-04 - val_mae: 0.0077\n",
      "Epoch 18/1000\n",
      "704/704 [==============================] - 3s 4ms/step - loss: 5.7839e-05 - mae: 0.0052 - val_loss: 9.9173e-05 - val_mae: 0.0076\n",
      "Epoch 19/1000\n",
      "704/704 [==============================] - 3s 4ms/step - loss: 5.7871e-05 - mae: 0.0051 - val_loss: 1.1048e-04 - val_mae: 0.0081\n",
      "Epoch 20/1000\n",
      "704/704 [==============================] - 3s 4ms/step - loss: 5.7759e-05 - mae: 0.0052 - val_loss: 1.0580e-04 - val_mae: 0.0079\n",
      "Epoch 21/1000\n",
      "704/704 [==============================] - 3s 4ms/step - loss: 5.7508e-05 - mae: 0.0051 - val_loss: 9.9892e-05 - val_mae: 0.0075\n",
      "Epoch 22/1000\n",
      "704/704 [==============================] - 3s 4ms/step - loss: 5.7618e-05 - mae: 0.0052 - val_loss: 9.7798e-05 - val_mae: 0.0076\n",
      "Epoch 23/1000\n",
      "704/704 [==============================] - 3s 4ms/step - loss: 5.6671e-05 - mae: 0.0051 - val_loss: 9.4032e-05 - val_mae: 0.0073\n",
      "Epoch 24/1000\n",
      "704/704 [==============================] - 3s 4ms/step - loss: 5.6283e-05 - mae: 0.0051 - val_loss: 9.2385e-05 - val_mae: 0.0073\n",
      "Epoch 25/1000\n",
      "704/704 [==============================] - 3s 4ms/step - loss: 5.5732e-05 - mae: 0.0051 - val_loss: 9.1165e-05 - val_mae: 0.0073\n",
      "Epoch 26/1000\n",
      "704/704 [==============================] - 3s 4ms/step - loss: 5.4973e-05 - mae: 0.0050 - val_loss: 9.5554e-05 - val_mae: 0.0074\n",
      "Epoch 27/1000\n",
      "704/704 [==============================] - 3s 4ms/step - loss: 5.5439e-05 - mae: 0.0051 - val_loss: 8.6174e-05 - val_mae: 0.0070\n",
      "Epoch 28/1000\n",
      "704/704 [==============================] - 3s 4ms/step - loss: 5.4011e-05 - mae: 0.0050 - val_loss: 9.0110e-05 - val_mae: 0.0073\n",
      "Epoch 29/1000\n",
      "704/704 [==============================] - 3s 4ms/step - loss: 5.3055e-05 - mae: 0.0050 - val_loss: 8.2754e-05 - val_mae: 0.0069\n",
      "Epoch 30/1000\n",
      "704/704 [==============================] - 3s 4ms/step - loss: 5.2189e-05 - mae: 0.0050 - val_loss: 8.0860e-05 - val_mae: 0.0069\n",
      "Epoch 31/1000\n",
      "704/704 [==============================] - 3s 4ms/step - loss: 5.2567e-05 - mae: 0.0050 - val_loss: 8.5497e-05 - val_mae: 0.0071\n",
      "Epoch 32/1000\n",
      "704/704 [==============================] - 3s 4ms/step - loss: 5.1291e-05 - mae: 0.0049 - val_loss: 8.4373e-05 - val_mae: 0.0071\n",
      "Epoch 33/1000\n",
      "704/704 [==============================] - 3s 4ms/step - loss: 5.1774e-05 - mae: 0.0049 - val_loss: 7.9249e-05 - val_mae: 0.0069\n",
      "Epoch 34/1000\n",
      "704/704 [==============================] - 3s 4ms/step - loss: 5.0389e-05 - mae: 0.0048 - val_loss: 7.8561e-05 - val_mae: 0.0068\n",
      "Epoch 35/1000\n",
      "704/704 [==============================] - 3s 4ms/step - loss: 5.0577e-05 - mae: 0.0049 - val_loss: 7.8806e-05 - val_mae: 0.0068\n",
      "Epoch 36/1000\n",
      "704/704 [==============================] - 3s 4ms/step - loss: 5.0478e-05 - mae: 0.0048 - val_loss: 8.5924e-05 - val_mae: 0.0072\n",
      "Epoch 37/1000\n",
      "704/704 [==============================] - 3s 4ms/step - loss: 5.0662e-05 - mae: 0.0048 - val_loss: 9.5284e-05 - val_mae: 0.0077\n",
      "Epoch 38/1000\n",
      "704/704 [==============================] - 3s 4ms/step - loss: 4.9274e-05 - mae: 0.0048 - val_loss: 8.6985e-05 - val_mae: 0.0072\n",
      "Epoch 39/1000\n",
      "704/704 [==============================] - 3s 4ms/step - loss: 4.9322e-05 - mae: 0.0048 - val_loss: 8.3805e-05 - val_mae: 0.0070\n",
      "Epoch 40/1000\n",
      "704/704 [==============================] - 3s 4ms/step - loss: 4.8789e-05 - mae: 0.0048 - val_loss: 8.2514e-05 - val_mae: 0.0071\n",
      "Epoch 41/1000\n",
      "704/704 [==============================] - 3s 4ms/step - loss: 4.8554e-05 - mae: 0.0047 - val_loss: 9.3384e-05 - val_mae: 0.0076\n",
      "Epoch 42/1000\n",
      "704/704 [==============================] - 3s 4ms/step - loss: 4.8182e-05 - mae: 0.0047 - val_loss: 7.5398e-05 - val_mae: 0.0067\n",
      "Epoch 43/1000\n",
      "704/704 [==============================] - 3s 4ms/step - loss: 4.7908e-05 - mae: 0.0047 - val_loss: 7.3585e-05 - val_mae: 0.0067\n",
      "Epoch 44/1000\n",
      "704/704 [==============================] - 3s 4ms/step - loss: 4.7116e-05 - mae: 0.0047 - val_loss: 7.2775e-05 - val_mae: 0.0066\n",
      "Epoch 45/1000\n",
      "704/704 [==============================] - 3s 4ms/step - loss: 4.6855e-05 - mae: 0.0047 - val_loss: 6.6011e-05 - val_mae: 0.0063\n",
      "Epoch 46/1000\n",
      "704/704 [==============================] - 3s 4ms/step - loss: 4.6732e-05 - mae: 0.0047 - val_loss: 6.9835e-05 - val_mae: 0.0065\n",
      "Epoch 47/1000\n",
      "704/704 [==============================] - 3s 4ms/step - loss: 4.5693e-05 - mae: 0.0046 - val_loss: 6.8312e-05 - val_mae: 0.0063\n",
      "Epoch 48/1000\n",
      "704/704 [==============================] - 3s 4ms/step - loss: 4.5471e-05 - mae: 0.0046 - val_loss: 6.4429e-05 - val_mae: 0.0062\n",
      "Epoch 49/1000\n",
      "704/704 [==============================] - 3s 4ms/step - loss: 4.4220e-05 - mae: 0.0045 - val_loss: 6.1282e-05 - val_mae: 0.0061\n",
      "Epoch 50/1000\n",
      "704/704 [==============================] - 3s 4ms/step - loss: 4.3479e-05 - mae: 0.0045 - val_loss: 6.2754e-05 - val_mae: 0.0061\n",
      "Epoch 51/1000\n",
      "704/704 [==============================] - 3s 4ms/step - loss: 4.2200e-05 - mae: 0.0044 - val_loss: 6.2531e-05 - val_mae: 0.0061\n",
      "Epoch 52/1000\n",
      "704/704 [==============================] - 3s 4ms/step - loss: 4.0728e-05 - mae: 0.0043 - val_loss: 5.7112e-05 - val_mae: 0.0058\n",
      "Epoch 53/1000\n",
      "704/704 [==============================] - 3s 4ms/step - loss: 4.0045e-05 - mae: 0.0043 - val_loss: 5.9585e-05 - val_mae: 0.0059\n",
      "Epoch 54/1000\n",
      "704/704 [==============================] - 3s 4ms/step - loss: 3.8740e-05 - mae: 0.0042 - val_loss: 5.7082e-05 - val_mae: 0.0057\n",
      "Epoch 55/1000\n",
      "704/704 [==============================] - 3s 4ms/step - loss: 3.7882e-05 - mae: 0.0041 - val_loss: 4.4617e-05 - val_mae: 0.0048\n",
      "Epoch 56/1000\n",
      "704/704 [==============================] - 3s 4ms/step - loss: 3.6946e-05 - mae: 0.0041 - val_loss: 4.4847e-05 - val_mae: 0.0047\n",
      "Epoch 57/1000\n",
      "704/704 [==============================] - 3s 4ms/step - loss: 3.6109e-05 - mae: 0.0040 - val_loss: 4.8956e-05 - val_mae: 0.0050\n",
      "Epoch 58/1000\n"
     ]
    },
    {
     "name": "stdout",
     "output_type": "stream",
     "text": [
      "704/704 [==============================] - 3s 4ms/step - loss: 3.4516e-05 - mae: 0.0040 - val_loss: 4.5024e-05 - val_mae: 0.0047\n",
      "Epoch 59/1000\n",
      "704/704 [==============================] - 3s 4ms/step - loss: 3.4615e-05 - mae: 0.0040 - val_loss: 3.9397e-05 - val_mae: 0.0045\n",
      "Epoch 60/1000\n",
      "704/704 [==============================] - 3s 4ms/step - loss: 3.3982e-05 - mae: 0.0039 - val_loss: 4.0287e-05 - val_mae: 0.0045\n",
      "Epoch 61/1000\n",
      "704/704 [==============================] - 3s 4ms/step - loss: 3.2774e-05 - mae: 0.0038 - val_loss: 4.4693e-05 - val_mae: 0.0048\n",
      "Epoch 62/1000\n",
      "704/704 [==============================] - 3s 4ms/step - loss: 3.2952e-05 - mae: 0.0038 - val_loss: 4.0482e-05 - val_mae: 0.0043\n",
      "Epoch 63/1000\n",
      "704/704 [==============================] - 3s 4ms/step - loss: 3.2478e-05 - mae: 0.0038 - val_loss: 5.7634e-05 - val_mae: 0.0056\n",
      "Epoch 64/1000\n",
      "704/704 [==============================] - 3s 4ms/step - loss: 3.1580e-05 - mae: 0.0038 - val_loss: 3.8936e-05 - val_mae: 0.0040\n",
      "Epoch 65/1000\n",
      "704/704 [==============================] - 3s 4ms/step - loss: 3.0912e-05 - mae: 0.0037 - val_loss: 3.5092e-05 - val_mae: 0.0039\n",
      "Epoch 66/1000\n",
      "704/704 [==============================] - 3s 4ms/step - loss: 3.0029e-05 - mae: 0.0037 - val_loss: 4.7725e-05 - val_mae: 0.0047\n",
      "Epoch 67/1000\n",
      "704/704 [==============================] - 3s 4ms/step - loss: 3.0191e-05 - mae: 0.0037 - val_loss: 4.1910e-05 - val_mae: 0.0046\n",
      "Epoch 68/1000\n",
      "704/704 [==============================] - 3s 4ms/step - loss: 2.9384e-05 - mae: 0.0036 - val_loss: 4.1818e-05 - val_mae: 0.0043\n",
      "Epoch 69/1000\n",
      "704/704 [==============================] - 3s 4ms/step - loss: 2.8620e-05 - mae: 0.0035 - val_loss: 3.7196e-05 - val_mae: 0.0040\n",
      "Epoch 70/1000\n",
      "704/704 [==============================] - 3s 4ms/step - loss: 2.8479e-05 - mae: 0.0035 - val_loss: 3.5466e-05 - val_mae: 0.0038\n",
      "Epoch 71/1000\n",
      "704/704 [==============================] - 3s 4ms/step - loss: 2.7905e-05 - mae: 0.0035 - val_loss: 3.9885e-05 - val_mae: 0.0043\n",
      "Epoch 72/1000\n",
      "704/704 [==============================] - 3s 4ms/step - loss: 2.7195e-05 - mae: 0.0035 - val_loss: 5.9505e-05 - val_mae: 0.0059\n",
      "Epoch 73/1000\n",
      "704/704 [==============================] - 3s 4ms/step - loss: 2.7124e-05 - mae: 0.0035 - val_loss: 3.2473e-05 - val_mae: 0.0039\n",
      "Epoch 74/1000\n",
      "704/704 [==============================] - 3s 4ms/step - loss: 2.6647e-05 - mae: 0.0034 - val_loss: 4.9872e-05 - val_mae: 0.0052\n",
      "Epoch 75/1000\n",
      "704/704 [==============================] - 3s 4ms/step - loss: 2.6368e-05 - mae: 0.0034 - val_loss: 3.2499e-05 - val_mae: 0.0036\n",
      "Epoch 76/1000\n",
      "704/704 [==============================] - 3s 4ms/step - loss: 2.5674e-05 - mae: 0.0034 - val_loss: 3.2629e-05 - val_mae: 0.0035\n",
      "Epoch 77/1000\n",
      "704/704 [==============================] - 3s 4ms/step - loss: 2.5219e-05 - mae: 0.0033 - val_loss: 3.4726e-05 - val_mae: 0.0034\n",
      "Epoch 78/1000\n",
      "704/704 [==============================] - 3s 4ms/step - loss: 2.5539e-05 - mae: 0.0034 - val_loss: 3.2846e-05 - val_mae: 0.0033\n",
      "Epoch 79/1000\n",
      "704/704 [==============================] - 3s 4ms/step - loss: 2.5329e-05 - mae: 0.0033 - val_loss: 3.8147e-05 - val_mae: 0.0041\n",
      "Epoch 80/1000\n",
      "704/704 [==============================] - 3s 4ms/step - loss: 2.4870e-05 - mae: 0.0033 - val_loss: 3.8715e-05 - val_mae: 0.0039\n",
      "Epoch 81/1000\n",
      "704/704 [==============================] - 3s 4ms/step - loss: 2.4796e-05 - mae: 0.0033 - val_loss: 3.5471e-05 - val_mae: 0.0042\n",
      "Epoch 82/1000\n",
      "704/704 [==============================] - 3s 4ms/step - loss: 2.4491e-05 - mae: 0.0032 - val_loss: 4.0797e-05 - val_mae: 0.0047\n",
      "Epoch 83/1000\n",
      "704/704 [==============================] - 3s 4ms/step - loss: 2.4717e-05 - mae: 0.0033 - val_loss: 3.4949e-05 - val_mae: 0.0037\n",
      "Epoch 84/1000\n",
      "704/704 [==============================] - 3s 4ms/step - loss: 2.4629e-05 - mae: 0.0033 - val_loss: 3.2399e-05 - val_mae: 0.0035\n",
      "Epoch 85/1000\n",
      "704/704 [==============================] - 3s 4ms/step - loss: 2.3597e-05 - mae: 0.0032 - val_loss: 3.8143e-05 - val_mae: 0.0040\n",
      "Epoch 86/1000\n",
      "704/704 [==============================] - 3s 4ms/step - loss: 2.3791e-05 - mae: 0.0032 - val_loss: 4.8260e-05 - val_mae: 0.0051\n",
      "Epoch 87/1000\n",
      "704/704 [==============================] - 3s 4ms/step - loss: 2.3457e-05 - mae: 0.0032 - val_loss: 3.6943e-05 - val_mae: 0.0040\n",
      "Epoch 88/1000\n",
      "704/704 [==============================] - 3s 4ms/step - loss: 2.3324e-05 - mae: 0.0032 - val_loss: 3.1541e-05 - val_mae: 0.0032\n",
      "Epoch 89/1000\n",
      "704/704 [==============================] - 3s 4ms/step - loss: 2.3257e-05 - mae: 0.0031 - val_loss: 3.4911e-05 - val_mae: 0.0037\n",
      "Epoch 90/1000\n",
      "704/704 [==============================] - 3s 4ms/step - loss: 2.3040e-05 - mae: 0.0031 - val_loss: 3.3395e-05 - val_mae: 0.0037\n",
      "Epoch 91/1000\n",
      "704/704 [==============================] - 3s 4ms/step - loss: 2.3206e-05 - mae: 0.0032 - val_loss: 3.1930e-05 - val_mae: 0.0036\n",
      "Epoch 92/1000\n",
      "704/704 [==============================] - 3s 4ms/step - loss: 2.2741e-05 - mae: 0.0031 - val_loss: 4.3301e-05 - val_mae: 0.0045\n",
      "Epoch 93/1000\n",
      "704/704 [==============================] - 3s 4ms/step - loss: 2.2752e-05 - mae: 0.0031 - val_loss: 3.5404e-05 - val_mae: 0.0037\n",
      "Epoch 94/1000\n",
      "704/704 [==============================] - 3s 4ms/step - loss: 2.2721e-05 - mae: 0.0031 - val_loss: 3.9108e-05 - val_mae: 0.0039\n",
      "Epoch 95/1000\n",
      "704/704 [==============================] - 3s 4ms/step - loss: 2.2488e-05 - mae: 0.0031 - val_loss: 3.7875e-05 - val_mae: 0.0037\n",
      "Epoch 96/1000\n",
      "704/704 [==============================] - 3s 4ms/step - loss: 2.2449e-05 - mae: 0.0031 - val_loss: 3.3927e-05 - val_mae: 0.0033\n",
      "Epoch 97/1000\n",
      "704/704 [==============================] - 3s 4ms/step - loss: 2.2610e-05 - mae: 0.0031 - val_loss: 3.7129e-05 - val_mae: 0.0044\n",
      "Epoch 98/1000\n",
      "704/704 [==============================] - 3s 4ms/step - loss: 2.2315e-05 - mae: 0.0031 - val_loss: 3.3214e-05 - val_mae: 0.0037\n",
      "Epoch 99/1000\n",
      "704/704 [==============================] - 3s 4ms/step - loss: 2.2332e-05 - mae: 0.0031 - val_loss: 3.3970e-05 - val_mae: 0.0036\n",
      "Epoch 100/1000\n",
      "704/704 [==============================] - 3s 4ms/step - loss: 2.2366e-05 - mae: 0.0031 - val_loss: 3.9612e-05 - val_mae: 0.0040\n",
      "Epoch 101/1000\n",
      "704/704 [==============================] - 3s 4ms/step - loss: 2.2012e-05 - mae: 0.0030 - val_loss: 4.1306e-05 - val_mae: 0.0041\n",
      "Epoch 102/1000\n",
      "704/704 [==============================] - 3s 4ms/step - loss: 2.1867e-05 - mae: 0.0030 - val_loss: 4.2410e-05 - val_mae: 0.0042\n",
      "Epoch 103/1000\n",
      "704/704 [==============================] - 3s 4ms/step - loss: 2.2059e-05 - mae: 0.0031 - val_loss: 3.4963e-05 - val_mae: 0.0036\n",
      "Epoch 104/1000\n",
      "704/704 [==============================] - 3s 4ms/step - loss: 2.1675e-05 - mae: 0.0030 - val_loss: 4.0122e-05 - val_mae: 0.0042\n",
      "Epoch 105/1000\n",
      "704/704 [==============================] - 3s 4ms/step - loss: 2.2115e-05 - mae: 0.0030 - val_loss: 3.5801e-05 - val_mae: 0.0041\n",
      "Epoch 106/1000\n",
      "704/704 [==============================] - 3s 4ms/step - loss: 2.1825e-05 - mae: 0.0030 - val_loss: 3.5839e-05 - val_mae: 0.0039\n",
      "Epoch 107/1000\n",
      "704/704 [==============================] - 3s 4ms/step - loss: 2.1518e-05 - mae: 0.0030 - val_loss: 3.6670e-05 - val_mae: 0.0036\n",
      "Epoch 108/1000\n",
      "704/704 [==============================] - 3s 4ms/step - loss: 2.1524e-05 - mae: 0.0030 - val_loss: 3.4712e-05 - val_mae: 0.0035\n",
      "Epoch 109/1000\n",
      "704/704 [==============================] - 3s 4ms/step - loss: 2.1407e-05 - mae: 0.0030 - val_loss: 3.8755e-05 - val_mae: 0.0040\n",
      "Epoch 110/1000\n",
      "704/704 [==============================] - 3s 4ms/step - loss: 2.1817e-05 - mae: 0.0030 - val_loss: 3.6175e-05 - val_mae: 0.0036\n",
      "Epoch 111/1000\n",
      "704/704 [==============================] - 3s 4ms/step - loss: 2.1545e-05 - mae: 0.0030 - val_loss: 4.2667e-05 - val_mae: 0.0040\n",
      "Epoch 112/1000\n",
      "704/704 [==============================] - 3s 4ms/step - loss: 2.1510e-05 - mae: 0.0030 - val_loss: 3.7115e-05 - val_mae: 0.0038\n",
      "Epoch 113/1000\n",
      "704/704 [==============================] - 3s 4ms/step - loss: 2.1331e-05 - mae: 0.0030 - val_loss: 3.7623e-05 - val_mae: 0.0037\n",
      "Epoch 114/1000\n",
      "704/704 [==============================] - 3s 4ms/step - loss: 2.1470e-05 - mae: 0.0030 - val_loss: 4.3571e-05 - val_mae: 0.0044\n",
      "Epoch 115/1000\n"
     ]
    },
    {
     "name": "stdout",
     "output_type": "stream",
     "text": [
      "704/704 [==============================] - 3s 4ms/step - loss: 2.1100e-05 - mae: 0.0030 - val_loss: 3.7328e-05 - val_mae: 0.0037\n",
      "Epoch 116/1000\n",
      "704/704 [==============================] - 3s 4ms/step - loss: 2.1102e-05 - mae: 0.0029 - val_loss: 3.7317e-05 - val_mae: 0.0037\n",
      "Epoch 117/1000\n",
      "704/704 [==============================] - 3s 4ms/step - loss: 2.1187e-05 - mae: 0.0030 - val_loss: 4.7306e-05 - val_mae: 0.0049\n",
      "Epoch 118/1000\n",
      "704/704 [==============================] - 3s 4ms/step - loss: 2.1247e-05 - mae: 0.0030 - val_loss: 4.3764e-05 - val_mae: 0.0041\n"
     ]
    }
   ],
   "source": [
    "#TRAINING THE MODEL:\n",
    "\n",
    "history = model.fit(\n",
    "    generator, epochs=1000, validation_data=generator_val, shuffle=True, callbacks=es\n",
    ")"
   ]
  },
  {
   "cell_type": "code",
   "execution_count": 63,
   "id": "7e81dc80",
   "metadata": {},
   "outputs": [
    {
     "data": {
      "text/plain": [
       "array([<AxesSubplot: title={'center': 'MSE'}, xlabel='Epoch', ylabel='Loss'>,\n",
       "       <AxesSubplot: title={'center': 'MAE'}, xlabel='Epoch', ylabel='MAE'>],\n",
       "      dtype=object)"
      ]
     },
     "execution_count": 63,
     "metadata": {},
     "output_type": "execute_result"
    },
    {
     "data": {
      "image/png": "[encoded data removed]",
      "text/plain": [
       "<Figure size 2000x700 with 2 Axes>"
      ]
     },
     "metadata": {},
     "output_type": "display_data"
    }
   ],
   "source": [
    "# Learning Curves:\n",
    "plot_history(history)"
   ]
  },
  {
   "cell_type": "code",
   "execution_count": 64,
   "id": "1165d165",
   "metadata": {},
   "outputs": [
    {
     "data": {
      "text/plain": [
       "0.0048812746058099115"
      ]
     },
     "execution_count": 64,
     "metadata": {},
     "output_type": "execute_result"
    }
   ],
   "source": [
    "#Baseline MAE\n",
    "0.0048812746058099115"
   ]
  },
  {
   "cell_type": "code",
   "execution_count": 65,
   "id": "13cdb540",
   "metadata": {},
   "outputs": [
    {
     "name": "stdout",
     "output_type": "stream",
     "text": [
      "175/175 [==============================] - 0s 979us/step - loss: 3.1541e-05 - mae: 0.0032\n"
     ]
    },
    {
     "data": {
      "text/plain": [
       "[3.154079240630381e-05, 0.0032200368586927652]"
      ]
     },
     "execution_count": 65,
     "metadata": {},
     "output_type": "execute_result"
    }
   ],
   "source": [
    "model.evaluate(generator_val)"
   ]
  },
  {
   "cell_type": "markdown",
   "id": "7874cf9d",
   "metadata": {},
   "source": [
    "# Learning Curves viz code:"
   ]
  },
  {
   "cell_type": "code",
   "execution_count": 62,
   "id": "e5cc0401",
   "metadata": {},
   "outputs": [],
   "source": [
    "def plot_history(history):\n",
    "    \n",
    "    fig, ax = plt.subplots(1,2, figsize=(20,7))\n",
    "    # Loss:MSE\n",
    "    ax[0].plot(history.history['loss'])\n",
    "    ax[0].plot(history.history['val_loss'])\n",
    "    ax[0].set_title('MSE')\n",
    "    ax[0].set_ylabel('Loss')\n",
    "    ax[0].set_xlabel('Epoch')\n",
    "    ax[0].legend(['Train', 'Validation'], loc='best')\n",
    "    ax[0].grid(axis=\"x\",linewidth=0.5)\n",
    "    ax[0].grid(axis=\"y\",linewidth=0.5)\n",
    "    \n",
    "    # Metrics:MAE\n",
    "    \n",
    "    ax[1].plot(history.history['mae'])\n",
    "    ax[1].plot(history.history['val_mae'])\n",
    "    ax[1].set_title('MAE')\n",
    "    ax[1].set_ylabel('MAE')\n",
    "    ax[1].set_xlabel('Epoch')\n",
    "    ax[1].legend(['Train', 'Validation'], loc='best')\n",
    "    ax[1].grid(axis=\"x\",linewidth=0.5)\n",
    "    ax[1].grid(axis=\"y\",linewidth=0.5)\n",
    "                        \n",
    "    return ax"
   ]
  },
  {
   "cell_type": "code",
   "execution_count": null,
   "id": "82ffbd34",
   "metadata": {},
   "outputs": [],
   "source": []
  }
 ],
 "metadata": {
  "kernelspec": {
   "display_name": "Python 3 (ipykernel)",
   "language": "python",
   "name": "python3"
  },
  "language_info": {
   "codemirror_mode": {
    "name": "ipython",
    "version": 3
   },
   "file_extension": ".py",
   "mimetype": "text/x-python",
   "name": "python",
   "nbconvert_exporter": "python",
   "pygments_lexer": "ipython3",
   "version": "3.8.12"
  },
  "toc": {
   "base_numbering": 1,
   "nav_menu": {},
   "number_sections": true,
   "sideBar": true,
   "skip_h1_title": false,
   "title_cell": "Table of Contents",
   "title_sidebar": "Contents",
   "toc_cell": false,
   "toc_position": {},
   "toc_section_display": true,
   "toc_window_display": false
  }
 },
 "nbformat": 4,
 "nbformat_minor": 5
}
