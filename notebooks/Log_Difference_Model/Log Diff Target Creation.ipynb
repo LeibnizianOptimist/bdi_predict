{
 "cells": [
  {
   "cell_type": "markdown",
   "id": "56ede3e1",
   "metadata": {},
   "source": [
    "# Creating the log-value difference target for our model from daily BDI values."
   ]
  },
  {
   "cell_type": "code",
   "execution_count": 17,
   "id": "72be0bc2",
   "metadata": {},
   "outputs": [],
   "source": [
    "import numpy as np\n",
    "import pandas as pd\n",
    "import matplotlib.pyplot as plt"
   ]
  },
  {
   "cell_type": "code",
   "execution_count": 18,
   "id": "bb5fe80d",
   "metadata": {},
   "outputs": [],
   "source": [
    "bdi = pd.read_csv(\"../raw_data/data/BDI/interpolated_daily_BDI.csv\")"
   ]
  },
  {
   "cell_type": "code",
   "execution_count": 19,
   "id": "ba335920",
   "metadata": {},
   "outputs": [
    {
     "data": {
      "text/html": [
       "<div>\n",
       "<style scoped>\n",
       "    .dataframe tbody tr th:only-of-type {\n",
       "        vertical-align: middle;\n",
       "    }\n",
       "\n",
       "    .dataframe tbody tr th {\n",
       "        vertical-align: top;\n",
       "    }\n",
       "\n",
       "    .dataframe thead th {\n",
       "        text-align: right;\n",
       "    }\n",
       "</style>\n",
       "<table border=\"1\" class=\"dataframe\">\n",
       "  <thead>\n",
       "    <tr style=\"text-align: right;\">\n",
       "      <th></th>\n",
       "      <th>Date</th>\n",
       "      <th>Price</th>\n",
       "    </tr>\n",
       "  </thead>\n",
       "  <tbody>\n",
       "    <tr>\n",
       "      <th>7064</th>\n",
       "      <td>2022-11-11</td>\n",
       "      <td>1222.2</td>\n",
       "    </tr>\n",
       "    <tr>\n",
       "      <th>7065</th>\n",
       "      <td>2022-11-14</td>\n",
       "      <td>1189.0</td>\n",
       "    </tr>\n",
       "  </tbody>\n",
       "</table>\n",
       "</div>"
      ],
      "text/plain": [
       "            Date   Price\n",
       "7064  2022-11-11  1222.2\n",
       "7065  2022-11-14  1189.0"
      ]
     },
     "execution_count": 19,
     "metadata": {},
     "output_type": "execute_result"
    }
   ],
   "source": [
    "bdi.tail(2)"
   ]
  },
  {
   "cell_type": "markdown",
   "id": "63a9fd4a",
   "metadata": {},
   "source": [
    "$$target = (log(𝑦𝑡)−log(𝑦𝑡−1))=log(𝑦𝑡/𝑦𝑡−1)$$"
   ]
  },
  {
   "cell_type": "markdown",
   "id": "80f32df1",
   "metadata": {},
   "source": [
    "# Set-up:\n",
    "\n",
    "### For daily log-value difference:\n",
    "\n",
    "1. create log_price column\n",
    "2. create a shifted log_price column\n",
    "3. calculate differences? \n",
    "\n",
    "### For weekly (i.e. 5 day since weekends are not included) log-value difference:\n",
    "1. create log_price column\n",
    "2. create weekly log-price column \n",
    "3. create a shifted weekly log-price column\n",
    "4. calculate difference\n",
    "5. read the new columns as csv\n",
    "6. attempt to implement them in a univariate model to test it out!"
   ]
  },
  {
   "cell_type": "markdown",
   "id": "06475805",
   "metadata": {},
   "source": [
    "# For Daily log-value difference"
   ]
  },
  {
   "cell_type": "code",
   "execution_count": 20,
   "id": "2d7dfa7c",
   "metadata": {},
   "outputs": [],
   "source": [
    "bdi[\"abs_price\"] = bdi[\"Price\"].diff()"
   ]
  },
  {
   "cell_type": "code",
   "execution_count": 21,
   "id": "3a81cdaf",
   "metadata": {},
   "outputs": [],
   "source": [
    "bdi[\"log_price\"] = np.log10(bdi[\"Price\"])"
   ]
  },
  {
   "cell_type": "code",
   "execution_count": 22,
   "id": "e2f04204",
   "metadata": {},
   "outputs": [
    {
     "data": {
      "text/html": [
       "<div>\n",
       "<style scoped>\n",
       "    .dataframe tbody tr th:only-of-type {\n",
       "        vertical-align: middle;\n",
       "    }\n",
       "\n",
       "    .dataframe tbody tr th {\n",
       "        vertical-align: top;\n",
       "    }\n",
       "\n",
       "    .dataframe thead th {\n",
       "        text-align: right;\n",
       "    }\n",
       "</style>\n",
       "<table border=\"1\" class=\"dataframe\">\n",
       "  <thead>\n",
       "    <tr style=\"text-align: right;\">\n",
       "      <th></th>\n",
       "      <th>Date</th>\n",
       "      <th>Price</th>\n",
       "      <th>abs_price</th>\n",
       "      <th>log_price</th>\n",
       "    </tr>\n",
       "  </thead>\n",
       "  <tbody>\n",
       "    <tr>\n",
       "      <th>0</th>\n",
       "      <td>1995-01-03</td>\n",
       "      <td>1964.0</td>\n",
       "      <td>NaN</td>\n",
       "      <td>3.293141</td>\n",
       "    </tr>\n",
       "    <tr>\n",
       "      <th>1</th>\n",
       "      <td>1995-01-04</td>\n",
       "      <td>1961.0</td>\n",
       "      <td>-3.0</td>\n",
       "      <td>3.292478</td>\n",
       "    </tr>\n",
       "  </tbody>\n",
       "</table>\n",
       "</div>"
      ],
      "text/plain": [
       "         Date   Price  abs_price  log_price\n",
       "0  1995-01-03  1964.0        NaN   3.293141\n",
       "1  1995-01-04  1961.0       -3.0   3.292478"
      ]
     },
     "execution_count": 22,
     "metadata": {},
     "output_type": "execute_result"
    }
   ],
   "source": [
    "bdi.head(2)"
   ]
  },
  {
   "cell_type": "code",
   "execution_count": 23,
   "id": "4f356dc4",
   "metadata": {},
   "outputs": [],
   "source": [
    "bdi[\"log_diff\"] = bdi[\"log_price\"].diff()"
   ]
  },
  {
   "cell_type": "code",
   "execution_count": 24,
   "id": "7a5098a9",
   "metadata": {},
   "outputs": [
    {
     "data": {
      "text/html": [
       "<div>\n",
       "<style scoped>\n",
       "    .dataframe tbody tr th:only-of-type {\n",
       "        vertical-align: middle;\n",
       "    }\n",
       "\n",
       "    .dataframe tbody tr th {\n",
       "        vertical-align: top;\n",
       "    }\n",
       "\n",
       "    .dataframe thead th {\n",
       "        text-align: right;\n",
       "    }\n",
       "</style>\n",
       "<table border=\"1\" class=\"dataframe\">\n",
       "  <thead>\n",
       "    <tr style=\"text-align: right;\">\n",
       "      <th></th>\n",
       "      <th>Date</th>\n",
       "      <th>Price</th>\n",
       "      <th>abs_price</th>\n",
       "      <th>log_price</th>\n",
       "      <th>log_diff</th>\n",
       "    </tr>\n",
       "  </thead>\n",
       "  <tbody>\n",
       "    <tr>\n",
       "      <th>0</th>\n",
       "      <td>1995-01-03</td>\n",
       "      <td>1964.0</td>\n",
       "      <td>NaN</td>\n",
       "      <td>3.293141</td>\n",
       "      <td>NaN</td>\n",
       "    </tr>\n",
       "    <tr>\n",
       "      <th>1</th>\n",
       "      <td>1995-01-04</td>\n",
       "      <td>1961.0</td>\n",
       "      <td>-3.0</td>\n",
       "      <td>3.292478</td>\n",
       "      <td>-0.000664</td>\n",
       "    </tr>\n",
       "  </tbody>\n",
       "</table>\n",
       "</div>"
      ],
      "text/plain": [
       "         Date   Price  abs_price  log_price  log_diff\n",
       "0  1995-01-03  1964.0        NaN   3.293141       NaN\n",
       "1  1995-01-04  1961.0       -3.0   3.292478 -0.000664"
      ]
     },
     "execution_count": 24,
     "metadata": {},
     "output_type": "execute_result"
    }
   ],
   "source": [
    "bdi.head(2)"
   ]
  },
  {
   "cell_type": "code",
   "execution_count": 25,
   "id": "c1d3df53",
   "metadata": {},
   "outputs": [],
   "source": [
    "bdi.to_csv(\"/Users/justinrlawes/code/LeibnizianOptimist/bdi_predict/raw_data/data/BDI/log_diff_BDI_daily.csv\")"
   ]
  },
  {
   "cell_type": "markdown",
   "id": "424d2484",
   "metadata": {},
   "source": [
    "# For weekly log_value diference"
   ]
  },
  {
   "cell_type": "markdown",
   "id": "81c55bcb",
   "metadata": {},
   "source": [
    "The aim would be to predict the week log difference (i.e. a horizon of 5 from the daily inputs) using a predefined set of previous days as inputs. "
   ]
  },
  {
   "cell_type": "markdown",
   "id": "c9bdec54",
   "metadata": {},
   "source": [
    "## Creating a weekly log-price column "
   ]
  },
  {
   "cell_type": "code",
   "execution_count": 14,
   "id": "c0fe3c49",
   "metadata": {},
   "outputs": [],
   "source": [
    "log_price_weekly = bdi.loc[::5, \"log_price\"]"
   ]
  },
  {
   "cell_type": "code",
   "execution_count": 15,
   "id": "c0620c50",
   "metadata": {},
   "outputs": [
    {
     "data": {
      "text/plain": [
       "0     3.293141\n",
       "5     3.304275\n",
       "10    3.316180\n",
       "15    3.307924\n",
       "Name: log_price, dtype: float64"
      ]
     },
     "execution_count": 15,
     "metadata": {},
     "output_type": "execute_result"
    }
   ],
   "source": [
    "log_price_weekly.head(4)"
   ]
  },
  {
   "cell_type": "code",
   "execution_count": 16,
   "id": "888a939a",
   "metadata": {
    "collapsed": true
   },
   "outputs": [
    {
     "data": {
      "text/plain": [
       "0     3.293141\n",
       "1     3.292478\n",
       "2     3.293804\n",
       "3     3.297323\n",
       "4     3.299725\n",
       "5     3.304275\n",
       "6     3.305136\n",
       "7     3.309204\n",
       "8     3.313867\n",
       "9     3.315340\n",
       "10    3.316180\n",
       "11    3.316180\n",
       "12    3.315970\n",
       "13    3.313656\n",
       "14    3.310481\n",
       "15    3.307924\n",
       "Name: log_price, dtype: float64"
      ]
     },
     "execution_count": 16,
     "metadata": {},
     "output_type": "execute_result"
    }
   ],
   "source": [
    "bdi[\"log_price\"].head(16)"
   ]
  },
  {
   "cell_type": "markdown",
   "id": "6ba91f05",
   "metadata": {},
   "source": [
    "## Creating a shifted weekly log price column"
   ]
  },
  {
   "cell_type": "code",
   "execution_count": 36,
   "id": "0596cb82",
   "metadata": {},
   "outputs": [],
   "source": [
    "log_price_weekly_shifted = log_price_weekly.shift(-1)"
   ]
  },
  {
   "cell_type": "code",
   "execution_count": 37,
   "id": "e0e64d03",
   "metadata": {},
   "outputs": [],
   "source": [
    "log_diff_weekly = log_price_weekly - log_price_weekly_shifted "
   ]
  },
  {
   "cell_type": "code",
   "execution_count": 38,
   "id": "6fa59ac7",
   "metadata": {},
   "outputs": [
    {
     "data": {
      "text/plain": [
       "0    -0.011134\n",
       "5    -0.011905\n",
       "10    0.008256\n",
       "Name: log_price, dtype: float64"
      ]
     },
     "execution_count": 38,
     "metadata": {},
     "output_type": "execute_result"
    }
   ],
   "source": [
    "log_diff_weekly.head(3)"
   ]
  },
  {
   "cell_type": "code",
   "execution_count": 39,
   "id": "12b39b64",
   "metadata": {},
   "outputs": [
    {
     "data": {
      "text/plain": [
       "1414"
      ]
     },
     "execution_count": 39,
     "metadata": {},
     "output_type": "execute_result"
    }
   ],
   "source": [
    "len(log_diff_weekly)"
   ]
  },
  {
   "cell_type": "code",
   "execution_count": 40,
   "id": "e1a6d2c5",
   "metadata": {},
   "outputs": [
    {
     "data": {
      "text/plain": [
       "7070"
      ]
     },
     "execution_count": 40,
     "metadata": {},
     "output_type": "execute_result"
    }
   ],
   "source": [
    "1414*5"
   ]
  },
  {
   "cell_type": "code",
   "execution_count": 41,
   "id": "505c7846",
   "metadata": {},
   "outputs": [
    {
     "data": {
      "text/plain": [
       "7066"
      ]
     },
     "execution_count": 41,
     "metadata": {},
     "output_type": "execute_result"
    }
   ],
   "source": [
    "len(bdi)"
   ]
  },
  {
   "cell_type": "code",
   "execution_count": 42,
   "id": "87ffe55f",
   "metadata": {},
   "outputs": [],
   "source": [
    "bdi[\"log_price_weekly\"] = log_price_weekly_shifted.shift(1)"
   ]
  },
  {
   "cell_type": "code",
   "execution_count": 43,
   "id": "edcd894b",
   "metadata": {},
   "outputs": [
    {
     "data": {
      "text/plain": [
       "-0.011797456809344187"
      ]
     },
     "execution_count": 43,
     "metadata": {},
     "output_type": "execute_result"
    }
   ],
   "source": [
    "bdi.loc[1, \"log_price\"]- bdi.loc[5, \"log_price\"]"
   ]
  },
  {
   "cell_type": "code",
   "execution_count": 44,
   "id": "4a3b1d25",
   "metadata": {},
   "outputs": [],
   "source": [
    "bdi[\"log_diff_weekly\"] = log_diff_weekly.shift(1)"
   ]
  },
  {
   "cell_type": "code",
   "execution_count": 45,
   "id": "d6d1cb28",
   "metadata": {},
   "outputs": [
    {
     "name": "stdout",
     "output_type": "stream",
     "text": [
      "<class 'pandas.core.frame.DataFrame'>\n",
      "RangeIndex: 7066 entries, 0 to 7065\n",
      "Data columns (total 6 columns):\n",
      " #   Column            Non-Null Count  Dtype  \n",
      "---  ------            --------------  -----  \n",
      " 0   Date              7066 non-null   object \n",
      " 1   Price             7066 non-null   float64\n",
      " 2   log_price         7066 non-null   float64\n",
      " 3   log_diff          7065 non-null   float64\n",
      " 4   log_diff_weekly   1413 non-null   float64\n",
      " 5   log_price_weekly  1413 non-null   float64\n",
      "dtypes: float64(5), object(1)\n",
      "memory usage: 331.3+ KB\n"
     ]
    }
   ],
   "source": [
    "bdi.info()"
   ]
  },
  {
   "cell_type": "code",
   "execution_count": 46,
   "id": "cffcb828",
   "metadata": {},
   "outputs": [
    {
     "data": {
      "text/html": [
       "<div>\n",
       "<style scoped>\n",
       "    .dataframe tbody tr th:only-of-type {\n",
       "        vertical-align: middle;\n",
       "    }\n",
       "\n",
       "    .dataframe tbody tr th {\n",
       "        vertical-align: top;\n",
       "    }\n",
       "\n",
       "    .dataframe thead th {\n",
       "        text-align: right;\n",
       "    }\n",
       "</style>\n",
       "<table border=\"1\" class=\"dataframe\">\n",
       "  <thead>\n",
       "    <tr style=\"text-align: right;\">\n",
       "      <th></th>\n",
       "      <th>Date</th>\n",
       "      <th>Price</th>\n",
       "      <th>log_price</th>\n",
       "      <th>log_diff</th>\n",
       "      <th>log_diff_weekly</th>\n",
       "      <th>log_price_weekly</th>\n",
       "    </tr>\n",
       "  </thead>\n",
       "  <tbody>\n",
       "    <tr>\n",
       "      <th>0</th>\n",
       "      <td>1995-01-03</td>\n",
       "      <td>1964.0</td>\n",
       "      <td>3.293141</td>\n",
       "      <td>NaN</td>\n",
       "      <td>NaN</td>\n",
       "      <td>NaN</td>\n",
       "    </tr>\n",
       "    <tr>\n",
       "      <th>1</th>\n",
       "      <td>1995-01-04</td>\n",
       "      <td>1961.0</td>\n",
       "      <td>3.292478</td>\n",
       "      <td>0.000664</td>\n",
       "      <td>NaN</td>\n",
       "      <td>NaN</td>\n",
       "    </tr>\n",
       "    <tr>\n",
       "      <th>2</th>\n",
       "      <td>1995-01-05</td>\n",
       "      <td>1967.0</td>\n",
       "      <td>3.293804</td>\n",
       "      <td>-0.001327</td>\n",
       "      <td>NaN</td>\n",
       "      <td>NaN</td>\n",
       "    </tr>\n",
       "    <tr>\n",
       "      <th>3</th>\n",
       "      <td>1995-01-06</td>\n",
       "      <td>1983.0</td>\n",
       "      <td>3.297323</td>\n",
       "      <td>-0.003518</td>\n",
       "      <td>NaN</td>\n",
       "      <td>NaN</td>\n",
       "    </tr>\n",
       "    <tr>\n",
       "      <th>4</th>\n",
       "      <td>1995-01-09</td>\n",
       "      <td>1994.0</td>\n",
       "      <td>3.299725</td>\n",
       "      <td>-0.002402</td>\n",
       "      <td>NaN</td>\n",
       "      <td>NaN</td>\n",
       "    </tr>\n",
       "    <tr>\n",
       "      <th>5</th>\n",
       "      <td>1995-01-10</td>\n",
       "      <td>2015.0</td>\n",
       "      <td>3.304275</td>\n",
       "      <td>-0.004550</td>\n",
       "      <td>-0.011134</td>\n",
       "      <td>3.304275</td>\n",
       "    </tr>\n",
       "    <tr>\n",
       "      <th>6</th>\n",
       "      <td>1995-01-11</td>\n",
       "      <td>2019.0</td>\n",
       "      <td>3.305136</td>\n",
       "      <td>-0.000861</td>\n",
       "      <td>NaN</td>\n",
       "      <td>NaN</td>\n",
       "    </tr>\n",
       "    <tr>\n",
       "      <th>7</th>\n",
       "      <td>1995-01-12</td>\n",
       "      <td>2038.0</td>\n",
       "      <td>3.309204</td>\n",
       "      <td>-0.004068</td>\n",
       "      <td>NaN</td>\n",
       "      <td>NaN</td>\n",
       "    </tr>\n",
       "    <tr>\n",
       "      <th>8</th>\n",
       "      <td>1995-01-13</td>\n",
       "      <td>2060.0</td>\n",
       "      <td>3.313867</td>\n",
       "      <td>-0.004663</td>\n",
       "      <td>NaN</td>\n",
       "      <td>NaN</td>\n",
       "    </tr>\n",
       "    <tr>\n",
       "      <th>9</th>\n",
       "      <td>1995-01-16</td>\n",
       "      <td>2067.0</td>\n",
       "      <td>3.315340</td>\n",
       "      <td>-0.001473</td>\n",
       "      <td>NaN</td>\n",
       "      <td>NaN</td>\n",
       "    </tr>\n",
       "    <tr>\n",
       "      <th>10</th>\n",
       "      <td>1995-01-17</td>\n",
       "      <td>2071.0</td>\n",
       "      <td>3.316180</td>\n",
       "      <td>-0.000840</td>\n",
       "      <td>-0.011905</td>\n",
       "      <td>3.316180</td>\n",
       "    </tr>\n",
       "    <tr>\n",
       "      <th>11</th>\n",
       "      <td>1995-01-18</td>\n",
       "      <td>2071.0</td>\n",
       "      <td>3.316180</td>\n",
       "      <td>0.000000</td>\n",
       "      <td>NaN</td>\n",
       "      <td>NaN</td>\n",
       "    </tr>\n",
       "    <tr>\n",
       "      <th>12</th>\n",
       "      <td>1995-01-19</td>\n",
       "      <td>2070.0</td>\n",
       "      <td>3.315970</td>\n",
       "      <td>0.000210</td>\n",
       "      <td>NaN</td>\n",
       "      <td>NaN</td>\n",
       "    </tr>\n",
       "    <tr>\n",
       "      <th>13</th>\n",
       "      <td>1995-01-20</td>\n",
       "      <td>2059.0</td>\n",
       "      <td>3.313656</td>\n",
       "      <td>0.002314</td>\n",
       "      <td>NaN</td>\n",
       "      <td>NaN</td>\n",
       "    </tr>\n",
       "    <tr>\n",
       "      <th>14</th>\n",
       "      <td>1995-01-23</td>\n",
       "      <td>2044.0</td>\n",
       "      <td>3.310481</td>\n",
       "      <td>0.003175</td>\n",
       "      <td>NaN</td>\n",
       "      <td>NaN</td>\n",
       "    </tr>\n",
       "    <tr>\n",
       "      <th>15</th>\n",
       "      <td>1995-01-24</td>\n",
       "      <td>2032.0</td>\n",
       "      <td>3.307924</td>\n",
       "      <td>0.002557</td>\n",
       "      <td>0.008256</td>\n",
       "      <td>3.307924</td>\n",
       "    </tr>\n",
       "  </tbody>\n",
       "</table>\n",
       "</div>"
      ],
      "text/plain": [
       "          Date   Price  log_price  log_diff  log_diff_weekly  log_price_weekly\n",
       "0   1995-01-03  1964.0   3.293141       NaN              NaN               NaN\n",
       "1   1995-01-04  1961.0   3.292478  0.000664              NaN               NaN\n",
       "2   1995-01-05  1967.0   3.293804 -0.001327              NaN               NaN\n",
       "3   1995-01-06  1983.0   3.297323 -0.003518              NaN               NaN\n",
       "4   1995-01-09  1994.0   3.299725 -0.002402              NaN               NaN\n",
       "5   1995-01-10  2015.0   3.304275 -0.004550        -0.011134          3.304275\n",
       "6   1995-01-11  2019.0   3.305136 -0.000861              NaN               NaN\n",
       "7   1995-01-12  2038.0   3.309204 -0.004068              NaN               NaN\n",
       "8   1995-01-13  2060.0   3.313867 -0.004663              NaN               NaN\n",
       "9   1995-01-16  2067.0   3.315340 -0.001473              NaN               NaN\n",
       "10  1995-01-17  2071.0   3.316180 -0.000840        -0.011905          3.316180\n",
       "11  1995-01-18  2071.0   3.316180  0.000000              NaN               NaN\n",
       "12  1995-01-19  2070.0   3.315970  0.000210              NaN               NaN\n",
       "13  1995-01-20  2059.0   3.313656  0.002314              NaN               NaN\n",
       "14  1995-01-23  2044.0   3.310481  0.003175              NaN               NaN\n",
       "15  1995-01-24  2032.0   3.307924  0.002557         0.008256          3.307924"
      ]
     },
     "execution_count": 46,
     "metadata": {},
     "output_type": "execute_result"
    }
   ],
   "source": [
    "bdi.head(16)"
   ]
  },
  {
   "cell_type": "code",
   "execution_count": 47,
   "id": "874e6749",
   "metadata": {},
   "outputs": [],
   "source": [
    "bdi.to_csv(\"/Users/justinrlawes/code/LeibnizianOptimist/bdi_predict/raw_data/data/BDI/log_diff_BDI_weekly.csv\")"
   ]
  }
 ],
 "metadata": {
  "kernelspec": {
   "display_name": "Python 3 (ipykernel)",
   "language": "python",
   "name": "python3"
  },
  "language_info": {
   "codemirror_mode": {
    "name": "ipython",
    "version": 3
   },
   "file_extension": ".py",
   "mimetype": "text/x-python",
   "name": "python",
   "nbconvert_exporter": "python",
   "pygments_lexer": "ipython3",
   "version": "3.8.12"
  },
  "toc": {
   "base_numbering": 1,
   "nav_menu": {},
   "number_sections": true,
   "sideBar": true,
   "skip_h1_title": false,
   "title_cell": "Table of Contents",
   "title_sidebar": "Contents",
   "toc_cell": false,
   "toc_position": {},
   "toc_section_display": true,
   "toc_window_display": false
  }
 },
 "nbformat": 4,
 "nbformat_minor": 5
}
