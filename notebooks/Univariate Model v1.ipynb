{
 "cells": [
  {
   "cell_type": "markdown",
   "id": "c050588c",
   "metadata": {},
   "source": [
    "# Initial Setup "
   ]
  },
  {
   "cell_type": "code",
   "execution_count": 333,
   "id": "049f2a35",
   "metadata": {},
   "outputs": [],
   "source": [
    "import pandas as pd \n",
    "import numpy as np\n",
    "from tensorflow.keras import Sequential\n",
    "from tensorflow.keras import layers\n",
    "from sklearn.model_selection import TimeSeriesSplit\n",
    "from tensorflow.keras.preprocessing.sequence import TimeseriesGenerator\n",
    "from sklearn.preprocessing import MinMaxScaler\n",
    "from sklearn.preprocessing import StandardScaler"
   ]
  },
  {
   "cell_type": "code",
   "execution_count": 624,
   "id": "5e0db2c9",
   "metadata": {},
   "outputs": [
    {
     "data": {
      "text/html": [
       "<div>\n",
       "<style scoped>\n",
       "    .dataframe tbody tr th:only-of-type {\n",
       "        vertical-align: middle;\n",
       "    }\n",
       "\n",
       "    .dataframe tbody tr th {\n",
       "        vertical-align: top;\n",
       "    }\n",
       "\n",
       "    .dataframe thead th {\n",
       "        text-align: right;\n",
       "    }\n",
       "</style>\n",
       "<table border=\"1\" class=\"dataframe\">\n",
       "  <thead>\n",
       "    <tr style=\"text-align: right;\">\n",
       "      <th></th>\n",
       "      <th>Price</th>\n",
       "    </tr>\n",
       "    <tr>\n",
       "      <th>Date</th>\n",
       "      <th></th>\n",
       "    </tr>\n",
       "  </thead>\n",
       "  <tbody>\n",
       "    <tr>\n",
       "      <th>1995-01-03</th>\n",
       "      <td>1964.0</td>\n",
       "    </tr>\n",
       "    <tr>\n",
       "      <th>1995-01-04</th>\n",
       "      <td>1961.0</td>\n",
       "    </tr>\n",
       "  </tbody>\n",
       "</table>\n",
       "</div>"
      ],
      "text/plain": [
       "             Price\n",
       "Date              \n",
       "1995-01-03  1964.0\n",
       "1995-01-04  1961.0"
      ]
     },
     "execution_count": 624,
     "metadata": {},
     "output_type": "execute_result"
    }
   ],
   "source": [
    "df = pd.read_csv(\"../raw_data/data/BDI/cleaned_daily_BDI.csv\")\n",
    "\n",
    "df[\"Date\"] = pd.to_datetime(df[\"Date\"])\n",
    "df.set_index(\"Date\", inplace=True)\n",
    "\n",
    "df.head(2)"
   ]
  },
  {
   "cell_type": "markdown",
   "id": "db03a284",
   "metadata": {},
   "source": [
    "# Scaling the dataset & manual Holdout method"
   ]
  },
  {
   "cell_type": "markdown",
   "id": "4b86a1a6",
   "metadata": {},
   "source": [
    "### Holdout method"
   ]
  },
  {
   "cell_type": "markdown",
   "id": "e48dd168",
   "metadata": {},
   "source": [
    "Train/val/test split = (7:2:1)"
   ]
  },
  {
   "cell_type": "code",
   "execution_count": 625,
   "id": "266aed0a",
   "metadata": {},
   "outputs": [],
   "source": [
    "input_length = len(df)"
   ]
  },
  {
   "cell_type": "code",
   "execution_count": 626,
   "id": "d62f6bcf",
   "metadata": {},
   "outputs": [],
   "source": [
    "def train_test_split(df:pd.DataFrame,\n",
    "                     train_test_ratio: float,\n",
    "                     input_length: int) -> tuple:\n",
    "    '''\n",
    "    Returns a train dataframe and a test dataframe (df_train, df_test)\n",
    "    from which one can sample (X,y) sequences using TimeseriesGenerator.\n",
    "    df_train should contain all the timesteps until round(train_test_ratio * len(fold))   \n",
    "    '''\n",
    "    \n",
    "    # TRAIN SET\n",
    "\n",
    "    last_train_idx = round(train_test_ratio * len(df))\n",
    "    df_train = df.iloc[0:last_train_idx, :]\n",
    "\n",
    "    # TEST SET\n",
    " \n",
    "    first_test_idx = last_train_idx - input_length\n",
    "    df_test = df.iloc[first_test_idx:, :]\n",
    "\n",
    "    return (df_train, df_test)"
   ]
  },
  {
   "cell_type": "code",
   "execution_count": 627,
   "id": "45ad9a7a",
   "metadata": {},
   "outputs": [],
   "source": [
    "df_train, df_test = train_test_split(df=df, train_test_ratio=0.8, input_length=input_length)"
   ]
  },
  {
   "cell_type": "code",
   "execution_count": 628,
   "id": "51ad23eb",
   "metadata": {},
   "outputs": [
    {
     "data": {
      "text/plain": [
       "4000"
      ]
     },
     "execution_count": 628,
     "metadata": {},
     "output_type": "execute_result"
    }
   ],
   "source": [
    "len(df_train)"
   ]
  },
  {
   "cell_type": "code",
   "execution_count": 629,
   "id": "cceea7c8",
   "metadata": {},
   "outputs": [
    {
     "data": {
      "text/plain": [
       "1000"
      ]
     },
     "execution_count": 629,
     "metadata": {},
     "output_type": "execute_result"
    }
   ],
   "source": [
    "len(df_test)"
   ]
  },
  {
   "cell_type": "markdown",
   "id": "11294fb0",
   "metadata": {},
   "source": [
    "# TimeseriesGenerator for sequences"
   ]
  },
  {
   "cell_type": "code",
   "execution_count": 630,
   "id": "c70ada1e",
   "metadata": {},
   "outputs": [],
   "source": [
    "X_train = df_train\n",
    "y_train = df_train[\"Price\"]\n",
    "\n",
    "X_test  = df_test\n",
    "y_test = df_test[\"Price\"]"
   ]
  },
  {
   "cell_type": "code",
   "execution_count": 631,
   "id": "45991df2",
   "metadata": {},
   "outputs": [],
   "source": [
    "scaler = MinMaxScaler()"
   ]
  },
  {
   "cell_type": "code",
   "execution_count": 577,
   "id": "38272937",
   "metadata": {},
   "outputs": [],
   "source": [
    "# X_train_scaled = scaler.fit_transform(X_train)\n",
    "# X_test_scaled = scaler.fit_transform(X_test)\n"
   ]
  },
  {
   "cell_type": "code",
   "execution_count": 578,
   "id": "00fb3623",
   "metadata": {},
   "outputs": [],
   "source": [
    "# y_train_scaled = scaler.fit_transform(y_train)\n",
    "# y_test_scaled = scaler.fit_transform(y_test)"
   ]
  },
  {
   "cell_type": "code",
   "execution_count": 673,
   "id": "79f22f41",
   "metadata": {},
   "outputs": [],
   "source": [
    "generator = TimeseriesGenerator(X_train, y_train, length=7, batch_size=6, sampling_rate=1, stride=1)"
   ]
  },
  {
   "cell_type": "code",
   "execution_count": 674,
   "id": "7651cb9c",
   "metadata": {},
   "outputs": [],
   "source": [
    "generator_val = TimeseriesGenerator(X_test, y_test, length=7, batch_size=6, sampling_rate=1, stride=1)"
   ]
  },
  {
   "cell_type": "code",
   "execution_count": 675,
   "id": "83c12172",
   "metadata": {},
   "outputs": [
    {
     "name": "stdout",
     "output_type": "stream",
     "text": [
      "(6, 7, 1) (6,)\n",
      "[[1964.]\n",
      " [1961.]\n",
      " [1967.]\n",
      " [1983.]\n",
      " [1994.]\n",
      " [2015.]\n",
      " [2019.]] 2038.0\n"
     ]
    }
   ],
   "source": [
    "for X, y in generator:\n",
    "    print(X.shape, y.shape)\n",
    "    print(X[0], y[0])\n",
    "    break"
   ]
  },
  {
   "cell_type": "markdown",
   "id": "345d78bd",
   "metadata": {},
   "source": [
    "# The model"
   ]
  },
  {
   "cell_type": "code",
   "execution_count": 676,
   "id": "79f1ad4a",
   "metadata": {},
   "outputs": [],
   "source": [
    "from tensorflow.keras.optimizers import RMSprop\n",
    "from tensorflow.keras.optimizers import Adam\n",
    "from tensorflow.keras.optimizers.schedules import ExponentialDecay"
   ]
  },
  {
   "cell_type": "code",
   "execution_count": 677,
   "id": "25fe4d27",
   "metadata": {},
   "outputs": [],
   "source": [
    "lr_schedule = ExponentialDecay(\n",
    "    initial_learning_rate=1e-3,\n",
    "    decay_steps=10000,\n",
    "    decay_rate=0.9)"
   ]
  },
  {
   "cell_type": "code",
   "execution_count": 678,
   "id": "42394cef",
   "metadata": {},
   "outputs": [],
   "source": [
    "rmsprop = RMSprop(learning_rate=lr_schedule)\n",
    "adam = Adam(learning_rate=0.01)"
   ]
  },
  {
   "cell_type": "code",
   "execution_count": 696,
   "id": "05658544",
   "metadata": {},
   "outputs": [],
   "source": [
    "def init_model():\n",
    "    \n",
    "    model = Sequential()\n",
    "\n",
    "    #LSTM layers\n",
    "    model.add(layers.LSTM(400, activation=\"tanh\", input_shape=(7,1), return_sequences=False))\n",
    "\n",
    "    #Dense layers\n",
    "    model.add(layers.Dense(150, activation=\"relu\"))\n",
    "    model.add(layers.Dense(1, activation=\"linear\"))\n",
    "\n",
    "    #compiling model\n",
    "    model.compile(loss=\"mse\", optimizer=rmsprop, metrics=\"mae\")\n",
    "    \n",
    "    return model"
   ]
  },
  {
   "cell_type": "markdown",
   "id": "848f462a",
   "metadata": {},
   "source": [
    "# Training & Testing "
   ]
  },
  {
   "cell_type": "code",
   "execution_count": 697,
   "id": "964219ff",
   "metadata": {},
   "outputs": [],
   "source": [
    "from tensorflow.keras.callbacks import EarlyStopping\n",
    "es = EarlyStopping(monitor=\"val_mae\", patience=10, restore_best_weights=True)"
   ]
  },
  {
   "cell_type": "code",
   "execution_count": 698,
   "id": "bf4d25ea",
   "metadata": {},
   "outputs": [],
   "source": [
    "model = init_model()"
   ]
  },
  {
   "cell_type": "code",
   "execution_count": null,
   "id": "ad36a135",
   "metadata": {},
   "outputs": [
    {
     "name": "stdout",
     "output_type": "stream",
     "text": [
      "Epoch 1/100\n",
      "666/666 [==============================] - 8s 10ms/step - loss: 8340105.0000 - mae: 1940.9620 - val_loss: 679586.9375 - val_mae: 747.7297\n",
      "Epoch 2/100\n",
      "666/666 [==============================] - 7s 10ms/step - loss: 4702055.5000 - mae: 1445.2993 - val_loss: 1267253.5000 - val_mae: 1064.6677\n",
      "Epoch 3/100\n",
      "666/666 [==============================] - 7s 10ms/step - loss: 3947180.0000 - mae: 1317.2065 - val_loss: 991555.1875 - val_mae: 921.2742\n",
      "Epoch 4/100\n",
      "268/666 [===========>..................] - ETA: 3s - loss: 2438501.2500 - mae: 1016.6626"
     ]
    }
   ],
   "source": [
    "history = model.fit(\n",
    "    generator, epochs=100, validation_data=generator_val, shuffle=True, callbacks=es\n",
    ")"
   ]
  },
  {
   "cell_type": "code",
   "execution_count": 694,
   "id": "8661868d",
   "metadata": {},
   "outputs": [
    {
     "name": "stdout",
     "output_type": "stream",
     "text": [
      "Model: \"sequential_54\"\n",
      "_________________________________________________________________\n",
      " Layer (type)                Output Shape              Param #   \n",
      "=================================================================\n",
      " lstm_62 (LSTM)              (None, 400)               643200    \n",
      "                                                                 \n",
      " dense_100 (Dense)           (None, 128)               51328     \n",
      "                                                                 \n",
      " dense_101 (Dense)           (None, 1)                 129       \n",
      "                                                                 \n",
      "=================================================================\n",
      "Total params: 694,657\n",
      "Trainable params: 694,657\n",
      "Non-trainable params: 0\n",
      "_________________________________________________________________\n"
     ]
    }
   ],
   "source": [
    "model.summary()"
   ]
  },
  {
   "cell_type": "code",
   "execution_count": 695,
   "id": "cc38e64e",
   "metadata": {},
   "outputs": [
    {
     "data": {
      "text/plain": [
       "array([<AxesSubplot: title={'center': 'MSE'}, xlabel='Epoch', ylabel='Loss'>,\n",
       "       <AxesSubplot: title={'center': 'MAE'}, xlabel='Epoch', ylabel='MAE'>],\n",
       "      dtype=object)"
      ]
     },
     "execution_count": 695,
     "metadata": {},
     "output_type": "execute_result"
    },
    {
     "data": {
      "image/png": "[encoded data removed]",
      "text/plain": [
       "<Figure size 2000x700 with 2 Axes>"
      ]
     },
     "metadata": {},
     "output_type": "display_data"
    }
   ],
   "source": [
    "plot_history(history)"
   ]
  },
  {
   "cell_type": "markdown",
   "id": "111f75dc",
   "metadata": {},
   "source": [
    "# Setup code for learning curves"
   ]
  },
  {
   "cell_type": "code",
   "execution_count": 686,
   "id": "6aa9e0bf",
   "metadata": {},
   "outputs": [],
   "source": [
    "def plot_history(history):\n",
    "    \n",
    "    fig, ax = plt.subplots(1,2, figsize=(20,7))\n",
    "    # --- LOSS: MSE --- \n",
    "    ax[0].plot(history.history['loss'])\n",
    "    ax[0].plot(history.history['val_loss'])\n",
    "    ax[0].set_title('MSE')\n",
    "    ax[0].set_ylabel('Loss')\n",
    "    ax[0].set_xlabel('Epoch')\n",
    "    ax[0].legend(['Train', 'Validation'], loc='best')\n",
    "    ax[0].grid(axis=\"x\",linewidth=0.5)\n",
    "    ax[0].grid(axis=\"y\",linewidth=0.5)\n",
    "    \n",
    "    # --- METRICS:MAE ---\n",
    "    \n",
    "    ax[1].plot(history.history['mae'])\n",
    "    ax[1].plot(history.history['val_mae'])\n",
    "    ax[1].set_title('MAE')\n",
    "    ax[1].set_ylabel('MAE')\n",
    "    ax[1].set_xlabel('Epoch')\n",
    "    ax[1].legend(['Train', 'Validation'], loc='best')\n",
    "    ax[1].grid(axis=\"x\",linewidth=0.5)\n",
    "    ax[1].grid(axis=\"y\",linewidth=0.5)\n",
    "                        \n",
    "    return ax"
   ]
  },
  {
   "cell_type": "code",
   "execution_count": 687,
   "id": "c8c974e7",
   "metadata": {},
   "outputs": [
    {
     "name": "stderr",
     "output_type": "stream",
     "text": [
      "2022-11-23 19:57:50.830108: W tensorflow/python/util/util.cc:368] Sets are not currently considered sequences, but this may change in the future, so consider avoiding using them.\n",
      "WARNING:absl:Found untraced functions such as lstm_cell_60_layer_call_fn, lstm_cell_60_layer_call_and_return_conditional_losses while saving (showing 2 of 2). These functions will not be directly callable after loading.\n"
     ]
    },
    {
     "name": "stdout",
     "output_type": "stream",
     "text": [
      "INFO:tensorflow:Assets written to: univariate model/assets\n"
     ]
    },
    {
     "name": "stderr",
     "output_type": "stream",
     "text": [
      "INFO:tensorflow:Assets written to: univariate model/assets\n",
      "WARNING:absl:<keras.layers.recurrent.LSTMCell object at 0x297001a90> has the same name 'LSTMCell' as a built-in Keras object. Consider renaming <class 'keras.layers.recurrent.LSTMCell'> to avoid naming conflicts when loading with `tf.keras.models.load_model`. If renaming is not possible, pass the object in the `custom_objects` parameter of the load function.\n"
     ]
    }
   ],
   "source": [
    "model.save(\"univariate model\"\n",
    ")"
   ]
  },
  {
   "cell_type": "code",
   "execution_count": null,
   "id": "708e38a5",
   "metadata": {},
   "outputs": [],
   "source": []
  }
 ],
 "metadata": {
  "kernelspec": {
   "display_name": "Python 3 (ipykernel)",
   "language": "python",
   "name": "python3"
  },
  "language_info": {
   "codemirror_mode": {
    "name": "ipython",
    "version": 3
   },
   "file_extension": ".py",
   "mimetype": "text/x-python",
   "name": "python",
   "nbconvert_exporter": "python",
   "pygments_lexer": "ipython3",
   "version": "3.8.12"
  },
  "toc": {
   "base_numbering": 1,
   "nav_menu": {},
   "number_sections": true,
   "sideBar": true,
   "skip_h1_title": false,
   "title_cell": "Table of Contents",
   "title_sidebar": "Contents",
   "toc_cell": false,
   "toc_position": {},
   "toc_section_display": true,
   "toc_window_display": false
  }
 },
 "nbformat": 4,
 "nbformat_minor": 5
}
