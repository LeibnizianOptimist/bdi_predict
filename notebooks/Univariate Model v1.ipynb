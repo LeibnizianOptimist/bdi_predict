{
 "cells": [
  {
   "cell_type": "markdown",
   "id": "8230ffd1",
   "metadata": {},
   "source": [
    "# Initial Setup "
   ]
  },
  {
   "cell_type": "code",
   "execution_count": 333,
   "id": "bc5d52ad",
   "metadata": {},
   "outputs": [],
   "source": [
    "import pandas as pd \n",
    "import numpy as np\n",
    "from tensorflow.keras import Sequential\n",
    "from tensorflow.keras import layers\n",
    "from sklearn.model_selection import TimeSeriesSplit\n",
    "from tensorflow.keras.preprocessing.sequence import TimeseriesGenerator\n",
    "from sklearn.preprocessing import MinMaxScaler\n",
    "from sklearn.preprocessing import StandardScaler"
   ]
  },
  {
   "cell_type": "code",
   "execution_count": 624,
   "id": "1e79e42d",
   "metadata": {},
   "outputs": [
    {
     "data": {
      "text/html": [
       "<div>\n",
       "<style scoped>\n",
       "    .dataframe tbody tr th:only-of-type {\n",
       "        vertical-align: middle;\n",
       "    }\n",
       "\n",
       "    .dataframe tbody tr th {\n",
       "        vertical-align: top;\n",
       "    }\n",
       "\n",
       "    .dataframe thead th {\n",
       "        text-align: right;\n",
       "    }\n",
       "</style>\n",
       "<table border=\"1\" class=\"dataframe\">\n",
       "  <thead>\n",
       "    <tr style=\"text-align: right;\">\n",
       "      <th></th>\n",
       "      <th>Price</th>\n",
       "    </tr>\n",
       "    <tr>\n",
       "      <th>Date</th>\n",
       "      <th></th>\n",
       "    </tr>\n",
       "  </thead>\n",
       "  <tbody>\n",
       "    <tr>\n",
       "      <th>1995-01-03</th>\n",
       "      <td>1964.0</td>\n",
       "    </tr>\n",
       "    <tr>\n",
       "      <th>1995-01-04</th>\n",
       "      <td>1961.0</td>\n",
       "    </tr>\n",
       "  </tbody>\n",
       "</table>\n",
       "</div>"
      ],
      "text/plain": [
       "             Price\n",
       "Date              \n",
       "1995-01-03  1964.0\n",
       "1995-01-04  1961.0"
      ]
     },
     "execution_count": 624,
     "metadata": {},
     "output_type": "execute_result"
    }
   ],
   "source": [
    "df = pd.read_csv(\"../raw_data/data/BDI/cleaned_daily_BDI.csv\")\n",
    "\n",
    "df[\"Date\"] = pd.to_datetime(df[\"Date\"])\n",
    "df.set_index(\"Date\", inplace=True)\n",
    "\n",
    "df.head(2)"
   ]
  },
  {
   "cell_type": "markdown",
   "id": "145f34c8",
   "metadata": {},
   "source": [
    "# Scaling the dataset & manual Holdout method"
   ]
  },
  {
   "cell_type": "markdown",
   "id": "ea63d1be",
   "metadata": {},
   "source": [
    "### Holdout method"
   ]
  },
  {
   "cell_type": "markdown",
   "id": "d1833dc3",
   "metadata": {},
   "source": [
    "Train/val/test split = (7:2:1)"
   ]
  },
  {
   "cell_type": "code",
   "execution_count": 625,
   "id": "ff440f12",
   "metadata": {},
   "outputs": [],
   "source": [
    "input_length = len(df)"
   ]
  },
  {
   "cell_type": "code",
   "execution_count": 626,
   "id": "b6b18f6d",
   "metadata": {},
   "outputs": [],
   "source": [
    "def train_test_split(df:pd.DataFrame,\n",
    "                     train_test_ratio: float,\n",
    "                     input_length: int) -> tuple:\n",
    "    '''\n",
    "    Returns a train dataframe and a test dataframe (df_train, df_test)\n",
    "    from which one can sample (X,y) sequences using TimeseriesGenerator.\n",
    "    df_train should contain all the timesteps until round(train_test_ratio * len(fold))   \n",
    "    '''\n",
    "    \n",
    "    # TRAIN SET\n",
    "\n",
    "    last_train_idx = round(train_test_ratio * len(df))\n",
    "    df_train = df.iloc[0:last_train_idx, :]\n",
    "\n",
    "    # TEST SET\n",
    " \n",
    "    first_test_idx = last_train_idx - input_length\n",
    "    df_test = df.iloc[first_test_idx:, :]\n",
    "\n",
    "    return (df_train, df_test)"
   ]
  },
  {
   "cell_type": "code",
   "execution_count": 627,
   "id": "edd82df4",
   "metadata": {},
   "outputs": [],
   "source": [
    "df_train, df_test = train_test_split(df=df, train_test_ratio=0.8, input_length=input_length)"
   ]
  },
  {
   "cell_type": "code",
   "execution_count": 628,
   "id": "15438044",
   "metadata": {},
   "outputs": [
    {
     "data": {
      "text/plain": [
       "4000"
      ]
     },
     "execution_count": 628,
     "metadata": {},
     "output_type": "execute_result"
    }
   ],
   "source": [
    "len(df_train)"
   ]
  },
  {
   "cell_type": "code",
   "execution_count": 629,
   "id": "c4bd9b36",
   "metadata": {},
   "outputs": [
    {
     "data": {
      "text/plain": [
       "1000"
      ]
     },
     "execution_count": 629,
     "metadata": {},
     "output_type": "execute_result"
    }
   ],
   "source": [
    "len(df_test)"
   ]
  },
  {
   "cell_type": "markdown",
   "id": "29608a81",
   "metadata": {},
   "source": [
    "# TimeseriesGenerator for sequences"
   ]
  },
  {
   "cell_type": "code",
   "execution_count": 630,
   "id": "f494d7f7",
   "metadata": {},
   "outputs": [],
   "source": [
    "X_train = df_train\n",
    "y_train = df_train[\"Price\"]\n",
    "\n",
    "X_test  = df_test\n",
    "y_test = df_test[\"Price\"]"
   ]
  },
  {
   "cell_type": "code",
   "execution_count": 631,
   "id": "6bce8afa",
   "metadata": {},
   "outputs": [],
   "source": [
    "scaler = MinMaxScaler()"
   ]
  },
  {
   "cell_type": "code",
   "execution_count": 577,
   "id": "79c0a942",
   "metadata": {},
   "outputs": [],
   "source": [
    "# X_train_scaled = scaler.fit_transform(X_train)\n",
    "# X_test_scaled = scaler.fit_transform(X_test)\n"
   ]
  },
  {
   "cell_type": "code",
   "execution_count": 578,
   "id": "00788ca9",
   "metadata": {},
   "outputs": [],
   "source": [
    "# y_train_scaled = scaler.fit_transform(y_train)\n",
    "# y_test_scaled = scaler.fit_transform(y_test)"
   ]
  },
  {
   "cell_type": "code",
   "execution_count": 673,
   "id": "51ac6a79",
   "metadata": {},
   "outputs": [],
   "source": [
    "generator = TimeseriesGenerator(X_train, y_train, length=7, batch_size=6, sampling_rate=1, stride=1)"
   ]
  },
  {
   "cell_type": "code",
   "execution_count": 674,
   "id": "ef7576dd",
   "metadata": {},
   "outputs": [],
   "source": [
    "generator_val = TimeseriesGenerator(X_test, y_test, length=7, batch_size=6, sampling_rate=1, stride=1)"
   ]
  },
  {
   "cell_type": "code",
   "execution_count": 675,
   "id": "97a4aec6",
   "metadata": {},
   "outputs": [
    {
     "name": "stdout",
     "output_type": "stream",
     "text": [
      "(6, 7, 1) (6,)\n",
      "[[1964.]\n",
      " [1961.]\n",
      " [1967.]\n",
      " [1983.]\n",
      " [1994.]\n",
      " [2015.]\n",
      " [2019.]] 2038.0\n"
     ]
    }
   ],
   "source": [
    "for X, y in generator:\n",
    "    print(X.shape, y.shape)\n",
    "    print(X[0], y[0])\n",
    "    break"
   ]
  },
  {
   "cell_type": "markdown",
   "id": "8ab28a66",
   "metadata": {},
   "source": [
    "# The model"
   ]
  },
  {
   "cell_type": "code",
   "execution_count": 676,
   "id": "88b50a0a",
   "metadata": {},
   "outputs": [],
   "source": [
    "from tensorflow.keras.optimizers import RMSprop\n",
    "from tensorflow.keras.optimizers import Adam\n",
    "from tensorflow.keras.optimizers.schedules import ExponentialDecay"
   ]
  },
  {
   "cell_type": "code",
   "execution_count": 677,
   "id": "d4a9ebca",
   "metadata": {},
   "outputs": [],
   "source": [
    "lr_schedule = ExponentialDecay(\n",
    "    initial_learning_rate=1e-3,\n",
    "    decay_steps=10000,\n",
    "    decay_rate=0.9)"
   ]
  },
  {
   "cell_type": "code",
   "execution_count": 851,
   "id": "86c9a1cc",
   "metadata": {},
   "outputs": [],
   "source": [
    "rmsprop = RMSprop(learning_rate=0.0001)\n",
    "adam = Adam(learning_rate=0.01)"
   ]
  },
  {
   "cell_type": "code",
   "execution_count": 852,
   "id": "e95a9d01",
   "metadata": {},
   "outputs": [],
   "source": [
    "def init_model():\n",
    "    \n",
    "    model = Sequential()\n",
    "\n",
    "    #LSTM layers\n",
    "    model.add(layers.LSTM(400, activation=\"tanh\", input_shape=(7,1), return_sequences=False))\n",
    "\n",
    "    #Dense layers\n",
    "    model.add(layers.Dense(150, activation=\"relu\"))\n",
    "    model.add(layers.Dense(1, activation=\"linear\"))\n",
    "\n",
    "    #compiling model\n",
    "    model.compile(loss=\"mse\", optimizer=rmsprop, metrics=\"mae\")\n",
    "    \n",
    "    return model"
   ]
  },
  {
   "cell_type": "markdown",
   "id": "6d05fb78",
   "metadata": {},
   "source": [
    "# Training & Testing "
   ]
  },
  {
   "cell_type": "code",
   "execution_count": 701,
   "id": "7b4a7d22",
   "metadata": {},
   "outputs": [],
   "source": [
    "from tensorflow.keras.callbacks import EarlyStopping\n",
    "es = EarlyStopping(monitor=\"val_mae\", patience=30, restore_best_weights=True)"
   ]
  },
  {
   "cell_type": "code",
   "execution_count": 702,
   "id": "ee6b0f62",
   "metadata": {},
   "outputs": [],
   "source": [
    "model = init_model()"
   ]
  },
  {
   "cell_type": "code",
   "execution_count": 703,
   "id": "ae8990d0",
   "metadata": {},
   "outputs": [
    {
     "name": "stdout",
     "output_type": "stream",
     "text": [
      "Epoch 1/100\n",
      "666/666 [==============================] - 10s 12ms/step - loss: 8603959.0000 - mae: 2003.0972 - val_loss: 402097.9062 - val_mae: 569.8585\n",
      "Epoch 2/100\n",
      "666/666 [==============================] - 7s 11ms/step - loss: 4623577.0000 - mae: 1382.0402 - val_loss: 1108157.6250 - val_mae: 980.6452\n",
      "Epoch 3/100\n",
      "666/666 [==============================] - 7s 11ms/step - loss: 3619362.2500 - mae: 1210.1147 - val_loss: 768201.5000 - val_mae: 814.6632\n",
      "Epoch 4/100\n",
      "666/666 [==============================] - 7s 11ms/step - loss: 2745729.0000 - mae: 969.1602 - val_loss: 588612.8125 - val_mae: 687.8508\n",
      "Epoch 5/100\n",
      "666/666 [==============================] - 7s 10ms/step - loss: 1963908.7500 - mae: 749.5281 - val_loss: 285627.0625 - val_mae: 459.9814\n",
      "Epoch 6/100\n",
      "666/666 [==============================] - 7s 10ms/step - loss: 1400211.5000 - mae: 598.0226 - val_loss: 127928.5391 - val_mae: 305.2206\n",
      "Epoch 7/100\n",
      "666/666 [==============================] - 7s 11ms/step - loss: 1225997.7500 - mae: 482.0537 - val_loss: 27015.3730 - val_mae: 133.8302\n",
      "Epoch 8/100\n",
      "666/666 [==============================] - 7s 10ms/step - loss: 1017032.6875 - mae: 429.9696 - val_loss: 16211.6660 - val_mae: 101.8605\n",
      "Epoch 9/100\n",
      "666/666 [==============================] - 7s 10ms/step - loss: 831730.5625 - mae: 411.8797 - val_loss: 42095.1641 - val_mae: 175.3942\n",
      "Epoch 10/100\n",
      "666/666 [==============================] - 7s 11ms/step - loss: 904264.3750 - mae: 443.1224 - val_loss: 25818.8926 - val_mae: 124.5607\n",
      "Epoch 11/100\n",
      "666/666 [==============================] - 7s 11ms/step - loss: 672516.3125 - mae: 382.7521 - val_loss: 19716.8652 - val_mae: 112.3773\n",
      "Epoch 12/100\n",
      "666/666 [==============================] - 7s 10ms/step - loss: 734154.2500 - mae: 412.7077 - val_loss: 12189.4062 - val_mae: 89.9233\n",
      "Epoch 13/100\n",
      "666/666 [==============================] - 7s 11ms/step - loss: 725167.5000 - mae: 388.1863 - val_loss: 18922.3047 - val_mae: 115.2624\n",
      "Epoch 14/100\n",
      "666/666 [==============================] - 7s 11ms/step - loss: 897334.1250 - mae: 424.4310 - val_loss: 27475.1191 - val_mae: 138.1554\n",
      "Epoch 15/100\n",
      "666/666 [==============================] - 7s 11ms/step - loss: 782781.0625 - mae: 427.3054 - val_loss: 25307.6035 - val_mae: 123.2295\n",
      "Epoch 16/100\n",
      "666/666 [==============================] - 8s 12ms/step - loss: 792787.0625 - mae: 426.1409 - val_loss: 24409.7441 - val_mae: 104.6650\n",
      "Epoch 17/100\n",
      "666/666 [==============================] - 8s 12ms/step - loss: 832045.8750 - mae: 436.6771 - val_loss: 99435.2188 - val_mae: 282.3663\n",
      "Epoch 18/100\n",
      "666/666 [==============================] - 7s 11ms/step - loss: 946174.3125 - mae: 472.1581 - val_loss: 24235.5625 - val_mae: 121.1012\n",
      "Epoch 19/100\n",
      "666/666 [==============================] - 7s 11ms/step - loss: 883079.1250 - mae: 447.1606 - val_loss: 111828.6172 - val_mae: 292.8131\n",
      "Epoch 20/100\n",
      "666/666 [==============================] - 7s 11ms/step - loss: 1155944.7500 - mae: 474.7612 - val_loss: 17883.6367 - val_mae: 105.2362\n",
      "Epoch 21/100\n",
      "666/666 [==============================] - 8s 11ms/step - loss: 1071187.0000 - mae: 461.1203 - val_loss: 70341.7109 - val_mae: 191.3487\n",
      "Epoch 22/100\n",
      "666/666 [==============================] - 7s 11ms/step - loss: 909766.2500 - mae: 433.9059 - val_loss: 28759.6582 - val_mae: 137.5750\n",
      "Epoch 23/100\n",
      "666/666 [==============================] - 7s 11ms/step - loss: 667083.7500 - mae: 406.8870 - val_loss: 22148.3516 - val_mae: 106.8673\n",
      "Epoch 24/100\n",
      "666/666 [==============================] - 7s 11ms/step - loss: 837922.2500 - mae: 425.8591 - val_loss: 24300.4434 - val_mae: 127.9999\n",
      "Epoch 25/100\n",
      "666/666 [==============================] - 7s 11ms/step - loss: 504749.9688 - mae: 362.3216 - val_loss: 23126.4434 - val_mae: 126.3523\n",
      "Epoch 26/100\n",
      "666/666 [==============================] - 7s 11ms/step - loss: 581264.1875 - mae: 369.0561 - val_loss: 54654.3672 - val_mae: 201.0697\n",
      "Epoch 27/100\n",
      "666/666 [==============================] - 8s 11ms/step - loss: 514316.2812 - mae: 372.9158 - val_loss: 19608.6406 - val_mae: 113.5123\n",
      "Epoch 28/100\n",
      "666/666 [==============================] - 7s 10ms/step - loss: 625260.5625 - mae: 403.3497 - val_loss: 59646.4180 - val_mae: 200.8826\n",
      "Epoch 29/100\n",
      "666/666 [==============================] - 8s 12ms/step - loss: 496754.2500 - mae: 369.9765 - val_loss: 48287.2578 - val_mae: 180.1727\n",
      "Epoch 30/100\n",
      "666/666 [==============================] - 7s 11ms/step - loss: 588202.5625 - mae: 395.7196 - val_loss: 92291.3750 - val_mae: 265.9221\n",
      "Epoch 31/100\n",
      "666/666 [==============================] - 7s 11ms/step - loss: 524352.6875 - mae: 366.5703 - val_loss: 44818.4492 - val_mae: 170.5012\n",
      "Epoch 32/100\n",
      "666/666 [==============================] - 7s 11ms/step - loss: 627112.4375 - mae: 407.0236 - val_loss: 27211.8711 - val_mae: 133.3573\n",
      "Epoch 33/100\n",
      "666/666 [==============================] - 7s 11ms/step - loss: 529831.9375 - mae: 367.2572 - val_loss: 52556.8008 - val_mae: 179.5870\n",
      "Epoch 34/100\n",
      "666/666 [==============================] - 7s 11ms/step - loss: 441662.9688 - mae: 343.9863 - val_loss: 35150.3398 - val_mae: 152.8848\n",
      "Epoch 35/100\n",
      "666/666 [==============================] - 8s 11ms/step - loss: 461179.4688 - mae: 347.7375 - val_loss: 26211.6309 - val_mae: 132.3807\n",
      "Epoch 36/100\n",
      "666/666 [==============================] - 7s 11ms/step - loss: 419501.7188 - mae: 337.5712 - val_loss: 19653.1074 - val_mae: 103.2652\n",
      "Epoch 37/100\n",
      "666/666 [==============================] - 7s 10ms/step - loss: 448161.9062 - mae: 344.6992 - val_loss: 29258.2480 - val_mae: 135.0825\n",
      "Epoch 38/100\n",
      "666/666 [==============================] - 8s 11ms/step - loss: 400654.1250 - mae: 325.0912 - val_loss: 38504.1172 - val_mae: 156.3405\n",
      "Epoch 39/100\n",
      "666/666 [==============================] - 7s 11ms/step - loss: 319830.1562 - mae: 308.4237 - val_loss: 21075.0195 - val_mae: 118.6074\n",
      "Epoch 40/100\n",
      "666/666 [==============================] - 9s 13ms/step - loss: 307403.9688 - mae: 294.7815 - val_loss: 38672.0977 - val_mae: 150.5945\n",
      "Epoch 41/100\n",
      "666/666 [==============================] - 7s 10ms/step - loss: 326160.8750 - mae: 306.6199 - val_loss: 13938.4922 - val_mae: 88.8209\n",
      "Epoch 42/100\n",
      "666/666 [==============================] - 7s 10ms/step - loss: 267515.8750 - mae: 282.9100 - val_loss: 24997.9844 - val_mae: 124.1469\n",
      "Epoch 43/100\n",
      "666/666 [==============================] - 7s 11ms/step - loss: 269069.6250 - mae: 293.8322 - val_loss: 17941.6035 - val_mae: 103.1856\n",
      "Epoch 44/100\n",
      "666/666 [==============================] - 8s 12ms/step - loss: 363470.5625 - mae: 309.4903 - val_loss: 38794.1719 - val_mae: 164.3493\n",
      "Epoch 45/100\n",
      "666/666 [==============================] - 8s 11ms/step - loss: 239634.7500 - mae: 277.2980 - val_loss: 22920.4375 - val_mae: 112.5348\n",
      "Epoch 46/100\n",
      "666/666 [==============================] - 8s 11ms/step - loss: 286728.1250 - mae: 294.5089 - val_loss: 65276.6758 - val_mae: 206.9226\n",
      "Epoch 47/100\n",
      "666/666 [==============================] - 8s 11ms/step - loss: 256846.9219 - mae: 277.2262 - val_loss: 53500.2109 - val_mae: 161.7271\n",
      "Epoch 48/100\n",
      "666/666 [==============================] - 8s 12ms/step - loss: 265270.1875 - mae: 293.5267 - val_loss: 22345.2598 - val_mae: 121.2765\n",
      "Epoch 49/100\n",
      "666/666 [==============================] - 8s 12ms/step - loss: 302632.2188 - mae: 302.6120 - val_loss: 17607.8496 - val_mae: 104.5516\n",
      "Epoch 50/100\n",
      "666/666 [==============================] - 7s 11ms/step - loss: 229506.3750 - mae: 284.3416 - val_loss: 20220.5332 - val_mae: 109.5033\n",
      "Epoch 51/100\n",
      "666/666 [==============================] - 7s 10ms/step - loss: 289313.3125 - mae: 291.3697 - val_loss: 24827.4688 - val_mae: 123.0123\n",
      "Epoch 52/100\n",
      "666/666 [==============================] - 7s 11ms/step - loss: 307929.9062 - mae: 316.4761 - val_loss: 37246.9453 - val_mae: 145.6805\n",
      "Epoch 53/100\n",
      "666/666 [==============================] - 8s 11ms/step - loss: 297728.7812 - mae: 302.0592 - val_loss: 28735.1484 - val_mae: 140.1339\n",
      "Epoch 54/100\n",
      "666/666 [==============================] - 7s 11ms/step - loss: 299556.1875 - mae: 318.0166 - val_loss: 62688.0273 - val_mae: 224.8476\n",
      "Epoch 55/100\n",
      "666/666 [==============================] - 7s 11ms/step - loss: 277166.4375 - mae: 292.9660 - val_loss: 19745.7168 - val_mae: 105.5031\n",
      "Epoch 56/100\n"
     ]
    },
    {
     "name": "stdout",
     "output_type": "stream",
     "text": [
      "666/666 [==============================] - 8s 11ms/step - loss: 279657.7812 - mae: 291.5478 - val_loss: 10822.7705 - val_mae: 80.9403\n",
      "Epoch 57/100\n",
      "666/666 [==============================] - 7s 11ms/step - loss: 310677.7812 - mae: 288.3050 - val_loss: 25561.8906 - val_mae: 124.3749\n",
      "Epoch 58/100\n",
      "666/666 [==============================] - 8s 11ms/step - loss: 365907.1875 - mae: 317.2220 - val_loss: 19507.7051 - val_mae: 112.5691\n",
      "Epoch 59/100\n",
      "666/666 [==============================] - 7s 10ms/step - loss: 362435.5938 - mae: 315.6026 - val_loss: 18281.5703 - val_mae: 94.3517\n",
      "Epoch 60/100\n",
      "666/666 [==============================] - 7s 11ms/step - loss: 308090.1875 - mae: 296.2497 - val_loss: 71370.3047 - val_mae: 204.2868\n",
      "Epoch 61/100\n",
      "666/666 [==============================] - 7s 11ms/step - loss: 257722.4688 - mae: 279.2150 - val_loss: 22501.8848 - val_mae: 96.4797\n",
      "Epoch 62/100\n",
      "666/666 [==============================] - 7s 10ms/step - loss: 309606.1250 - mae: 309.9362 - val_loss: 14198.5283 - val_mae: 93.8035\n",
      "Epoch 63/100\n",
      "666/666 [==============================] - 7s 10ms/step - loss: 309688.2188 - mae: 316.4243 - val_loss: 42555.4805 - val_mae: 173.1412\n",
      "Epoch 64/100\n",
      "666/666 [==============================] - 7s 11ms/step - loss: 301986.8750 - mae: 301.1907 - val_loss: 48365.5938 - val_mae: 160.8769\n",
      "Epoch 65/100\n",
      "666/666 [==============================] - 7s 11ms/step - loss: 234299.6719 - mae: 281.0317 - val_loss: 38912.9219 - val_mae: 139.8391\n",
      "Epoch 66/100\n",
      "666/666 [==============================] - 8s 11ms/step - loss: 261777.4375 - mae: 280.2258 - val_loss: 32315.2129 - val_mae: 153.4958\n",
      "Epoch 67/100\n",
      "666/666 [==============================] - 8s 12ms/step - loss: 284779.4688 - mae: 281.5526 - val_loss: 17787.5996 - val_mae: 103.5496\n",
      "Epoch 68/100\n",
      "666/666 [==============================] - 7s 10ms/step - loss: 247935.8750 - mae: 261.2833 - val_loss: 26525.6621 - val_mae: 131.6287\n",
      "Epoch 69/100\n",
      "666/666 [==============================] - 7s 11ms/step - loss: 259836.7969 - mae: 270.3882 - val_loss: 21097.4941 - val_mae: 117.5603\n",
      "Epoch 70/100\n",
      "666/666 [==============================] - 7s 11ms/step - loss: 225951.2031 - mae: 265.7030 - val_loss: 28265.2676 - val_mae: 120.9284\n",
      "Epoch 71/100\n",
      "666/666 [==============================] - 7s 10ms/step - loss: 222709.4219 - mae: 256.6042 - val_loss: 14199.6865 - val_mae: 85.5175\n",
      "Epoch 72/100\n",
      "666/666 [==============================] - 7s 11ms/step - loss: 291195.1875 - mae: 274.6843 - val_loss: 17921.5508 - val_mae: 103.5788\n",
      "Epoch 73/100\n",
      "666/666 [==============================] - 7s 11ms/step - loss: 219666.6094 - mae: 257.3940 - val_loss: 37499.9922 - val_mae: 132.9712\n",
      "Epoch 74/100\n",
      "666/666 [==============================] - 7s 11ms/step - loss: 163495.0781 - mae: 231.3657 - val_loss: 20309.0840 - val_mae: 99.4159\n",
      "Epoch 75/100\n",
      "666/666 [==============================] - 7s 11ms/step - loss: 202882.0000 - mae: 237.8956 - val_loss: 22678.9531 - val_mae: 99.3880\n",
      "Epoch 76/100\n",
      "666/666 [==============================] - 8s 12ms/step - loss: 234019.5469 - mae: 256.0000 - val_loss: 44452.0430 - val_mae: 158.6470\n",
      "Epoch 77/100\n",
      "666/666 [==============================] - 7s 11ms/step - loss: 198049.2969 - mae: 242.1292 - val_loss: 32844.9453 - val_mae: 147.2316\n",
      "Epoch 78/100\n",
      "666/666 [==============================] - 8s 12ms/step - loss: 258105.6094 - mae: 265.2795 - val_loss: 24682.1523 - val_mae: 118.1894\n",
      "Epoch 79/100\n",
      "666/666 [==============================] - 8s 11ms/step - loss: 269458.4062 - mae: 291.2459 - val_loss: 26117.6055 - val_mae: 116.5522\n",
      "Epoch 80/100\n",
      "666/666 [==============================] - 7s 11ms/step - loss: 244130.8281 - mae: 264.5663 - val_loss: 22278.2383 - val_mae: 116.1439\n",
      "Epoch 81/100\n",
      "666/666 [==============================] - 7s 11ms/step - loss: 219322.7344 - mae: 250.8927 - val_loss: 41292.7344 - val_mae: 126.9294\n",
      "Epoch 82/100\n",
      "666/666 [==============================] - 7s 11ms/step - loss: 225025.2500 - mae: 259.6761 - val_loss: 62616.7852 - val_mae: 156.1046\n",
      "Epoch 83/100\n",
      "666/666 [==============================] - 8s 12ms/step - loss: 226309.2344 - mae: 270.7853 - val_loss: 28525.7305 - val_mae: 132.3585\n",
      "Epoch 84/100\n",
      "666/666 [==============================] - 7s 11ms/step - loss: 182613.0312 - mae: 251.8118 - val_loss: 44366.4844 - val_mae: 151.7616\n",
      "Epoch 85/100\n",
      "666/666 [==============================] - 7s 11ms/step - loss: 205818.2344 - mae: 249.7686 - val_loss: 14675.5312 - val_mae: 88.8809\n",
      "Epoch 86/100\n",
      "666/666 [==============================] - 9s 13ms/step - loss: 201704.9375 - mae: 240.8690 - val_loss: 12487.8438 - val_mae: 80.6705\n",
      "Epoch 87/100\n",
      "666/666 [==============================] - 9s 13ms/step - loss: 203405.0000 - mae: 243.1273 - val_loss: 42315.6055 - val_mae: 149.5314\n",
      "Epoch 88/100\n",
      "666/666 [==============================] - 8s 13ms/step - loss: 194376.7656 - mae: 242.2475 - val_loss: 13369.1523 - val_mae: 81.2131\n",
      "Epoch 89/100\n",
      "666/666 [==============================] - 7s 10ms/step - loss: 193654.2344 - mae: 238.1682 - val_loss: 20993.5293 - val_mae: 94.7114\n",
      "Epoch 90/100\n",
      "666/666 [==============================] - 7s 11ms/step - loss: 200455.2812 - mae: 229.3157 - val_loss: 31814.6094 - val_mae: 92.6455\n",
      "Epoch 91/100\n",
      "666/666 [==============================] - 8s 12ms/step - loss: 163263.5781 - mae: 217.8075 - val_loss: 32571.1621 - val_mae: 146.0068\n",
      "Epoch 92/100\n",
      "666/666 [==============================] - 8s 12ms/step - loss: 193744.3438 - mae: 226.1903 - val_loss: 27607.9902 - val_mae: 122.3421\n",
      "Epoch 93/100\n",
      "666/666 [==============================] - 7s 10ms/step - loss: 164713.7344 - mae: 225.1033 - val_loss: 15488.7920 - val_mae: 98.9187\n",
      "Epoch 94/100\n",
      "666/666 [==============================] - 8s 11ms/step - loss: 172620.2188 - mae: 211.1605 - val_loss: 25782.0312 - val_mae: 111.9445\n",
      "Epoch 95/100\n",
      "666/666 [==============================] - 7s 11ms/step - loss: 175187.6406 - mae: 224.9941 - val_loss: 17834.0352 - val_mae: 100.0839\n",
      "Epoch 96/100\n",
      "666/666 [==============================] - 8s 13ms/step - loss: 153370.2031 - mae: 212.2309 - val_loss: 21134.6348 - val_mae: 102.0934\n",
      "Epoch 97/100\n",
      "666/666 [==============================] - 9s 13ms/step - loss: 156309.9688 - mae: 208.4503 - val_loss: 21658.5039 - val_mae: 107.7066\n",
      "Epoch 98/100\n",
      "666/666 [==============================] - 8s 12ms/step - loss: 142934.1406 - mae: 206.7573 - val_loss: 35215.7188 - val_mae: 150.3749\n",
      "Epoch 99/100\n",
      "666/666 [==============================] - 9s 14ms/step - loss: 123146.0781 - mae: 195.4355 - val_loss: 17017.0020 - val_mae: 100.0915\n",
      "Epoch 100/100\n",
      "666/666 [==============================] - 7s 11ms/step - loss: 143993.2656 - mae: 202.9732 - val_loss: 24370.4746 - val_mae: 113.4709\n"
     ]
    }
   ],
   "source": [
    "history = model.fit(\n",
    "    generator, epochs=100, validation_data=generator_val, shuffle=True, callbacks=es\n",
    ")"
   ]
  },
  {
   "cell_type": "code",
   "execution_count": 694,
   "id": "6e6fdcd2",
   "metadata": {},
   "outputs": [
    {
     "name": "stdout",
     "output_type": "stream",
     "text": [
      "Model: \"sequential_54\"\n",
      "_________________________________________________________________\n",
      " Layer (type)                Output Shape              Param #   \n",
      "=================================================================\n",
      " lstm_62 (LSTM)              (None, 400)               643200    \n",
      "                                                                 \n",
      " dense_100 (Dense)           (None, 128)               51328     \n",
      "                                                                 \n",
      " dense_101 (Dense)           (None, 1)                 129       \n",
      "                                                                 \n",
      "=================================================================\n",
      "Total params: 694,657\n",
      "Trainable params: 694,657\n",
      "Non-trainable params: 0\n",
      "_________________________________________________________________\n"
     ]
    }
   ],
   "source": [
    "model.summary()"
   ]
  },
  {
   "cell_type": "code",
   "execution_count": 718,
   "id": "67f48095",
   "metadata": {},
   "outputs": [
    {
     "data": {
      "text/plain": [
       "array([<AxesSubplot: title={'center': 'MSE'}, xlabel='Epoch', ylabel='Loss'>,\n",
       "       <AxesSubplot: title={'center': 'MAE'}, xlabel='Epoch', ylabel='MAE'>],\n",
       "      dtype=object)"
      ]
     },
     "execution_count": 718,
     "metadata": {},
     "output_type": "execute_result"
    },
    {
     "data": {
      "image/png": "[encoded data removed]",
      "text/plain": [
       "<Figure size 2000x700 with 2 Axes>"
      ]
     },
     "metadata": {},
     "output_type": "display_data"
    }
   ],
   "source": [
    "plot_history(history)"
   ]
  },
  {
   "cell_type": "markdown",
   "id": "02b38bfc",
   "metadata": {},
   "source": [
    "# Setup code for learning curves"
   ]
  },
  {
   "cell_type": "code",
   "execution_count": 686,
   "id": "b9b38462",
   "metadata": {},
   "outputs": [],
   "source": [
    "def plot_history(history):\n",
    "    \n",
    "    fig, ax = plt.subplots(1,2, figsize=(20,7))\n",
    "    # --- LOSS: MSE --- \n",
    "    ax[0].plot(history.history['loss'])\n",
    "    ax[0].plot(history.history['val_loss'])\n",
    "    ax[0].set_title('MSE')\n",
    "    ax[0].set_ylabel('Loss')\n",
    "    ax[0].set_xlabel('Epoch')\n",
    "    ax[0].legend(['Train', 'Validation'], loc='best')\n",
    "    ax[0].grid(axis=\"x\",linewidth=0.5)\n",
    "    ax[0].grid(axis=\"y\",linewidth=0.5)\n",
    "    \n",
    "    # --- METRICS:MAE ---\n",
    "    \n",
    "    ax[1].plot(history.history['mae'])\n",
    "    ax[1].plot(history.history['val_mae'])\n",
    "    ax[1].set_title('MAE')\n",
    "    ax[1].set_ylabel('MAE')\n",
    "    ax[1].set_xlabel('Epoch')\n",
    "    ax[1].legend(['Train', 'Validation'], loc='best')\n",
    "    ax[1].grid(axis=\"x\",linewidth=0.5)\n",
    "    ax[1].grid(axis=\"y\",linewidth=0.5)\n",
    "                        \n",
    "    return ax"
   ]
  },
  {
   "cell_type": "code",
   "execution_count": 705,
   "id": "3610b812",
   "metadata": {},
   "outputs": [
    {
     "name": "stderr",
     "output_type": "stream",
     "text": [
      "WARNING:absl:Found untraced functions such as lstm_cell_64_layer_call_fn, lstm_cell_64_layer_call_and_return_conditional_losses while saving (showing 2 of 2). These functions will not be directly callable after loading.\n"
     ]
    },
    {
     "name": "stdout",
     "output_type": "stream",
     "text": [
      "INFO:tensorflow:Assets written to: univariate model/assets\n"
     ]
    },
    {
     "name": "stderr",
     "output_type": "stream",
     "text": [
      "INFO:tensorflow:Assets written to: univariate model/assets\n",
      "WARNING:absl:<keras.layers.recurrent.LSTMCell object at 0x2963db4f0> has the same name 'LSTMCell' as a built-in Keras object. Consider renaming <class 'keras.layers.recurrent.LSTMCell'> to avoid naming conflicts when loading with `tf.keras.models.load_model`. If renaming is not possible, pass the object in the `custom_objects` parameter of the load function.\n"
     ]
    }
   ],
   "source": [
    "model.save(\"univariate model\")"
   ]
  },
  {
   "cell_type": "code",
   "execution_count": 708,
   "id": "ea5dd095",
   "metadata": {},
   "outputs": [
    {
     "data": {
      "text/plain": [
       "{'verbose': 1, 'epochs': 100, 'steps': 666}"
      ]
     },
     "execution_count": 708,
     "metadata": {},
     "output_type": "execute_result"
    }
   ],
   "source": [
    "history.params\n"
   ]
  },
  {
   "cell_type": "code",
   "execution_count": 732,
   "id": "88f3415c",
   "metadata": {},
   "outputs": [
    {
     "data": {
      "text/plain": [
       "dict_keys(['loss', 'mae', 'val_loss', 'val_mae'])"
      ]
     },
     "execution_count": 732,
     "metadata": {},
     "output_type": "execute_result"
    }
   ],
   "source": [
    "history.history.keys()"
   ]
  },
  {
   "cell_type": "code",
   "execution_count": 734,
   "id": "7f0cb743",
   "metadata": {},
   "outputs": [
    {
     "data": {
      "text/plain": [
       "195.4354705810547"
      ]
     },
     "execution_count": 734,
     "metadata": {},
     "output_type": "execute_result"
    }
   ],
   "source": [
    "min(history.history[\"mae\"])"
   ]
  },
  {
   "cell_type": "code",
   "execution_count": 736,
   "id": "cd9bde63",
   "metadata": {},
   "outputs": [
    {
     "data": {
      "text/plain": [
       "80.67047882080078"
      ]
     },
     "execution_count": 736,
     "metadata": {},
     "output_type": "execute_result"
    }
   ],
   "source": [
    "min(history.history[\"val_mae\"])"
   ]
  },
  {
   "cell_type": "markdown",
   "id": "b8aee787",
   "metadata": {},
   "source": [
    "# Second Training!"
   ]
  },
  {
   "cell_type": "code",
   "execution_count": null,
   "id": "713211ce",
   "metadata": {},
   "outputs": [],
   "source": [
    "generator2 = TimeseriesGenerator(X_train,\n",
    "                                 y_train,\n",
    "                                 length=14,\n",
    "                                 batch_size=16,\n",
    "                                 sampling_rate=1,\n",
    "                                 stride=1,\n",
    "                                 shuffle=False)"
   ]
  },
  {
   "cell_type": "code",
   "execution_count": null,
   "id": "82403140",
   "metadata": {},
   "outputs": [],
   "source": [
    "generator_val2 = TimeseriesGenerator(X_test,\n",
    "                                     y_test,\n",
    "                                     length=14, \n",
    "                                     batch_size=16,\n",
    "                                     sampling_rate=1,\n",
    "                                     stride=1,\n",
    "                                     shuffle=False)"
   ]
  },
  {
   "cell_type": "code",
   "execution_count": null,
   "id": "33c728d9",
   "metadata": {},
   "outputs": [],
   "source": [
    "len(generator2)"
   ]
  },
  {
   "cell_type": "code",
   "execution_count": null,
   "id": "fb6f67a7",
   "metadata": {},
   "outputs": [],
   "source": [
    "for X, y in generator2:\n",
    "    print(X.shape, y.shape)\n",
    "    print(X[0], y[0])\n",
    "    break"
   ]
  },
  {
   "cell_type": "code",
   "execution_count": 853,
   "id": "cb6d4427",
   "metadata": {},
   "outputs": [],
   "source": [
    "def init_model2():\n",
    "    \n",
    "    model = Sequential()\n",
    "\n",
    "    #LSTM layers\n",
    "    model.add(layers.LSTM(250, activation=\"tanh\", input_shape=(14,1), return_sequences=True))\n",
    "\n",
    "    #Dense layers\n",
    "    model.add(layers.Dense(150, activation=\"relu\"))\n",
    "    model.add(layers.Dense(1, activation=\"linear\"))\n",
    "\n",
    "    #compiling model\n",
    "    model.compile(loss=\"mse\", optimizer=rmsprop, metrics=\"mae\")\n",
    "    \n",
    "    return model"
   ]
  },
  {
   "cell_type": "code",
   "execution_count": 854,
   "id": "b7c0c943",
   "metadata": {},
   "outputs": [],
   "source": [
    "model2 = init_model2()"
   ]
  },
  {
   "cell_type": "markdown",
   "id": "9591a4f1",
   "metadata": {},
   "source": [
    "Input length, two weeks <br>\n",
    "predict one week into the future."
   ]
  },
  {
   "cell_type": "code",
   "execution_count": 855,
   "id": "3ca6db34",
   "metadata": {},
   "outputs": [],
   "source": [
    "es2 = EarlyStopping(monitor=\"val_mae\", patience=10, restore_best_weights=True)"
   ]
  },
  {
   "cell_type": "code",
   "execution_count": 856,
   "id": "9d8b308b",
   "metadata": {
    "collapsed": true
   },
   "outputs": [
    {
     "name": "stdout",
     "output_type": "stream",
     "text": [
      "Epoch 1/100\n",
      "250/250 [==============================] - 5s 13ms/step - loss: 11836295.0000 - mae: 2690.2463 - val_loss: 1542936.5000 - val_mae: 1180.1737\n",
      "Epoch 2/100\n",
      "250/250 [==============================] - 3s 11ms/step - loss: 11734486.0000 - mae: 2672.4521 - val_loss: 1491550.7500 - val_mae: 1158.1934\n",
      "Epoch 3/100\n",
      "250/250 [==============================] - 3s 12ms/step - loss: 11590677.0000 - mae: 2646.4683 - val_loss: 1423215.8750 - val_mae: 1128.3029\n",
      "Epoch 4/100\n",
      "250/250 [==============================] - 3s 12ms/step - loss: 11396777.0000 - mae: 2611.1392 - val_loss: 1333289.8750 - val_mae: 1087.7198\n",
      "Epoch 5/100\n",
      "250/250 [==============================] - 3s 12ms/step - loss: 11165666.0000 - mae: 2567.5310 - val_loss: 1232284.7500 - val_mae: 1040.2334\n",
      "Epoch 6/100\n",
      "250/250 [==============================] - 3s 12ms/step - loss: 10896051.0000 - mae: 2515.6353 - val_loss: 1119292.2500 - val_mae: 984.3724\n",
      "Epoch 7/100\n",
      "250/250 [==============================] - 3s 12ms/step - loss: 10595792.0000 - mae: 2456.4214 - val_loss: 998473.9375 - val_mae: 920.9194\n",
      "Epoch 8/100\n",
      "250/250 [==============================] - 3s 12ms/step - loss: 10263087.0000 - mae: 2388.9636 - val_loss: 872877.1250 - val_mae: 849.9778\n",
      "Epoch 9/100\n",
      "250/250 [==============================] - 3s 12ms/step - loss: 9908221.0000 - mae: 2314.8513 - val_loss: 746425.0000 - val_mae: 771.9191\n",
      "Epoch 10/100\n",
      "250/250 [==============================] - 3s 12ms/step - loss: 9535929.0000 - mae: 2233.9912 - val_loss: 623873.6875 - val_mae: 687.8365\n",
      "Epoch 11/100\n",
      "250/250 [==============================] - 3s 13ms/step - loss: 9145176.0000 - mae: 2146.2205 - val_loss: 506358.5000 - val_mae: 596.0743\n",
      "Epoch 12/100\n",
      "250/250 [==============================] - 3s 13ms/step - loss: 8742762.0000 - mae: 2051.4170 - val_loss: 399443.2500 - val_mae: 499.4578\n",
      "Epoch 13/100\n",
      "250/250 [==============================] - 3s 12ms/step - loss: 8333808.5000 - mae: 1951.0775 - val_loss: 306796.0312 - val_mae: 414.0579\n",
      "Epoch 14/100\n",
      "250/250 [==============================] - 3s 12ms/step - loss: 7939686.5000 - mae: 1850.6036 - val_loss: 235437.5938 - val_mae: 351.3377\n",
      "Epoch 15/100\n",
      "250/250 [==============================] - 3s 12ms/step - loss: 7569552.0000 - mae: 1758.8942 - val_loss: 186691.6094 - val_mae: 317.0181\n",
      "Epoch 16/100\n",
      "250/250 [==============================] - 3s 12ms/step - loss: 7241370.0000 - mae: 1684.3219 - val_loss: 160814.5156 - val_mae: 307.5710\n",
      "Epoch 17/100\n",
      "250/250 [==============================] - 3s 12ms/step - loss: 6962359.0000 - mae: 1628.1118 - val_loss: 153781.6250 - val_mae: 318.6941\n",
      "Epoch 18/100\n",
      "250/250 [==============================] - 3s 12ms/step - loss: 6729478.5000 - mae: 1582.4170 - val_loss: 160285.0625 - val_mae: 336.7436\n",
      "Epoch 19/100\n",
      "250/250 [==============================] - 3s 13ms/step - loss: 6536403.5000 - mae: 1545.8873 - val_loss: 175679.8281 - val_mae: 359.9938\n",
      "Epoch 20/100\n",
      "250/250 [==============================] - 3s 12ms/step - loss: 6376532.5000 - mae: 1518.7594 - val_loss: 196391.0469 - val_mae: 384.6867\n",
      "Epoch 21/100\n",
      "250/250 [==============================] - 3s 12ms/step - loss: 6243882.5000 - mae: 1499.1112 - val_loss: 219798.1406 - val_mae: 410.4878\n",
      "Epoch 22/100\n",
      "250/250 [==============================] - 3s 12ms/step - loss: 6133123.0000 - mae: 1484.8656 - val_loss: 244229.6094 - val_mae: 435.4090\n",
      "Epoch 23/100\n",
      "250/250 [==============================] - 3s 12ms/step - loss: 6040189.5000 - mae: 1474.7877 - val_loss: 268651.3125 - val_mae: 458.7614\n",
      "Epoch 24/100\n",
      "250/250 [==============================] - 3s 13ms/step - loss: 5961498.0000 - mae: 1467.3331 - val_loss: 292333.0312 - val_mae: 480.4546\n",
      "Epoch 25/100\n",
      "250/250 [==============================] - 4s 15ms/step - loss: 5894226.0000 - mae: 1461.3488 - val_loss: 314956.2812 - val_mae: 500.2827\n",
      "Epoch 26/100\n",
      "250/250 [==============================] - 4s 17ms/step - loss: 5836141.0000 - mae: 1456.5286 - val_loss: 335644.7500 - val_mae: 517.7523\n"
     ]
    }
   ],
   "source": [
    "history2 = model2.fit(generator2, epochs=100, validation_data=generator_val2, shuffle=False, callbacks=es2)"
   ]
  },
  {
   "cell_type": "code",
   "execution_count": 857,
   "id": "26849fda",
   "metadata": {
    "collapsed": true
   },
   "outputs": [
    {
     "data": {
      "text/plain": [
       "array([<AxesSubplot: title={'center': 'MSE'}, xlabel='Epoch', ylabel='Loss'>,\n",
       "       <AxesSubplot: title={'center': 'MAE'}, xlabel='Epoch', ylabel='MAE'>],\n",
       "      dtype=object)"
      ]
     },
     "execution_count": 857,
     "metadata": {},
     "output_type": "execute_result"
    },
    {
     "data": {
      "image/png": "[encoded data removed]",
      "text/plain": [
       "<Figure size 2000x700 with 2 Axes>"
      ]
     },
     "metadata": {},
     "output_type": "display_data"
    }
   ],
   "source": [
    "plot_history(history2)"
   ]
  },
  {
   "cell_type": "code",
   "execution_count": null,
   "id": "3a7a0bb9",
   "metadata": {},
   "outputs": [],
   "source": []
  }
 ],
 "metadata": {
  "kernelspec": {
   "display_name": "Python 3 (ipykernel)",
   "language": "python",
   "name": "python3"
  },
  "language_info": {
   "codemirror_mode": {
    "name": "ipython",
    "version": 3
   },
   "file_extension": ".py",
   "mimetype": "text/x-python",
   "name": "python",
   "nbconvert_exporter": "python",
   "pygments_lexer": "ipython3",
   "version": "3.8.12"
  },
  "toc": {
   "base_numbering": 1,
   "nav_menu": {},
   "number_sections": true,
   "sideBar": true,
   "skip_h1_title": false,
   "title_cell": "Table of Contents",
   "title_sidebar": "Contents",
   "toc_cell": false,
   "toc_position": {},
   "toc_section_display": true,
   "toc_window_display": false
  }
 },
 "nbformat": 4,
 "nbformat_minor": 5
}
